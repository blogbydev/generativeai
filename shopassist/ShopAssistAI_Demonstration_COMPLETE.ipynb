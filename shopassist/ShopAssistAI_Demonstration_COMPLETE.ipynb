{
 "cells": [
  {
   "cell_type": "markdown",
   "id": "90bb1e2a",
   "metadata": {
    "id": "90bb1e2a"
   },
   "source": [
    "# ShopAssist AI"
   ]
  },
  {
   "cell_type": "markdown",
   "id": "5bf1cc72",
   "metadata": {
    "id": "5bf1cc72"
   },
   "source": [
    "## Part 1: Introduction\n",
    "\n",
    "#### **What you have learnt till now**\n",
    "\n",
    "So far you have learnt how to make LLM API calls in Python. In particular, you worked with OpenAI's GPT 3.5 models and the `Chat Completion API` to build a simple AI tutor.\n",
    "\n",
    "<br>\n",
    "\n",
    "Next, you went over some principles, techniques, and tactics for prompt engineering.\n",
    "The two main principles of writing a good prompt:\n",
    "1.  Providing clear instructions,\n",
    "2.  Enhancing LLM reasoning capabilities.\n",
    "\n",
    "Under providing clear instructions, you learnt how to structure the body of a prompt through 5 components - **Task, Role, Context, Guidelines and Output Format**.\n",
    "\n",
    "You also understood that providing a very clear syntax and conditioning on good performance can get you closer to the desired output.\n",
    "\n",
    "<br>\n",
    "\n",
    "Next, under enhancing LLM reasoning capabilities, you learnt two specific techniques -\n",
    "(i) Chain-of-Thought prompting,\n",
    "(ii) Few-Shot prompting.\n",
    "\n",
    "Under chain-of-thought prompting, you essentially enable the LLM to work through the solution step-by-step and in few-shot prompting, you provide relevant examples of how you want the outputs to look like. So now you could structure your prompts into proper components and provide clear chain-of-thought instructions along with relevant examples of ideal inputs and outputs.\n",
    "\n",
    "You also learnt some advanced prompting techniques like self-consistency and ReAct prompting. Self-consistency is basically the technique where you ensemble multiple attempts and select the most consistent output out of them. And in ReAct prompting, you enable the LLM to reason out a scenario and act based on some examples.\n",
    "\n",
    "<br>\n",
    "\n",
    "Finally, you looked at some examples of how you can design LLM-based systems. Apart from prompting techniques, you understood that designing a LLM-based system also requires a safe design, i.e., the capabilities to detect and respond to unsafe user queries and prompt injections. You looked at the moderation API offered by OpenAI that can help you design such safer systems.\n",
    "\n",
    "With all of these learnings, let’s now get started on designing our first LLM application - ShopAssist AI."
   ]
  },
  {
   "cell_type": "markdown",
   "id": "eTECjBM1_t1B",
   "metadata": {
    "id": "eTECjBM1_t1B"
   },
   "source": [
    "\n",
    "#### Project Background\n",
    "\n",
    "In today's digital age, online shopping has become the go-to option for many consumers. However, the overwhelming number of choices and the lack of personalized assistance can make the shopping experience daunting. To address this, we have developed **ShopAssist AI, a chatbot that combines the power of large language models and rule-based functions to ensure accurate and reliable information delivery**.\n",
    "\n",
    "\n",
    "#### Problem Statement\n",
    "\n",
    "*Given a dataset containing information about laptops (product names, specifications, descriptions, etc.), build a chatbot that parses the dataset and provides accurate laptop recommendations based on user requirements*.\n",
    "\n",
    "\n",
    "You can load the data and see it here."
   ]
  },
  {
   "cell_type": "code",
   "execution_count": null,
   "id": "8022c316-301e-4b74-86f0-d21ee0dcae5e",
   "metadata": {
    "colab": {
     "base_uri": "https://localhost:8080/"
    },
    "id": "l7BLDeM5MXrC",
    "outputId": "88cd294f-c41d-4be4-fdc1-da7ba1b403c7"
   },
   "outputs": [],
   "source": [
    "# Install OpenAI library\n",
    "!pip install -U -q openai tenacity"
   ]
  },
  {
   "cell_type": "markdown",
   "id": "631380b5-6d6c-4bee-9656-376e1b8f3739",
   "metadata": {
    "colab": {
     "base_uri": "https://localhost:8080/"
    },
    "id": "VnAN5gPkCAfl",
    "outputId": "f0aba51f-b8bf-4b14-c343-e54f7d3c7b47"
   },
   "source": [
    "from google.colab import drive\n",
    "drive.mount('/content/drive')"
   ]
  },
  {
   "cell_type": "markdown",
   "id": "7da5538b-0268-406f-a52e-716e3baea8a3",
   "metadata": {
    "colab": {
     "base_uri": "https://localhost:8080/"
    },
    "id": "8lncPYPhCCNQ",
    "outputId": "85e4e092-b0ac-452d-b1e5-2815eb94d209"
   },
   "source": [
    "import os\n",
    "os.chdir('/content/drive/MyDrive/GenAI Revamp - 2024/GenAI for DS/Live Session Materials')\n",
    "!ls"
   ]
  },
  {
   "cell_type": "code",
   "execution_count": 1,
   "id": "29adca8b",
   "metadata": {
    "colab": {
     "base_uri": "https://localhost:8080/",
     "height": 1000
    },
    "id": "29adca8b",
    "outputId": "d3574cb2-7c30-4e06-8ba3-04bb26be469a"
   },
   "outputs": [
    {
     "data": {
      "text/html": [
       "<div>\n",
       "<style scoped>\n",
       "    .dataframe tbody tr th:only-of-type {\n",
       "        vertical-align: middle;\n",
       "    }\n",
       "\n",
       "    .dataframe tbody tr th {\n",
       "        vertical-align: top;\n",
       "    }\n",
       "\n",
       "    .dataframe thead th {\n",
       "        text-align: right;\n",
       "    }\n",
       "</style>\n",
       "<table border=\"1\" class=\"dataframe\">\n",
       "  <thead>\n",
       "    <tr style=\"text-align: right;\">\n",
       "      <th></th>\n",
       "      <th>Brand</th>\n",
       "      <th>Model Name</th>\n",
       "      <th>Core</th>\n",
       "      <th>CPU Manufacturer</th>\n",
       "      <th>Clock Speed</th>\n",
       "      <th>RAM Size</th>\n",
       "      <th>Storage Type</th>\n",
       "      <th>Display Type</th>\n",
       "      <th>Display Size</th>\n",
       "      <th>Graphics Processor</th>\n",
       "      <th>Screen Resolution</th>\n",
       "      <th>OS</th>\n",
       "      <th>Laptop Weight</th>\n",
       "      <th>Special Features</th>\n",
       "      <th>Warranty</th>\n",
       "      <th>Average Battery Life</th>\n",
       "      <th>Price</th>\n",
       "      <th>Description</th>\n",
       "    </tr>\n",
       "  </thead>\n",
       "  <tbody>\n",
       "    <tr>\n",
       "      <th>0</th>\n",
       "      <td>Dell</td>\n",
       "      <td>Inspiron</td>\n",
       "      <td>i5</td>\n",
       "      <td>Intel</td>\n",
       "      <td>2.4 GHz</td>\n",
       "      <td>8GB</td>\n",
       "      <td>SSD</td>\n",
       "      <td>LCD</td>\n",
       "      <td>15.6\"</td>\n",
       "      <td>Intel UHD</td>\n",
       "      <td>1920x1080</td>\n",
       "      <td>Windows 10</td>\n",
       "      <td>2.5 kg</td>\n",
       "      <td>Backlit Keyboard</td>\n",
       "      <td>1 year</td>\n",
       "      <td>6 hours</td>\n",
       "      <td>35,000</td>\n",
       "      <td>The Dell Inspiron is a versatile laptop that c...</td>\n",
       "    </tr>\n",
       "    <tr>\n",
       "      <th>1</th>\n",
       "      <td>MSI</td>\n",
       "      <td>GL65</td>\n",
       "      <td>i7</td>\n",
       "      <td>Intel</td>\n",
       "      <td>2.6 GHz</td>\n",
       "      <td>16GB</td>\n",
       "      <td>HDD+SSD</td>\n",
       "      <td>IPS</td>\n",
       "      <td>15.6\"</td>\n",
       "      <td>NVIDIA GTX</td>\n",
       "      <td>1920x1080</td>\n",
       "      <td>Windows 10</td>\n",
       "      <td>2.3 kg</td>\n",
       "      <td>RGB Keyboard</td>\n",
       "      <td>2 years</td>\n",
       "      <td>4 hours</td>\n",
       "      <td>55,000</td>\n",
       "      <td>The MSI GL65 is a high-performance laptop desi...</td>\n",
       "    </tr>\n",
       "    <tr>\n",
       "      <th>2</th>\n",
       "      <td>HP</td>\n",
       "      <td>EliteBook</td>\n",
       "      <td>i7</td>\n",
       "      <td>Intel</td>\n",
       "      <td>2.8 GHz</td>\n",
       "      <td>16GB</td>\n",
       "      <td>SSD</td>\n",
       "      <td>LED</td>\n",
       "      <td>14\"</td>\n",
       "      <td>Intel UHD</td>\n",
       "      <td>1920x1080</td>\n",
       "      <td>Windows 11</td>\n",
       "      <td>1.5 kg</td>\n",
       "      <td>Fingerprint Sensor</td>\n",
       "      <td>3 years</td>\n",
       "      <td>8 hours</td>\n",
       "      <td>90,000</td>\n",
       "      <td>The HP EliteBook is a premium laptop designed ...</td>\n",
       "    </tr>\n",
       "    <tr>\n",
       "      <th>3</th>\n",
       "      <td>Lenovo</td>\n",
       "      <td>IdeaPad</td>\n",
       "      <td>i3</td>\n",
       "      <td>Intel</td>\n",
       "      <td>2.1 GHz</td>\n",
       "      <td>8GB</td>\n",
       "      <td>HDD</td>\n",
       "      <td>TN</td>\n",
       "      <td>15.6\"</td>\n",
       "      <td>Intel UHD</td>\n",
       "      <td>1366x768</td>\n",
       "      <td>Windows 10</td>\n",
       "      <td>2.2 kg</td>\n",
       "      <td>Dolby Audio</td>\n",
       "      <td>1 year</td>\n",
       "      <td>5 hours</td>\n",
       "      <td>25,000</td>\n",
       "      <td>The Lenovo IdeaPad is a versatile laptop that ...</td>\n",
       "    </tr>\n",
       "    <tr>\n",
       "      <th>4</th>\n",
       "      <td>ASUS</td>\n",
       "      <td>ZenBook Pro</td>\n",
       "      <td>i9</td>\n",
       "      <td>Intel</td>\n",
       "      <td>3.1 GHz</td>\n",
       "      <td>64GB</td>\n",
       "      <td>SSD</td>\n",
       "      <td>OLED</td>\n",
       "      <td>15.6\"</td>\n",
       "      <td>NVIDIA RTX</td>\n",
       "      <td>3840x2160</td>\n",
       "      <td>Windows 10</td>\n",
       "      <td>1.8 kg</td>\n",
       "      <td>NanoEdge Display</td>\n",
       "      <td>2 years</td>\n",
       "      <td>7 hours</td>\n",
       "      <td>200,000</td>\n",
       "      <td>The ASUS ZenBook Pro is a high-end laptop that...</td>\n",
       "    </tr>\n",
       "  </tbody>\n",
       "</table>\n",
       "</div>"
      ],
      "text/plain": [
       "    Brand   Model Name Core CPU Manufacturer Clock Speed RAM Size Storage Type Display Type  \\\n",
       "0    Dell     Inspiron   i5            Intel     2.4 GHz      8GB          SSD          LCD   \n",
       "1     MSI         GL65   i7            Intel     2.6 GHz     16GB      HDD+SSD          IPS   \n",
       "2      HP    EliteBook   i7            Intel     2.8 GHz     16GB          SSD          LED   \n",
       "3  Lenovo      IdeaPad   i3            Intel     2.1 GHz      8GB          HDD           TN   \n",
       "4    ASUS  ZenBook Pro   i9            Intel     3.1 GHz     64GB          SSD         OLED   \n",
       "\n",
       "  Display Size Graphics Processor Screen Resolution          OS Laptop Weight    Special Features  \\\n",
       "0        15.6\"          Intel UHD         1920x1080  Windows 10        2.5 kg    Backlit Keyboard   \n",
       "1        15.6\"         NVIDIA GTX         1920x1080  Windows 10        2.3 kg        RGB Keyboard   \n",
       "2          14\"          Intel UHD         1920x1080  Windows 11        1.5 kg  Fingerprint Sensor   \n",
       "3        15.6\"          Intel UHD          1366x768  Windows 10        2.2 kg         Dolby Audio   \n",
       "4        15.6\"         NVIDIA RTX         3840x2160  Windows 10        1.8 kg    NanoEdge Display   \n",
       "\n",
       "  Warranty Average Battery Life    Price                                        Description  \n",
       "0   1 year              6 hours   35,000  The Dell Inspiron is a versatile laptop that c...  \n",
       "1  2 years              4 hours   55,000  The MSI GL65 is a high-performance laptop desi...  \n",
       "2  3 years              8 hours   90,000  The HP EliteBook is a premium laptop designed ...  \n",
       "3   1 year              5 hours   25,000  The Lenovo IdeaPad is a versatile laptop that ...  \n",
       "4  2 years              7 hours  200,000  The ASUS ZenBook Pro is a high-end laptop that...  "
      ]
     },
     "execution_count": 1,
     "metadata": {},
     "output_type": "execute_result"
    }
   ],
   "source": [
    "# Import the libraries\n",
    "import pandas as pd\n",
    "from IPython.display import display, HTML\n",
    "# Set the display width to control the output width\n",
    "pd.set_option('display.width', 100)\n",
    "# Read the dataset and read the Laptop Dataset\n",
    "df = pd.read_csv('laptop_data.csv')\n",
    "df.head(5)"
   ]
  },
  {
   "cell_type": "markdown",
   "id": "81bc7e3b",
   "metadata": {
    "id": "81bc7e3b"
   },
   "source": [
    "#### Approach:\n",
    "\n",
    "1. **Conversation and Information Gathering**: The chatbot will utilize language models to understand and generate natural responses. Through a conversational flow, it will ask relevant questions to gather information about the user's requirements.\n",
    "2. **Information Extraction**: Once the essential information is collected, rule-based functions come into play, extracting top 3 laptops that best matches the user's needs.\n",
    "3. **Personalized Recommendation**: Leveraging this extracted information, the chatbot engages in further dialogue with the user, efficiently addressing their queries and aiding them in finding the perfect laptop solution."
   ]
  },
  {
   "cell_type": "markdown",
   "id": "5e7aada9",
   "metadata": {
    "id": "5e7aada9"
   },
   "source": [
    "## Part 2: System Design"
   ]
  },
  {
   "cell_type": "markdown",
   "id": "a43fb33e",
   "metadata": {
    "id": "a43fb33e"
   },
   "source": [
    "\n",
    "#### Dataset\n",
    "\n",
    "We have a dataset `laptop.csv` where  each row describes the features of a single laptop and also has a small description at the end. The chatbot that we build will leverage LLMs to parse this `Description` column and provide recommendations"
   ]
  },
  {
   "cell_type": "markdown",
   "id": "f5b846d2",
   "metadata": {
    "id": "f5b846d2"
   },
   "source": [
    "#### Workings of the Chatbot\n",
    "\n",
    "**Note1** - Don't run this when you go through this section for the first time. Run this only after running through the rest of the code. When going through this for the first time, please only go through the output, to understand the workings of the chatbot\n",
    "\n",
    "**Note2** - The conversation shown here might be different from what you see in the video. However, the overall structure of the conversation to understand the system design remains the same."
   ]
  },
  {
   "cell_type": "code",
   "execution_count": null,
   "id": "466dab7b-0ff1-4744-932b-60d3ed162834",
   "metadata": {
    "id": "cbd901f2",
    "scrolled": true
   },
   "outputs": [],
   "source": [
    "# RUN THIS ONCE ALL THE FUNCTION LAYERS HAVE BEEN DEFINED\n",
    "dialogue_mgmt_system()"
   ]
  },
  {
   "cell_type": "markdown",
   "id": "73d39aba",
   "metadata": {
    "id": "73d39aba"
   },
   "source": [
    "As you could see in the output above, the chatbot should ask a series of questions to\n",
    "- Determine the user's requirments. For simplicity, we have used 6 features to encapsulate the user's needs. The 6 features are as follows:\n",
    "    - GPU intensity\n",
    "    - Display quality\n",
    "    - Portability\n",
    "    - Multitasking\n",
    "    - Processing speed\n",
    "    - Budget\n",
    "\n",
    "- Confirm if the user's requirements have been correctly captured at the end.\n",
    "\n",
    "After that the chatbot lists down the top 3 products that are the most relevant, and engages in further conversation to help the user find the best one.\n"
   ]
  },
  {
   "attachments": {
    "31f16930-fa1b-44cd-8798-d4939e878a4c.png": {
     "image/png": "[encoded data removed]"
    }
   },
   "cell_type": "markdown",
   "id": "281ca223",
   "metadata": {
    "id": "281ca223"
   },
   "source": [
    "#### Building the Chatbot\n",
    "\n",
    "Now let's go ahead and understand the system design for the chatbot.\n",
    "\n",
    "![image.png](attachment:31f16930-fa1b-44cd-8798-d4939e878a4c.png)"
   ]
  },
  {
   "cell_type": "markdown",
   "id": "51b581e9",
   "metadata": {
    "id": "51b581e9"
   },
   "source": [
    "`Stage 1`\n",
    "\n",
    "- Intent Clarity Layer\n",
    "- Intent Confirmation Layer\n",
    "\n",
    "`Stage 2`\n",
    "\n",
    "- Product Mapping Layer\n",
    "- Product Information Extraction Layer\n",
    "\n",
    "`Stage 3`\n",
    "\n",
    "- Product Recommendation Layer"
   ]
  },
  {
   "cell_type": "markdown",
   "id": "bbceebf1",
   "metadata": {
    "id": "bbceebf1"
   },
   "source": [
    "##### Major functions behind the Chatbot\n",
    "\n",
    "Let's now look at a brief overview of the major functions that form the chatbot. We'll take a deep dive later\n",
    "\n",
    "\n",
    "\n",
    "- `initialize_conversation()`: This initializes the variable conversation with the system message.\n",
    "- `get_chat_completions()`: This takes the ongoing conversation as the input and returns the response by the assistant\n",
    "- `moderation_check()`: This checks if the user's or the assistant's message is inappropriate. If any of these is inappropriate, it ends the conversation.\n",
    "- `intent_confirmation_layer()`: This function takes the assistant's response and evaluates if the chatbot has captured the user's profile clearly. Specifically, this checks if the following properties for the user has been captured or not GPU intensity, Display quality, Portability, Multitasking, Processing speed, Budget\n",
    "- `dictionary_present()`: This function checks if the final understanding of user's profile is returned by the chatbot as a python dictionary or not. If there is a dictionary, it extracts the information as a Python dictionary.\n",
    "- `compare_laptops_with_user()`: This function compares the user's profile with the different laptops and come back with the top 3 recommendations.\n",
    "- `initialize_conv_reco()`: Initializes the recommendations conversation"
   ]
  },
  {
   "cell_type": "markdown",
   "id": "8cd07e7a",
   "metadata": {
    "id": "8cd07e7a"
   },
   "source": [
    "In the next sections, we will look at how to write the code for the above functions."
   ]
  },
  {
   "cell_type": "markdown",
   "id": "59bd717d",
   "metadata": {
    "id": "59bd717d"
   },
   "source": [
    "## Part 3: Implementation"
   ]
  },
  {
   "cell_type": "markdown",
   "id": "mPMUbPd0R8nl",
   "metadata": {
    "id": "mPMUbPd0R8nl"
   },
   "source": [
    "## Stage 1"
   ]
  },
  {
   "cell_type": "markdown",
   "id": "4NTg1G-9x2rP",
   "metadata": {
    "id": "4NTg1G-9x2rP"
   },
   "source": [
    "[Stage 1 Flowchart](https://cdn.upgrad.com/uploads/production/ed8cf454-0c7c-4c5d-bc05-23bb3cea6c57/image+3.jpg)"
   ]
  },
  {
   "cell_type": "markdown",
   "id": "4LaC3b3RauMO",
   "metadata": {
    "id": "4LaC3b3RauMO"
   },
   "source": [
    "![image 3.jpg](data:image/jpeg;base64,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)"
   ]
  },
  {
   "cell_type": "markdown",
   "id": "680b636d",
   "metadata": {
    "id": "680b636d"
   },
   "source": [
    "### 3.1 - Import the libraries\n",
    "\n",
    "Let's start by importing the libraries that we'll require for this project. Following are the ones:\n",
    "- openai\n",
    "- pandas\n",
    "- os, json, ast\n",
    "\n",
    "Make sure the api key is stored in the text file `OPENAI_API_Key.txt`."
   ]
  },
  {
   "cell_type": "code",
   "execution_count": 2,
   "id": "65e05f4f",
   "metadata": {
    "id": "65e05f4f"
   },
   "outputs": [],
   "source": [
    "# Import the libraries\n",
    "import os, json, ast\n",
    "import openai\n",
    "from tenacity import retry, wait_random_exponential, stop_after_attempt"
   ]
  },
  {
   "cell_type": "code",
   "execution_count": 3,
   "id": "e66836d3-c2ab-4f43-a6d7-a0c67434c26d",
   "metadata": {
    "id": "SF3vqhzHAJx3"
   },
   "outputs": [],
   "source": [
    "# # If you're using the default OpenAI API key, uncomment the following lines:\n",
    "openai.api_key = open(\"OPENAI_API_KEY.txt\", \"r\").read().strip()\n",
    "os.environ['OPENAI_API_KEY'] = openai.api_key"
   ]
  },
  {
   "cell_type": "raw",
   "id": "a4f179d1-9ff2-4006-923e-5075f02b9bad",
   "metadata": {},
   "source": [
    "%%writefile \"config.py\"\n",
    "api_key = \"sk-projeasdffaderfaSC\""
   ]
  },
  {
   "cell_type": "code",
   "execution_count": 19,
   "id": "bcd14e8f-8a4c-4dbf-888e-be5298ac9aa6",
   "metadata": {},
   "outputs": [],
   "source": [
    "from config import api_key\n",
    "openai.api_key = api_key\n",
    "os.environ['OPENAI_API_KEY'] = api_key # \"sk-adfad\""
   ]
  },
  {
   "cell_type": "code",
   "execution_count": 4,
   "id": "c67a2ea6",
   "metadata": {
    "id": "c67a2ea6"
   },
   "outputs": [],
   "source": [
    "# # Recall that messages to the LLM is a list of dicts containing system_message, user_input and assistant_message\n",
    "# conversation = [{\"role\": \"system\", \"content\": system_message},\n",
    "#                 {\"role\": \"user\", \"content\": user_input},\n",
    "#                 {\"role\": \"assistant\", \"content\": assistant_message}]"
   ]
  },
  {
   "cell_type": "markdown",
   "id": "f6597837",
   "metadata": {
    "id": "f6597837"
   },
   "source": [
    "### 3.2 - Implementing Intent Clarity and Intent Confirmation Layers\n",
    "\n",
    "Let's start with the first part of the implementation - building the `intent clarity` and `intent confirmation` layers. As mentioned earlier, this layer helps in identifying the user requirements and passing it on to the product matching layer. Here are the functions that we would be using for building these layers:\n",
    "\n",
    "- `initialize_conversation()`\n"
   ]
  },
  {
   "cell_type": "markdown",
   "id": "muGgwBrxxr58",
   "metadata": {
    "id": "muGgwBrxxr58"
   },
   "source": [
    "### `initialize_conversation()`:\n",
    "This initializes the variable conversation with the system message. Using prompt engineering and chain of thought reasoning, the function will enable the chatbot to keep asking questions until the user requirements have been captured in a dictionary. It also includes Few Shot Prompting(sample conversation between the user and assistant) to align the model about user and assistant responses at each step."
   ]
  },
  {
   "cell_type": "markdown",
   "id": "1piZKLXpP_Hf",
   "metadata": {
    "id": "1piZKLXpP_Hf"
   },
   "source": [
    "\n",
    "\n",
    "```\n",
    "def initialize_conversation():\n",
    "    '''\n",
    "    Initializes a conversation for an intelligent laptop gadget expert system.\n",
    "\n",
    "    Returns:\n",
    "        list: [{\"role\": \"system\", \"content\": system_message}]\n",
    "        A list containing a dictionary representing the system's initial message.\n",
    "        \n",
    "    The function initializes a conversation with the user, providing instructions, examples,\n",
    "    and a sample conversation to guide the user in interacting with the system. The system's\n",
    "    initial message includes information about the purpose of the conversation, instructions\n",
    "    for filling in user profile details, guidelines for asking questions, and a sample\n",
    "    conversation demonstrating how the interaction with the system progresses.\n",
    "\n",
    "    The system expects the user to provide information related to their laptop requirements,\n",
    "    including GPU intensity, display quality, portability, multitasking needs, processing\n",
    "    speed, and budget. The provided information is used to update a predefined dictionary\n",
    "    representing the user's profile. The system emphasizes extracting specific details from\n",
    "    the user's responses to accurately fill in the dictionary values.\n",
    "\n",
    "    The conversation flow involves three main thoughts:\n",
    "    - Thought 1: Understanding the user's profile and filling confident values.\n",
    "    - Thought 2: Filling values for remaining keys based on gathered information.\n",
    "    - Thought 3: Confirming and verifying updated dictionary values.\n",
    "\n",
    "    Users are encouraged to engage in a meaningful conversation with the system to ensure\n",
    "    accurate profile representation and tailored recommendations for the best laptop choice.\n",
    "\n",
    "    Usage:\n",
    "        # Initialise the conversation\n",
    "        conversation = initialize_conversation()\n",
    "        # Print the conversation\n",
    "        print(conversation)\n",
    "    '''\n",
    "    ```\n",
    "\n"
   ]
  },
  {
   "cell_type": "code",
   "execution_count": 4,
   "id": "431f76f6",
   "metadata": {
    "id": "431f76f6"
   },
   "outputs": [],
   "source": [
    "def initialize_conversation():\n",
    "    '''\n",
    "    Returns a list [{\"role\": \"system\", \"content\": system_message}]\n",
    "    '''\n",
    "\n",
    "    delimiter = \"####\"\n",
    "\n",
    "    example_user_dict = {'GPU intensity': \"high\",\n",
    "                        'Display quality':\"high\",\n",
    "                        'Portability': \"low\",\n",
    "                        'Multitasking': \"high\",\n",
    "                        'Processing speed': \"high\",\n",
    "                        'Budget': \"150000\"}\n",
    "\n",
    "    example_user_req = {'GPU intensity': \"_\",\n",
    "                        'Display quality': \"_\",\n",
    "                        'Portability': \"_\",\n",
    "                        'Multitasking': \"_\",\n",
    "                        'Processing speed': \"_\",\n",
    "                        'Budget': \"_\"}\n",
    "\n",
    "    system_message = f\"\"\"\n",
    "    You are an intelligent laptop gadget expert and your goal is to find the best laptop for a user.\n",
    "    You need to ask relevant questions and understand the user profile by analysing the user's responses.\n",
    "    You final objective is to fill the values for the different keys ('GPU intensity','Display quality','Portability','Multitasking','Processing speed','Budget') in the python dictionary and be confident of the values.\n",
    "    These key value pairs define the user's profile.\n",
    "    The python dictionary looks like this\n",
    "    {{'GPU intensity': 'values','Display quality': 'values','Portability': 'values','Multitasking': 'values','Processing speed': 'values','Budget': 'values'}}\n",
    "    The value for 'Budget' should be a numerical value extracted from the user's response.\n",
    "    The values for all keys, except 'Budget', should be 'low', 'medium', or 'high' based on the importance of the corresponding keys, as stated by user.\n",
    "    All the values in the example dictionary are only representative values.\n",
    "    {delimiter}\n",
    "    Here are some instructions around the values for the different keys. If you do not follow this, you'll be heavily penalised:\n",
    "    - The values for all keys, except 'Budget', should strictly be either 'low', 'medium', or 'high' based on the importance of the corresponding keys, as stated by user.\n",
    "    - The value for 'Budget' should be a numerical value extracted from the user's response.\n",
    "    - 'Budget' value needs to be greater than or equal to 25000 INR. If the user says less than that, please mention that there are no laptops in that range.\n",
    "    - Do not randomly assign values to any of the keys.\n",
    "    - The values need to be inferred from the user's response.\n",
    "    {delimiter}\n",
    "\n",
    "    To fill the dictionary, you need to have the following chain of thoughts:\n",
    "    Follow the chain-of-thoughts below and only output the final updated python dictionary for the keys as described in {example_user_req}. \\n\n",
    "    {delimiter}\n",
    "    Thought 1: Ask a question to understand the user's profile and requirements. \\n\n",
    "    If their primary use for the laptop is unclear. Ask followup questions to understand their needs.\n",
    "    You are trying to fill the values of all the keys {{'GPU intensity','Display quality','Portability','Multitasking','Processing speed','Budget'}} in the python dictionary by understanding the user requirements.\n",
    "    Identify the keys for which you can fill the values confidently using the understanding. \\n\n",
    "    Remember the instructions around the values for the different keys.\n",
    "    If the necessary information has been extracted, only then proceed to the next step. \\n\n",
    "    Otherwise, rephrase the question to capture their profile clearly. \\n\n",
    "\n",
    "    {delimiter}\n",
    "    Thought 2: Now, you are trying to fill the values for the rest of the keys which you couldn't in the previous step.\n",
    "    Remember the instructions around the values for the different keys.\n",
    "    Ask questions you might have for all the keys to strengthen your understanding of the user's profile.\n",
    "    If yes, move to the next Thought. If no, ask question on the keys whose values you are unsure of. \\n\n",
    "    It is a good practice to ask question with a sound logic as opposed to directly citing the key you want to understand value for.\n",
    "    {delimiter}\n",
    "\n",
    "    {delimiter}\n",
    "    Thought 3: Check if you have correctly updated the values for the different keys in the python dictionary.\n",
    "    If you are not confident about any of the values, ask clarifying questions.\n",
    "    {delimiter}\n",
    "\n",
    "    {delimiter}\n",
    "    Here is a sample conversation between the user and assistant:\n",
    "    User: \"Hi, I am an editor.\"\n",
    "    Assistant: \"Great! As an editor, you likely require a laptop that can handle demanding tasks. Hence, the laptop should have high multitasking capability. You would also need a high end display for better visuals and editing. May I know what kind of work do you primarily focus on? Are you more involved in video editing, photo editing, or both? Understanding the specific type of editing work will help me tailor my recommendations accordingly. Let me know if my understanding is correct until now.\"\n",
    "    User: \"I primarily work with After Effects.\"\n",
    "    Assistant: \"Thank you for providing that information. Working with After Effects involves working with graphics, animations, and rendering, which will require high GPU. Do you work with high-resolution media files, such as 4K videos or RAW photos? Understanding your file sizes will help determine the storage capacity and processing power needed.\"\n",
    "    User: \"Yes, sometimes I work with 4K videos as well.\"\n",
    "    Assistant: \"Thank you for the information. Processing 4K vidoes will require a good processor and high GPU. I think we have already determined earlier that you need a high GPU. To ensure I have a complete understanding of your needs, I have one more question: Are you frequently on the go and require a laptop that is lightweight and easy to carry, or do you primarily work from a stationary location?\"\n",
    "    User: \"Yes, sometimes I travel but do not carry my laptop.\"\n",
    "    Assistant:\"Could you kindly let me know your budget for the laptop? This will help me find options that fit within your price range while meeting the specified requirements.\"\n",
    "    User: \"my max budget is 1.5lakh inr\"\n",
    "    Assistant: \"{example_user_dict}\"\n",
    "    {delimiter}\n",
    "\n",
    "    Start with a short welcome message and encourage the user to share their requirements.\n",
    "    \"\"\"\n",
    "    conversation = [{\"role\": \"system\", \"content\": system_message}]\n",
    "    # conversation = system_message\n",
    "    return conversation"
   ]
  },
  {
   "cell_type": "markdown",
   "id": "cb1dc961",
   "metadata": {
    "id": "cb1dc961"
   },
   "source": [
    "Let's see what does `initialize_conversation()` does.\n",
    "\n",
    "<br>\n",
    "\n",
    "We have added a prefix `debug_` to each of the variables so that we can play around with the inputs and outputs and it doesn't disturb the main function."
   ]
  },
  {
   "cell_type": "code",
   "execution_count": 5,
   "id": "ae92d8e0",
   "metadata": {
    "colab": {
     "base_uri": "https://localhost:8080/"
    },
    "id": "ae92d8e0",
    "outputId": "7f75612d-b4b3-4a72-cbc6-d08941a86c70",
    "scrolled": true
   },
   "outputs": [
    {
     "name": "stdout",
     "output_type": "stream",
     "text": [
      "[{'role': 'system', 'content': '\\n    You are an intelligent laptop gadget expert and your goal is to find the best laptop for a user.\\n    You need to ask relevant questions and understand the user profile by analysing the user\\'s responses.\\n    You final objective is to fill the values for the different keys (\\'GPU intensity\\',\\'Display quality\\',\\'Portability\\',\\'Multitasking\\',\\'Processing speed\\',\\'Budget\\') in the python dictionary and be confident of the values.\\n    These key value pairs define the user\\'s profile.\\n    The python dictionary looks like this\\n    {\\'GPU intensity\\': \\'values\\',\\'Display quality\\': \\'values\\',\\'Portability\\': \\'values\\',\\'Multitasking\\': \\'values\\',\\'Processing speed\\': \\'values\\',\\'Budget\\': \\'values\\'}\\n    The value for \\'Budget\\' should be a numerical value extracted from the user\\'s response.\\n    The values for all keys, except \\'Budget\\', should be \\'low\\', \\'medium\\', or \\'high\\' based on the importance of the corresponding keys, as stated by user.\\n    All the values in the example dictionary are only representative values.\\n    ####\\n    Here are some instructions around the values for the different keys. If you do not follow this, you\\'ll be heavily penalised:\\n    - The values for all keys, except \\'Budget\\', should strictly be either \\'low\\', \\'medium\\', or \\'high\\' based on the importance of the corresponding keys, as stated by user.\\n    - The value for \\'Budget\\' should be a numerical value extracted from the user\\'s response.\\n    - \\'Budget\\' value needs to be greater than or equal to 25000 INR. If the user says less than that, please mention that there are no laptops in that range.\\n    - Do not randomly assign values to any of the keys.\\n    - The values need to be inferred from the user\\'s response.\\n    ####\\n\\n    To fill the dictionary, you need to have the following chain of thoughts:\\n    Follow the chain-of-thoughts below and only output the final updated python dictionary for the keys as described in {\\'GPU intensity\\': \\'_\\', \\'Display quality\\': \\'_\\', \\'Portability\\': \\'_\\', \\'Multitasking\\': \\'_\\', \\'Processing speed\\': \\'_\\', \\'Budget\\': \\'_\\'}. \\n\\n    ####\\n    Thought 1: Ask a question to understand the user\\'s profile and requirements. \\n\\n    If their primary use for the laptop is unclear. Ask followup questions to understand their needs.\\n    You are trying to fill the values of all the keys {\\'GPU intensity\\',\\'Display quality\\',\\'Portability\\',\\'Multitasking\\',\\'Processing speed\\',\\'Budget\\'} in the python dictionary by understanding the user requirements.\\n    Identify the keys for which you can fill the values confidently using the understanding. \\n\\n    Remember the instructions around the values for the different keys.\\n    If the necessary information has been extracted, only then proceed to the next step. \\n\\n    Otherwise, rephrase the question to capture their profile clearly. \\n\\n\\n    ####\\n    Thought 2: Now, you are trying to fill the values for the rest of the keys which you couldn\\'t in the previous step.\\n    Remember the instructions around the values for the different keys.\\n    Ask questions you might have for all the keys to strengthen your understanding of the user\\'s profile.\\n    If yes, move to the next Thought. If no, ask question on the keys whose values you are unsure of. \\n\\n    It is a good practice to ask question with a sound logic as opposed to directly citing the key you want to understand value for.\\n    ####\\n\\n    ####\\n    Thought 3: Check if you have correctly updated the values for the different keys in the python dictionary.\\n    If you are not confident about any of the values, ask clarifying questions.\\n    ####\\n\\n    ####\\n    Here is a sample conversation between the user and assistant:\\n    User: \"Hi, I am an editor.\"\\n    Assistant: \"Great! As an editor, you likely require a laptop that can handle demanding tasks. Hence, the laptop should have high multitasking capability. You would also need a high end display for better visuals and editing. May I know what kind of work do you primarily focus on? Are you more involved in video editing, photo editing, or both? Understanding the specific type of editing work will help me tailor my recommendations accordingly. Let me know if my understanding is correct until now.\"\\n    User: \"I primarily work with After Effects.\"\\n    Assistant: \"Thank you for providing that information. Working with After Effects involves working with graphics, animations, and rendering, which will require high GPU. Do you work with high-resolution media files, such as 4K videos or RAW photos? Understanding your file sizes will help determine the storage capacity and processing power needed.\"\\n    User: \"Yes, sometimes I work with 4K videos as well.\"\\n    Assistant: \"Thank you for the information. Processing 4K vidoes will require a good processor and high GPU. I think we have already determined earlier that you need a high GPU. To ensure I have a complete understanding of your needs, I have one more question: Are you frequently on the go and require a laptop that is lightweight and easy to carry, or do you primarily work from a stationary location?\"\\n    User: \"Yes, sometimes I travel but do not carry my laptop.\"\\n    Assistant:\"Could you kindly let me know your budget for the laptop? This will help me find options that fit within your price range while meeting the specified requirements.\"\\n    User: \"my max budget is 1.5lakh inr\"\\n    Assistant: \"{\\'GPU intensity\\': \\'high\\', \\'Display quality\\': \\'high\\', \\'Portability\\': \\'low\\', \\'Multitasking\\': \\'high\\', \\'Processing speed\\': \\'high\\', \\'Budget\\': \\'150000\\'}\"\\n    ####\\n\\n    Start with a short welcome message and encourage the user to share their requirements.\\n    '}]\n"
     ]
    }
   ],
   "source": [
    "debug_conversation = initialize_conversation()\n",
    "print(debug_conversation)"
   ]
  },
  {
   "cell_type": "code",
   "execution_count": 6,
   "id": "FT3X4UaOMVTe",
   "metadata": {
    "colab": {
     "base_uri": "https://localhost:8080/"
    },
    "id": "FT3X4UaOMVTe",
    "outputId": "00239ed3-6631-44d4-8196-8d83fb298639"
   },
   "outputs": [
    {
     "name": "stdout",
     "output_type": "stream",
     "text": [
      "\n",
      "    You are an intelligent laptop gadget expert and your goal is to find the best laptop for a user.\n",
      "    You need to ask relevant questions and understand the user profile by analysing the user's responses.\n",
      "    You final objective is to fill the values for the different keys ('GPU intensity','Display quality','Portability','Multitasking','Processing speed','Budget') in the python dictionary and be confident of the values.\n",
      "    These key value pairs define the user's profile.\n",
      "    The python dictionary looks like this\n",
      "    {'GPU intensity': 'values','Display quality': 'values','Portability': 'values','Multitasking': 'values','Processing speed': 'values','Budget': 'values'}\n",
      "    The value for 'Budget' should be a numerical value extracted from the user's response.\n",
      "    The values for all keys, except 'Budget', should be 'low', 'medium', or 'high' based on the importance of the corresponding keys, as stated by user.\n",
      "    All the values in the example dictionary are only representative values.\n",
      "    ####\n",
      "    Here are some instructions around the values for the different keys. If you do not follow this, you'll be heavily penalised:\n",
      "    - The values for all keys, except 'Budget', should strictly be either 'low', 'medium', or 'high' based on the importance of the corresponding keys, as stated by user.\n",
      "    - The value for 'Budget' should be a numerical value extracted from the user's response.\n",
      "    - 'Budget' value needs to be greater than or equal to 25000 INR. If the user says less than that, please mention that there are no laptops in that range.\n",
      "    - Do not randomly assign values to any of the keys.\n",
      "    - The values need to be inferred from the user's response.\n",
      "    ####\n",
      "\n",
      "    To fill the dictionary, you need to have the following chain of thoughts:\n",
      "    Follow the chain-of-thoughts below and only output the final updated python dictionary for the keys as described in {'GPU intensity': '_', 'Display quality': '_', 'Portability': '_', 'Multitasking': '_', 'Processing speed': '_', 'Budget': '_'}. \n",
      "\n",
      "    ####\n",
      "    Thought 1: Ask a question to understand the user's profile and requirements. \n",
      "\n",
      "    If their primary use for the laptop is unclear. Ask followup questions to understand their needs.\n",
      "    You are trying to fill the values of all the keys {'GPU intensity','Display quality','Portability','Multitasking','Processing speed','Budget'} in the python dictionary by understanding the user requirements.\n",
      "    Identify the keys for which you can fill the values confidently using the understanding. \n",
      "\n",
      "    Remember the instructions around the values for the different keys.\n",
      "    If the necessary information has been extracted, only then proceed to the next step. \n",
      "\n",
      "    Otherwise, rephrase the question to capture their profile clearly. \n",
      "\n",
      "\n",
      "    ####\n",
      "    Thought 2: Now, you are trying to fill the values for the rest of the keys which you couldn't in the previous step.\n",
      "    Remember the instructions around the values for the different keys.\n",
      "    Ask questions you might have for all the keys to strengthen your understanding of the user's profile.\n",
      "    If yes, move to the next Thought. If no, ask question on the keys whose values you are unsure of. \n",
      "\n",
      "    It is a good practice to ask question with a sound logic as opposed to directly citing the key you want to understand value for.\n",
      "    ####\n",
      "\n",
      "    ####\n",
      "    Thought 3: Check if you have correctly updated the values for the different keys in the python dictionary.\n",
      "    If you are not confident about any of the values, ask clarifying questions.\n",
      "    ####\n",
      "\n",
      "    ####\n",
      "    Here is a sample conversation between the user and assistant:\n",
      "    User: \"Hi, I am an editor.\"\n",
      "    Assistant: \"Great! As an editor, you likely require a laptop that can handle demanding tasks. Hence, the laptop should have high multitasking capability. You would also need a high end display for better visuals and editing. May I know what kind of work do you primarily focus on? Are you more involved in video editing, photo editing, or both? Understanding the specific type of editing work will help me tailor my recommendations accordingly. Let me know if my understanding is correct until now.\"\n",
      "    User: \"I primarily work with After Effects.\"\n",
      "    Assistant: \"Thank you for providing that information. Working with After Effects involves working with graphics, animations, and rendering, which will require high GPU. Do you work with high-resolution media files, such as 4K videos or RAW photos? Understanding your file sizes will help determine the storage capacity and processing power needed.\"\n",
      "    User: \"Yes, sometimes I work with 4K videos as well.\"\n",
      "    Assistant: \"Thank you for the information. Processing 4K vidoes will require a good processor and high GPU. I think we have already determined earlier that you need a high GPU. To ensure I have a complete understanding of your needs, I have one more question: Are you frequently on the go and require a laptop that is lightweight and easy to carry, or do you primarily work from a stationary location?\"\n",
      "    User: \"Yes, sometimes I travel but do not carry my laptop.\"\n",
      "    Assistant:\"Could you kindly let me know your budget for the laptop? This will help me find options that fit within your price range while meeting the specified requirements.\"\n",
      "    User: \"my max budget is 1.5lakh inr\"\n",
      "    Assistant: \"{'GPU intensity': 'high', 'Display quality': 'high', 'Portability': 'low', 'Multitasking': 'high', 'Processing speed': 'high', 'Budget': '150000'}\"\n",
      "    ####\n",
      "\n",
      "    Start with a short welcome message and encourage the user to share their requirements.\n",
      "    \n"
     ]
    }
   ],
   "source": [
    "# Let's look at the content in the debug_conversation key\n",
    "print(debug_conversation[0]['content'])"
   ]
  },
  {
   "cell_type": "markdown",
   "id": "00f77346",
   "metadata": {
    "id": "00f77346"
   },
   "source": [
    "Let's now look at the next function.\n",
    "- `get_chat_completions()`: This takes the ongoing conversation as the input and returns the response by the assistant. We'll use the Chat Completions function for performing LLM calls to OpenAI."
   ]
  },
  {
   "cell_type": "markdown",
   "id": "ucpdMHI5_jEX",
   "metadata": {
    "id": "ucpdMHI5_jEX"
   },
   "source": [
    "### `get_chat_completions()`:\n",
    "\n",
    "This function perform LLM call using the Chat Completions API to get the LLM response."
   ]
  },
  {
   "cell_type": "code",
   "execution_count": 7,
   "id": "dYShGKumNEIM",
   "metadata": {
    "id": "dYShGKumNEIM"
   },
   "outputs": [],
   "source": [
    "# Define a Chat Completions API call\n",
    "# Retry up to 6 times with exponential backoff, starting at 1 second and maxing out at 20 seconds delay\n",
    "@retry(wait=wait_random_exponential(min=1, max=20), stop=stop_after_attempt(6))\n",
    "def get_chat_completions(input, json_format = False):\n",
    "    MODEL = 'gpt-3.5-turbo'\n",
    "\n",
    "    system_message_json_output = \"\"\"<<. Return output in JSON format to the key output.>>\"\"\"\n",
    "\n",
    "    # If the output is required to be in JSON format\n",
    "    if json_format == True:\n",
    "        # Append the input prompt to include JSON response as specified by OpenAI\n",
    "        input[0]['content'] += system_message_json_output\n",
    "\n",
    "        # JSON return type specified\n",
    "        chat_completion_json = openai.chat.completions.create(\n",
    "            model = MODEL,\n",
    "            messages = input,\n",
    "            response_format = { \"type\": \"json_object\"},\n",
    "            seed = 1234)\n",
    "\n",
    "        output = json.loads(chat_completion_json.choices[0].message.content)\n",
    "\n",
    "    # No JSON return type specified\n",
    "    else:\n",
    "        chat_completion = openai.chat.completions.create(\n",
    "            model = MODEL,\n",
    "            messages = input,\n",
    "            seed = 2345)\n",
    "\n",
    "        output = chat_completion.choices[0].message.content\n",
    "\n",
    "    return output"
   ]
  },
  {
   "cell_type": "code",
   "execution_count": 9,
   "id": "cg8g4hEO47rz",
   "metadata": {
    "id": "cg8g4hEO47rz"
   },
   "outputs": [],
   "source": [
    "# # Define Completions API call (Legacy)\n",
    "# # Note that the Completions API is deprecated and we'll be using only the Chat Completions API in this project\n",
    "# def get_completions(input_prompt):\n",
    "#   response = openai.completions.create(\n",
    "#       model=\"gpt-3.5-turbo-instruct\",\n",
    "#       prompt=input_prompt,\n",
    "#       temperature=0)\n",
    "#   return response.choices[0].text"
   ]
  },
  {
   "cell_type": "code",
   "execution_count": 8,
   "id": "uCpAS4qVqrSt",
   "metadata": {
    "colab": {
     "base_uri": "https://localhost:8080/"
    },
    "id": "uCpAS4qVqrSt",
    "outputId": "05ea9c63-09fa-4f75-ab49-da2ded256ee1"
   },
   "outputs": [
    {
     "data": {
      "text/plain": [
       "[{'role': 'user', 'content': 'What is the capital of France?'}]"
      ]
     },
     "execution_count": 8,
     "metadata": {},
     "output_type": "execute_result"
    }
   ],
   "source": [
    "# Testing the OpenAI functions defined above\n",
    "input_prompt ='What is the capital of France?'\n",
    "messages = [{'role':'user','content':input_prompt}]\n",
    "# system_message_json_output = \"\"\"<<. Return output in JSON format.>>\"\"\"\n",
    "# messages[0]['content']+=system_message_json_output\n",
    "messages"
   ]
  },
  {
   "cell_type": "code",
   "execution_count": 9,
   "id": "kTygsGiIMAEM",
   "metadata": {
    "colab": {
     "base_uri": "https://localhost:8080/",
     "height": 36
    },
    "id": "kTygsGiIMAEM",
    "outputId": "baf19104-2819-45e9-fb15-41f4ec55ab94"
   },
   "outputs": [
    {
     "data": {
      "text/plain": [
       "'The capital of France is Paris.'"
      ]
     },
     "execution_count": 9,
     "metadata": {},
     "output_type": "execute_result"
    }
   ],
   "source": [
    "## Get LLM Outputs - normal\n",
    "get_chat_completions(messages) ## Chat Completions API"
   ]
  },
  {
   "cell_type": "code",
   "execution_count": 10,
   "id": "Jj1PhrpHJMq-",
   "metadata": {
    "colab": {
     "base_uri": "https://localhost:8080/"
    },
    "id": "Jj1PhrpHJMq-",
    "outputId": "90319b24-5fda-4cb8-bce9-0cc18a378ea0"
   },
   "outputs": [
    {
     "data": {
      "text/plain": [
       "{'output': 'Paris'}"
      ]
     },
     "execution_count": 10,
     "metadata": {},
     "output_type": "execute_result"
    }
   ],
   "source": [
    "## Get LLM Outputs - JSON output\n",
    "get_chat_completions(messages, json_format = True) ## Chat Completions API and return in JSON format"
   ]
  },
  {
   "cell_type": "markdown",
   "id": "I6gq3hIj6XEr",
   "metadata": {
    "id": "I6gq3hIj6XEr"
   },
   "source": [
    "### iterate_response() - Helper Function:\n",
    "We've created a small helper test function to ensure the model's response is consistent.\n",
    "Uncomment the code blocks and run the function `iterate_response(response)` to check if the response of the `intent_confirmation_layer`is consistent.}"
   ]
  },
  {
   "cell_type": "code",
   "execution_count": 11,
   "id": "3c369bd0",
   "metadata": {
    "id": "3c369bd0"
   },
   "outputs": [],
   "source": [
    "def iterate_llm_response(funct, debug_response, num = 10):\n",
    "    \"\"\"\n",
    "    Calls a specified function repeatedly and prints the results.\n",
    "    This function is designed to test the consistency of a response from a given function.\n",
    "    It calls the function multiple times (default is 10) and prints out the iteration count,\n",
    "    the function's response(s).\n",
    "    Args:\n",
    "        funct (function): The function to be tested. This function should accept a single argument\n",
    "                          and return the response value(s).\n",
    "        debug_response (dict): The input argument to be passed to 'funct' on each call.\n",
    "        num (int, optional): The number of times 'funct' will be called. Defaults to 10.\n",
    "    Returns:\n",
    "        This function only returns the results to the console.\n",
    "    \"\"\"\n",
    "    i = 0  # Initialize counter\n",
    "\n",
    "    while i < num:  # Loop to call the function 'num' times\n",
    "\n",
    "        response = funct(debug_response)  # Call the function with the debug response\n",
    "\n",
    "        # Print the iteration number, result, and reason from the response\n",
    "        print(\"Iteration: {0}\".format(i))\n",
    "        print(response)\n",
    "        print('-' * 50)  # Print a separator line for readability\n",
    "        i += 1  # Increment the counter\n",
    "\n",
    "# Example usage: test the consistency of responses from 'intent_confirmation_layer'\n",
    "# iterate_llm_response(get_chat_completions, messages)"
   ]
  },
  {
   "cell_type": "markdown",
   "id": "af181448",
   "metadata": {
    "id": "af181448"
   },
   "source": [
    "Let's pass the initialized conversation `debug_conversation` and see what is the assistant's response."
   ]
  },
  {
   "cell_type": "code",
   "execution_count": 12,
   "id": "7fca12a4",
   "metadata": {
    "id": "7fca12a4"
   },
   "outputs": [],
   "source": [
    "debug_user_input = \"Hi, I am Anavit. I need a laptop for coding.\""
   ]
  },
  {
   "cell_type": "code",
   "execution_count": 13,
   "id": "h1vip-2uj_M7",
   "metadata": {
    "colab": {
     "base_uri": "https://localhost:8080/"
    },
    "id": "h1vip-2uj_M7",
    "outputId": "11c06866-818b-446b-c393-95577a377edc"
   },
   "outputs": [
    {
     "name": "stdout",
     "output_type": "stream",
     "text": [
      "Hi, I am Anavit. I need a laptop for coding.\n"
     ]
    }
   ],
   "source": [
    "debug_conversation.append({\"role\": \"user\", \"content\": debug_user_input})\n",
    "# print(debug_conversation[0][\"content\"]) # System Message\n",
    "print(debug_conversation[1][\"content\"]) # User Input"
   ]
  },
  {
   "cell_type": "code",
   "execution_count": 14,
   "id": "aZyiegRPOLJC",
   "metadata": {
    "colab": {
     "base_uri": "https://localhost:8080/",
     "height": 659
    },
    "id": "aZyiegRPOLJC",
    "outputId": "30466c0c-9b12-40a1-bb85-18be79f5b4cd"
   },
   "outputs": [
    {
     "data": {
      "text/plain": [
       "[{'role': 'system',\n",
       "  'content': '\\n    You are an intelligent laptop gadget expert and your goal is to find the best laptop for a user.\\n    You need to ask relevant questions and understand the user profile by analysing the user\\'s responses.\\n    You final objective is to fill the values for the different keys (\\'GPU intensity\\',\\'Display quality\\',\\'Portability\\',\\'Multitasking\\',\\'Processing speed\\',\\'Budget\\') in the python dictionary and be confident of the values.\\n    These key value pairs define the user\\'s profile.\\n    The python dictionary looks like this\\n    {\\'GPU intensity\\': \\'values\\',\\'Display quality\\': \\'values\\',\\'Portability\\': \\'values\\',\\'Multitasking\\': \\'values\\',\\'Processing speed\\': \\'values\\',\\'Budget\\': \\'values\\'}\\n    The value for \\'Budget\\' should be a numerical value extracted from the user\\'s response.\\n    The values for all keys, except \\'Budget\\', should be \\'low\\', \\'medium\\', or \\'high\\' based on the importance of the corresponding keys, as stated by user.\\n    All the values in the example dictionary are only representative values.\\n    ####\\n    Here are some instructions around the values for the different keys. If you do not follow this, you\\'ll be heavily penalised:\\n    - The values for all keys, except \\'Budget\\', should strictly be either \\'low\\', \\'medium\\', or \\'high\\' based on the importance of the corresponding keys, as stated by user.\\n    - The value for \\'Budget\\' should be a numerical value extracted from the user\\'s response.\\n    - \\'Budget\\' value needs to be greater than or equal to 25000 INR. If the user says less than that, please mention that there are no laptops in that range.\\n    - Do not randomly assign values to any of the keys.\\n    - The values need to be inferred from the user\\'s response.\\n    ####\\n\\n    To fill the dictionary, you need to have the following chain of thoughts:\\n    Follow the chain-of-thoughts below and only output the final updated python dictionary for the keys as described in {\\'GPU intensity\\': \\'_\\', \\'Display quality\\': \\'_\\', \\'Portability\\': \\'_\\', \\'Multitasking\\': \\'_\\', \\'Processing speed\\': \\'_\\', \\'Budget\\': \\'_\\'}. \\n\\n    ####\\n    Thought 1: Ask a question to understand the user\\'s profile and requirements. \\n\\n    If their primary use for the laptop is unclear. Ask followup questions to understand their needs.\\n    You are trying to fill the values of all the keys {\\'GPU intensity\\',\\'Display quality\\',\\'Portability\\',\\'Multitasking\\',\\'Processing speed\\',\\'Budget\\'} in the python dictionary by understanding the user requirements.\\n    Identify the keys for which you can fill the values confidently using the understanding. \\n\\n    Remember the instructions around the values for the different keys.\\n    If the necessary information has been extracted, only then proceed to the next step. \\n\\n    Otherwise, rephrase the question to capture their profile clearly. \\n\\n\\n    ####\\n    Thought 2: Now, you are trying to fill the values for the rest of the keys which you couldn\\'t in the previous step.\\n    Remember the instructions around the values for the different keys.\\n    Ask questions you might have for all the keys to strengthen your understanding of the user\\'s profile.\\n    If yes, move to the next Thought. If no, ask question on the keys whose values you are unsure of. \\n\\n    It is a good practice to ask question with a sound logic as opposed to directly citing the key you want to understand value for.\\n    ####\\n\\n    ####\\n    Thought 3: Check if you have correctly updated the values for the different keys in the python dictionary.\\n    If you are not confident about any of the values, ask clarifying questions.\\n    ####\\n\\n    ####\\n    Here is a sample conversation between the user and assistant:\\n    User: \"Hi, I am an editor.\"\\n    Assistant: \"Great! As an editor, you likely require a laptop that can handle demanding tasks. Hence, the laptop should have high multitasking capability. You would also need a high end display for better visuals and editing. May I know what kind of work do you primarily focus on? Are you more involved in video editing, photo editing, or both? Understanding the specific type of editing work will help me tailor my recommendations accordingly. Let me know if my understanding is correct until now.\"\\n    User: \"I primarily work with After Effects.\"\\n    Assistant: \"Thank you for providing that information. Working with After Effects involves working with graphics, animations, and rendering, which will require high GPU. Do you work with high-resolution media files, such as 4K videos or RAW photos? Understanding your file sizes will help determine the storage capacity and processing power needed.\"\\n    User: \"Yes, sometimes I work with 4K videos as well.\"\\n    Assistant: \"Thank you for the information. Processing 4K vidoes will require a good processor and high GPU. I think we have already determined earlier that you need a high GPU. To ensure I have a complete understanding of your needs, I have one more question: Are you frequently on the go and require a laptop that is lightweight and easy to carry, or do you primarily work from a stationary location?\"\\n    User: \"Yes, sometimes I travel but do not carry my laptop.\"\\n    Assistant:\"Could you kindly let me know your budget for the laptop? This will help me find options that fit within your price range while meeting the specified requirements.\"\\n    User: \"my max budget is 1.5lakh inr\"\\n    Assistant: \"{\\'GPU intensity\\': \\'high\\', \\'Display quality\\': \\'high\\', \\'Portability\\': \\'low\\', \\'Multitasking\\': \\'high\\', \\'Processing speed\\': \\'high\\', \\'Budget\\': \\'150000\\'}\"\\n    ####\\n\\n    Start with a short welcome message and encourage the user to share their requirements.\\n    '},\n",
       " {'role': 'user', 'content': 'Hi, I am Anavit. I need a laptop for coding.'}]"
      ]
     },
     "metadata": {},
     "output_type": "display_data"
    }
   ],
   "source": [
    "# Let's look at the debug_conversation list\n",
    "display(debug_conversation)"
   ]
  },
  {
   "cell_type": "code",
   "execution_count": 15,
   "id": "fdd0a9ed",
   "metadata": {
    "colab": {
     "base_uri": "https://localhost:8080/",
     "height": 53
    },
    "id": "fdd0a9ed",
    "outputId": "6fbd591c-63e8-4f11-9322-f8dac0f81588"
   },
   "outputs": [
    {
     "data": {
      "text/plain": [
       "'Great! As a coder, you likely require a laptop that can handle multitasking efficiently and has good processing speed. This is important for running multiple code editors, compilers, and virtual machines smoothly. Do you also prioritize display quality for better readability of your code or GPU intensity for any specific tasks like machine learning or gaming? Understanding these aspects will help in finding the right laptop for your coding needs. Can you provide more information on your preferences or specific requirements for a laptop used primarily for coding?'"
      ]
     },
     "metadata": {},
     "output_type": "display_data"
    }
   ],
   "source": [
    "# Getting the response from the Assistant by passing the conversation to the Chat Completions API\n",
    "debug_response_assistant = get_chat_completions(debug_conversation)\n",
    "display(debug_response_assistant)"
   ]
  },
  {
   "cell_type": "markdown",
   "id": "7dca90c2",
   "metadata": {
    "id": "7dca90c2"
   },
   "source": [
    "Let's play around a bit and add the following user's input `debug_user_input` to the conversation `debug_conversation` and see what the assistant responds with."
   ]
  },
  {
   "cell_type": "code",
   "execution_count": 16,
   "id": "kN2nZh_dkT2v",
   "metadata": {
    "colab": {
     "base_uri": "https://localhost:8080/"
    },
    "id": "kN2nZh_dkT2v",
    "outputId": "d8becc8d-15d0-44d0-ec16-ee4e440256a1"
   },
   "outputs": [
    {
     "data": {
      "text/plain": [
       "[{'role': 'system',\n",
       "  'content': '\\n    You are an intelligent laptop gadget expert and your goal is to find the best laptop for a user.\\n    You need to ask relevant questions and understand the user profile by analysing the user\\'s responses.\\n    You final objective is to fill the values for the different keys (\\'GPU intensity\\',\\'Display quality\\',\\'Portability\\',\\'Multitasking\\',\\'Processing speed\\',\\'Budget\\') in the python dictionary and be confident of the values.\\n    These key value pairs define the user\\'s profile.\\n    The python dictionary looks like this\\n    {\\'GPU intensity\\': \\'values\\',\\'Display quality\\': \\'values\\',\\'Portability\\': \\'values\\',\\'Multitasking\\': \\'values\\',\\'Processing speed\\': \\'values\\',\\'Budget\\': \\'values\\'}\\n    The value for \\'Budget\\' should be a numerical value extracted from the user\\'s response.\\n    The values for all keys, except \\'Budget\\', should be \\'low\\', \\'medium\\', or \\'high\\' based on the importance of the corresponding keys, as stated by user.\\n    All the values in the example dictionary are only representative values.\\n    ####\\n    Here are some instructions around the values for the different keys. If you do not follow this, you\\'ll be heavily penalised:\\n    - The values for all keys, except \\'Budget\\', should strictly be either \\'low\\', \\'medium\\', or \\'high\\' based on the importance of the corresponding keys, as stated by user.\\n    - The value for \\'Budget\\' should be a numerical value extracted from the user\\'s response.\\n    - \\'Budget\\' value needs to be greater than or equal to 25000 INR. If the user says less than that, please mention that there are no laptops in that range.\\n    - Do not randomly assign values to any of the keys.\\n    - The values need to be inferred from the user\\'s response.\\n    ####\\n\\n    To fill the dictionary, you need to have the following chain of thoughts:\\n    Follow the chain-of-thoughts below and only output the final updated python dictionary for the keys as described in {\\'GPU intensity\\': \\'_\\', \\'Display quality\\': \\'_\\', \\'Portability\\': \\'_\\', \\'Multitasking\\': \\'_\\', \\'Processing speed\\': \\'_\\', \\'Budget\\': \\'_\\'}. \\n\\n    ####\\n    Thought 1: Ask a question to understand the user\\'s profile and requirements. \\n\\n    If their primary use for the laptop is unclear. Ask followup questions to understand their needs.\\n    You are trying to fill the values of all the keys {\\'GPU intensity\\',\\'Display quality\\',\\'Portability\\',\\'Multitasking\\',\\'Processing speed\\',\\'Budget\\'} in the python dictionary by understanding the user requirements.\\n    Identify the keys for which you can fill the values confidently using the understanding. \\n\\n    Remember the instructions around the values for the different keys.\\n    If the necessary information has been extracted, only then proceed to the next step. \\n\\n    Otherwise, rephrase the question to capture their profile clearly. \\n\\n\\n    ####\\n    Thought 2: Now, you are trying to fill the values for the rest of the keys which you couldn\\'t in the previous step.\\n    Remember the instructions around the values for the different keys.\\n    Ask questions you might have for all the keys to strengthen your understanding of the user\\'s profile.\\n    If yes, move to the next Thought. If no, ask question on the keys whose values you are unsure of. \\n\\n    It is a good practice to ask question with a sound logic as opposed to directly citing the key you want to understand value for.\\n    ####\\n\\n    ####\\n    Thought 3: Check if you have correctly updated the values for the different keys in the python dictionary.\\n    If you are not confident about any of the values, ask clarifying questions.\\n    ####\\n\\n    ####\\n    Here is a sample conversation between the user and assistant:\\n    User: \"Hi, I am an editor.\"\\n    Assistant: \"Great! As an editor, you likely require a laptop that can handle demanding tasks. Hence, the laptop should have high multitasking capability. You would also need a high end display for better visuals and editing. May I know what kind of work do you primarily focus on? Are you more involved in video editing, photo editing, or both? Understanding the specific type of editing work will help me tailor my recommendations accordingly. Let me know if my understanding is correct until now.\"\\n    User: \"I primarily work with After Effects.\"\\n    Assistant: \"Thank you for providing that information. Working with After Effects involves working with graphics, animations, and rendering, which will require high GPU. Do you work with high-resolution media files, such as 4K videos or RAW photos? Understanding your file sizes will help determine the storage capacity and processing power needed.\"\\n    User: \"Yes, sometimes I work with 4K videos as well.\"\\n    Assistant: \"Thank you for the information. Processing 4K vidoes will require a good processor and high GPU. I think we have already determined earlier that you need a high GPU. To ensure I have a complete understanding of your needs, I have one more question: Are you frequently on the go and require a laptop that is lightweight and easy to carry, or do you primarily work from a stationary location?\"\\n    User: \"Yes, sometimes I travel but do not carry my laptop.\"\\n    Assistant:\"Could you kindly let me know your budget for the laptop? This will help me find options that fit within your price range while meeting the specified requirements.\"\\n    User: \"my max budget is 1.5lakh inr\"\\n    Assistant: \"{\\'GPU intensity\\': \\'high\\', \\'Display quality\\': \\'high\\', \\'Portability\\': \\'low\\', \\'Multitasking\\': \\'high\\', \\'Processing speed\\': \\'high\\', \\'Budget\\': \\'150000\\'}\"\\n    ####\\n\\n    Start with a short welcome message and encourage the user to share their requirements.\\n    '},\n",
       " {'role': 'user', 'content': 'Hi, I am Anavit. I need a laptop for coding.'},\n",
       " {'role': 'assistant',\n",
       "  'content': 'Great! As a coder, you likely require a laptop that can handle multitasking efficiently and has good processing speed. This is important for running multiple code editors, compilers, and virtual machines smoothly. Do you also prioritize display quality for better readability of your code or GPU intensity for any specific tasks like machine learning or gaming? Understanding these aspects will help in finding the right laptop for your coding needs. Can you provide more information on your preferences or specific requirements for a laptop used primarily for coding?'}]"
      ]
     },
     "execution_count": 16,
     "metadata": {},
     "output_type": "execute_result"
    }
   ],
   "source": [
    "# Let's append this to the conversation list\n",
    "debug_conversation.append(({\"role\": \"assistant\", \"content\": debug_response_assistant}))\n",
    "debug_conversation"
   ]
  },
  {
   "cell_type": "markdown",
   "id": "389ae50b",
   "metadata": {
    "id": "389ae50b"
   },
   "source": [
    "Typically, whenever the chatbot is interacting with the user, all the conversations should be moderated to identify any inappropriate content. Let's look at the function that can help with it."
   ]
  },
  {
   "cell_type": "markdown",
   "id": "5cc13511",
   "metadata": {
    "id": "5cc13511"
   },
   "source": [
    "### `moderation_check()`:\n",
    " This checks if the user's or the assistant's message is inappropriate. If any of these is inappropriate, you can add a break statement to end the conversation."
   ]
  },
  {
   "cell_type": "code",
   "execution_count": 17,
   "id": "e5c799b4",
   "metadata": {
    "id": "e5c799b4"
   },
   "outputs": [],
   "source": [
    "# Define a function called moderation_check that takes user_input as a parameter.\n",
    "\n",
    "def moderation_check(user_input):\n",
    "    # Call the OpenAI API to perform moderation on the user's input.\n",
    "    response = openai.moderations.create(input=user_input)\n",
    "\n",
    "    # Extract the moderation result from the API response.\n",
    "    moderation_output = response.results[0].flagged\n",
    "    # Check if the input was flagged by the moderation system.\n",
    "    if response.results[0].flagged == True:\n",
    "        # If flagged, return \"Flagged\"\n",
    "        return \"Flagged\"\n",
    "    else:\n",
    "        # If not flagged, return \"Not Flagged\"\n",
    "        return \"Not Flagged\""
   ]
  },
  {
   "cell_type": "code",
   "execution_count": 18,
   "id": "67uPavgXgry4",
   "metadata": {
    "colab": {
     "base_uri": "https://localhost:8080/",
     "height": 36
    },
    "id": "67uPavgXgry4",
    "outputId": "156265eb-cd44-46cd-feae-166473a8bc41"
   },
   "outputs": [
    {
     "data": {
      "text/plain": [
       "'Flagged'"
      ]
     },
     "execution_count": 18,
     "metadata": {},
     "output_type": "execute_result"
    }
   ],
   "source": [
    "moderation_check(\"I want to kill them.\")"
   ]
  },
  {
   "cell_type": "code",
   "execution_count": 19,
   "id": "3c5e41c1-a7a3-4d60-835b-7412705bc319",
   "metadata": {},
   "outputs": [
    {
     "data": {
      "text/plain": [
       "'Not Flagged'"
      ]
     },
     "execution_count": 19,
     "metadata": {},
     "output_type": "execute_result"
    }
   ],
   "source": [
    "moderation_check(\"Hi how are you? I am good \")"
   ]
  },
  {
   "cell_type": "code",
   "execution_count": 20,
   "id": "7daab2c5-eb4a-4210-9755-3ed4e626e75d",
   "metadata": {},
   "outputs": [
    {
     "data": {
      "text/plain": [
       "'Not Flagged'"
      ]
     },
     "execution_count": 20,
     "metadata": {},
     "output_type": "execute_result"
    }
   ],
   "source": [
    "moderation_check(\" how many people were killed due to covid 19\")"
   ]
  },
  {
   "cell_type": "markdown",
   "id": "8c9225ae",
   "metadata": {
    "id": "8c9225ae"
   },
   "source": [
    "Let's test moderation on the `debug_user_input`"
   ]
  },
  {
   "cell_type": "code",
   "execution_count": 21,
   "id": "86d12659",
   "metadata": {
    "colab": {
     "base_uri": "https://localhost:8080/"
    },
    "id": "86d12659",
    "outputId": "dc10d2be-253a-40a5-da26-98326cce8e1c"
   },
   "outputs": [
    {
     "name": "stdout",
     "output_type": "stream",
     "text": [
      "Not Flagged\n"
     ]
    }
   ],
   "source": [
    "debug_moderation = moderation_check(debug_user_input)\n",
    "print(debug_moderation)"
   ]
  },
  {
   "cell_type": "markdown",
   "id": "f458b471",
   "metadata": {
    "id": "f458b471"
   },
   "source": [
    "Let's now test moderation on some other text."
   ]
  },
  {
   "cell_type": "markdown",
   "id": "6c6d2f2b",
   "metadata": {
    "id": "6c6d2f2b"
   },
   "source": [
    "So, this moderation api may not be perfect but if you ask this to the ChatGPT or it's API (GPT 3.5), it'll not help you with such requests. Remember, moderation should also be applied on the GPT 3.5's output."
   ]
  },
  {
   "cell_type": "markdown",
   "id": "ececb22e",
   "metadata": {
    "id": "ececb22e"
   },
   "source": [
    "Let's now check moderation on the assistant's response `debug_response_assistant`."
   ]
  },
  {
   "cell_type": "code",
   "execution_count": 22,
   "id": "e289d1c1",
   "metadata": {
    "colab": {
     "base_uri": "https://localhost:8080/",
     "height": 36
    },
    "id": "e289d1c1",
    "outputId": "e53476d7-7487-4bb4-b4ea-88a1b09fd0da"
   },
   "outputs": [
    {
     "data": {
      "text/plain": [
       "'Not Flagged'"
      ]
     },
     "execution_count": 22,
     "metadata": {},
     "output_type": "execute_result"
    }
   ],
   "source": [
    "moderation_check(debug_response_assistant)"
   ]
  },
  {
   "cell_type": "markdown",
   "id": "6a47575a",
   "metadata": {
    "id": "6a47575a"
   },
   "source": [
    "As mentioned earlier, you need to understand the user's profile, which essentially means that all the features: GPU intensity, Display quality, Portability, Multitasking, Processing speed, Budget are captured or not. Let's look at the function that helps us verify that."
   ]
  },
  {
   "cell_type": "markdown",
   "id": "543bca28",
   "metadata": {
    "id": "543bca28"
   },
   "source": [
    "### `intent_confirmation_layer()`:\n",
    "\n",
    "This function takes the assistant's response and evaluates if the chatbot has captured the user's profile clearly. Specifically, this checks if the following properties for the user has been captured or not\n",
    "   - GPU intensity\n",
    "   - Display quality\n",
    "   - Portability\n",
    "   - Multitasking\n",
    "   - Processing speed\n",
    "   - Budget"
   ]
  },
  {
   "cell_type": "markdown",
   "id": "-3MoEBBhRDpr",
   "metadata": {
    "id": "-3MoEBBhRDpr"
   },
   "source": [
    "\n",
    "\n",
    "```\n",
    "def intent_confirmation_layer(response_assistant):\n",
    "    \"\"\"\n",
    "    This function serves as an intent confirmation layer for a laptop recommendation system using OpenAI LLM API.\n",
    "\n",
    "    Parameters:\n",
    "    - response_assistant (str): The input text containing user requirements captured through 6 keys:\n",
    "        'GPU intensity', 'Display quality', 'Portability', 'Multitasking', 'Processing speed', and 'Budget'.\n",
    "\n",
    "    Returns:\n",
    "    - str: A one-word string in JSON format indicating if the values for the specified keys are correctly filled.\n",
    "        - 'Yes' if the values are correctly filled for all keys ('GPU intensity', 'Display quality', 'Portability',\n",
    "          'Multitasking', 'Processing speed') based on the importance as stated by the user.\n",
    "        - 'No' otherwise.\n",
    "\n",
    "    Note:\n",
    "    - The values for all keys, except 'Budget', should be 'low', 'medium', or 'high' based on their importance as stated by the user.\n",
    "    - The input text should be structured such that it contains the necessary keys and their corresponding values.\n",
    "    - The function uses OpenAI's Chat Completion API to evaluate the correctness of the input values.\n",
    "    \"\"\"\n",
    "```\n",
    "\n"
   ]
  },
  {
   "cell_type": "code",
   "execution_count": 23,
   "id": "w1o5KuBeONhF",
   "metadata": {
    "id": "w1o5KuBeONhF"
   },
   "outputs": [],
   "source": [
    "def intent_confirmation_layer(response_assistant):\n",
    "\n",
    "    delimiter = \"####\"\n",
    "\n",
    "    allowed_values = {'low','medium','high'}\n",
    "\n",
    "    prompt = f\"\"\"\n",
    "    You are a senior evaluator who has an eye for detail.The input text will contain a user requirement captured through 6 keys.\n",
    "    You are provided an input. You need to evaluate if the input text has the following keys:\n",
    "    {{\n",
    "    'GPU intensity': 'values',\n",
    "    'Display quality':'values',\n",
    "    'Portability':'values',\n",
    "    'Multitasking':'values',\n",
    "    'Processing speed':'values',\n",
    "    'Budget':'number'\n",
    "    }}\n",
    "    The values for the keys should only be from the allowed values: {allowed_values}.\n",
    "    The 'Budget' key can take only a numerical value.\n",
    "    Next you need to evaluate if the keys have the the values filled correctly.\n",
    "    Only output a one-word string in JSON format at the key 'result' - Yes/No.\n",
    "    Thought 1 - Output a string 'Yes' if the values are correctly filled for all keys, otherwise output 'No'.\n",
    "    Thought 2 - If the answer is No, mention the reason in the key 'reason'.\n",
    "    THought 3 - Think carefully before the answering.\n",
    "    \"\"\"\n",
    "\n",
    "    messages=[{\"role\": \"system\", \"content\":prompt },\n",
    "              {\"role\": \"user\", \"content\":f\"\"\"Here is the input: {response_assistant}\"\"\" }]\n",
    "\n",
    "    response = openai.chat.completions.create(\n",
    "                                    model=\"gpt-3.5-turbo\",\n",
    "                                    messages = messages,\n",
    "                                    response_format={ \"type\": \"json_object\" },\n",
    "                                    seed = 1234\n",
    "                                    # n = 5\n",
    "                                    )\n",
    "\n",
    "    json_output = json.loads(response.choices[0].message.content)\n",
    "\n",
    "    return json_output"
   ]
  },
  {
   "cell_type": "code",
   "execution_count": 27,
   "id": "26f1535d",
   "metadata": {
    "id": "26f1535d"
   },
   "outputs": [],
   "source": [
    "# Here are some sample input output pairs for better understanding:\n",
    "# {delimiter}\n",
    "# input: \"{{'GPU intensity': 'low', 'Display quality': 'high', 'Portability': 'low', 'Multitasking': 'high', 'Processing speed': 'low'}}\"\n",
    "# output: No\n",
    "\n",
    "# input: \"{{'GPU intensity': 'low', 'Display quality': 'high', 'Portability': 'low', 'Multitasking': 'high', 'Processing speed': '', 'Budget': '90000'}}\"\n",
    "# output: No\n",
    "\n",
    "# input: \"Here is your user profile 'GPU intensity': 'high','Display quality': 'high','Portability': 'medium','Multitasking': 'low','Processing speed': 'high','Budget': '200000'\"\n",
    "# output: Yes\n",
    "\n",
    "# input: \"Here is your recommendation {{'GPU intensity': 'low', 'Display quality': 'high', 'Portability': 'low', 'Multitasking': 'high', 'Processing speed': 'low', 'Budget': '90000'}}\"\n",
    "# output: Yes\n",
    "\n",
    "# input: \"Here is your recommendation - 'GPU intensity': 'high' - 'Display quality': 'low' - 'Portability': 'low'  - 'Multitasking': 'high' - 'Processing speed': 'high' - 'Budget': '90000' \"\n",
    "# output: Yes\n",
    "\n",
    "# input: \"You can look at this - GPU intensity: high - Display quality: low - Portability: low  - Multitasking: high - Processing speed: high - Budget: 90000\"\n",
    "# output: Yes\n",
    "\n",
    "# input: \"{{GPU intensity: low, Display quality: high, Portability: low, Multitasking:high,Processing speed: Low, Budget: 70000}}\"\n",
    "# output: No\n",
    "\n",
    "# {delimiter}"
   ]
  },
  {
   "cell_type": "markdown",
   "id": "356fc469",
   "metadata": {
    "id": "356fc469"
   },
   "source": [
    "Let's apply the function to the assistant's reponse and see if it has captured the user profile."
   ]
  },
  {
   "cell_type": "code",
   "execution_count": 24,
   "id": "TbsoK64ZXnDZ",
   "metadata": {
    "colab": {
     "base_uri": "https://localhost:8080/",
     "height": 53
    },
    "id": "TbsoK64ZXnDZ",
    "outputId": "85885e58-da55-4085-eac4-7e6831ee5c2b"
   },
   "outputs": [
    {
     "data": {
      "text/plain": [
       "'Great! As a coder, you likely require a laptop that can handle multitasking efficiently and has good processing speed. This is important for running multiple code editors, compilers, and virtual machines smoothly. Do you also prioritize display quality for better readability of your code or GPU intensity for any specific tasks like machine learning or gaming? Understanding these aspects will help in finding the right laptop for your coding needs. Can you provide more information on your preferences or specific requirements for a laptop used primarily for coding?'"
      ]
     },
     "execution_count": 24,
     "metadata": {},
     "output_type": "execute_result"
    }
   ],
   "source": [
    "debug_response_assistant"
   ]
  },
  {
   "cell_type": "code",
   "execution_count": 25,
   "id": "89031a63",
   "metadata": {
    "colab": {
     "base_uri": "https://localhost:8080/",
     "height": 34
    },
    "id": "89031a63",
    "outputId": "b159e43e-cd19-4c49-b711-8e0c7c0e7d16"
   },
   "outputs": [
    {
     "data": {
      "text/plain": [
       "{'result': 'No',\n",
       " 'reason': \"Missing required keys: 'GPU intensity', 'Display quality', 'Portability', 'Budget'\"}"
      ]
     },
     "metadata": {},
     "output_type": "display_data"
    }
   ],
   "source": [
    "debug_confirmation = intent_confirmation_layer(debug_response_assistant)\n",
    "display(debug_confirmation)"
   ]
  },
  {
   "cell_type": "code",
   "execution_count": 26,
   "id": "b0b07bd1-eb83-4e48-b4ff-5c277e500f99",
   "metadata": {
    "colab": {
     "base_uri": "https://localhost:8080/"
    },
    "id": "ODyge0F8puJJ",
    "outputId": "a6d20efb-2d19-4f65-ec80-c11784d611ba"
   },
   "outputs": [
    {
     "name": "stdout",
     "output_type": "stream",
     "text": [
      "Result: No \t Reason: Missing required keys: 'GPU intensity', 'Display quality', 'Portability', 'Budget'\n"
     ]
    }
   ],
   "source": [
    "# Printing the value for better clarity\n",
    "print(\"Result:\",debug_confirmation.get('result'),\"\\t\", \"Reason:\", debug_confirmation.get('reason'))"
   ]
  },
  {
   "cell_type": "markdown",
   "id": "4fc34f79",
   "metadata": {
    "id": "4fc34f79"
   },
   "source": [
    "Now, you can keep adding user and assistant responses to debug_conversation and get to a point where intent_confirmation_layer() gives yes as a response. Let's see if the following response by the assistant passes the intent_confirmation_layer() test."
   ]
  },
  {
   "cell_type": "code",
   "execution_count": 27,
   "id": "ef807cad",
   "metadata": {
    "id": "ef807cad"
   },
   "outputs": [],
   "source": [
    "#Let's add the above assistant response to the debug_conversation.\n",
    "debug_conversation.append({\"role\": \"assistant\", \"content\": debug_response_assistant})"
   ]
  },
  {
   "cell_type": "code",
   "execution_count": 28,
   "id": "PIN620N722gd",
   "metadata": {
    "colab": {
     "base_uri": "https://localhost:8080/"
    },
    "id": "PIN620N722gd",
    "outputId": "0ba99f66-afa1-4a1d-ec9a-ca71bd2565e4"
   },
   "outputs": [
    {
     "data": {
      "text/plain": [
       "[{'role': 'system',\n",
       "  'content': '\\n    You are an intelligent laptop gadget expert and your goal is to find the best laptop for a user.\\n    You need to ask relevant questions and understand the user profile by analysing the user\\'s responses.\\n    You final objective is to fill the values for the different keys (\\'GPU intensity\\',\\'Display quality\\',\\'Portability\\',\\'Multitasking\\',\\'Processing speed\\',\\'Budget\\') in the python dictionary and be confident of the values.\\n    These key value pairs define the user\\'s profile.\\n    The python dictionary looks like this\\n    {\\'GPU intensity\\': \\'values\\',\\'Display quality\\': \\'values\\',\\'Portability\\': \\'values\\',\\'Multitasking\\': \\'values\\',\\'Processing speed\\': \\'values\\',\\'Budget\\': \\'values\\'}\\n    The value for \\'Budget\\' should be a numerical value extracted from the user\\'s response.\\n    The values for all keys, except \\'Budget\\', should be \\'low\\', \\'medium\\', or \\'high\\' based on the importance of the corresponding keys, as stated by user.\\n    All the values in the example dictionary are only representative values.\\n    ####\\n    Here are some instructions around the values for the different keys. If you do not follow this, you\\'ll be heavily penalised:\\n    - The values for all keys, except \\'Budget\\', should strictly be either \\'low\\', \\'medium\\', or \\'high\\' based on the importance of the corresponding keys, as stated by user.\\n    - The value for \\'Budget\\' should be a numerical value extracted from the user\\'s response.\\n    - \\'Budget\\' value needs to be greater than or equal to 25000 INR. If the user says less than that, please mention that there are no laptops in that range.\\n    - Do not randomly assign values to any of the keys.\\n    - The values need to be inferred from the user\\'s response.\\n    ####\\n\\n    To fill the dictionary, you need to have the following chain of thoughts:\\n    Follow the chain-of-thoughts below and only output the final updated python dictionary for the keys as described in {\\'GPU intensity\\': \\'_\\', \\'Display quality\\': \\'_\\', \\'Portability\\': \\'_\\', \\'Multitasking\\': \\'_\\', \\'Processing speed\\': \\'_\\', \\'Budget\\': \\'_\\'}. \\n\\n    ####\\n    Thought 1: Ask a question to understand the user\\'s profile and requirements. \\n\\n    If their primary use for the laptop is unclear. Ask followup questions to understand their needs.\\n    You are trying to fill the values of all the keys {\\'GPU intensity\\',\\'Display quality\\',\\'Portability\\',\\'Multitasking\\',\\'Processing speed\\',\\'Budget\\'} in the python dictionary by understanding the user requirements.\\n    Identify the keys for which you can fill the values confidently using the understanding. \\n\\n    Remember the instructions around the values for the different keys.\\n    If the necessary information has been extracted, only then proceed to the next step. \\n\\n    Otherwise, rephrase the question to capture their profile clearly. \\n\\n\\n    ####\\n    Thought 2: Now, you are trying to fill the values for the rest of the keys which you couldn\\'t in the previous step.\\n    Remember the instructions around the values for the different keys.\\n    Ask questions you might have for all the keys to strengthen your understanding of the user\\'s profile.\\n    If yes, move to the next Thought. If no, ask question on the keys whose values you are unsure of. \\n\\n    It is a good practice to ask question with a sound logic as opposed to directly citing the key you want to understand value for.\\n    ####\\n\\n    ####\\n    Thought 3: Check if you have correctly updated the values for the different keys in the python dictionary.\\n    If you are not confident about any of the values, ask clarifying questions.\\n    ####\\n\\n    ####\\n    Here is a sample conversation between the user and assistant:\\n    User: \"Hi, I am an editor.\"\\n    Assistant: \"Great! As an editor, you likely require a laptop that can handle demanding tasks. Hence, the laptop should have high multitasking capability. You would also need a high end display for better visuals and editing. May I know what kind of work do you primarily focus on? Are you more involved in video editing, photo editing, or both? Understanding the specific type of editing work will help me tailor my recommendations accordingly. Let me know if my understanding is correct until now.\"\\n    User: \"I primarily work with After Effects.\"\\n    Assistant: \"Thank you for providing that information. Working with After Effects involves working with graphics, animations, and rendering, which will require high GPU. Do you work with high-resolution media files, such as 4K videos or RAW photos? Understanding your file sizes will help determine the storage capacity and processing power needed.\"\\n    User: \"Yes, sometimes I work with 4K videos as well.\"\\n    Assistant: \"Thank you for the information. Processing 4K vidoes will require a good processor and high GPU. I think we have already determined earlier that you need a high GPU. To ensure I have a complete understanding of your needs, I have one more question: Are you frequently on the go and require a laptop that is lightweight and easy to carry, or do you primarily work from a stationary location?\"\\n    User: \"Yes, sometimes I travel but do not carry my laptop.\"\\n    Assistant:\"Could you kindly let me know your budget for the laptop? This will help me find options that fit within your price range while meeting the specified requirements.\"\\n    User: \"my max budget is 1.5lakh inr\"\\n    Assistant: \"{\\'GPU intensity\\': \\'high\\', \\'Display quality\\': \\'high\\', \\'Portability\\': \\'low\\', \\'Multitasking\\': \\'high\\', \\'Processing speed\\': \\'high\\', \\'Budget\\': \\'150000\\'}\"\\n    ####\\n\\n    Start with a short welcome message and encourage the user to share their requirements.\\n    '},\n",
       " {'role': 'user', 'content': 'Hi, I am Anavit. I need a laptop for coding.'},\n",
       " {'role': 'assistant',\n",
       "  'content': 'Great! As a coder, you likely require a laptop that can handle multitasking efficiently and has good processing speed. This is important for running multiple code editors, compilers, and virtual machines smoothly. Do you also prioritize display quality for better readability of your code or GPU intensity for any specific tasks like machine learning or gaming? Understanding these aspects will help in finding the right laptop for your coding needs. Can you provide more information on your preferences or specific requirements for a laptop used primarily for coding?'},\n",
       " {'role': 'assistant',\n",
       "  'content': 'Great! As a coder, you likely require a laptop that can handle multitasking efficiently and has good processing speed. This is important for running multiple code editors, compilers, and virtual machines smoothly. Do you also prioritize display quality for better readability of your code or GPU intensity for any specific tasks like machine learning or gaming? Understanding these aspects will help in finding the right laptop for your coding needs. Can you provide more information on your preferences or specific requirements for a laptop used primarily for coding?'}]"
      ]
     },
     "execution_count": 28,
     "metadata": {},
     "output_type": "execute_result"
    }
   ],
   "source": [
    "debug_conversation"
   ]
  },
  {
   "cell_type": "markdown",
   "id": "e05526d0",
   "metadata": {
    "id": "e05526d0"
   },
   "source": [
    "Let's say that after a series of conversations you get the following response from the assistant."
   ]
  },
  {
   "cell_type": "code",
   "execution_count": 29,
   "id": "5a744f8f",
   "metadata": {
    "colab": {
     "base_uri": "https://localhost:8080/"
    },
    "id": "5a744f8f",
    "outputId": "b276999a-957b-4c23-a51d-53064794d8bb"
   },
   "outputs": [
    {
     "name": "stdout",
     "output_type": "stream",
     "text": [
      "\n",
      "Great, thank you for clarifying your requirements.\n",
      "Based on your inputs, here is the final profile for the laptop you are looking for:\n",
      "{'GPU intensity':'high',\n",
      " 'Display quality':'high',\n",
      " 'Portability':'low',\n",
      " 'Multitasking':'low',\n",
      " 'Processing speed':'low',\n",
      " 'Budget':'50000 INR'}\n",
      "\n"
     ]
    }
   ],
   "source": [
    "# Example 1 - Let's check with the confirmation_layer if all the keys are present\n",
    "debug_response_assistant_1 = f\"\"\"\n",
    "Great, thank you for clarifying your requirements.\n",
    "Based on your inputs, here is the final profile for the laptop you are looking for:\n",
    "{{'GPU intensity':'high',\n",
    " 'Display quality':'high',\n",
    " 'Portability':'low',\n",
    " 'Multitasking':'low',\n",
    " 'Processing speed':'low',\n",
    " 'Budget':'50000 INR'}}\n",
    "\"\"\"\n",
    "#Note that you are using double curly braces\n",
    "\n",
    "print(debug_response_assistant_1)"
   ]
  },
  {
   "cell_type": "markdown",
   "id": "f7f909ea",
   "metadata": {
    "id": "f7f909ea"
   },
   "source": [
    "Do you think it'll pass the `intent_confirmation_layer()` test?\n",
    "\n",
    " Let's try it out."
   ]
  },
  {
   "cell_type": "code",
   "execution_count": 30,
   "id": "lJjze8xQf8_S",
   "metadata": {
    "colab": {
     "base_uri": "https://localhost:8080/",
     "height": 36
    },
    "id": "lJjze8xQf8_S",
    "outputId": "4a364d03-9ee7-43d8-d87f-625e27652846"
   },
   "outputs": [
    {
     "name": "stdout",
     "output_type": "stream",
     "text": [
      "{'result': 'Yes'}\n"
     ]
    },
    {
     "data": {
      "text/plain": [
       "'Yes'"
      ]
     },
     "execution_count": 30,
     "metadata": {},
     "output_type": "execute_result"
    }
   ],
   "source": [
    "response = intent_confirmation_layer(debug_response_assistant_1)\n",
    "print(response)\n",
    "response.get('result') # Extract the result key from the dictionary"
   ]
  },
  {
   "cell_type": "code",
   "execution_count": 31,
   "id": "BS0_vM3ok-t-",
   "metadata": {
    "colab": {
     "base_uri": "https://localhost:8080/"
    },
    "id": "BS0_vM3ok-t-",
    "outputId": "c02231ba-09ee-475d-e1c6-5b1070b60164"
   },
   "outputs": [
    {
     "name": "stdout",
     "output_type": "stream",
     "text": [
      "\n",
      "Great, thank you for clarifying your requirements.\n",
      "Based on your inputs, here is the final profile for the laptop you are looking for:\n",
      "{'GPU intensity':'high',\n",
      " 'Display quality':'high',\n",
      " 'Portability':'low',\n",
      " 'Multitasking':'low',\n",
      " 'Processing speed':'low'}\n",
      "\n"
     ]
    }
   ],
   "source": [
    "# Example 2 - Let's check confirmation_layer if all the keys are present\n",
    "debug_response_assistant_2 = f\"\"\"\n",
    "Great, thank you for clarifying your requirements.\n",
    "Based on your inputs, here is the final profile for the laptop you are looking for:\n",
    "{{'GPU intensity':'high',\n",
    " 'Display quality':'high',\n",
    " 'Portability':'low',\n",
    " 'Multitasking':'low',\n",
    " 'Processing speed':'low'}}\n",
    "\"\"\"\n",
    "#Note that you are using double curly braces\n",
    "\n",
    "print(debug_response_assistant_2)"
   ]
  },
  {
   "cell_type": "code",
   "execution_count": 32,
   "id": "_9qbx_XLlAY9",
   "metadata": {
    "colab": {
     "base_uri": "https://localhost:8080/"
    },
    "id": "_9qbx_XLlAY9",
    "outputId": "7e968c53-5239-4a4b-8fe4-900e530571d0"
   },
   "outputs": [
    {
     "data": {
      "text/plain": [
       "{'result': 'No', 'reason': 'Budget key is missing.'}"
      ]
     },
     "execution_count": 32,
     "metadata": {},
     "output_type": "execute_result"
    }
   ],
   "source": [
    "intent_confirmation_layer(debug_response_assistant_2)\n",
    "# iterate_llm_response(intent_confirmation_layer, debug_response_assistant_2)"
   ]
  },
  {
   "cell_type": "code",
   "execution_count": 33,
   "id": "sFl2vRm0oYet",
   "metadata": {
    "colab": {
     "base_uri": "https://localhost:8080/"
    },
    "id": "sFl2vRm0oYet",
    "outputId": "dc1a9cbd-7bec-4651-c420-fff7af03ba04"
   },
   "outputs": [
    {
     "name": "stdout",
     "output_type": "stream",
     "text": [
      "\n",
      "Great, thank you for clarifying your requirements.\n",
      "Based on your inputs, here is the final profile for the laptop you are looking for:\n",
      "{'GPU intensity':'high',\n",
      " 'Display quality':'high',\n",
      " 'Portability':'low',\n",
      " 'Multitasking':'low',\n",
      " 'Processing speed':'low',\n",
      " 'Budget':'50000'}\n",
      "\n"
     ]
    }
   ],
   "source": [
    "# Example 3 - Let's check confirmation_layer if all the keys are present\n",
    "debug_response_assistant_3 = f\"\"\"\n",
    "Great, thank you for clarifying your requirements.\n",
    "Based on your inputs, here is the final profile for the laptop you are looking for:\n",
    "{{'GPU intensity':'high',\n",
    " 'Display quality':'high',\n",
    " 'Portability':'low',\n",
    " 'Multitasking':'low',\n",
    " 'Processing speed':'low',\n",
    " 'Budget':'50000'}}\n",
    "\"\"\"\n",
    "#Note that you are using double curly braces\n",
    "\n",
    "print(debug_response_assistant_3)"
   ]
  },
  {
   "cell_type": "code",
   "execution_count": 34,
   "id": "wA17-LWiohEP",
   "metadata": {
    "colab": {
     "base_uri": "https://localhost:8080/"
    },
    "id": "wA17-LWiohEP",
    "outputId": "c4fbe91d-04be-4d3d-c3da-7838a7e74822"
   },
   "outputs": [
    {
     "data": {
      "text/plain": [
       "{'result': 'Yes'}"
      ]
     },
     "execution_count": 34,
     "metadata": {},
     "output_type": "execute_result"
    }
   ],
   "source": [
    "intent_confirmation_layer(debug_response_assistant_3)\n",
    "# iterate_llm_response(intent_confirmation_layer, debug_response_assistant_3)"
   ]
  },
  {
   "cell_type": "markdown",
   "id": "b570ff33",
   "metadata": {
    "id": "b570ff33"
   },
   "source": [
    "Let's now look at the working of `dictionary_present()`."
   ]
  },
  {
   "cell_type": "markdown",
   "id": "8941aef4",
   "metadata": {
    "id": "8941aef4"
   },
   "source": [
    "### `dictionary_present()`:\n",
    "\n",
    "This function checks if the final understanding of user's profile is returned by the chatbot is a Python dictionary or not. This is important as it'll be used later on for finding the right laptops using dictionary matching."
   ]
  },
  {
   "cell_type": "code",
   "execution_count": 35,
   "id": "KjZlut6U2p_e",
   "metadata": {
    "id": "KjZlut6U2p_e"
   },
   "outputs": [],
   "source": [
    "def dictionary_present(response):\n",
    "    delimiter = \"####\"\n",
    "\n",
    "    user_req = {'GPU intensity': 'high',\n",
    "                'Display quality': 'high',\n",
    "                'Portability': 'medium',\n",
    "                'Multitasking': 'high',\n",
    "                'Processing speed': 'high',\n",
    "                'Budget': '200000'}\n",
    "\n",
    "    prompt = f\"\"\"You are a python expert. You are provided an input.\n",
    "            You have to check if there is a python dictionary present in the string.\n",
    "            It will have the following format {user_req}.\n",
    "            Your task is to just extract the relevant values from the input and return only the python dictionary in JSON format.\n",
    "            The output should match the format as {user_req}.\n",
    "\n",
    "            {delimiter}\n",
    "            Make sure that the value of budget is also present in the user input. ###\n",
    "            The output should contain the exact keys and values as present in the input.\n",
    "            Ensure the keys and values are in the given format:\n",
    "            {{\n",
    "            'GPU intensity': 'low/medium/high ',\n",
    "            'Display quality':'low/medium/high',\n",
    "            'Portability':'low/medium/high',\n",
    "            'Multitasking':'low/medium/high',\n",
    "            'Processing speed':'low/medium/high',\n",
    "            'Budget':'numerical value'\n",
    "            }}\n",
    "            Here are some sample input output pairs for better understanding:\n",
    "            {delimiter}\n",
    "            input 1: - GPU intensity: low - Display quality: high - Portability: low - Multitasking: high - Processing speed: medium - Budget: 50,000 INR\n",
    "            output 1: {{'GPU intensity': 'low', 'Display quality': 'high', 'Portability': 'low', 'Multitasking': 'high', 'Processing speed': 'medium', 'Budget': '50000'}}\n",
    "\n",
    "            input 2: {{'GPU intensity':     'low', 'Display quality':     'low', 'Portability':    'medium', 'Multitasking': 'medium', 'Processing speed': 'low', 'Budget': '90,000'}}\n",
    "            output 2: {{'GPU intensity': 'low', 'Display quality': 'low', 'Portability': 'medium', 'Multitasking': 'medium', 'Processing speed': 'low', 'Budget': '90000'}}\n",
    "\n",
    "            input 3: Here is your user profile 'GPU intensity': 'high','Display quality': 'high','Portability': 'medium','Multitasking': 'high','Processing speed': 'high','Budget': '200000 INR'\n",
    "            output 3: {{'GPU intensity': 'high','Display quality': 'high','Portability': 'medium','Multitasking': 'high','Processing speed': 'high','Budget': '200000'}}\n",
    "            {delimiter}\n",
    "            \"\"\"\n",
    "    messages = [{\"role\": \"system\", \"content\":prompt },\n",
    "                {\"role\": \"user\", \"content\":f\"\"\"Here is the user input: {response}\"\"\" }]\n",
    "\n",
    "    confirmation = get_chat_completions(messages, json_format = True)\n",
    "\n",
    "    return confirmation"
   ]
  },
  {
   "cell_type": "markdown",
   "id": "01dd4ca1",
   "metadata": {
    "id": "01dd4ca1"
   },
   "source": [
    "Let's start by passing the `debug_response_assistant`."
   ]
  },
  {
   "cell_type": "code",
   "execution_count": 36,
   "id": "qhG-yoxqZ6g2",
   "metadata": {
    "id": "qhG-yoxqZ6g2"
   },
   "outputs": [],
   "source": [
    "debug_response_assistant_n = \"\"\"\n",
    "{'GPU intensity':'high',\n",
    " 'Display quality':'high',\n",
    " 'Portability':'low',\n",
    " 'Multitasking':'low',\n",
    " 'Processing speed':'low',\n",
    " 'Budget':'50000'}\n",
    "\"\"\""
   ]
  },
  {
   "cell_type": "code",
   "execution_count": 37,
   "id": "c9795d76",
   "metadata": {
    "colab": {
     "base_uri": "https://localhost:8080/",
     "height": 121
    },
    "id": "c9795d76",
    "outputId": "1cad0803-c430-42ab-ea30-f74451ef2dff"
   },
   "outputs": [
    {
     "data": {
      "text/plain": [
       "{'GPU intensity': 'high',\n",
       " 'Display quality': 'high',\n",
       " 'Portability': 'low',\n",
       " 'Multitasking': 'low',\n",
       " 'Processing speed': 'low',\n",
       " 'Budget': '50000'}"
      ]
     },
     "metadata": {},
     "output_type": "display_data"
    }
   ],
   "source": [
    "response_dict_n = dictionary_present(debug_response_assistant_n)\n",
    "display(response_dict_n)"
   ]
  },
  {
   "cell_type": "code",
   "execution_count": 38,
   "id": "9j07XZONGBTN",
   "metadata": {
    "colab": {
     "base_uri": "https://localhost:8080/"
    },
    "id": "9j07XZONGBTN",
    "outputId": "2ec60a75-9949-40d2-84f6-4f5a880d31f2"
   },
   "outputs": [
    {
     "data": {
      "text/plain": [
       "dict"
      ]
     },
     "execution_count": 38,
     "metadata": {},
     "output_type": "execute_result"
    }
   ],
   "source": [
    "type(response_dict_n)"
   ]
  },
  {
   "cell_type": "markdown",
   "id": "95fe9455",
   "metadata": {
    "id": "95fe9455"
   },
   "source": [
    "What if you pass something like this where it is not in the form of a dictionary? Or some key or some values are missing? Let's see."
   ]
  },
  {
   "cell_type": "code",
   "execution_count": 51,
   "id": "706a8a28",
   "metadata": {
    "id": "706a8a28"
   },
   "outputs": [],
   "source": [
    "debug_response_assistant_n = f\"\"\"Thank you for providing your budget.\n",
    "Based on your budget of 50,000 INR, I will consider this while recommending suitable laptop options for you.\n",
    "Here is the final recommendation for your laptop:\n",
    "- GPU intensity: high\n",
    "- Display quality: high\n",
    "- Portability: low\n",
    "- Multitasking: high\n",
    "- Processing speed: medium\n",
    "- Budget: 80,000 INR\n",
    "\n",
    "Please note that these specifications are based on your requirements for surfing and a decent display within your budget.\n",
    "Let me know if there's anything else I can assist you with!\"\"\""
   ]
  },
  {
   "cell_type": "code",
   "execution_count": 52,
   "id": "79a1d0f5",
   "metadata": {
    "colab": {
     "base_uri": "https://localhost:8080/",
     "height": 121
    },
    "id": "79a1d0f5",
    "outputId": "d0a4b9d2-554b-4c15-cf87-d91fb4513750",
    "scrolled": true
   },
   "outputs": [
    {
     "data": {
      "text/plain": [
       "{'GPU intensity': 'high',\n",
       " 'Display quality': 'high',\n",
       " 'Portability': 'low',\n",
       " 'Multitasking': 'high',\n",
       " 'Processing speed': 'medium',\n",
       " 'Budget': '80000'}"
      ]
     },
     "metadata": {},
     "output_type": "display_data"
    }
   ],
   "source": [
    "response_dict_n = dictionary_present(debug_response_assistant_n)\n",
    "display(response_dict_n)"
   ]
  },
  {
   "cell_type": "code",
   "execution_count": 53,
   "id": "5Jwp8q2NGGAg",
   "metadata": {
    "colab": {
     "base_uri": "https://localhost:8080/"
    },
    "id": "5Jwp8q2NGGAg",
    "outputId": "6608d9e6-bd90-4c60-aaa6-cfc90a5fa0e3"
   },
   "outputs": [
    {
     "data": {
      "text/plain": [
       "dict"
      ]
     },
     "execution_count": 53,
     "metadata": {},
     "output_type": "execute_result"
    }
   ],
   "source": [
    "type(response_dict_n)"
   ]
  },
  {
   "cell_type": "code",
   "execution_count": 54,
   "id": "kzXtY0As84vl",
   "metadata": {
    "colab": {
     "base_uri": "https://localhost:8080/"
    },
    "id": "kzXtY0As84vl",
    "outputId": "b78bfc3b-707b-42c7-f07d-1b02f8f2090d"
   },
   "outputs": [
    {
     "name": "stdout",
     "output_type": "stream",
     "text": [
      "Iteration: 0\n",
      "{'GPU intensity': 'high', 'Display quality': 'high', 'Portability': 'low', 'Multitasking': 'high', 'Processing speed': 'medium', 'Budget': '80000'}\n",
      "--------------------------------------------------\n",
      "Iteration: 1\n",
      "{'GPU intensity': 'high', 'Display quality': 'high', 'Portability': 'low', 'Multitasking': 'high', 'Processing speed': 'medium', 'Budget': '80000'}\n",
      "--------------------------------------------------\n",
      "Iteration: 2\n",
      "{'GPU intensity': 'high', 'Display quality': 'high', 'Portability': 'low', 'Multitasking': 'high', 'Processing speed': 'medium', 'Budget': '80000'}\n",
      "--------------------------------------------------\n",
      "Iteration: 3\n",
      "{'GPU intensity': 'high', 'Display quality': 'high', 'Portability': 'low', 'Multitasking': 'high', 'Processing speed': 'medium', 'Budget': '80000'}\n",
      "--------------------------------------------------\n",
      "Iteration: 4\n",
      "{'GPU intensity': 'high', 'Display quality': 'high', 'Portability': 'low', 'Multitasking': 'high', 'Processing speed': 'medium', 'Budget': '80000'}\n",
      "--------------------------------------------------\n",
      "Iteration: 5\n",
      "{'GPU intensity': 'high', 'Display quality': 'high', 'Portability': 'low', 'Multitasking': 'high', 'Processing speed': 'medium', 'Budget': '80000'}\n",
      "--------------------------------------------------\n",
      "Iteration: 6\n",
      "{'GPU intensity': 'high', 'Display quality': 'high', 'Portability': 'low', 'Multitasking': 'high', 'Processing speed': 'medium', 'Budget': '80000'}\n",
      "--------------------------------------------------\n",
      "Iteration: 7\n",
      "{'GPU intensity': 'high', 'Display quality': 'high', 'Portability': 'low', 'Multitasking': 'high', 'Processing speed': 'medium', 'Budget': '80000'}\n",
      "--------------------------------------------------\n",
      "Iteration: 8\n",
      "{'GPU intensity': 'high', 'Display quality': 'high', 'Portability': 'low', 'Multitasking': 'high', 'Processing speed': 'medium', 'Budget': '80000'}\n",
      "--------------------------------------------------\n",
      "Iteration: 9\n",
      "{'GPU intensity': 'high', 'Display quality': 'high', 'Portability': 'low', 'Multitasking': 'high', 'Processing speed': 'medium', 'Budget': '80000'}\n",
      "--------------------------------------------------\n"
     ]
    }
   ],
   "source": [
    "# Check for LLM function's consistency\n",
    "iterate_llm_response(dictionary_present, debug_response_assistant_n)"
   ]
  },
  {
   "cell_type": "markdown",
   "id": "4e3135e6",
   "metadata": {
    "id": "4e3135e6"
   },
   "source": [
    "Let's quickly take a look at the code that we have run until now."
   ]
  },
  {
   "cell_type": "code",
   "execution_count": 86,
   "id": "IJmvsVt25Y7r",
   "metadata": {
    "colab": {
     "base_uri": "https://localhost:8080/"
    },
    "id": "IJmvsVt25Y7r",
    "outputId": "c0310aa3-8644-4bb3-e656-b6893a42f398"
   },
   "outputs": [
    {
     "data": {
      "text/plain": [
       "[{'role': 'system',\n",
       "  'content': '\\n    You are an intelligent laptop gadget expert and your goal is to find the best laptop for a user.\\n    You need to ask relevant questions and understand the user profile by analysing the user\\'s responses.\\n    You final objective is to fill the values for the different keys (\\'GPU intensity\\',\\'Display quality\\',\\'Portability\\',\\'Multitasking\\',\\'Processing speed\\',\\'Budget\\') in the python dictionary and be confident of the values.\\n    These key value pairs define the user\\'s profile.\\n    The python dictionary looks like this\\n    {\\'GPU intensity\\': \\'values\\',\\'Display quality\\': \\'values\\',\\'Portability\\': \\'values\\',\\'Multitasking\\': \\'values\\',\\'Processing speed\\': \\'values\\',\\'Budget\\': \\'values\\'}\\n    The value for \\'Budget\\' should be a numerical value extracted from the user\\'s response.\\n    The values for all keys, except \\'Budget\\', should be \\'low\\', \\'medium\\', or \\'high\\' based on the importance of the corresponding keys, as stated by user.\\n    All the values in the example dictionary are only representative values.\\n    ####\\n    Here are some instructions around the values for the different keys. If you do not follow this, you\\'ll be heavily penalised:\\n    - The values for all keys, except \\'Budget\\', should strictly be either \\'low\\', \\'medium\\', or \\'high\\' based on the importance of the corresponding keys, as stated by user.\\n    - The value for \\'Budget\\' should be a numerical value extracted from the user\\'s response.\\n    - \\'Budget\\' value needs to be greater than or equal to 25000 INR. If the user says less than that, please mention that there are no laptops in that range.\\n    - Do not randomly assign values to any of the keys.\\n    - The values need to be inferred from the user\\'s response.\\n    ####\\n\\n    To fill the dictionary, you need to have the following chain of thoughts:\\n    Follow the chain-of-thoughts below and only output the final updated python dictionary for the keys as described in {\\'GPU intensity\\': \\'_\\', \\'Display quality\\': \\'_\\', \\'Portability\\': \\'_\\', \\'Multitasking\\': \\'_\\', \\'Processing speed\\': \\'_\\', \\'Budget\\': \\'_\\'}. \\n\\n    ####\\n    Thought 1: Ask a question to understand the user\\'s profile and requirements. \\n\\n    If their primary use for the laptop is unclear. Ask followup questions to understand their needs.\\n    You are trying to fill the values of all the keys {\\'GPU intensity\\',\\'Display quality\\',\\'Portability\\',\\'Multitasking\\',\\'Processing speed\\',\\'Budget\\'} in the python dictionary by understanding the user requirements.\\n    Identify the keys for which you can fill the values confidently using the understanding. \\n\\n    Remember the instructions around the values for the different keys.\\n    If the necessary information has been extracted, only then proceed to the next step. \\n\\n    Otherwise, rephrase the question to capture their profile clearly. \\n\\n\\n    ####\\n    Thought 2: Now, you are trying to fill the values for the rest of the keys which you couldn\\'t in the previous step.\\n    Remember the instructions around the values for the different keys.\\n    Ask questions you might have for all the keys to strengthen your understanding of the user\\'s profile.\\n    If yes, move to the next Thought. If no, ask question on the keys whose values you are unsure of. \\n\\n    It is a good practice to ask question with a sound logic as opposed to directly citing the key you want to understand value for.\\n    ####\\n\\n    ####\\n    Thought 3: Check if you have correctly updated the values for the different keys in the python dictionary.\\n    If you are not confident about any of the values, ask clarifying questions.\\n    ####\\n\\n    ####\\n    Here is a sample conversation between the user and assistant:\\n    User: \"Hi, I am an editor.\"\\n    Assistant: \"Great! As an editor, you likely require a laptop that can handle demanding tasks. Hence, the laptop should have high multitasking capability. You would also need a high end display for better visuals and editing. May I know what kind of work do you primarily focus on? Are you more involved in video editing, photo editing, or both? Understanding the specific type of editing work will help me tailor my recommendations accordingly. Let me know if my understanding is correct until now.\"\\n    User: \"I primarily work with After Effects.\"\\n    Assistant: \"Thank you for providing that information. Working with After Effects involves working with graphics, animations, and rendering, which will require high GPU. Do you work with high-resolution media files, such as 4K videos or RAW photos? Understanding your file sizes will help determine the storage capacity and processing power needed.\"\\n    User: \"Yes, sometimes I work with 4K videos as well.\"\\n    Assistant: \"Thank you for the information. Processing 4K vidoes will require a good processor and high GPU. I think we have already determined earlier that you need a high GPU. To ensure I have a complete understanding of your needs, I have one more question: Are you frequently on the go and require a laptop that is lightweight and easy to carry, or do you primarily work from a stationary location?\"\\n    User: \"Yes, sometimes I travel but do not carry my laptop.\"\\n    Assistant:\"Could you kindly let me know your budget for the laptop? This will help me find options that fit within your price range while meeting the specified requirements.\"\\n    User: \"my max budget is 1.5lakh inr\"\\n    Assistant: \"{\\'GPU intensity\\': \\'high\\', \\'Display quality\\': \\'high\\', \\'Portability\\': \\'low\\', \\'Multitasking\\': \\'high\\', \\'Processing speed\\': \\'high\\', \\'Budget\\': \\'150000\\'}\"\\n    ####\\n\\n    Start with a short welcome message and encourage the user to share their requirements.\\n    '},\n",
       " {'role': 'user', 'content': 'Hi, I am Anand. I need a laptop for coding.'},\n",
       " {'role': 'assistant',\n",
       "  'content': 'Great! As a coder, you likely require a laptop that can handle multitasking efficiently and has good processing speed. This is important for running multiple code editors, compilers, and virtual machines smoothly. Do you also prioritize display quality for better readability of your code or GPU intensity for any specific tasks like machine learning or gaming? Understanding these aspects will help in recommending the best laptop for your coding needs. Can you provide more information on these preferences to tailor my recommendations accordingly?'},\n",
       " {'role': 'assistant',\n",
       "  'content': 'Great! As a coder, you likely require a laptop that can handle multitasking efficiently and has good processing speed. This is important for running multiple code editors, compilers, and virtual machines smoothly. Do you also prioritize display quality for better readability of your code or GPU intensity for any specific tasks like machine learning or gaming? Understanding these aspects will help in recommending the best laptop for your coding needs. Can you provide more information on these preferences to tailor my recommendations accordingly?'}]"
      ]
     },
     "execution_count": 86,
     "metadata": {},
     "output_type": "execute_result"
    }
   ],
   "source": [
    "debug_conversation"
   ]
  },
  {
   "cell_type": "code",
   "execution_count": 46,
   "id": "a1190d29",
   "metadata": {
    "colab": {
     "base_uri": "https://localhost:8080/"
    },
    "id": "a1190d29",
    "outputId": "f09cfc46-f016-4449-8377-63f5e46e6312"
   },
   "outputs": [
    {
     "name": "stdout",
     "output_type": "stream",
     "text": [
      "{'GPU intensity': 'high', 'Display quality': 'high', 'Portability': 'low', 'Multitasking': 'high', 'Processing speed': 'medium', 'Budget': '80000'}\n"
     ]
    }
   ],
   "source": [
    "debug_conversation = initialize_conversation()\n",
    "debug_user_input = \"Hi, I am Anand. I need a laptop for coding.\"\n",
    "debug_moderation = moderation_check(debug_user_input)\n",
    "debug_conversation.append({\"role\": \"user\", \"content\": debug_user_input})\n",
    "debug_response_assistant = get_chat_completions(debug_conversation)\n",
    "debug_moderation = moderation_check(debug_response_assistant)\n",
    "debug_conversation.append({\"role\": \"assistant\", \"content\": debug_response_assistant})\n",
    "debug_confirmation = intent_confirmation_layer(debug_response_assistant)\n",
    "# print(debug_confirmation)\n",
    "# After a series of conversation...\n",
    "response_dict_n = dictionary_present(debug_response_assistant_n)\n",
    "print(response_dict_n)"
   ]
  },
  {
   "cell_type": "markdown",
   "id": "c95c036b",
   "metadata": {
    "id": "c95c036b"
   },
   "source": [
    "So, now that you have the user profile stored in `response_dict_n`. We'll use this to generate recommendations. Before that, we need to create a similar profile for every laptop. Let's see how we do it."
   ]
  },
  {
   "cell_type": "markdown",
   "id": "TWY1b2OXRx4u",
   "metadata": {
    "id": "TWY1b2OXRx4u"
   },
   "source": [
    "## Stage 2"
   ]
  },
  {
   "cell_type": "markdown",
   "id": "-HEFP9rps1a5",
   "metadata": {
    "id": "-HEFP9rps1a5"
   },
   "source": [
    "[Stage 2 Flowchart](https://cdn.upgrad.com/uploads/production/c71aa254-32db-4265-a083-f4a540dac014/Stage+2.jpg)"
   ]
  },
  {
   "cell_type": "markdown",
   "id": "af7ced9d",
   "metadata": {
    "id": "af7ced9d"
   },
   "source": [
    "### 3.3 Implementing the Product Mapping and Information Extraction Layers\n",
    "\n",
    "In this section, we take in the output of the previous layers, i.e. the user requirements, which is in the format of a Python dictionary.\n",
    "<br>\n",
    "Next we will extract the top 3 laptop recommendations based on user's requirements.\n",
    "\n",
    "This stage consists of the following helper functions that will implement the information extraction and product matching layers."
   ]
  },
  {
   "cell_type": "markdown",
   "id": "R2F8yCDkvsVd",
   "metadata": {
    "id": "R2F8yCDkvsVd"
   },
   "source": [
    "### `product_map_layer()`:\n",
    "\n",
    "This function is responsible for extracting key features and criteria from laptop descriptions. Here's a breakdown of how it works:\n",
    "\n",
    "-  Use a prompt that assign it the role of a Laptop Specifications Classifier, whose objective is to extract key features and classify them based on laptop descriptions.\n",
    "\n",
    "- Provide step-by-step instructions for extracting laptop features from description.\n",
    "\n",
    "- Assign specific rules for each feature (e.g., GPU Intensity, Display Quality, Portability, Multitasking, Processing Speed) and associate them with the appropriate classification value (Low, Medium, or High).\n",
    "\n",
    "- Includes Few Shot Prompting (sample conversation between the user and assistant) to demonstrate the expected result of the feature extraction and classification process."
   ]
  },
  {
   "cell_type": "code",
   "execution_count": 55,
   "id": "240d34cc",
   "metadata": {
    "id": "240d34cc"
   },
   "outputs": [],
   "source": [
    "def product_map_layer(laptop_description):\n",
    "    delimiter = \"#####\"\n",
    "\n",
    "    lap_spec = {\n",
    "        \"GPU intensity\":\"(Type of the Graphics Processor)\",\n",
    "        \"Display quality\":\"(Display Type, Screen Resolution, Display Size)\",\n",
    "        \"Portability\":\"(Laptop Weight)\",\n",
    "        \"Multitasking\":\"(RAM Size)\",\n",
    "        \"Processing speed\":\"(CPU Type, Core, Clock Speed)\"\n",
    "    }\n",
    "\n",
    "    values = {'low','medium','high'}\n",
    "\n",
    "    prompt=f\"\"\"\n",
    "    You are a Laptop Specifications Classifier whose job is to extract the key features of laptops and classify them as per their requirements.\n",
    "    To analyze each laptop, perform the following steps:\n",
    "    Step 1: Extract the laptop's primary features from the description {laptop_description}\n",
    "    Step 2: Store the extracted features in {lap_spec} \\\n",
    "    Step 3: Classify each of the items in {lap_spec} into {values} based on the following rules: \\\n",
    "    {delimiter}\n",
    "    GPU Intensity:\n",
    "    - low: <<< if GPU is entry-level such as an integrated graphics processor or entry-level dedicated graphics like Intel UHD >>> , \\n\n",
    "    - medium: <<< if mid-range dedicated graphics like M1, AMD Radeon, Intel Iris >>> , \\n\n",
    "    - high: <<< high-end dedicated graphics like Nvidia RTX >>> , \\n\n",
    "\n",
    "    Display Quality:\n",
    "    - low: <<< if resolution is below Full HD (e.g., 1366x768). >>> , \\n\n",
    "    - medium: <<< if Full HD resolution (1920x1080) or higher. >>> , \\n\n",
    "    - high: <<< if High-resolution display (e.g., 4K, Retina) with excellent color accuracy and features like HDR support. >>> \\n\n",
    "\n",
    "    Portability:\n",
    "    - high: <<< if laptop weight is less than 1.51 kg >>> , \\n\n",
    "    - medium: <<< if laptop weight is between 1.51 kg and 2.51 kg >>> , \\n\n",
    "    - low: <<< if laptop weight is greater than 2.51 kg >>> \\n\n",
    "\n",
    "    Multitasking:\n",
    "    - low: <<< If RAM size is 8 GB, 12 GB >>> , \\n\n",
    "    - medium: <<< if RAM size is 16 GB >>> , \\n\n",
    "    - high: <<< if RAM size is 32 GB, 64 GB >>> \\n\n",
    "\n",
    "    Processing Speed:\n",
    "    - low: <<< if entry-level processors like Intel Core i3, AMD Ryzen 3 >>> , \\n\n",
    "    - medium: <<< if Mid-range processors like Intel Core i5, AMD Ryzen 5 >>> , \\n\n",
    "    - high: <<< if High-performance processors like Intel Core i7, AMD Ryzen 7 or higher >>> \\n\n",
    "    {delimiter}\n",
    "\n",
    "    {delimiter}\n",
    "    Here is input output pair for few-shot learning:\n",
    "    input 1: \"The Dell Inspiron is a versatile laptop that combines powerful performance and affordability. It features an Intel Core i5 processor clocked at 2.4 GHz, ensuring smooth multitasking and efficient computing. With 8GB of RAM and an SSD, it offers quick data access and ample storage capacity. The laptop sports a vibrant 15.6\" LCD display with a resolution of 1920x1080, delivering crisp visuals and immersive viewing experience. Weighing just 2.5 kg, it is highly portable, making it ideal for on-the-go usage. Additionally, it boasts an Intel UHD GPU for decent graphical performance and a backlit keyboard for enhanced typing convenience. With a one-year warranty and a battery life of up to 6 hours, the Dell Inspiron is a reliable companion for work or entertainment. All these features are packed at an affordable price of 35,000, making it an excellent choice for budget-conscious users.\"\n",
    "    output 1: {{'GPU intensity': 'medium','Display quality':'medium','Portability':'medium','Multitasking':'high','Processing speed':'medium'}}\n",
    "\n",
    "    {delimiter}\n",
    "    ### Strictly don't keep any other text in the values of the JSON dictionary other than low or medium or high ###\n",
    "    \"\"\"\n",
    "    input = f\"\"\"Follow the above instructions step-by-step and output the dictionary in JSON format {lap_spec} for the following laptop {laptop_description}.\"\"\"\n",
    "    #see that we are using the Completion endpoint and not the Chatcompletion endpoint\n",
    "    messages=[{\"role\": \"system\", \"content\":prompt },{\"role\": \"user\",\"content\":input}]\n",
    "\n",
    "    response = get_chat_completions(messages, json_format = True)\n",
    "\n",
    "    #   response = openai.chat.completions.create(\n",
    "    #     model=\"gpt-3.5-turbo-0125\",\n",
    "    #     messages=[{\"role\": \"system\", \"content\":prompt },{\"role\": \"user\",\"content\":input}],\n",
    "    #     response_format={ \"type\": \"json_object\" }\n",
    "    #     # max_tokens = 2000,\n",
    "    #     )\n",
    "\n",
    "    # response = json.loads(response)\n",
    "    return response"
   ]
  },
  {
   "cell_type": "markdown",
   "id": "OF23tYUiDSMI",
   "metadata": {
    "id": "OF23tYUiDSMI"
   },
   "source": [
    "Let's test this for one sample laptop description."
   ]
  },
  {
   "cell_type": "code",
   "execution_count": 56,
   "id": "JhrRxWNEC5Ls",
   "metadata": {
    "id": "JhrRxWNEC5Ls"
   },
   "outputs": [],
   "source": [
    "laptop_description_1 = f\"\"\"\n",
    "The Dell Inspiron is a versatile laptop that combines powerful performance and affordability.\n",
    "It features an Intel Core i5 processor clocked at 2.4 GHz, ensuring smooth multitasking and efficient computing.\n",
    "With 8GB of RAM and an SSD, it offers quick data access and ample storage capacity.\n",
    "The laptop sports a vibrant 15.6\" LCD display with a resolution of 1920x1080, delivering crisp visuals and immersive viewing experience.\n",
    "Weighing just 2.5 kg, it is highly portable, making it ideal for on-the-go usage.\n",
    "Additionally, it boasts an Intel UHD GPU for decent graphical performance and a backlit keyboard for enhanced typing convenience.\n",
    "With a one-year warranty and a battery life of up to 6 hours, the Dell Inspiron is a reliable companion for work or entertainment.\n",
    "All these features are packed at an affordable price of 35,000, making it an excellent choice for budget-conscious users.\n",
    "\"\"\""
   ]
  },
  {
   "cell_type": "code",
   "execution_count": 57,
   "id": "3JiOft8JDDgv",
   "metadata": {
    "colab": {
     "base_uri": "https://localhost:8080/",
     "height": 104
    },
    "id": "3JiOft8JDDgv",
    "outputId": "d7f0e74e-c129-434c-b540-2b6b64a9707c"
   },
   "outputs": [
    {
     "data": {
      "text/plain": [
       "{'GPU intensity': 'medium',\n",
       " 'Display quality': 'medium',\n",
       " 'Portability': 'medium',\n",
       " 'Multitasking': 'high',\n",
       " 'Processing speed': 'medium'}"
      ]
     },
     "metadata": {},
     "output_type": "display_data"
    }
   ],
   "source": [
    "display(product_map_layer(laptop_description_1))"
   ]
  },
  {
   "cell_type": "code",
   "execution_count": 128,
   "id": "u7O5Et_aSW0_",
   "metadata": {
    "colab": {
     "base_uri": "https://localhost:8080/"
    },
    "id": "u7O5Et_aSW0_",
    "outputId": "da04a748-fc8e-442c-96f8-f457dce6952b"
   },
   "outputs": [
    {
     "name": "stdout",
     "output_type": "stream",
     "text": [
      "<class 'dict'>\n"
     ]
    }
   ],
   "source": [
    "# # Data type of the output response\n",
    "print(type(product_map_layer(laptop_description_1)))"
   ]
  },
  {
   "cell_type": "code",
   "execution_count": 58,
   "id": "xfDgYwldSXlx",
   "metadata": {
    "colab": {
     "base_uri": "https://localhost:8080/"
    },
    "id": "xfDgYwldSXlx",
    "outputId": "10939b64-6087-481c-df13-5d9d4223642f"
   },
   "outputs": [
    {
     "name": "stdout",
     "output_type": "stream",
     "text": [
      "Iteration: 0\n",
      "{'GPU intensity': 'medium', 'Display quality': 'medium', 'Portability': 'medium', 'Multitasking': 'high', 'Processing speed': 'medium'}\n",
      "--------------------------------------------------\n",
      "Iteration: 1\n",
      "{'GPU intensity': 'medium', 'Display quality': 'medium', 'Portability': 'medium', 'Multitasking': 'high', 'Processing speed': 'medium'}\n",
      "--------------------------------------------------\n",
      "Iteration: 2\n",
      "{'GPU intensity': 'medium', 'Display quality': 'medium', 'Portability': 'medium', 'Multitasking': 'high', 'Processing speed': 'medium'}\n",
      "--------------------------------------------------\n",
      "Iteration: 3\n",
      "{'GPU intensity': 'medium', 'Display quality': 'medium', 'Portability': 'medium', 'Multitasking': 'high', 'Processing speed': 'medium'}\n",
      "--------------------------------------------------\n",
      "Iteration: 4\n",
      "{'GPU intensity': 'medium', 'Display quality': 'medium', 'Portability': 'medium', 'Multitasking': 'high', 'Processing speed': 'medium'}\n",
      "--------------------------------------------------\n",
      "Iteration: 5\n",
      "{'GPU intensity': 'medium', 'Display quality': 'medium', 'Portability': 'medium', 'Multitasking': 'high', 'Processing speed': 'medium'}\n",
      "--------------------------------------------------\n",
      "Iteration: 6\n",
      "{'GPU intensity': 'medium', 'Display quality': 'medium', 'Portability': 'medium', 'Multitasking': 'high', 'Processing speed': 'medium'}\n",
      "--------------------------------------------------\n",
      "Iteration: 7\n",
      "{'GPU intensity': 'medium', 'Display quality': 'medium', 'Portability': 'medium', 'Multitasking': 'high', 'Processing speed': 'medium'}\n",
      "--------------------------------------------------\n",
      "Iteration: 8\n",
      "{'GPU intensity': 'medium', 'Display quality': 'medium', 'Portability': 'medium', 'Multitasking': 'high', 'Processing speed': 'medium'}\n",
      "--------------------------------------------------\n",
      "Iteration: 9\n",
      "{'GPU intensity': 'medium', 'Display quality': 'medium', 'Portability': 'medium', 'Multitasking': 'high', 'Processing speed': 'medium'}\n",
      "--------------------------------------------------\n"
     ]
    }
   ],
   "source": [
    "# # Check for consistency with iterate_response function\n",
    "iterate_llm_response(product_map_layer, laptop_description_1)"
   ]
  },
  {
   "cell_type": "markdown",
   "id": "dG5wTcerDVaH",
   "metadata": {
    "id": "dG5wTcerDVaH"
   },
   "source": [
    "Let's now apply this function to the entire laptop dataset"
   ]
  },
  {
   "cell_type": "code",
   "execution_count": 59,
   "id": "fe4a626b-08ec-48f2-a98c-84ef081c3f78",
   "metadata": {},
   "outputs": [
    {
     "data": {
      "text/plain": [
       "'The Dell Inspiron is a versatile laptop that combines powerful performance and affordability. It features an Intel Core i5 processor clocked at 2.4 GHz, ensuring smooth multitasking and efficient computing. With 8GB of RAM and an SSD, it offers quick data access and ample storage capacity. The laptop sports a vibrant 15.6\" LCD display with a resolution of 1920x1080, delivering crisp visuals and immersive viewing experience. Weighing just 2.5 kg, it is highly portable, making it ideal for on-the-go usage. Additionally, it boasts an Intel UHD GPU for decent graphical performance and a backlit keyboard for enhanced typing convenience. With a one-year warranty and a battery life of up to 6 hours, the Dell Inspiron is a reliable companion for work or entertainment. All these features are packed at an affordable price of 35,000, making it an excellent choice for budget-conscious users.'"
      ]
     },
     "execution_count": 59,
     "metadata": {},
     "output_type": "execute_result"
    }
   ],
   "source": [
    "laptop_df= pd.read_csv('laptop_data.csv')\n",
    "laptop_df[\"Description\"][0]"
   ]
  },
  {
   "cell_type": "code",
   "execution_count": 60,
   "id": "da5dec6b-a0c4-4b36-9c02-95f062b49e03",
   "metadata": {},
   "outputs": [
    {
     "data": {
      "text/plain": [
       "{'GPU intensity': 'medium',\n",
       " 'Display quality': 'medium',\n",
       " 'Portability': 'medium',\n",
       " 'Multitasking': 'high',\n",
       " 'Processing speed': 'medium'}"
      ]
     },
     "execution_count": 60,
     "metadata": {},
     "output_type": "execute_result"
    }
   ],
   "source": [
    "product_map_layer(laptop_df[\"Description\"][0])"
   ]
  },
  {
   "cell_type": "code",
   "execution_count": 54,
   "id": "1970a504-b83c-476c-8ac6-4f9600b5e4c1",
   "metadata": {},
   "outputs": [
    {
     "data": {
      "text/html": [
       "<div>\n",
       "<style scoped>\n",
       "    .dataframe tbody tr th:only-of-type {\n",
       "        vertical-align: middle;\n",
       "    }\n",
       "\n",
       "    .dataframe tbody tr th {\n",
       "        vertical-align: top;\n",
       "    }\n",
       "\n",
       "    .dataframe thead th {\n",
       "        text-align: right;\n",
       "    }\n",
       "</style>\n",
       "<table border=\"1\" class=\"dataframe\">\n",
       "  <thead>\n",
       "    <tr style=\"text-align: right;\">\n",
       "      <th></th>\n",
       "      <th>Brand</th>\n",
       "      <th>Model Name</th>\n",
       "      <th>Core</th>\n",
       "      <th>CPU Manufacturer</th>\n",
       "      <th>Clock Speed</th>\n",
       "      <th>RAM Size</th>\n",
       "      <th>Storage Type</th>\n",
       "      <th>Display Type</th>\n",
       "      <th>Display Size</th>\n",
       "      <th>Graphics Processor</th>\n",
       "      <th>Screen Resolution</th>\n",
       "      <th>OS</th>\n",
       "      <th>Laptop Weight</th>\n",
       "      <th>Special Features</th>\n",
       "      <th>Warranty</th>\n",
       "      <th>Average Battery Life</th>\n",
       "      <th>Price</th>\n",
       "      <th>Description</th>\n",
       "    </tr>\n",
       "  </thead>\n",
       "  <tbody>\n",
       "    <tr>\n",
       "      <th>0</th>\n",
       "      <td>Dell</td>\n",
       "      <td>Inspiron</td>\n",
       "      <td>i5</td>\n",
       "      <td>Intel</td>\n",
       "      <td>2.4 GHz</td>\n",
       "      <td>8GB</td>\n",
       "      <td>SSD</td>\n",
       "      <td>LCD</td>\n",
       "      <td>15.6\"</td>\n",
       "      <td>Intel UHD</td>\n",
       "      <td>1920x1080</td>\n",
       "      <td>Windows 10</td>\n",
       "      <td>2.5 kg</td>\n",
       "      <td>Backlit Keyboard</td>\n",
       "      <td>1 year</td>\n",
       "      <td>6 hours</td>\n",
       "      <td>35,000</td>\n",
       "      <td>The Dell Inspiron is a versatile laptop that c...</td>\n",
       "    </tr>\n",
       "  </tbody>\n",
       "</table>\n",
       "</div>"
      ],
      "text/plain": [
       "  Brand Model Name Core CPU Manufacturer Clock Speed RAM Size Storage Type Display Type  \\\n",
       "0  Dell   Inspiron   i5            Intel     2.4 GHz      8GB          SSD          LCD   \n",
       "\n",
       "  Display Size Graphics Processor Screen Resolution          OS Laptop Weight  Special Features  \\\n",
       "0        15.6\"          Intel UHD         1920x1080  Windows 10        2.5 kg  Backlit Keyboard   \n",
       "\n",
       "  Warranty Average Battery Life   Price                                        Description  \n",
       "0   1 year              6 hours  35,000  The Dell Inspiron is a versatile laptop that c...  "
      ]
     },
     "execution_count": 54,
     "metadata": {},
     "output_type": "execute_result"
    }
   ],
   "source": [
    "laptop_df.head(1)"
   ]
  },
  {
   "cell_type": "code",
   "execution_count": 61,
   "id": "c9bd0233",
   "metadata": {
    "id": "c9bd0233",
    "scrolled": true
   },
   "outputs": [],
   "source": [
    "##Run this code once to extract product info in the form of a dictionary\n",
    "# laptop_df= pd.read_csv('laptop_data.csv')\n",
    "\n",
    "## Create a new column \"laptop_feature\" that contains the dictionary of the product features\n",
    "laptop_df['laptop_feature'] = laptop_df['Description'].apply(lambda x: product_map_layer(x))"
   ]
  },
  {
   "cell_type": "code",
   "execution_count": 62,
   "id": "af66c7de-5e20-431c-9332-c236b194bb4c",
   "metadata": {},
   "outputs": [
    {
     "data": {
      "text/html": [
       "<div>\n",
       "<style scoped>\n",
       "    .dataframe tbody tr th:only-of-type {\n",
       "        vertical-align: middle;\n",
       "    }\n",
       "\n",
       "    .dataframe tbody tr th {\n",
       "        vertical-align: top;\n",
       "    }\n",
       "\n",
       "    .dataframe thead th {\n",
       "        text-align: right;\n",
       "    }\n",
       "</style>\n",
       "<table border=\"1\" class=\"dataframe\">\n",
       "  <thead>\n",
       "    <tr style=\"text-align: right;\">\n",
       "      <th></th>\n",
       "      <th>Brand</th>\n",
       "      <th>Model Name</th>\n",
       "      <th>Core</th>\n",
       "      <th>CPU Manufacturer</th>\n",
       "      <th>Clock Speed</th>\n",
       "      <th>RAM Size</th>\n",
       "      <th>Storage Type</th>\n",
       "      <th>Display Type</th>\n",
       "      <th>Display Size</th>\n",
       "      <th>Graphics Processor</th>\n",
       "      <th>Screen Resolution</th>\n",
       "      <th>OS</th>\n",
       "      <th>Laptop Weight</th>\n",
       "      <th>Special Features</th>\n",
       "      <th>Warranty</th>\n",
       "      <th>Average Battery Life</th>\n",
       "      <th>Price</th>\n",
       "      <th>Description</th>\n",
       "      <th>laptop_feature</th>\n",
       "    </tr>\n",
       "  </thead>\n",
       "  <tbody>\n",
       "    <tr>\n",
       "      <th>0</th>\n",
       "      <td>Dell</td>\n",
       "      <td>Inspiron</td>\n",
       "      <td>i5</td>\n",
       "      <td>Intel</td>\n",
       "      <td>2.4 GHz</td>\n",
       "      <td>8GB</td>\n",
       "      <td>SSD</td>\n",
       "      <td>LCD</td>\n",
       "      <td>15.6\"</td>\n",
       "      <td>Intel UHD</td>\n",
       "      <td>1920x1080</td>\n",
       "      <td>Windows 10</td>\n",
       "      <td>2.5 kg</td>\n",
       "      <td>Backlit Keyboard</td>\n",
       "      <td>1 year</td>\n",
       "      <td>6 hours</td>\n",
       "      <td>35,000</td>\n",
       "      <td>The Dell Inspiron is a versatile laptop that c...</td>\n",
       "      <td>{'GPU intensity': 'medium', 'Display quality':...</td>\n",
       "    </tr>\n",
       "    <tr>\n",
       "      <th>1</th>\n",
       "      <td>MSI</td>\n",
       "      <td>GL65</td>\n",
       "      <td>i7</td>\n",
       "      <td>Intel</td>\n",
       "      <td>2.6 GHz</td>\n",
       "      <td>16GB</td>\n",
       "      <td>HDD+SSD</td>\n",
       "      <td>IPS</td>\n",
       "      <td>15.6\"</td>\n",
       "      <td>NVIDIA GTX</td>\n",
       "      <td>1920x1080</td>\n",
       "      <td>Windows 10</td>\n",
       "      <td>2.3 kg</td>\n",
       "      <td>RGB Keyboard</td>\n",
       "      <td>2 years</td>\n",
       "      <td>4 hours</td>\n",
       "      <td>55,000</td>\n",
       "      <td>The MSI GL65 is a high-performance laptop desi...</td>\n",
       "      <td>{'GPU intensity': 'high', 'Display quality': '...</td>\n",
       "    </tr>\n",
       "  </tbody>\n",
       "</table>\n",
       "</div>"
      ],
      "text/plain": [
       "  Brand Model Name Core CPU Manufacturer Clock Speed RAM Size Storage Type Display Type  \\\n",
       "0  Dell   Inspiron   i5            Intel     2.4 GHz      8GB          SSD          LCD   \n",
       "1   MSI       GL65   i7            Intel     2.6 GHz     16GB      HDD+SSD          IPS   \n",
       "\n",
       "  Display Size Graphics Processor Screen Resolution          OS Laptop Weight  Special Features  \\\n",
       "0        15.6\"          Intel UHD         1920x1080  Windows 10        2.5 kg  Backlit Keyboard   \n",
       "1        15.6\"         NVIDIA GTX         1920x1080  Windows 10        2.3 kg      RGB Keyboard   \n",
       "\n",
       "  Warranty Average Battery Life   Price                                        Description  \\\n",
       "0   1 year              6 hours  35,000  The Dell Inspiron is a versatile laptop that c...   \n",
       "1  2 years              4 hours  55,000  The MSI GL65 is a high-performance laptop desi...   \n",
       "\n",
       "                                      laptop_feature  \n",
       "0  {'GPU intensity': 'medium', 'Display quality':...  \n",
       "1  {'GPU intensity': 'high', 'Display quality': '...  "
      ]
     },
     "execution_count": 62,
     "metadata": {},
     "output_type": "execute_result"
    }
   ],
   "source": [
    "laptop_df.head(2)"
   ]
  },
  {
   "cell_type": "code",
   "execution_count": 63,
   "id": "971f2987-d3cc-43fc-aa5c-5bf17ca7be6a",
   "metadata": {},
   "outputs": [
    {
     "data": {
      "text/plain": [
       "{'GPU intensity': 'medium',\n",
       " 'Display quality': 'medium',\n",
       " 'Portability': 'medium',\n",
       " 'Multitasking': 'high',\n",
       " 'Processing speed': 'medium'}"
      ]
     },
     "execution_count": 63,
     "metadata": {},
     "output_type": "execute_result"
    }
   ],
   "source": [
    "laptop_df[\"laptop_feature\"][0]"
   ]
  },
  {
   "cell_type": "code",
   "execution_count": 141,
   "id": "7441d1aa",
   "metadata": {
    "id": "7441d1aa"
   },
   "outputs": [],
   "source": [
    "laptop_df.to_csv(\"updated_laptop.csv\",index=False,header = True)"
   ]
  },
  {
   "cell_type": "markdown",
   "id": "3141b150",
   "metadata": {
    "id": "3141b150"
   },
   "source": [
    "### `compare_laptops_with_user()`:\n",
    "\n",
    "This function compares the user's profile with the different laptops and come back with the top  recommendations. It will perform the following steps:\n",
    "    - It will take the user requirements dictionary as input\n",
    "    - Filter the laptops based on their price, keeping only the ones within the user's budget.\n",
    "    - Calculate a score for each laptop based on how well it matches the user's requirements.\n",
    "    - Sort the laptops based on their scores in descending order.\n",
    "    - Return the top 3 laptops as a JSON-formatted string."
   ]
  },
  {
   "cell_type": "code",
   "execution_count": 64,
   "id": "6adc4b1b-4b42-4c09-b50a-246b68b106b8",
   "metadata": {},
   "outputs": [
    {
     "name": "stdout",
     "output_type": "stream",
     "text": [
      "Key:  GPU intensity  Values:  medium Mapping:  1\n",
      "Key:  Display quality  Values:  medium Mapping:  1\n",
      "Key:  Portability  Values:  medium Mapping:  1\n",
      "Key:  Multitasking  Values:  high Mapping:  2\n",
      "Key:  Processing speed  Values:  LOWMedium Mapping:  -1\n"
     ]
    }
   ],
   "source": [
    "dict1 = {'GPU intensity': 'medium', \n",
    "         'Display quality': 'medium', \n",
    "         'Portability': 'medium', \n",
    "         'Multitasking': 'high', \n",
    "         'Processing speed': 'LOWMedium'}\n",
    "mappings = {'low': 0, 'medium': 1, 'high': 2}\n",
    "for key, value in dict1.items():\n",
    "    print(\"Key: \",key, \" Values: \",value, \"Mapping: \",mappings.get(value,-1))"
   ]
  },
  {
   "cell_type": "code",
   "execution_count": 65,
   "id": "69015da8-d5cb-4d24-a4d0-1c228f905c58",
   "metadata": {},
   "outputs": [],
   "source": [
    "mappings = {'low': 0, 'medium': 1, 'high': 2}"
   ]
  },
  {
   "cell_type": "code",
   "execution_count": 66,
   "id": "be4b6f45-c4e4-4453-90c8-7f5b688c3558",
   "metadata": {},
   "outputs": [
    {
     "name": "stdout",
     "output_type": "stream",
     "text": [
      "Index:  0 Features:  {'GPU intensity': 'medium', 'Display quality': 'medium', 'Portability': 'medium', 'Multitasking': 'high', 'Processing speed': 'medium'}\n",
      "Index:  1 Features:  {'GPU intensity': 'high', 'Display quality': 'medium', 'Portability': 'medium', 'Multitasking': 'medium', 'Processing speed': 'high'}\n",
      "Index:  2 Features:  {'GPU intensity': 'low', 'Display quality': 'medium', 'Portability': 'high', 'Multitasking': 'high', 'Processing speed': '(Intel Core i7, 4, 2.8 GHz)'}\n",
      "Index:  3 Features:  {'GPU intensity': 'low', 'Display quality': 'low', 'Portability': 'medium', 'Multitasking': 'low', 'Processing speed': 'low'}\n",
      "Index:  4 Features:  {'GPU intensity': 'high', 'Display quality': 'high', 'Portability': 'high', 'Multitasking': 'high', 'Processing speed': 'high'}\n",
      "Index:  5 Features:  {'GPU intensity': 'high', 'Display quality': 'medium', 'Portability': 'low', 'Multitasking': 'high', 'Processing speed': 'high'}\n",
      "Index:  6 Features:  {'GPU intensity': 'medium', 'Display quality': 'high', 'Portability': 'high', 'Multitasking': 'low', 'Processing speed': 'medium'}\n",
      "Index:  7 Features:  {'GPU intensity': 'high', 'Display quality': 'high', 'Portability': 'high', 'Multitasking': 'high', 'Processing speed': '(AMD Ryzen 7, 8 cores, 3.0 GHz)'}\n",
      "Index:  8 Features:  {'GPU intensity': 'low', 'Display quality': 'low', 'Portability': 'medium', 'Multitasking': 'low', 'Processing speed': 'medium'}\n",
      "Index:  9 Features:  {'GPU intensity': 'high', 'Display quality': 'medium', 'Portability': 'medium', 'Multitasking': 'medium', 'Processing speed': 'high'}\n",
      "Index:  10 Features:  {'GPU intensity': 'high', 'Display quality': 'high', 'Portability': 'high', 'Multitasking': 'high', 'Processing speed': 'high'}\n",
      "Index:  11 Features:  {'GPU intensity': 'low', 'Display quality': 'high', 'Portability': 'high', 'Multitasking': 'medium', 'Processing speed': 'high'}\n",
      "Index:  12 Features:  {'GPU intensity': 'medium', 'Display quality': 'medium', 'Portability': 'high', 'Multitasking': 'low', 'Processing speed': 'medium'}\n",
      "Index:  13 Features:  {'GPU intensity': 'medium', 'Display quality': 'high', 'Portability': 'high', 'Multitasking': 'medium', 'Processing speed': '(Apple M1, 8-core, 3.2 GHz)'}\n",
      "Index:  14 Features:  {'GPU intensity': 'high', 'Display quality': 'medium', 'Portability': 'high', 'Multitasking': 'medium', 'Processing speed': 'medium'}\n",
      "Index:  15 Features:  {'GPU intensity': 'medium', 'Display quality': 'medium', 'Portability': 'high', 'Multitasking': 'medium', 'Processing speed': 'high'}\n",
      "Index:  16 Features:  {'GPU intensity': 'high', 'Display quality': 'high', 'Portability': 'high', 'Multitasking': 'high', 'Processing speed': 'high'}\n",
      "Index:  17 Features:  {'GPU intensity': 'medium', 'Display quality': 'medium', 'Portability': 'medium', 'Multitasking': 'high', 'Processing speed': 'high'}\n",
      "Index:  18 Features:  {'GPU intensity': 'high', 'Display quality': 'medium', 'Portability': 'medium', 'Multitasking': 'high', 'Processing speed': 'high'}\n",
      "Index:  19 Features:  {'GPU intensity': 'medium', 'Display quality': 'high', 'Portability': 'medium', 'Multitasking': 'high', 'Processing speed': 'high'}\n"
     ]
    }
   ],
   "source": [
    "for index, row in laptop_df.iterrows():\n",
    "        print(\"Index: \",index,\"Features: \",row['laptop_feature'])"
   ]
  },
  {
   "cell_type": "code",
   "execution_count": 67,
   "id": "ZqKvUdFkcPXF",
   "metadata": {
    "id": "ZqKvUdFkcPXF"
   },
   "outputs": [],
   "source": [
    "import pandas as pd  # Importing the pandas library for data manipulation\n",
    "import json\n",
    "def compare_laptops_with_user(user_req_string):\n",
    "    laptop_df = pd.read_csv('updated_laptop.csv')\n",
    "    #user_requirements = response_dict_n\n",
    "    user_requirements = user_req_string\n",
    "\n",
    "    # Extracting user requirements from the input string (assuming it's a dictionary)\n",
    "    # Since the function parameter already seems to be a string, we'll use it directly instead of extracting from a dictionary\n",
    "    # Extracting the budget value from user_requirements and converting it to an integer\n",
    "    budget = int(user_requirements.get('Budget', '0'))#.replace(',', '').split()[0])\n",
    "    # budget\n",
    "    # # Creating a copy of the DataFrame and filtering laptops based on the budget\n",
    "    filtered_laptops = laptop_df.copy()\n",
    "    filtered_laptops['Price'] = filtered_laptops['Price'].str.replace(',', '').astype(int)\n",
    "    filtered_laptops = filtered_laptops[filtered_laptops['Price'] <= budget].copy()\n",
    "    # filtered_laptops\n",
    "    # # # Mapping string values 'low', 'medium', 'high' to numerical scores 0, 1, 2\n",
    "    mappings = {'low': 0, 'medium': 1, 'high': 2}\n",
    "\n",
    "    # # # Creating a new column 'Score' in the filtered DataFrame and initializing it to 0\n",
    "    filtered_laptops['Score'] = 0\n",
    "\n",
    "    # # # Iterating over each laptop in the filtered DataFrame to calculate scores based on user requirements\n",
    "    for index, row in filtered_laptops.iterrows():\n",
    "        user_product_match_str = row['laptop_feature']\n",
    "        laptop_values = user_product_match_str\n",
    "        laptop_values = dictionary_present(user_product_match_str)\n",
    "        score = 0\n",
    "\n",
    "    #     # Comparing user requirements with laptop features and updating scores\n",
    "        for key, user_value in user_requirements.items():\n",
    "            # if key.lower() == 'budget':\n",
    "            if key == 'Budget':\n",
    "                continue  # Skipping budget comparison\n",
    "            laptop_value = laptop_values.get(key, None)\n",
    "            # print(key, laptop_value)\n",
    "            laptop_mapping = mappings.get(laptop_value, -1)\n",
    "            # laptop_mapping = mappings.get(laptop_value, -1)\n",
    "            # user_mapping = mappings.get(user_value, -1)\n",
    "            user_mapping = mappings.get(user_value, -1)\n",
    "            if laptop_mapping >= user_mapping:\n",
    "                score += 1  # Incrementing score if laptop value meets or exceeds user value\n",
    "\n",
    "        filtered_laptops.loc[index, 'Score'] = score  # Updating the 'Score' column in the DataFrame\n",
    "\n",
    "    # Sorting laptops by score in descending order and selecting the top 3 products\n",
    "    top_laptops = filtered_laptops.drop('laptop_feature', axis=1)\n",
    "    top_laptops = top_laptops.sort_values('Score', ascending=False).head(3)\n",
    "    top_laptops_json = top_laptops.to_json(orient='records')  # Converting the top laptops DataFrame to JSON format\n",
    "\n",
    "    # top_laptops\n",
    "    return top_laptops_json"
   ]
  },
  {
   "cell_type": "markdown",
   "id": "e1faebdc",
   "metadata": {
    "id": "e1faebdc"
   },
   "source": [
    "Now that you have the `compare_laptops_with_user()` function ready, let's pass the `response_dict_n` to the function to get top 3 recommendation."
   ]
  },
  {
   "cell_type": "code",
   "execution_count": 68,
   "id": "rsTOq6lrb53Y",
   "metadata": {
    "colab": {
     "base_uri": "https://localhost:8080/",
     "height": 157
    },
    "id": "rsTOq6lrb53Y",
    "outputId": "2620e5cc-0294-48bc-f5f2-21284f9f0a7b"
   },
   "outputs": [
    {
     "data": {
      "text/plain": [
       "{'GPU intensity': 'high',\n",
       " 'Display quality': 'high',\n",
       " 'Portability': 'low',\n",
       " 'Multitasking': 'high',\n",
       " 'Processing speed': 'medium',\n",
       " 'Budget': '80000'}"
      ]
     },
     "metadata": {},
     "output_type": "display_data"
    },
    {
     "data": {
      "text/plain": [
       "'\\n'"
      ]
     },
     "metadata": {},
     "output_type": "display_data"
    },
    {
     "data": {
      "text/plain": [
       "dict"
      ]
     },
     "metadata": {},
     "output_type": "display_data"
    }
   ],
   "source": [
    "display(response_dict_n, '\\n',type(response_dict_n))"
   ]
  },
  {
   "cell_type": "code",
   "execution_count": 69,
   "id": "oJrlVQZo8h7t",
   "metadata": {
    "colab": {
     "base_uri": "https://localhost:8080/"
    },
    "id": "oJrlVQZo8h7t",
    "outputId": "35eba658-1c7e-4e69-fc66-fb1adbd98c08"
   },
   "outputs": [
    {
     "data": {
      "text/plain": [
       "{'GPU intensity': 'high',\n",
       " 'Display quality': 'high',\n",
       " 'Portability': 'low',\n",
       " 'Multitasking': 'high',\n",
       " 'Processing speed': 'medium',\n",
       " 'Budget': '80000'}"
      ]
     },
     "execution_count": 69,
     "metadata": {},
     "output_type": "execute_result"
    }
   ],
   "source": [
    "dictionary_present(response_dict_n)"
   ]
  },
  {
   "cell_type": "code",
   "execution_count": 70,
   "id": "c4d3ff4a",
   "metadata": {
    "colab": {
     "base_uri": "https://localhost:8080/",
     "height": 123
    },
    "id": "c4d3ff4a",
    "outputId": "8355e7a1-c292-431a-bd44-bd81c40fbf29"
   },
   "outputs": [
    {
     "data": {
      "text/plain": [
       "'[{\"Brand\":\"MSI\",\"Model Name\":\"GL65\",\"Core\":\"i7\",\"CPU Manufacturer\":\"Intel\",\"Clock Speed\":\"2.6 GHz\",\"RAM Size\":\"16GB\",\"Storage Type\":\"HDD+SSD\",\"Display Type\":\"IPS\",\"Display Size\":\"15.6\\\\\"\",\"Graphics Processor\":\"NVIDIA GTX\",\"Screen Resolution\":\"1920x1080\",\"OS\":\"Windows 10\",\"Laptop Weight\":\"2.3 kg\",\"Special Features\":\"RGB Keyboard\",\"Warranty\":\"2 years\",\"Average Battery Life\":\"4 hours\",\"Price\":55000,\"Description\":\"The MSI GL65 is a high-performance laptop designed for gaming enthusiasts. Powered by an Intel Core i7 processor running at 2.6 GHz, it delivers exceptional processing power for smooth gaming and demanding tasks. With 16GB of RAM and a combination of HDD and SSD storage, it offers ample memory and fast data access. The laptop features a 15.6\\\\\" IPS display with a resolution of 1920x1080, ensuring vivid colors and wide viewing angles for an immersive gaming experience. Equipped with an NVIDIA GTX graphics card, it provides excellent visual performance and smooth gameplay. Weighing just 2.3 kg, it is a portable option for gamers on the move. The laptop also boasts an RGB keyboard, allowing customizable lighting effects for a personalized gaming setup. With a two-year warranty and a battery life of up to 4 hours, the MSI GL65 offers reliability and durability. Priced at 55,000, it offers excellent value for money for gamers seeking a powerful gaming laptop.\",\"Score\":4},{\"Brand\":\"Lenovo\",\"Model Name\":\"ThinkPad\",\"Core\":\"Ryzen 7\",\"CPU Manufacturer\":\"AMD\",\"Clock Speed\":\"3.0 GHz\",\"RAM Size\":\"16GB\",\"Storage Type\":\"SSD\",\"Display Type\":\"IPS\",\"Display Size\":\"14\\\\\"\",\"Graphics Processor\":\"NVIDIA GTX\",\"Screen Resolution\":\"2560x1440\",\"OS\":\"Linux\",\"Laptop Weight\":\"1.6 kg\",\"Special Features\":\"Backlit Keyboard\",\"Warranty\":\"3 years\",\"Average Battery Life\":\"6 hours\",\"Price\":60000,\"Description\":\"The Lenovo ThinkPad is a powerful laptop designed for professional users. It is equipped with a Ryzen 7 processor from AMD clocked at 3.0 GHz, providing strong processing capabilities for demanding tasks. With 16GB of RAM and an SSD, it offers smooth multitasking and fast storage access. The laptop features a 14\\\\\" IPS display with a resolution of 2560x1440, delivering sharp visuals and accurate colors. It also comes with an NVIDIA GTX graphics card for enhanced graphical performance. Weighing just 1.6 kg, it is lightweight and highly portable. The laptop features a backlit keyboard for comfortable typing in low-light environments. With a three-year warranty and a battery life of up to 6 hours, the Lenovo ThinkPad offers reliability and durability. Priced at 60,000, it is an excellent choice for professionals seeking powerful performance and a versatile display.\",\"Score\":4},{\"Brand\":\"Acer\",\"Model Name\":\"Predator\",\"Core\":\"i7\",\"CPU Manufacturer\":\"Intel\",\"Clock Speed\":\"2.8 GHz\",\"RAM Size\":\"16GB\",\"Storage Type\":\"SSD\",\"Display Type\":\"IPS\",\"Display Size\":\"17.3\\\\\"\",\"Graphics Processor\":\"NVIDIA GTX\",\"Screen Resolution\":\"1920x1080\",\"OS\":\"Windows 10\",\"Laptop Weight\":\"3.2 kg\",\"Special Features\":\"Dual Cooling Fans\",\"Warranty\":\"1 year\",\"Average Battery Life\":\"5 hours\",\"Price\":80000,\"Description\":\"The Acer Predator is a powerhouse laptop designed for gaming enthusiasts. It is equipped with an Intel Core i7 processor clocked at 2.8 GHz, providing exceptional processing power for seamless gaming and demanding tasks. With 16GB of RAM and an SSD, it offers fast and efficient multitasking and storage capabilities. The laptop features a large 17.3\\\\\" IPS display with a resolution of 1920x1080, delivering stunning visuals and wide viewing angles. It also comes with an NVIDIA GTX graphics card for impressive gaming performance. Weighing 3.2 kg, it is a bit on the heavier side but still offers portability. The laptop features dual cooling fans for effective heat dissipation during intense gaming sessions. With a one-year warranty and a battery life of up to 5 hours, the Acer Predator ensures reliability and endurance. Priced at 80,000, it provides excellent value for gamers seeking powerful gaming performance.\",\"Score\":4}]'"
      ]
     },
     "metadata": {},
     "output_type": "display_data"
    }
   ],
   "source": [
    "top_3_laptops = compare_laptops_with_user(response_dict_n)\n",
    "\n",
    "display(top_3_laptops)"
   ]
  },
  {
   "cell_type": "code",
   "execution_count": 71,
   "id": "xw43wm_gRI7S",
   "metadata": {
    "colab": {
     "base_uri": "https://localhost:8080/"
    },
    "id": "xw43wm_gRI7S",
    "outputId": "39bd5607-06c2-4d23-e99e-ca505844072a"
   },
   "outputs": [
    {
     "data": {
      "text/plain": [
       "[{'Brand': 'MSI',\n",
       "  'Model Name': 'GL65',\n",
       "  'Core': 'i7',\n",
       "  'CPU Manufacturer': 'Intel',\n",
       "  'Clock Speed': '2.6 GHz',\n",
       "  'RAM Size': '16GB',\n",
       "  'Storage Type': 'HDD+SSD',\n",
       "  'Display Type': 'IPS',\n",
       "  'Display Size': '15.6\"',\n",
       "  'Graphics Processor': 'NVIDIA GTX',\n",
       "  'Screen Resolution': '1920x1080',\n",
       "  'OS': 'Windows 10',\n",
       "  'Laptop Weight': '2.3 kg',\n",
       "  'Special Features': 'RGB Keyboard',\n",
       "  'Warranty': '2 years',\n",
       "  'Average Battery Life': '4 hours',\n",
       "  'Price': 55000,\n",
       "  'Description': 'The MSI GL65 is a high-performance laptop designed for gaming enthusiasts. Powered by an Intel Core i7 processor running at 2.6 GHz, it delivers exceptional processing power for smooth gaming and demanding tasks. With 16GB of RAM and a combination of HDD and SSD storage, it offers ample memory and fast data access. The laptop features a 15.6\" IPS display with a resolution of 1920x1080, ensuring vivid colors and wide viewing angles for an immersive gaming experience. Equipped with an NVIDIA GTX graphics card, it provides excellent visual performance and smooth gameplay. Weighing just 2.3 kg, it is a portable option for gamers on the move. The laptop also boasts an RGB keyboard, allowing customizable lighting effects for a personalized gaming setup. With a two-year warranty and a battery life of up to 4 hours, the MSI GL65 offers reliability and durability. Priced at 55,000, it offers excellent value for money for gamers seeking a powerful gaming laptop.',\n",
       "  'Score': 4},\n",
       " {'Brand': 'Lenovo',\n",
       "  'Model Name': 'ThinkPad',\n",
       "  'Core': 'Ryzen 7',\n",
       "  'CPU Manufacturer': 'AMD',\n",
       "  'Clock Speed': '3.0 GHz',\n",
       "  'RAM Size': '16GB',\n",
       "  'Storage Type': 'SSD',\n",
       "  'Display Type': 'IPS',\n",
       "  'Display Size': '14\"',\n",
       "  'Graphics Processor': 'NVIDIA GTX',\n",
       "  'Screen Resolution': '2560x1440',\n",
       "  'OS': 'Linux',\n",
       "  'Laptop Weight': '1.6 kg',\n",
       "  'Special Features': 'Backlit Keyboard',\n",
       "  'Warranty': '3 years',\n",
       "  'Average Battery Life': '6 hours',\n",
       "  'Price': 60000,\n",
       "  'Description': 'The Lenovo ThinkPad is a powerful laptop designed for professional users. It is equipped with a Ryzen 7 processor from AMD clocked at 3.0 GHz, providing strong processing capabilities for demanding tasks. With 16GB of RAM and an SSD, it offers smooth multitasking and fast storage access. The laptop features a 14\" IPS display with a resolution of 2560x1440, delivering sharp visuals and accurate colors. It also comes with an NVIDIA GTX graphics card for enhanced graphical performance. Weighing just 1.6 kg, it is lightweight and highly portable. The laptop features a backlit keyboard for comfortable typing in low-light environments. With a three-year warranty and a battery life of up to 6 hours, the Lenovo ThinkPad offers reliability and durability. Priced at 60,000, it is an excellent choice for professionals seeking powerful performance and a versatile display.',\n",
       "  'Score': 4},\n",
       " {'Brand': 'Acer',\n",
       "  'Model Name': 'Predator',\n",
       "  'Core': 'i7',\n",
       "  'CPU Manufacturer': 'Intel',\n",
       "  'Clock Speed': '2.8 GHz',\n",
       "  'RAM Size': '16GB',\n",
       "  'Storage Type': 'SSD',\n",
       "  'Display Type': 'IPS',\n",
       "  'Display Size': '17.3\"',\n",
       "  'Graphics Processor': 'NVIDIA GTX',\n",
       "  'Screen Resolution': '1920x1080',\n",
       "  'OS': 'Windows 10',\n",
       "  'Laptop Weight': '3.2 kg',\n",
       "  'Special Features': 'Dual Cooling Fans',\n",
       "  'Warranty': '1 year',\n",
       "  'Average Battery Life': '5 hours',\n",
       "  'Price': 80000,\n",
       "  'Description': 'The Acer Predator is a powerhouse laptop designed for gaming enthusiasts. It is equipped with an Intel Core i7 processor clocked at 2.8 GHz, providing exceptional processing power for seamless gaming and demanding tasks. With 16GB of RAM and an SSD, it offers fast and efficient multitasking and storage capabilities. The laptop features a large 17.3\" IPS display with a resolution of 1920x1080, delivering stunning visuals and wide viewing angles. It also comes with an NVIDIA GTX graphics card for impressive gaming performance. Weighing 3.2 kg, it is a bit on the heavier side but still offers portability. The laptop features dual cooling fans for effective heat dissipation during intense gaming sessions. With a one-year warranty and a battery life of up to 5 hours, the Acer Predator ensures reliability and endurance. Priced at 80,000, it provides excellent value for gamers seeking powerful gaming performance.',\n",
       "  'Score': 4}]"
      ]
     },
     "execution_count": 71,
     "metadata": {},
     "output_type": "execute_result"
    }
   ],
   "source": [
    "# Get output in JSON Format\n",
    "top_3_laptops_json = json.loads(top_3_laptops)\n",
    "# type(top_3_laptops_json)\n",
    "top_3_laptops_json"
   ]
  },
  {
   "cell_type": "markdown",
   "id": "U23YCuEhv3tH",
   "metadata": {
    "id": "U23YCuEhv3tH"
   },
   "source": [
    "### `product_validation_layer()`:\n",
    "\n",
    "This function verifies that the laptop recommendations are good enough, has score greater than 2, and matches the user's requirements."
   ]
  },
  {
   "cell_type": "code",
   "execution_count": 72,
   "id": "a0d6dd68",
   "metadata": {
    "id": "a0d6dd68"
   },
   "outputs": [],
   "source": [
    "def recommendation_validation(laptop_recommendation):\n",
    "    data = json.loads(laptop_recommendation)\n",
    "    data1 = []\n",
    "    for i in range(len(data)):\n",
    "        if data[i]['Score'] > 2:\n",
    "            data1.append(data[i])\n",
    "\n",
    "    return data1"
   ]
  },
  {
   "cell_type": "code",
   "execution_count": 73,
   "id": "c22c6b76",
   "metadata": {
    "colab": {
     "base_uri": "https://localhost:8080/",
     "height": 1000
    },
    "id": "c22c6b76",
    "outputId": "d37e2021-7bf4-48ea-a436-86725e71d481",
    "scrolled": true
   },
   "outputs": [
    {
     "data": {
      "text/plain": [
       "[{'Brand': 'MSI',\n",
       "  'Model Name': 'GL65',\n",
       "  'Core': 'i7',\n",
       "  'CPU Manufacturer': 'Intel',\n",
       "  'Clock Speed': '2.6 GHz',\n",
       "  'RAM Size': '16GB',\n",
       "  'Storage Type': 'HDD+SSD',\n",
       "  'Display Type': 'IPS',\n",
       "  'Display Size': '15.6\"',\n",
       "  'Graphics Processor': 'NVIDIA GTX',\n",
       "  'Screen Resolution': '1920x1080',\n",
       "  'OS': 'Windows 10',\n",
       "  'Laptop Weight': '2.3 kg',\n",
       "  'Special Features': 'RGB Keyboard',\n",
       "  'Warranty': '2 years',\n",
       "  'Average Battery Life': '4 hours',\n",
       "  'Price': 55000,\n",
       "  'Description': 'The MSI GL65 is a high-performance laptop designed for gaming enthusiasts. Powered by an Intel Core i7 processor running at 2.6 GHz, it delivers exceptional processing power for smooth gaming and demanding tasks. With 16GB of RAM and a combination of HDD and SSD storage, it offers ample memory and fast data access. The laptop features a 15.6\" IPS display with a resolution of 1920x1080, ensuring vivid colors and wide viewing angles for an immersive gaming experience. Equipped with an NVIDIA GTX graphics card, it provides excellent visual performance and smooth gameplay. Weighing just 2.3 kg, it is a portable option for gamers on the move. The laptop also boasts an RGB keyboard, allowing customizable lighting effects for a personalized gaming setup. With a two-year warranty and a battery life of up to 4 hours, the MSI GL65 offers reliability and durability. Priced at 55,000, it offers excellent value for money for gamers seeking a powerful gaming laptop.',\n",
       "  'Score': 4},\n",
       " {'Brand': 'Lenovo',\n",
       "  'Model Name': 'ThinkPad',\n",
       "  'Core': 'Ryzen 7',\n",
       "  'CPU Manufacturer': 'AMD',\n",
       "  'Clock Speed': '3.0 GHz',\n",
       "  'RAM Size': '16GB',\n",
       "  'Storage Type': 'SSD',\n",
       "  'Display Type': 'IPS',\n",
       "  'Display Size': '14\"',\n",
       "  'Graphics Processor': 'NVIDIA GTX',\n",
       "  'Screen Resolution': '2560x1440',\n",
       "  'OS': 'Linux',\n",
       "  'Laptop Weight': '1.6 kg',\n",
       "  'Special Features': 'Backlit Keyboard',\n",
       "  'Warranty': '3 years',\n",
       "  'Average Battery Life': '6 hours',\n",
       "  'Price': 60000,\n",
       "  'Description': 'The Lenovo ThinkPad is a powerful laptop designed for professional users. It is equipped with a Ryzen 7 processor from AMD clocked at 3.0 GHz, providing strong processing capabilities for demanding tasks. With 16GB of RAM and an SSD, it offers smooth multitasking and fast storage access. The laptop features a 14\" IPS display with a resolution of 2560x1440, delivering sharp visuals and accurate colors. It also comes with an NVIDIA GTX graphics card for enhanced graphical performance. Weighing just 1.6 kg, it is lightweight and highly portable. The laptop features a backlit keyboard for comfortable typing in low-light environments. With a three-year warranty and a battery life of up to 6 hours, the Lenovo ThinkPad offers reliability and durability. Priced at 60,000, it is an excellent choice for professionals seeking powerful performance and a versatile display.',\n",
       "  'Score': 4},\n",
       " {'Brand': 'Acer',\n",
       "  'Model Name': 'Predator',\n",
       "  'Core': 'i7',\n",
       "  'CPU Manufacturer': 'Intel',\n",
       "  'Clock Speed': '2.8 GHz',\n",
       "  'RAM Size': '16GB',\n",
       "  'Storage Type': 'SSD',\n",
       "  'Display Type': 'IPS',\n",
       "  'Display Size': '17.3\"',\n",
       "  'Graphics Processor': 'NVIDIA GTX',\n",
       "  'Screen Resolution': '1920x1080',\n",
       "  'OS': 'Windows 10',\n",
       "  'Laptop Weight': '3.2 kg',\n",
       "  'Special Features': 'Dual Cooling Fans',\n",
       "  'Warranty': '1 year',\n",
       "  'Average Battery Life': '5 hours',\n",
       "  'Price': 80000,\n",
       "  'Description': 'The Acer Predator is a powerhouse laptop designed for gaming enthusiasts. It is equipped with an Intel Core i7 processor clocked at 2.8 GHz, providing exceptional processing power for seamless gaming and demanding tasks. With 16GB of RAM and an SSD, it offers fast and efficient multitasking and storage capabilities. The laptop features a large 17.3\" IPS display with a resolution of 1920x1080, delivering stunning visuals and wide viewing angles. It also comes with an NVIDIA GTX graphics card for impressive gaming performance. Weighing 3.2 kg, it is a bit on the heavier side but still offers portability. The laptop features dual cooling fans for effective heat dissipation during intense gaming sessions. With a one-year warranty and a battery life of up to 5 hours, the Acer Predator ensures reliability and endurance. Priced at 80,000, it provides excellent value for gamers seeking powerful gaming performance.',\n",
       "  'Score': 4}]"
      ]
     },
     "metadata": {},
     "output_type": "display_data"
    },
    {
     "data": {
      "text/plain": [
       "'\\n'"
      ]
     },
     "metadata": {},
     "output_type": "display_data"
    }
   ],
   "source": [
    "validated_data = recommendation_validation(top_3_laptops)\n",
    "display(validated_data,'\\n')"
   ]
  },
  {
   "cell_type": "markdown",
   "id": "f1f97d7a",
   "metadata": {
    "id": "f1f97d7a"
   },
   "source": [
    "Now that you the top 3 laptops extracted, let's pass it to the recommendation layer that'll send it to the user and the user can ask questions around it."
   ]
  },
  {
   "cell_type": "markdown",
   "id": "kRBzXIcrea7Y",
   "metadata": {
    "id": "kRBzXIcrea7Y"
   },
   "source": [
    "## Stage 3"
   ]
  },
  {
   "cell_type": "markdown",
   "id": "xoj6wyWExDDQ",
   "metadata": {
    "id": "xoj6wyWExDDQ"
   },
   "source": [
    "[Stage 3 Flowchart](https://cdn.upgrad.com/uploads/production/4c12bc73-8c12-4095-90f2-3dfca0f277e5/Stage+3.jpg)"
   ]
  },
  {
   "cell_type": "markdown",
   "id": "f0e2eb10",
   "metadata": {
    "id": "f0e2eb10"
   },
   "source": [
    "### 3.4: Product Recommendation Layer\n",
    "\n",
    "Finally, we come to the product recommendation layer. It takes the output from the `compare_laptops_with_user` function in the previous layer and provides the recommendations to the user. It has the following steps.\n",
    "1. Initialize the conversation for recommendation.\n",
    "2. Generate the recommendations and display in a presentable format.\n",
    "3. Ask questions basis the recommendations.\n",
    "\n"
   ]
  },
  {
   "cell_type": "code",
   "execution_count": 74,
   "id": "6270ac40",
   "metadata": {
    "id": "6270ac40"
   },
   "outputs": [],
   "source": [
    "def initialize_conv_reco(products):\n",
    "    system_message = f\"\"\"\n",
    "    You are an intelligent laptop gadget expert and you are tasked with the objective to \\\n",
    "    solve the user queries about any product from the catalogue in the user message \\\n",
    "    You should keep the user profile in mind while answering the questions.\\\n",
    "\n",
    "    Start with a brief summary of each laptop in the following format, in decreasing order of price of laptops:\n",
    "    1. <Laptop Name> : <Major specifications of the laptop>, <Price in Rs>\n",
    "    2. <Laptop Name> : <Major specifications of the laptop>, <Price in Rs>\n",
    "\n",
    "    \"\"\"\n",
    "    user_message = f\"\"\" These are the user's products: {products}\"\"\"\n",
    "    conversation = [{\"role\": \"system\", \"content\": system_message },\n",
    "                    {\"role\":\"user\",\"content\":user_message}]\n",
    "    # conversation_final = conversation[0]['content']\n",
    "    return conversation"
   ]
  },
  {
   "cell_type": "markdown",
   "id": "e0a66294",
   "metadata": {
    "id": "e0a66294"
   },
   "source": [
    "Let's initialize the conversation for recommendation."
   ]
  },
  {
   "cell_type": "code",
   "execution_count": 75,
   "id": "bd95e8c5",
   "metadata": {
    "colab": {
     "base_uri": "https://localhost:8080/"
    },
    "id": "bd95e8c5",
    "outputId": "b67a77e3-5307-4feb-ea74-5c59763aa64a"
   },
   "outputs": [
    {
     "data": {
      "text/plain": [
       "[{'role': 'system',\n",
       "  'content': '\\n    You are an intelligent laptop gadget expert and you are tasked with the objective to     solve the user queries about any product from the catalogue in the user message     You should keep the user profile in mind while answering the questions.\\n    Start with a brief summary of each laptop in the following format, in decreasing order of price of laptops:\\n    1. <Laptop Name> : <Major specifications of the laptop>, <Price in Rs>\\n    2. <Laptop Name> : <Major specifications of the laptop>, <Price in Rs>\\n\\n    '},\n",
       " {'role': 'user',\n",
       "  'content': ' These are the user\\'s products: [{\"Brand\":\"MSI\",\"Model Name\":\"GL65\",\"Core\":\"i7\",\"CPU Manufacturer\":\"Intel\",\"Clock Speed\":\"2.6 GHz\",\"RAM Size\":\"16GB\",\"Storage Type\":\"HDD+SSD\",\"Display Type\":\"IPS\",\"Display Size\":\"15.6\\\\\"\",\"Graphics Processor\":\"NVIDIA GTX\",\"Screen Resolution\":\"1920x1080\",\"OS\":\"Windows 10\",\"Laptop Weight\":\"2.3 kg\",\"Special Features\":\"RGB Keyboard\",\"Warranty\":\"2 years\",\"Average Battery Life\":\"4 hours\",\"Price\":55000,\"Description\":\"The MSI GL65 is a high-performance laptop designed for gaming enthusiasts. Powered by an Intel Core i7 processor running at 2.6 GHz, it delivers exceptional processing power for smooth gaming and demanding tasks. With 16GB of RAM and a combination of HDD and SSD storage, it offers ample memory and fast data access. The laptop features a 15.6\\\\\" IPS display with a resolution of 1920x1080, ensuring vivid colors and wide viewing angles for an immersive gaming experience. Equipped with an NVIDIA GTX graphics card, it provides excellent visual performance and smooth gameplay. Weighing just 2.3 kg, it is a portable option for gamers on the move. The laptop also boasts an RGB keyboard, allowing customizable lighting effects for a personalized gaming setup. With a two-year warranty and a battery life of up to 4 hours, the MSI GL65 offers reliability and durability. Priced at 55,000, it offers excellent value for money for gamers seeking a powerful gaming laptop.\",\"Score\":4},{\"Brand\":\"Lenovo\",\"Model Name\":\"ThinkPad\",\"Core\":\"Ryzen 7\",\"CPU Manufacturer\":\"AMD\",\"Clock Speed\":\"3.0 GHz\",\"RAM Size\":\"16GB\",\"Storage Type\":\"SSD\",\"Display Type\":\"IPS\",\"Display Size\":\"14\\\\\"\",\"Graphics Processor\":\"NVIDIA GTX\",\"Screen Resolution\":\"2560x1440\",\"OS\":\"Linux\",\"Laptop Weight\":\"1.6 kg\",\"Special Features\":\"Backlit Keyboard\",\"Warranty\":\"3 years\",\"Average Battery Life\":\"6 hours\",\"Price\":60000,\"Description\":\"The Lenovo ThinkPad is a powerful laptop designed for professional users. It is equipped with a Ryzen 7 processor from AMD clocked at 3.0 GHz, providing strong processing capabilities for demanding tasks. With 16GB of RAM and an SSD, it offers smooth multitasking and fast storage access. The laptop features a 14\\\\\" IPS display with a resolution of 2560x1440, delivering sharp visuals and accurate colors. It also comes with an NVIDIA GTX graphics card for enhanced graphical performance. Weighing just 1.6 kg, it is lightweight and highly portable. The laptop features a backlit keyboard for comfortable typing in low-light environments. With a three-year warranty and a battery life of up to 6 hours, the Lenovo ThinkPad offers reliability and durability. Priced at 60,000, it is an excellent choice for professionals seeking powerful performance and a versatile display.\",\"Score\":4},{\"Brand\":\"Acer\",\"Model Name\":\"Predator\",\"Core\":\"i7\",\"CPU Manufacturer\":\"Intel\",\"Clock Speed\":\"2.8 GHz\",\"RAM Size\":\"16GB\",\"Storage Type\":\"SSD\",\"Display Type\":\"IPS\",\"Display Size\":\"17.3\\\\\"\",\"Graphics Processor\":\"NVIDIA GTX\",\"Screen Resolution\":\"1920x1080\",\"OS\":\"Windows 10\",\"Laptop Weight\":\"3.2 kg\",\"Special Features\":\"Dual Cooling Fans\",\"Warranty\":\"1 year\",\"Average Battery Life\":\"5 hours\",\"Price\":80000,\"Description\":\"The Acer Predator is a powerhouse laptop designed for gaming enthusiasts. It is equipped with an Intel Core i7 processor clocked at 2.8 GHz, providing exceptional processing power for seamless gaming and demanding tasks. With 16GB of RAM and an SSD, it offers fast and efficient multitasking and storage capabilities. The laptop features a large 17.3\\\\\" IPS display with a resolution of 1920x1080, delivering stunning visuals and wide viewing angles. It also comes with an NVIDIA GTX graphics card for impressive gaming performance. Weighing 3.2 kg, it is a bit on the heavier side but still offers portability. The laptop features dual cooling fans for effective heat dissipation during intense gaming sessions. With a one-year warranty and a battery life of up to 5 hours, the Acer Predator ensures reliability and endurance. Priced at 80,000, it provides excellent value for gamers seeking powerful gaming performance.\",\"Score\":4}]'}]"
      ]
     },
     "execution_count": 75,
     "metadata": {},
     "output_type": "execute_result"
    }
   ],
   "source": [
    "debug_conversation_reco = initialize_conv_reco(top_3_laptops)\n",
    "debug_conversation_reco"
   ]
  },
  {
   "cell_type": "markdown",
   "id": "3789430c",
   "metadata": {
    "id": "3789430c"
   },
   "source": [
    "Let's see what the assistant responds with the new initialization."
   ]
  },
  {
   "cell_type": "code",
   "execution_count": 76,
   "id": "03d11a08",
   "metadata": {
    "colab": {
     "base_uri": "https://localhost:8080/"
    },
    "id": "03d11a08",
    "outputId": "568752fb-58ce-461e-8e23-1d92c7ae1ef1"
   },
   "outputs": [
    {
     "name": "stdout",
     "output_type": "stream",
     "text": [
      "1. Acer Predator: Intel Core i7 processor clocked at 2.8 GHz, 16GB RAM, SSD storage, 17.3\" IPS display (1920x1080), NVIDIA GTX graphics card, Dual Cooling Fans, 1-year warranty, 5 hours battery life, Windows 10, 3.2 kg, Price: Rs 80,000\n",
      "   \n",
      "2. Lenovo ThinkPad: AMD Ryzen 7 processor clocked at 3.0 GHz, 16GB RAM, SSD storage, 14\" IPS display (2560x1440), NVIDIA GTX graphics card, Backlit Keyboard, 3-year warranty, 6 hours battery life, Linux OS, 1.6 kg, Price: Rs 60,000\n",
      "\n",
      "3. MSI GL65: Intel Core i7 processor clocked at 2.6 GHz, 16GB RAM, HDD+SSD storage, 15.6\" IPS display (1920x1080), NVIDIA GTX graphics card, RGB Keyboard, 2-year warranty, 4 hours battery life, Windows 10, 2.3 kg, Price: Rs 55,000\n",
      "\n"
     ]
    }
   ],
   "source": [
    "debug_recommendation = get_chat_completions(debug_conversation_reco)\n",
    "print(debug_recommendation + '\\n')"
   ]
  },
  {
   "cell_type": "markdown",
   "id": "4ad208c0",
   "metadata": {
    "id": "4ad208c0"
   },
   "source": [
    "Now, you can converse with the chatbot on the filtered products."
   ]
  },
  {
   "cell_type": "code",
   "execution_count": 143,
   "id": "OGm3c-mqTYoN",
   "metadata": {
    "colab": {
     "base_uri": "https://localhost:8080/"
    },
    "id": "OGm3c-mqTYoN",
    "outputId": "135ca319-c562-4fc3-f006-e640b6e22506"
   },
   "outputs": [
    {
     "data": {
      "text/plain": [
       "{'GPU intensity': 'high',\n",
       " 'Display quality': 'high',\n",
       " 'Portability': 'low',\n",
       " 'Multitasking': 'low',\n",
       " 'Processing speed': 'low',\n",
       " 'Budget': '50000'}"
      ]
     },
     "execution_count": 143,
     "metadata": {},
     "output_type": "execute_result"
    }
   ],
   "source": [
    "response_dict_n"
   ]
  },
  {
   "cell_type": "code",
   "execution_count": 144,
   "id": "ad228dc6",
   "metadata": {
    "id": "ad228dc6"
   },
   "outputs": [],
   "source": [
    "debug_conversation_reco.append({\"role\": \"user\", \"content\": \"This is my user profile\" + str(response_dict_n)})\n",
    "debug_conversation_reco.append({\"role\": \"assistant\", \"content\": debug_recommendation})"
   ]
  },
  {
   "cell_type": "code",
   "execution_count": 145,
   "id": "d8735368",
   "metadata": {
    "id": "d8735368"
   },
   "outputs": [],
   "source": [
    "debug_user_input = \"Which is ideal for travel?\""
   ]
  },
  {
   "cell_type": "code",
   "execution_count": 146,
   "id": "8885e9fc",
   "metadata": {
    "colab": {
     "base_uri": "https://localhost:8080/",
     "height": 71
    },
    "id": "8885e9fc",
    "outputId": "630f9292-d947-4344-db7f-21750f847ec5"
   },
   "outputs": [
    {
     "data": {
      "text/plain": [
       "'\\nBased on your low portability requirement, the Dell Inspiron would not be ideal for travel as it weighs 2.5 kg. The HP Pavilion would be a better choice as it is lighter at 2.1 kg and would be more suitable for travel.\\n'"
      ]
     },
     "metadata": {},
     "output_type": "display_data"
    }
   ],
   "source": [
    "debug_conversation_reco.append({\"role\": \"user\", \"content\": debug_user_input})\n",
    "debug_response_asst_reco = get_chat_completions(debug_conversation_reco)\n",
    "display('\\n' + debug_response_asst_reco + '\\n')"
   ]
  },
  {
   "cell_type": "markdown",
   "id": "39df2113",
   "metadata": {
    "id": "39df2113"
   },
   "source": [
    "You can repeat the process of appending the assistant and user messages and test the chatbot out."
   ]
  },
  {
   "cell_type": "markdown",
   "id": "Djt_gMeaeo-F",
   "metadata": {
    "id": "Djt_gMeaeo-F"
   },
   "source": [
    "## Combining all the 3 stages\n",
    "\n",
    "In this layer, we combine all the three stages that we defined above.\n",
    "\n",
    "`Stage 1` + `Stage 2` + `Stage 3`"
   ]
  },
  {
   "cell_type": "markdown",
   "id": "8156fc35",
   "metadata": {
    "id": "8156fc35"
   },
   "source": [
    "### 3.5 Dialogue Management System\n",
    "\n",
    "Bringing everything together, we create a `diagloue_mgmt_system()` function that contains the logic of how the different layers would interact with each other. This will be the function that we'll call to initiate the chatbot"
   ]
  },
  {
   "cell_type": "code",
   "execution_count": 77,
   "id": "K4oHQZqsUmre",
   "metadata": {
    "id": "K4oHQZqsUmre"
   },
   "outputs": [],
   "source": [
    "def dialogue_mgmt_system():\n",
    "    conversation = initialize_conversation()\n",
    "\n",
    "    introduction = get_chat_completions(conversation)\n",
    "\n",
    "    display(introduction + '\\n')\n",
    "\n",
    "    top_3_laptops = None\n",
    "\n",
    "    user_input = ''\n",
    "\n",
    "    while(user_input != \"exit\"):\n",
    "\n",
    "        user_input = input(\"\")\n",
    "\n",
    "        moderation = moderation_check(user_input)\n",
    "        if moderation == 'Flagged':\n",
    "            display(\"Sorry, this message has been flagged. Please restart your conversation.\")\n",
    "            break\n",
    "\n",
    "        if top_3_laptops is None:\n",
    "\n",
    "            conversation.append({\"role\": \"user\", \"content\": user_input})\n",
    "\n",
    "            response_assistant = get_chat_completions(conversation)\n",
    "            moderation = moderation_check(response_assistant)\n",
    "            if moderation == 'Flagged':\n",
    "                display(\"Sorry, this message has been flagged. Please restart your conversation.\")\n",
    "                break\n",
    "\n",
    "\n",
    "            confirmation = intent_confirmation_layer(response_assistant)\n",
    "\n",
    "            print(\"Intent Confirmation Yes/No:\",confirmation.get('result'))\n",
    "\n",
    "            if \"No\" in confirmation.get('result'):\n",
    "                conversation.append({\"role\": \"assistant\", \"content\": str(response_assistant)})\n",
    "                print(\"\\n\" + str(response_assistant) + \"\\n\")\n",
    "\n",
    "            else:\n",
    "                print(\"\\n\" + str(response_assistant) + \"\\n\")\n",
    "                print('\\n' + \"Variables extracted!\" + '\\n')\n",
    "\n",
    "                response = dictionary_present(response_assistant)\n",
    "\n",
    "                print(\"Thank you for providing all the information. Kindly wait, while I fetch the products: \\n\")\n",
    "                top_3_laptops = compare_laptops_with_user(response)\n",
    "\n",
    "                # print(\"Top 3 laptops are: \\n\",top_3_laptops)\n",
    "                # for laptop in top_3_laptops:\n",
    "                #     print(laptop)\n",
    "\n",
    "                validated_reco = recommendation_validation(top_3_laptops)\n",
    "\n",
    "                conversation_reco = initialize_conv_reco(validated_reco)\n",
    "\n",
    "                conversation_reco.append({\"role\": \"user\", \"content\": \"This is my user profile\" + str(response)})\n",
    "\n",
    "                recommendation = get_chat_completions(conversation_reco)\n",
    "\n",
    "                moderation = moderation_check(recommendation)\n",
    "                if moderation == 'Flagged':\n",
    "                    display(\"Sorry, this message has been flagged. Please restart your conversation.\")\n",
    "                    break\n",
    "\n",
    "                conversation_reco.append({\"role\": \"assistant\", \"content\": str(recommendation)})\n",
    "\n",
    "                print(str(recommendation) + '\\n')\n",
    "        else:\n",
    "            conversation_reco.append({\"role\": \"user\", \"content\": user_input})\n",
    "\n",
    "            response_asst_reco = get_chat_completions(conversation_reco)\n",
    "\n",
    "            moderation = moderation_check(response_asst_reco)\n",
    "            if moderation == 'Flagged':\n",
    "                print(\"Sorry, this message has been flagged. Please restart your conversation.\")\n",
    "                break\n",
    "\n",
    "            print('\\n' + response_asst_reco + '\\n')\n",
    "            conversation.append({\"role\": \"assistant\", \"content\": response_asst_reco})"
   ]
  },
  {
   "cell_type": "code",
   "execution_count": 79,
   "id": "fb426f23-4b12-4a59-94b0-8110018fbbe9",
   "metadata": {
    "scrolled": true
   },
   "outputs": [
    {
     "data": {
      "text/plain": [
       "'Hello! Welcome to the laptop recommendation assistant. Please share with me your requirements so that I can help you find the perfect laptop. What do you primarily plan to use the laptop for?\\n'"
      ]
     },
     "metadata": {},
     "output_type": "display_data"
    },
    {
     "name": "stdin",
     "output_type": "stream",
     "text": [
      " i need a laptop for coding purpose, wiht good multitasking, processing speed and GPU quality\n"
     ]
    },
    {
     "name": "stdout",
     "output_type": "stream",
     "text": [
      "Intent Confirmation Yes/No: No\n",
      "\n",
      "Great! It sounds like you need a laptop that can handle coding tasks efficiently with good multitasking, processing speed, and GPU quality. To ensure I recommend the best laptop for you, could you please provide me with an estimate of your budget for this purchase?\n",
      "\n"
     ]
    },
    {
     "name": "stdin",
     "output_type": "stream",
     "text": [
      " my budget is 100000\n"
     ]
    },
    {
     "name": "stdout",
     "output_type": "stream",
     "text": [
      "Intent Confirmation Yes/No: Yes\n",
      "\n",
      "Based on your requirements and budget, I believe the following values best match your profile:\n",
      "{'GPU intensity': 'high', 'Display quality': 'medium', 'Portability': 'medium', 'Multitasking': 'high', 'Processing speed': 'high', 'Budget': 100000}\n",
      "\n",
      "\n",
      "Variables extracted!\n",
      "\n",
      "Thank you for providing all the information. Kindly wait, while I fetch the products: \n",
      "\n",
      "1. ASUS ROG Strix G: Intel Core i7 2.9 GHz, 16GB RAM, 17.3\" IPS display, NVIDIA RTX graphics, Aura Sync RGB Keyboard, 5 hours average battery life, Windows 10, 2 years warranty. Price: Rs 85,000\n",
      "\n",
      "2. MSI GL65: Intel Core i7 2.6 GHz, 16GB RAM, 15.6\" IPS display, NVIDIA GTX graphics, RGB Keyboard, 4 hours average battery life, Windows 10, 2 years warranty. Price: Rs 55,000\n",
      "\n",
      "3. Apple MacBook Air: Apple M1 3.2 GHz, 16GB RAM, 13.3\" Retina display, Apple M1 graphics, Touch ID, 14 hours average battery life, macOS, 3 years warranty. Price: Rs 100,000\n",
      "\n",
      "Based on your user profile which focuses on high GPU intensity, multitasking, and processing speed, the ASUS ROG Strix G with its powerful Intel Core i7 processor, NVIDIA RTX graphics, and 16GB RAM would be the best choice. It offers a good balance of performance, display quality, and portability within your budget of Rs 100,000.\n",
      "\n"
     ]
    },
    {
     "name": "stdin",
     "output_type": "stream",
     "text": [
      " exit\n"
     ]
    },
    {
     "name": "stdout",
     "output_type": "stream",
     "text": [
      "\n",
      "If you have any more questions in the future, feel free to ask. Have a great day! Goodbye!\n",
      "\n"
     ]
    }
   ],
   "source": [
    "dialogue_mgmt_system()"
   ]
  },
  {
   "cell_type": "code",
   "execution_count": 125,
   "id": "76f803eb-a9db-4b9e-a867-d6abb1513e77",
   "metadata": {},
   "outputs": [
    {
     "data": {
      "text/plain": [
       "'Hello! Welcome to the laptop recommendation assistant. Please share with me your requirements so that I can help you find the best laptop that suits your needs.\\n'"
      ]
     },
     "metadata": {},
     "output_type": "display_data"
    },
    {
     "name": "stdin",
     "output_type": "stream",
     "text": [
      " i am working in shop, for keeping records of products and accounting purpose i need laptop\n"
     ]
    },
    {
     "name": "stdout",
     "output_type": "stream",
     "text": [
      "Intent Confirmation Yes/No: No\n",
      "\n",
      "Great! As a shop keeper, it seems like you need a laptop mainly for maintaining records of products and for accounting purposes. To recommend you the best laptop, I would need to understand a few more details. \n",
      "\n",
      "Do you deal with a large number of products that require you to use software that demands high multitasking capability? This will help me determine the multitasking needs for the laptop you require.\n",
      "\n"
     ]
    },
    {
     "name": "stdin",
     "output_type": "stream",
     "text": [
      " not doing much multitasking\n"
     ]
    },
    {
     "name": "stdout",
     "output_type": "stream",
     "text": [
      "Intent Confirmation Yes/No: No\n",
      "\n",
      "Thank you for letting me know. Since you mentioned that you do not require much multitasking, it's clearer now. \n",
      "\n",
      "Next, in terms of display quality, do you need a laptop with a high-quality display for viewing and working on product details and accounting data? Or would a basic display suffice for your needs?\n",
      "\n"
     ]
    },
    {
     "name": "stdin",
     "output_type": "stream",
     "text": [
      " I need a high quality display\n"
     ]
    },
    {
     "name": "stdout",
     "output_type": "stream",
     "text": [
      "Intent Confirmation Yes/No: No\n",
      "\n",
      "Great, thank you for sharing that. \n",
      "\n",
      "Moving forward, considering you need a high-quality display, do you prioritize portability in the laptop you are looking for? Would you prefer a laptop that is lightweight and easy to carry around, or is portability not a major concern for you?\n",
      "\n"
     ]
    },
    {
     "name": "stdin",
     "output_type": "stream",
     "text": [
      " Portability is not issue for me\n"
     ]
    },
    {
     "name": "stdout",
     "output_type": "stream",
     "text": [
      "Intent Confirmation Yes/No: No\n",
      "\n",
      "Thank you for clarifying that portability is not a major concern for you.\n",
      "\n",
      "Since we have identified that you need a high-quality display and portability is not a priority, let's focus on the processing power of the laptop. Would you require a laptop with a fast processing speed to efficiently handle tasks like maintaining records and accounting software?\n",
      "\n"
     ]
    },
    {
     "name": "stdin",
     "output_type": "stream",
     "text": [
      " required high processing speed\n"
     ]
    },
    {
     "name": "stdout",
     "output_type": "stream",
     "text": [
      "Intent Confirmation Yes/No: No\n",
      "\n",
      "Thank you for sharing that you require a high processing speed.\n",
      "\n",
      "Lastly, to better assist you in finding the most suitable laptop within your requirements, could you please specify your budget range for the laptop you are looking to purchase?\n",
      "\n"
     ]
    },
    {
     "name": "stdin",
     "output_type": "stream",
     "text": [
      " my budget is 50000\n"
     ]
    },
    {
     "name": "stdout",
     "output_type": "stream",
     "text": [
      "Intent Confirmation Yes/No: Yes\n",
      "\n",
      "{'GPU intensity': 'low', 'Display quality': 'high', 'Portability': 'low', 'Multitasking': 'low', 'Processing speed': 'high', 'Budget': 50000}\n",
      "\n",
      "\n",
      "Variables extracted!\n",
      "\n",
      "Thank you for providing all the information. Kindly wait, while I fetch the products: \n",
      "\n",
      "1. Dell Inspiron : Intel Core i5 2.4 GHz, 8GB RAM, SSD, 15.6\" LCD 1920x1080, Intel UHD GPU, Windows 10, 6 hours battery life, Price: Rs 35000\n",
      "2. HP Pavilion : Intel Core i5 2.3 GHz, 12GB RAM, HDD, 15.6\" LCD 1366x768, Intel UHD GPU, Windows 10, 4 hours battery life, Price: Rs 30000\n",
      "3. Lenovo IdeaPad : Intel Core i3 2.1 GHz, 8GB RAM, HDD, 15.6\" TN 1366x768, Intel UHD GPU, Windows 10, 5 hours battery life, Price: Rs 25000\n",
      "\n",
      "Based on your user profile with a preference for high processing speed and display quality, and a budget of Rs 50000, the Dell Inspiron would be a suitable choice for you. It offers a good balance of performance and affordability with its Intel Core i5 processor, 8GB of RAM, SSD storage, and a high-quality 15.6\" LCD display. It also fits within your budget range.\n",
      "\n"
     ]
    },
    {
     "name": "stdin",
     "output_type": "stream",
     "text": [
      " exit\n"
     ]
    },
    {
     "name": "stdout",
     "output_type": "stream",
     "text": [
      "\n",
      "If you have any more questions in the future, feel free to ask. Have a great day! Goodbye!\n",
      "\n"
     ]
    }
   ],
   "source": [
    "dialogue_mgmt_system()"
   ]
  },
  {
   "cell_type": "code",
   "execution_count": 193,
   "id": "9a3fd61c-0973-43cf-bc60-d9951184edbb",
   "metadata": {},
   "outputs": [
    {
     "data": {
      "text/plain": [
       "'Hello! I am here to assist you in finding the best laptop that suits your needs. Please share with me your requirements so that we can determine the ideal laptop for you.\\n'"
      ]
     },
     "metadata": {},
     "output_type": "display_data"
    },
    {
     "name": "stdin",
     "output_type": "stream",
     "text": [
      " i need a laptop for ml model training\n"
     ]
    },
    {
     "name": "stdout",
     "output_type": "stream",
     "text": [
      "Intent Confirmation Yes/No: No\n",
      "\n",
      "Great! As someone who needs a laptop for machine learning model training, you likely require a laptop with a high processing speed to handle complex computations efficiently. Multitasking capability is also crucial to run multiple processes simultaneously. Additionally, a good GPU intensity is important for handling the training of machine learning models effectively. Could you please specify the importance of display quality and portability in your case? This will help me tailor my recommendations accordingly.\n",
      "\n"
     ]
    },
    {
     "name": "stdin",
     "output_type": "stream",
     "text": [
      " Good display quality and protal laptop\n"
     ]
    },
    {
     "name": "stdout",
     "output_type": "stream",
     "text": [
      "Intent Confirmation Yes/No: No\n",
      "\n",
      "Thank you for providing that information. Since you require a laptop for machine learning model training with an emphasis on good display quality and portability, we can prioritize the values accordingly.\n",
      "\n",
      "Now, to dive deeper into your requirements, could you let me know your budget for the laptop? This will help me find options that fit within your price range while meeting the specified needs.\n",
      "\n"
     ]
    },
    {
     "name": "stdin",
     "output_type": "stream",
     "text": [
      " 90000\n"
     ]
    },
    {
     "name": "stdout",
     "output_type": "stream",
     "text": [
      "Intent Confirmation Yes/No: Yes\n",
      "\n",
      "{'GPU intensity': 'medium', 'Display quality': 'high', 'Portability': 'high', 'Multitasking': 'medium', 'Processing speed': 'high', 'Budget': 90000}\n",
      "\n",
      "\n",
      "Variables extracted!\n",
      "\n",
      "Thank you for providing all the information. Kindly wait, while I fetch the products: \n",
      "\n",
      "1. Acer Predator: Intel Core i7 2.8 GHz, 16GB RAM, 17.3\" IPS display, NVIDIA GTX, 1920x1080, Windows 10, 3.2 kg, Dual Cooling Fans, 1-year warranty, 5 hours battery life, Price: Rs 80,000\n",
      "2. Lenovo ThinkPad: AMD Ryzen 7 3.0 GHz, 16GB RAM, 14\" IPS display, NVIDIA GTX, 2560x1440, Linux, 1.6 kg, Backlit Keyboard, 3-year warranty, 6 hours battery life, Price: Rs 60,000\n",
      "\n",
      "Based on your user profile with a high preference for display quality, portability, and processing speed, the Lenovo ThinkPad and Acer Predator are suitable options. The Lenovo ThinkPad offers a higher resolution display and a lighter weight, while the Acer Predator provides powerful processing speed and a larger 17.3\" display. Both laptops are within your budget of Rs 90,000 and provide the performance you require for your tasks.\n",
      "\n"
     ]
    },
    {
     "name": "stdin",
     "output_type": "stream",
     "text": [
      " exit\n"
     ]
    },
    {
     "name": "stdout",
     "output_type": "stream",
     "text": [
      "\n",
      "Goodbye! If you have any more questions in the future, feel free to ask. Have a great day!\n",
      "\n"
     ]
    }
   ],
   "source": [
    "dialogue_mgmt_system()"
   ]
  },
  {
   "cell_type": "code",
   "execution_count": null,
   "id": "KI9EWNc16xxe",
   "metadata": {
    "colab": {
     "base_uri": "https://localhost:8080/",
     "height": 837
    },
    "id": "KI9EWNc16xxe",
    "outputId": "078d3cb7-a5cd-4383-8859-98ff251a0459"
   },
   "outputs": [
    {
     "data": {
      "text/plain": [
       "'Hello! I am here to assist you in finding the best laptop that suits your needs. Please share with me your requirements so that we can determine the ideal laptop for you.\\n'"
      ]
     },
     "metadata": {},
     "output_type": "display_data"
    },
    {
     "name": "stdin",
     "output_type": "stream",
     "text": [
      " high computation power, with light weight\n"
     ]
    },
    {
     "name": "stdout",
     "output_type": "stream",
     "text": [
      "Intent Confirmation Yes/No: No\n",
      "\n",
      "Great! Based on your requirement of high computation power and lightweight design, it seems like you need a laptop with high processing speed and portability. \n",
      "\n",
      "Could you please share your preference for GPU intensity, display quality, multitasking, and your budget for the laptop? This information will help me find the best laptop that fits your needs.\n",
      "\n"
     ]
    },
    {
     "name": "stdin",
     "output_type": "stream",
     "text": [
      " good display quality and multitasking\n"
     ]
    },
    {
     "name": "stdout",
     "output_type": "stream",
     "text": [
      "Intent Confirmation Yes/No: No\n",
      "\n",
      "Thank you for sharing that you prioritize good display quality and multitasking capabilities. \n",
      "\n",
      "Just to clarify, would you prefer a laptop with a high, medium, or low GPU intensity? Additionally, how important is processing speed to you? \n",
      "\n",
      "Understanding these aspects will help me recommend the ideal laptop for your needs.\n",
      "\n"
     ]
    },
    {
     "name": "stdin",
     "output_type": "stream",
     "text": [
      " high processing speed\n"
     ]
    }
   ],
   "source": [
    "dialogue_mgmt_system()"
   ]
  },
  {
   "cell_type": "markdown",
   "id": "1daaf7b3",
   "metadata": {
    "id": "1daaf7b3",
    "jp-MarkdownHeadingCollapsed": true
   },
   "source": [
    "## Part IV: Evaluation"
   ]
  },
  {
   "cell_type": "markdown",
   "id": "0d4ca9b1",
   "metadata": {
    "id": "0d4ca9b1"
   },
   "source": [
    "## Part V: Areas of Improvement and Final Comments"
   ]
  },
  {
   "cell_type": "code",
   "execution_count": 73,
   "id": "7dd765de",
   "metadata": {
    "colab": {
     "base_uri": "https://localhost:8080/"
    },
    "id": "7dd765de",
    "outputId": "8587226d-842a-43cb-8205-75ba07c1082d",
    "scrolled": true
   },
   "outputs": [
    {
     "name": "stdout",
     "output_type": "stream",
     "text": [
      "{'GPU intensity': 'high', 'Display quality': 'high', 'Portability': 'low', 'Multitasking': 'high', 'Processing speed': 'high', 'Budget': '150000'}\n"
     ]
    }
   ],
   "source": [
    "gamer_conversation = [{\"role\":\"assistant\",\"content\":\"Hi there! I'm an intelligent laptop gadget expert and I'm here to help you find the best laptop for your needs. Please tell me a little bit about yourself and your requirements so that I can assist you better.\"},\n",
    "{\"role\":\"user\",\"content\":\"Yes, I prefer gaming with my graphics at high setting\"},\n",
    "{\"role\":\"assistant\",\"content\":\"Thank you for letting me know. Based on your preference for high graphics settings, I would recommend a laptop with a high GPU intensity. This will ensure that you can enjoy your games with excellent visual quality. Now, I have a question to better understand your needs. Are you primarily looking for a laptop that you can easily carry around and game on the go, or do you mainly use it in a stationary location?\"},\n",
    "{\"role\":\"user\",\"content\":\"I prefer using my laptop at a stationary location. I also prefer a high-resolution display quality with good multitasking capabilities\"},\n",
    "{\"role\":\"assistant\",\"content\":\"Thank you for providing that information. Since you primarily use your laptop in a stationary location, portability may not be a top priority for you. Now, I have one more question to help me understand your requirements better. Could you kindly let me know your budget for the laptop? This will help me find options that fit within your price range while meeting the specified requirements.\"},\n",
    "{\"role\":\"user\",\"content\":\"150000\"}\n",
    "]\n",
    "\n",
    "gamer_conversation_initialize = initialize_conversation()\n",
    "gamer_conversation_initialize.extend(gamer_conversation)\n",
    "gamer_conversation_assistant_output = get_chat_completions(gamer_conversation_initialize)\n",
    "gamer_response_dict = dictionary_present(gamer_conversation_assistant_output)\n",
    "print(gamer_response_dict)"
   ]
  },
  {
   "cell_type": "code",
   "execution_count": 72,
   "id": "334a79a8",
   "metadata": {
    "colab": {
     "base_uri": "https://localhost:8080/"
    },
    "id": "334a79a8",
    "outputId": "be4c106a-a1d7-44d1-af1f-9b2594ebe67f",
    "scrolled": true
   },
   "outputs": [
    {
     "name": "stdout",
     "output_type": "stream",
     "text": [
      "{'GPU intensity': 'high', 'Display quality': 'high', 'Portability': 'low', 'Multitasking': 'high', 'Processing speed': 'high', 'Budget': '150000'}\n"
     ]
    }
   ],
   "source": [
    "gamer_tagged_dict = {'GPU intensity': 'high', 'Display quality': 'high', 'Portability': 'low', 'Multitasking': 'high','Processing speed': 'high', 'Budget': '150000'}\n",
    "print(gamer_tagged_dict)"
   ]
  },
  {
   "cell_type": "code",
   "execution_count": 74,
   "id": "13f87259",
   "metadata": {
    "colab": {
     "base_uri": "https://localhost:8080/"
    },
    "id": "13f87259",
    "outputId": "b4fc306b-f16d-4165-ea47-cdcefc624e81"
   },
   "outputs": [
    {
     "name": "stdout",
     "output_type": "stream",
     "text": [
      "{'GPU intensity': 'high', 'Display quality': 'medium', 'Portability': 'medium', 'Multitasking': 'high', 'Processing speed': 'high', 'Budget': '100000'}\n"
     ]
    }
   ],
   "source": [
    "academic_conversation = [{\"role\":\"assistant\",\"content\":\"Hi there! I'm an intelligent laptop gadget expert and I'm here to help you find the best laptop for your needs. Please tell me a little bit about yourself and your requirements so that I can assist you better.\"},\n",
    "{\"role\":\"user\",\"content\":\"i am a student and i'm looking to buy some laptops\"},\n",
    "{\"role\":\"assistant\",\"content\":\"Great! As a student, you likely have specific requirements for a laptop that will support your academic needs. Could you please provide me with more information about your requirements? Are you looking for a laptop for general use, such as browsing the internet, taking notes, and writing assignments? Or do you have any specific software or tasks that you need the laptop to handle? Understanding your needs will help me recommend the best laptop for you.\"},\n",
    "{\"role\":\"user\",\"content\":\"I am working as a academic researcher and I do work with softwares and programming languages such as Matlab, Python and CATIA\"},\n",
    "{\"role\":\"assistant\",\"content\":\"Thank you for providing that information. As an academic researcher, you require a laptop that can handle software and programming tasks efficiently. May I know if you work with large datasets or perform any intensive computations? Understanding the nature of your work will help me determine the processing power and multitasking capabilities needed for your laptop.\"},\n",
    "{\"role\":\"user\",\"content\":\"Yes, occasionally. I'm currently also working on a project on computer vision\"},\n",
    "{\"role\":\"assistant\",\"content\":\"Thank you for sharing that. Working on computer vision projects can be resource-intensive, especially when dealing with large datasets and complex algorithms. It requires a laptop with high processing power and a capable graphics card. Do you also require a high-quality display for accurate visualization of images and videos? Additionally, do you prioritize portability, as you may need to work on your projects in different locations?\"},\n",
    "{\"role\":\"user\",\"content\":\"I need a decent display and I also carry my laptop to college and conferences\"},\n",
    "{\"role\":\"assistant\",\"content\":\"Understood. Based on your requirements as an academic researcher working with software and programming languages like Matlab, Python, and CATIA, as well as computer vision projects, I would recommend the following specifications for your laptop: - GPU intensity: High (for handling computer vision tasks) - Display quality: Medium (for decent display) - Portability: Medium (since you carry your laptop to college and conferences) - Multitasking: High (to handle multiple software and programming tasks) - Processing speed: High (for efficient computation) Now, I need to know your budget for the laptop. Could you please let me know your maximum budget in INR?\"},\n",
    "{\"role\":\"user\",\"content\":\"approximately 100000\"}\n",
    "]\n",
    "\n",
    "academic_conversation_initialize = initialize_conversation()\n",
    "academic_conversation_initialize.extend(academic_conversation)\n",
    "academic_conversation_assistant_output = get_chat_completions(academic_conversation_initialize)\n",
    "academic_response_dict = dictionary_present(academic_conversation_assistant_output)\n",
    "# academic_dict = extract_dictionary_from_string(academic_response_dict)\n",
    "print(academic_response_dict)"
   ]
  },
  {
   "cell_type": "code",
   "execution_count": 75,
   "id": "28c74482",
   "metadata": {
    "colab": {
     "base_uri": "https://localhost:8080/"
    },
    "id": "28c74482",
    "outputId": "235624bf-9ae2-4194-913f-71b71b018d84",
    "scrolled": true
   },
   "outputs": [
    {
     "name": "stdout",
     "output_type": "stream",
     "text": [
      "{'GPU intensity': 'high', 'Display quality': 'medium', 'Portability': 'medium', 'Multitasking': 'medium', 'Processing speed': 'high', 'Budget': '100000'}\n"
     ]
    }
   ],
   "source": [
    "academic_tagged_dict = {'GPU intensity': 'high', 'Display quality': 'medium', 'Portability': 'medium', 'Multitasking': 'medium','Processing speed': 'high', 'Budget': '100000'}\n",
    "print(academic_tagged_dict)"
   ]
  },
  {
   "cell_type": "code",
   "execution_count": 76,
   "id": "a5fd6e41",
   "metadata": {
    "colab": {
     "base_uri": "https://localhost:8080/"
    },
    "id": "a5fd6e41",
    "outputId": "750ecf3f-6c77-4073-f48f-9d05bb2811eb"
   },
   "outputs": [
    {
     "name": "stdout",
     "output_type": "stream",
     "text": [
      "{'GPU intensity': 'Low', 'Display quality': 'High', 'Portability': 'High', 'Multitasking': 'High', 'Processing speed': 'High', 'Budget': '200000'}\n"
     ]
    }
   ],
   "source": [
    "business_conversation = [\n",
    "{\"role\":\"assistant\",\"content\":\"Hi there! I'm an intelligent laptop gadget expert and I'm here to help you find the best laptop for your needs. Please tell me a little bit about yourself and your requirements so that I can assist you better.\"},\n",
    "{\"role\":\"user\",\"content\":\"Hi. I am a business executive. I'm in the market to buy a laptop that fits my needs\"},\n",
    "{\"role\":\"assistant\",\"content\":\"Great! As a business executive, having a reliable and efficient laptop is crucial for your work. May I know what kind of tasks you primarily focus on? Are you involved in tasks such as data analysis, presentations, or multitasking between various applications? Understanding your specific work requirements will help me recommend the best laptop for you. \"},\n",
    "{\"role\":\"user\",\"content\":\"I'll use my laptop for day-to-day work such as attending zoom calls with clients, preparting reports and doing market research. I also do analysis on Excel\"},\n",
    "{\"role\":\"assistant\",\"content\":\"Thank you for providing that information. Based on your work requirements, it seems like you need a laptop that can handle multitasking, has good processing speed, and a decent display quality for presentations and data analysis. Portability may not be a top priority since you mentioned that you primarily work from a stationary location. Do you have any specific preferences or requirements for the graphics performance of the laptop?\"},\n",
    "{\"role\":\"user\",\"content\":\"I require a highly portable machine as I'll be commuting to work and also travelling to client locations. Graphics is not a priority for me\"},\n",
    "{\"role\":\"assistant\",\"content\":\"Understood. In that case, a laptop with high portability and multitasking capabilities would be ideal for you. Since graphics performance is not a priority, we can focus more on processing speed and display quality. Do you have any specific budget in mind for your laptop purchase? Knowing your budget will help me find options that fit within your price range while meeting your specified requirements.\"},\n",
    "{\"role\":\"user\",\"content\":\"No budget is not a constraint. choose the best\"},\n",
    "{\"role\":\"assistant\",\"content\":\"Thank you for letting me know. In that case, I will recommend a laptop with high processing speed, good display quality, and excellent portability. This will ensure that you can efficiently handle your day-to-day work tasks, attend Zoom calls, prepare reports, and perform market research without any performance issues. Here are the specifications for the laptop I recommend for you: - GPU intensity: Low - Display quality: High - Portability: High - Multitasking: High - Processing speed: High - Budget: Not specified Please note that the budget is not specified as you mentioned that it is not a constraint. However, if you have any specific budget in mind, please let me know and I can provide you with more tailored recommendations.\"},\n",
    "{\"role\":\"user\",\"content\":\"okay. maximum 200000\"}\n",
    "]\n",
    "\n",
    "business_conversation_initialize = initialize_conversation()\n",
    "business_conversation_initialize.extend(business_conversation)\n",
    "business_conversation_assistant_output = get_chat_completions(business_conversation_initialize)\n",
    "business_response_dict = dictionary_present(business_conversation_assistant_output)\n",
    "print(business_response_dict)"
   ]
  },
  {
   "cell_type": "code",
   "execution_count": 77,
   "id": "611dde2f",
   "metadata": {
    "colab": {
     "base_uri": "https://localhost:8080/"
    },
    "id": "611dde2f",
    "outputId": "76a4f6fd-cd96-410a-c8ef-f9ac7cdeedf1"
   },
   "outputs": [
    {
     "name": "stdout",
     "output_type": "stream",
     "text": [
      "{'GPU intensity': 'low', 'Display quality': 'high', 'Portability': 'high', 'Multitasking': 'high', 'Processing speed': 'high', 'Budget': '200000'}\n"
     ]
    }
   ],
   "source": [
    "business_tagged_dict = {'GPU intensity': 'low', 'Display quality': 'high', 'Portability': 'high', 'Multitasking': 'high','Processing speed': 'high', 'Budget': '200000'}\n",
    "print(business_tagged_dict)"
   ]
  },
  {
   "cell_type": "code",
   "execution_count": 189,
   "id": "0ca587d1-0da4-4804-8154-c306c7eac227",
   "metadata": {},
   "outputs": [
    {
     "data": {
      "text/plain": [
       "True"
      ]
     },
     "execution_count": 189,
     "metadata": {},
     "output_type": "execute_result"
    }
   ],
   "source": [
    "\"Low\" == \"Low\""
   ]
  },
  {
   "cell_type": "code",
   "execution_count": 78,
   "id": "71e9a5f7",
   "metadata": {
    "id": "71e9a5f7"
   },
   "outputs": [],
   "source": [
    "def evaluate_model_response(tagged_dict, model_dict):\n",
    "  score = 0\n",
    "  mappings = {\n",
    "      'low': 0,\n",
    "      'medium': 1,\n",
    "      'high': 2\n",
    "  }\n",
    "\n",
    "  for key in tagged_dict.keys():\n",
    "    if key == 'budget':\n",
    "      continue\n",
    "    tagged_value = tagged_dict[key]\n",
    "    model_value = model_dict[key]\n",
    "    tagged_mapping = mappings.get(tagged_value, -1)\n",
    "    model_mapping = mappings.get(model_value, -1)\n",
    "\n",
    "    if model_mapping >= tagged_mapping:\n",
    "        score += 1\n",
    "\n",
    "  return score\n"
   ]
  },
  {
   "cell_type": "code",
   "execution_count": 79,
   "id": "ad9b47b8",
   "metadata": {
    "colab": {
     "base_uri": "https://localhost:8080/"
    },
    "id": "ad9b47b8",
    "outputId": "bfc58ee2-f68e-41ce-a95c-35b90d9fa74d"
   },
   "outputs": [
    {
     "name": "stdout",
     "output_type": "stream",
     "text": [
      "6\n",
      "6\n",
      "1\n"
     ]
    }
   ],
   "source": [
    "gamer_score = evaluate_model_response(gamer_tagged_dict,gamer_response_dict)\n",
    "print(gamer_score)\n",
    "academic_score = evaluate_model_response(academic_tagged_dict,academic_response_dict)\n",
    "print(academic_score)\n",
    "business_score = evaluate_model_response(business_tagged_dict,business_response_dict)\n",
    "print(business_score)"
   ]
  },
  {
   "cell_type": "markdown",
   "id": "8cdde199",
   "metadata": {
    "id": "8cdde199"
   },
   "source": [
    "You can see that for gamer, the model is not able to perform well. But for the academic and business persona, it is able to."
   ]
  },
  {
   "cell_type": "markdown",
   "id": "8c227cad",
   "metadata": {
    "id": "8c227cad"
   },
   "source": [
    "### Future Scope of Work"
   ]
  },
  {
   "cell_type": "markdown",
   "id": "PMZR1DoF-2Cm",
   "metadata": {
    "id": "PMZR1DoF-2Cm"
   },
   "source": [
    "1. The output format of each layer is inconsistent. You can use the function API capability of GPT to instruct the output format as per the input request.\n",
    "2. The rule framework provided to classify each laptop’s specification is not exhaustive. You can expand the rules to give a comprehensive context to the LLM.\n",
    "3. There are misclassifications in the laptop’s specifications, even after specifying clear rules for LLM. You can fine-tune an open-source LLM to make its understanding & performance better.\n",
    "4. Once the products are extracted, the dialogue flow doesn’t allow recalling of product extraction if there is any intent change. You can add another layer to observe any request for a change in the user intent and then use this flag to recall the product extraction based on the updated intent.\n",
    "5. As an alternative & simple solution, you can use vector embeddings of each product and compare it with the user intent to find the most relevant products.\n",
    "6. You can template this workflow/solution to build a chatbot for any product domain. Note: You must add the relevant domain expertise/rules to give the LLM context understanding.\n"
   ]
  },
  {
   "cell_type": "code",
   "execution_count": null,
   "id": "74176c4c-6a97-4692-9abb-15ad278cbafe",
   "metadata": {},
   "outputs": [],
   "source": []
  }
 ],
 "metadata": {
  "colab": {
   "provenance": []
  },
  "kernelspec": {
   "display_name": "Python 3 (ipykernel)",
   "language": "python",
   "name": "python3"
  },
  "language_info": {
   "codemirror_mode": {
    "name": "ipython",
    "version": 3
   },
   "file_extension": ".py",
   "mimetype": "text/x-python",
   "name": "python",
   "nbconvert_exporter": "python",
   "pygments_lexer": "ipython3",
   "version": "3.11.11"
  }
 },
 "nbformat": 4,
 "nbformat_minor": 5
}
