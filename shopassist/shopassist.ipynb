{
 "cells": [
  {
   "cell_type": "code",
   "execution_count": 1,
   "id": "b52a045f-a6a7-4a58-bbdb-4bfcd0907e8c",
   "metadata": {},
   "outputs": [],
   "source": [
    "import os, json, ast\n",
    "import openai\n",
    "import pandas as pd\n",
    "from IPython.display import display, JSON"
   ]
  },
  {
   "cell_type": "code",
   "execution_count": 2,
   "id": "fd008d5e-42c9-4ed0-b222-881db1c1d963",
   "metadata": {},
   "outputs": [],
   "source": [
    "# some utility methods\n",
    "def search_in(foo, for_string):\n",
    "    methods = dir(foo)\n",
    "    return [item for item in methods if for_string.lower() in item.lower()]"
   ]
  },
  {
   "cell_type": "code",
   "execution_count": 5,
   "id": "eb702a5e-88aa-4c98-a78d-ac6ee736b2ef",
   "metadata": {},
   "outputs": [],
   "source": [
    "# since we are going to use openai's api, we need the open ai key\n",
    "file_path = '../OPENAI_API_KEY.txt'\n",
    "with open(file_path, 'r') as file:\n",
    "    openai.api_key = file.readline()\n",
    "\n",
    "# update the prices when you update the model you want to use, https://platform.openai.com/docs/pricing\n",
    "def get_openai_model_price(model_name):\n",
    "    if(model_name in 'gpt-4o-mini-2024-07-18'):\n",
    "        return {'name': model_name, 'input_token_price_per_million_usd' : 0.15, 'cached_input_token_price_per_million_usd' : 0.075, 'output_token_price_per_million_usd' : 0.60}\n",
    "    return None\n",
    "\n",
    "# calculate price for a response\n",
    "def get_chat_completion_stats(response):\n",
    "    response_json = json.loads(response.model_dump_json())\n",
    "    input_tokens = response_json['usage']['prompt_tokens']\n",
    "    cached_input_tokens = response_json['usage']['prompt_tokens_details']['cached_tokens']\n",
    "    output_tokens = response_json['usage']['completion_tokens']\n",
    "\n",
    "    prices = get_openai_model_price(response_json['model'])\n",
    "    input_token_price_per_million_usd = prices['input_token_price_per_million_usd']\n",
    "    cached_input_token_price_per_million_usd = prices['cached_input_token_price_per_million_usd']\n",
    "    output_token_price_per_million_usd = prices['output_token_price_per_million_usd']\n",
    "\n",
    "    million = 1000000\n",
    "    input_tokens_cost = (input_tokens/million)*input_token_price_per_million_usd\n",
    "    cached_input_tokens_cost = (cached_input_tokens/million)*cached_input_token_price_per_million_usd\n",
    "    output_token_cost = (output_tokens/million)*output_token_price_per_million_usd\n",
    "\n",
    "    total_cost = input_tokens_cost + cached_input_tokens_cost + output_token_cost\n",
    "    output = {\n",
    "        'input': {\n",
    "            'rate': input_token_price_per_million_usd,\n",
    "            'tokens': input_tokens,\n",
    "            'cost': f'{input_tokens_cost:.10f}'\n",
    "        },\n",
    "        'cached_input': {\n",
    "            'rate': cached_input_token_price_per_million_usd,\n",
    "            'tokens': cached_input_tokens,\n",
    "            'cost': f'{cached_input_tokens_cost:.10f}'\n",
    "        },\n",
    "        'output': {\n",
    "            'rate': output_token_price_per_million_usd,\n",
    "            'tokens': output_tokens,\n",
    "            'cost': f'{output_token_cost:.10f}'\n",
    "        },\n",
    "        'total': {\n",
    "            'cost': f'{total_cost:.10f}'\n",
    "        }\n",
    "    }\n",
    "    return output\n",
    "\n",
    "\n",
    "import ipywidgets as widgets\n",
    "from IPython.display import display, HTML\n",
    "def display_stats(stats):\n",
    "    data = stats\n",
    "    # Create an HTML formatted string for a compact table layout\n",
    "    html_content = f\"\"\"\n",
    "    <style>\n",
    "        .usage-table {{\n",
    "            font-family: Arial, sans-serif;\n",
    "            font-size: 12px;\n",
    "            width: 70%;\n",
    "            border-collapse: collapse;\n",
    "            margin: 10px auto;\n",
    "        }}\n",
    "        .usage-table th, .usage-table td {{\n",
    "            padding: 6px 10px;\n",
    "            text-align: left;\n",
    "            border-bottom: 1px solid #ddd;\n",
    "        }}\n",
    "        .usage-table th {{\n",
    "            background-color: #007bff;\n",
    "            color: white;\n",
    "            text-align: center;\n",
    "        }}\n",
    "        .input-row {{ background-color: #e3f2fd; }}\n",
    "        .cached-row {{ background-color: #f1f8e9; }}\n",
    "        .output-row {{ background-color: #ffebee; }}\n",
    "        .total-row {{ background-color: #007bff; font-weight: bold; }}\n",
    "    </style>\n",
    "    \n",
    "    <table class=\"usage-table\">\n",
    "        <tr>\n",
    "            <th>Type</th>\n",
    "            <th>Rate ($/1M)</th>\n",
    "            <th>Tokens</th>\n",
    "            <th>Cost ($)</th>\n",
    "        </tr>\n",
    "        <tr class=\"input-row\">\n",
    "            <td>Input 🔽</td>\n",
    "            <td>{data['input']['rate']}</td>\n",
    "            <td>{data['input']['tokens']}</td>\n",
    "            <td>{data['input']['cost']}</td>\n",
    "        </tr>\n",
    "        <tr class=\"cached-row\">\n",
    "            <td>Cached Input 🔄</td>\n",
    "            <td>{data['cached_input']['rate']}</td>\n",
    "            <td>{data['cached_input']['tokens']}</td>\n",
    "            <td>{data['cached_input']['cost']}</td>\n",
    "        </tr>\n",
    "        <tr class=\"output-row\">\n",
    "            <td>Output 🔼</td>\n",
    "            <td>{data['output']['rate']}</td>\n",
    "            <td>{data['output']['tokens']}</td>\n",
    "            <td>{data['output']['cost']}</td>\n",
    "        </tr>\n",
    "        <tr class=\"total-row\">\n",
    "            <td>Total 💰</td>\n",
    "            <td>—</td>\n",
    "            <td>—</td>\n",
    "            <td>{data['total']['cost']}</td>\n",
    "        </tr>\n",
    "    </table>\n",
    "    \"\"\"\n",
    "    \n",
    "    # Display in Jupyter Notebook\n",
    "    display(HTML(html_content))\n",
    "\n",
    "def display_response(response):\n",
    "    display(JSON(json.loads(response.model_dump_json())))\n",
    "    stats = get_chat_completion_stats(response)\n",
    "    display_stats(stats)"
   ]
  },
  {
   "cell_type": "code",
   "execution_count": 6,
   "id": "bf9c3b31-27ea-4136-9169-140db4d55370",
   "metadata": {},
   "outputs": [
    {
     "data": {
      "application/json": {
       "choices": [
        {
         "finish_reason": "stop",
         "index": 0,
         "logprobs": null,
         "message": {
          "annotations": [],
          "audio": null,
          "content": "Why did the scarecrow win an award? Because he was outstanding in his field!",
          "function_call": null,
          "refusal": null,
          "role": "assistant",
          "tool_calls": null
         }
        }
       ],
       "created": 1743340943,
       "id": "chatcmpl-BGmuFisrbMA2UCbTdp3FJh2dT8iVG",
       "model": "gpt-4o-mini-2024-07-18",
       "object": "chat.completion",
       "service_tier": "default",
       "system_fingerprint": "fp_b376dfbbd5",
       "usage": {
        "completion_tokens": 18,
        "completion_tokens_details": {
         "accepted_prediction_tokens": 0,
         "audio_tokens": 0,
         "reasoning_tokens": 0,
         "rejected_prediction_tokens": 0
        },
        "prompt_tokens": 30,
        "prompt_tokens_details": {
         "audio_tokens": 0,
         "cached_tokens": 0
        },
        "total_tokens": 48
       }
      },
      "text/plain": [
       "<IPython.core.display.JSON object>"
      ]
     },
     "metadata": {
      "application/json": {
       "expanded": false,
       "root": "root"
      }
     },
     "output_type": "display_data"
    },
    {
     "data": {
      "text/html": [
       "\n",
       "    <style>\n",
       "        .usage-table {\n",
       "            font-family: Arial, sans-serif;\n",
       "            font-size: 12px;\n",
       "            width: 70%;\n",
       "            border-collapse: collapse;\n",
       "            margin: 10px auto;\n",
       "        }\n",
       "        .usage-table th, .usage-table td {\n",
       "            padding: 6px 10px;\n",
       "            text-align: left;\n",
       "            border-bottom: 1px solid #ddd;\n",
       "        }\n",
       "        .usage-table th {\n",
       "            background-color: #007bff;\n",
       "            color: white;\n",
       "            text-align: center;\n",
       "        }\n",
       "        .input-row { background-color: #e3f2fd; }\n",
       "        .cached-row { background-color: #f1f8e9; }\n",
       "        .output-row { background-color: #ffebee; }\n",
       "        .total-row { background-color: #007bff; font-weight: bold; }\n",
       "    </style>\n",
       "    \n",
       "    <table class=\"usage-table\">\n",
       "        <tr>\n",
       "            <th>Type</th>\n",
       "            <th>Rate ($/1M)</th>\n",
       "            <th>Tokens</th>\n",
       "            <th>Cost ($)</th>\n",
       "        </tr>\n",
       "        <tr class=\"input-row\">\n",
       "            <td>Input 🔽</td>\n",
       "            <td>0.15</td>\n",
       "            <td>30</td>\n",
       "            <td>0.0000045000</td>\n",
       "        </tr>\n",
       "        <tr class=\"cached-row\">\n",
       "            <td>Cached Input 🔄</td>\n",
       "            <td>0.075</td>\n",
       "            <td>0</td>\n",
       "            <td>0.0000000000</td>\n",
       "        </tr>\n",
       "        <tr class=\"output-row\">\n",
       "            <td>Output 🔼</td>\n",
       "            <td>0.6</td>\n",
       "            <td>18</td>\n",
       "            <td>0.0000108000</td>\n",
       "        </tr>\n",
       "        <tr class=\"total-row\">\n",
       "            <td>Total 💰</td>\n",
       "            <td>—</td>\n",
       "            <td>—</td>\n",
       "            <td>0.0000153000</td>\n",
       "        </tr>\n",
       "    </table>\n",
       "    "
      ],
      "text/plain": [
       "<IPython.core.display.HTML object>"
      ]
     },
     "metadata": {},
     "output_type": "display_data"
    }
   ],
   "source": [
    "# let's make a simple openai api call to send in a prompt and get back a response\n",
    "def get_chat_model_completions(messages):\n",
    "    response = openai.chat.completions.create(\n",
    "        model = 'gpt-4o-mini',\n",
    "        messages = messages,\n",
    "        temperature = 0,\n",
    "        max_tokens = 900\n",
    "    )\n",
    "    display_response(response)\n",
    "    return response.choices[0].message.content\n",
    "\n",
    "test_messages = [\n",
    "    {'role': 'system', 'content': 'You are a joke teller, you give responses in less than 40 words'},\n",
    "    {'role': 'user', 'content': 'tell me a joke'}\n",
    "]\n",
    "\n",
    "get_chat_model_completions(test_messages)\n",
    "\n",
    "# if we see a response, it means the api-key is still working\n",
    "\n",
    "def moderation_check(user_input):\n",
    "    response = openai.moderations.create(input=user_input)\n",
    "    flagged = response.results[0].flagged\n",
    "    return 'Flagged' if flagged else 'Not Flagged'"
   ]
  },
  {
   "cell_type": "code",
   "execution_count": 7,
   "id": "b1ba41fc-11b8-4d1d-84a1-9297d13cda28",
   "metadata": {},
   "outputs": [],
   "source": [
    "def initialize_conversation():\n",
    "    '''\n",
    "    Returns a list [{\"role\": \"system\", \"content\": system_message}]\n",
    "    '''\n",
    "\n",
    "    delimiter = \"####\"\n",
    "    example_user_req = {'GPU intensity': 'high','Display quality': 'high','Portability': 'low','Multitasking': 'high','Processing speed': 'high','Budget': '150000'}\n",
    "\n",
    "    system_message = f\"\"\"\n",
    "\n",
    "    You are an intelligent laptop gadget expert and your goal is to find the best laptop for a user.\n",
    "    You need to ask relevant questions and understand the user profile by analysing the user's responses.\n",
    "    You final objective is to fill the values for the different keys ('GPU intensity','Display quality','Portability','Multitasking','Processing speed','Budget') in the python dictionary and be confident of the values.\n",
    "    These key value pairs define the user's profile.\n",
    "    The python dictionary looks like this {{'GPU intensity': 'values','Display quality': 'values','Portability': 'values','Multitasking': 'values','Processing speed': 'values','Budget': 'values'}}\n",
    "    The values for all keys, except 'budget', should be 'low', 'medium', or 'high' based on the importance of the corresponding keys, as stated by user.\n",
    "    The value for 'budget' should be a numerical value extracted from the user's response.\n",
    "    The values currently in the dictionary are only representative values.\n",
    "\n",
    "    {delimiter}Here are some instructions around the values for the different keys. If you do not follow this, you'll be heavily penalised.\n",
    "    - The values for all keys, except 'Budget', should strictly be either 'low', 'medium', or 'high' based on the importance of the corresponding keys, as stated by user.\n",
    "    - The value for 'budget' should be a numerical value extracted from the user's response.\n",
    "    - 'Budget' value needs to be greater than or equal to 25000 INR. If the user says less than that, please mention that there are no laptops in that range.\n",
    "    - Do not randomly assign values to any of the keys. The values need to be inferred from the user's response.\n",
    "    {delimiter}\n",
    "\n",
    "    To fill the dictionary, you need to have the following chain of thoughts:\n",
    "    {delimiter} Thought 1: Ask a question to understand the user's profile and requirements. \\n\n",
    "    If their primary use for the laptop is unclear. Ask another question to comprehend their needs.\n",
    "    You are trying to fill the values of all the keys ('GPU intensity','Display quality','Portability','Multitasking','Processing speed','Budget') in the python dictionary by understanding the user requirements.\n",
    "    Identify the keys for which you can fill the values confidently using the understanding. \\n\n",
    "    Remember the instructions around the values for the different keys.\n",
    "    Answer \"Yes\" or \"No\" to indicate if you understand the requirements and have updated the values for the relevant keys. \\n\n",
    "    If yes, proceed to the next step. Otherwise, rephrase the question to capture their profile. \\n{delimiter}\n",
    "\n",
    "    {delimiter}Thought 2: Now, you are trying to fill the values for the rest of the keys which you couldn't in the previous step.\n",
    "    Remember the instructions around the values for the different keys. Ask questions you might have for all the keys to strengthen your understanding of the user's profile.\n",
    "    Answer \"Yes\" or \"No\" to indicate if you understood all the values for the keys and are confident about the same.\n",
    "    If yes, move to the next Thought. If no, ask question on the keys whose values you are unsure of. \\n\n",
    "    It is a good practice to ask question with a sound logic as opposed to directly citing the key you want to understand value for.{delimiter}\n",
    "\n",
    "    {delimiter}Thought 3: Check if you have correctly updated the values for the different keys in the python dictionary.\n",
    "    If you are not confident about any of the values, ask clarifying questions. {delimiter}\n",
    "\n",
    "    Follow the above chain of thoughts and only output the final updated python dictionary. \\n\n",
    "\n",
    "\n",
    "    {delimiter} Here is a sample conversation between the user and assistant:\n",
    "    User: \"Hi, I am an editor.\"\n",
    "    Assistant: \"Great! As an editor, you likely require a laptop that can handle demanding tasks. Hence, the laptop should have high multitasking capability. You would also need a high end display for better visuals and editing. May I know what kind of work do you primarily focus on? Are you more involved in video editing, photo editing, or both? Understanding the specific type of editing work will help me tailor my recommendations accordingly. Let me know if my understanding is correct until now.\"\n",
    "    User: \"I primarily work with After Effects.\"\n",
    "    Assistant: \"Thank you for providing that information. Working with After Effects involves working with graphics, animations, and rendering, which will require high GPU. Do you work with high-resolution media files, such as 4K videos or RAW photos? Understanding your file sizes will help determine the storage capacity and processing power needed.\"\n",
    "    User: \"Yes, sometimes I work with 4K videos as well.\"\n",
    "    Assistant: \"Thank you for the information. Processing 4K vidoes will require a good processor and high GPU. I think we have already determined earlier that you need a high GPU. To ensure I have a complete understanding of your needs, I have one more question: Are you frequently on the go and require a laptop that is lightweight and easy to carry, or do you primarily work from a stationary location?\"\n",
    "    User: \"Yes, sometimes I travel but do not carry my laptop.\"\n",
    "    Assistant:\"Could you kindly let me know your budget for the laptop? This will help me find options that fit within your price range while meeting the specified requirements.\"\n",
    "    User: \"my max budget is 1.5lakh inr\"\n",
    "    Assistant: \"{example_user_req}\"\n",
    "    {delimiter}\n",
    "\n",
    "    Start with a short welcome message and encourage the user to share their requirements.\n",
    "    \"\"\"\n",
    "    conversation = [{\"role\": \"system\", \"content\": system_message}]\n",
    "    return conversation\n",
    "    "
   ]
  },
  {
   "cell_type": "code",
   "execution_count": 8,
   "id": "f6151378-6d4a-460f-827a-d56280eb6706",
   "metadata": {},
   "outputs": [],
   "source": [
    "def intent_confirmation_layer(response_assistant):\n",
    "    delimiter = \"####\"\n",
    "    prompt = f\"\"\"\n",
    "    You are a senior evaluator who has an eye for detail.\n",
    "    You are provided an input. You need to evaluate if the input has the following keys: 'GPU intensity','Display quality','Portability','Multitasking',' Processing speed','Budget'\n",
    "    Next you need to evaluate if the keys have the the values filled correctly.\n",
    "    The values for all keys, except 'budget', should be 'low', 'medium', or 'high' based on the importance as stated by user. The value for the key 'budget' needs to contain a number with currency.\n",
    "    Output a string 'Yes' if the input contains the dictionary with the values correctly filled for all keys.\n",
    "    Otherwise out the string 'No'.\n",
    "\n",
    "    Here is the input: {response_assistant}\n",
    "    Only output a one-word string - Yes/No.\n",
    "    \"\"\"\n",
    "\n",
    "    response = get_text_model_completions(prompt)\n",
    "    return response"
   ]
  },
  {
   "cell_type": "code",
   "execution_count": 9,
   "id": "e0d61703-c500-421c-b543-24ffeab2dd1a",
   "metadata": {},
   "outputs": [
    {
     "name": "stdout",
     "output_type": "stream",
     "text": [
      "[{'role': 'system', 'content': '\\n\\n    You are an intelligent laptop gadget expert and your goal is to find the best laptop for a user.\\n    You need to ask relevant questions and understand the user profile by analysing the user\\'s responses.\\n    You final objective is to fill the values for the different keys (\\'GPU intensity\\',\\'Display quality\\',\\'Portability\\',\\'Multitasking\\',\\'Processing speed\\',\\'Budget\\') in the python dictionary and be confident of the values.\\n    These key value pairs define the user\\'s profile.\\n    The python dictionary looks like this {\\'GPU intensity\\': \\'values\\',\\'Display quality\\': \\'values\\',\\'Portability\\': \\'values\\',\\'Multitasking\\': \\'values\\',\\'Processing speed\\': \\'values\\',\\'Budget\\': \\'values\\'}\\n    The values for all keys, except \\'budget\\', should be \\'low\\', \\'medium\\', or \\'high\\' based on the importance of the corresponding keys, as stated by user.\\n    The value for \\'budget\\' should be a numerical value extracted from the user\\'s response.\\n    The values currently in the dictionary are only representative values.\\n\\n    ####Here are some instructions around the values for the different keys. If you do not follow this, you\\'ll be heavily penalised.\\n    - The values for all keys, except \\'Budget\\', should strictly be either \\'low\\', \\'medium\\', or \\'high\\' based on the importance of the corresponding keys, as stated by user.\\n    - The value for \\'budget\\' should be a numerical value extracted from the user\\'s response.\\n    - \\'Budget\\' value needs to be greater than or equal to 25000 INR. If the user says less than that, please mention that there are no laptops in that range.\\n    - Do not randomly assign values to any of the keys. The values need to be inferred from the user\\'s response.\\n    ####\\n\\n    To fill the dictionary, you need to have the following chain of thoughts:\\n    #### Thought 1: Ask a question to understand the user\\'s profile and requirements. \\n\\n    If their primary use for the laptop is unclear. Ask another question to comprehend their needs.\\n    You are trying to fill the values of all the keys (\\'GPU intensity\\',\\'Display quality\\',\\'Portability\\',\\'Multitasking\\',\\'Processing speed\\',\\'Budget\\') in the python dictionary by understanding the user requirements.\\n    Identify the keys for which you can fill the values confidently using the understanding. \\n\\n    Remember the instructions around the values for the different keys.\\n    Answer \"Yes\" or \"No\" to indicate if you understand the requirements and have updated the values for the relevant keys. \\n\\n    If yes, proceed to the next step. Otherwise, rephrase the question to capture their profile. \\n####\\n\\n    ####Thought 2: Now, you are trying to fill the values for the rest of the keys which you couldn\\'t in the previous step.\\n    Remember the instructions around the values for the different keys. Ask questions you might have for all the keys to strengthen your understanding of the user\\'s profile.\\n    Answer \"Yes\" or \"No\" to indicate if you understood all the values for the keys and are confident about the same.\\n    If yes, move to the next Thought. If no, ask question on the keys whose values you are unsure of. \\n\\n    It is a good practice to ask question with a sound logic as opposed to directly citing the key you want to understand value for.####\\n\\n    ####Thought 3: Check if you have correctly updated the values for the different keys in the python dictionary.\\n    If you are not confident about any of the values, ask clarifying questions. ####\\n\\n    Follow the above chain of thoughts and only output the final updated python dictionary. \\n\\n\\n\\n    #### Here is a sample conversation between the user and assistant:\\n    User: \"Hi, I am an editor.\"\\n    Assistant: \"Great! As an editor, you likely require a laptop that can handle demanding tasks. Hence, the laptop should have high multitasking capability. You would also need a high end display for better visuals and editing. May I know what kind of work do you primarily focus on? Are you more involved in video editing, photo editing, or both? Understanding the specific type of editing work will help me tailor my recommendations accordingly. Let me know if my understanding is correct until now.\"\\n    User: \"I primarily work with After Effects.\"\\n    Assistant: \"Thank you for providing that information. Working with After Effects involves working with graphics, animations, and rendering, which will require high GPU. Do you work with high-resolution media files, such as 4K videos or RAW photos? Understanding your file sizes will help determine the storage capacity and processing power needed.\"\\n    User: \"Yes, sometimes I work with 4K videos as well.\"\\n    Assistant: \"Thank you for the information. Processing 4K vidoes will require a good processor and high GPU. I think we have already determined earlier that you need a high GPU. To ensure I have a complete understanding of your needs, I have one more question: Are you frequently on the go and require a laptop that is lightweight and easy to carry, or do you primarily work from a stationary location?\"\\n    User: \"Yes, sometimes I travel but do not carry my laptop.\"\\n    Assistant:\"Could you kindly let me know your budget for the laptop? This will help me find options that fit within your price range while meeting the specified requirements.\"\\n    User: \"my max budget is 1.5lakh inr\"\\n    Assistant: \"{\\'GPU intensity\\': \\'high\\', \\'Display quality\\': \\'high\\', \\'Portability\\': \\'low\\', \\'Multitasking\\': \\'high\\', \\'Processing speed\\': \\'high\\', \\'Budget\\': \\'150000\\'}\"\\n    ####\\n\\n    Start with a short welcome message and encourage the user to share their requirements.\\n    '}]\n"
     ]
    }
   ],
   "source": [
    "debug_conversation = initialize_conversation()\n",
    "print(debug_conversation)"
   ]
  },
  {
   "cell_type": "code",
   "execution_count": 10,
   "id": "1f9f6e02-6895-4149-b456-1fdf4a4bc119",
   "metadata": {},
   "outputs": [
    {
     "data": {
      "application/json": {
       "choices": [
        {
         "finish_reason": "stop",
         "index": 0,
         "logprobs": null,
         "message": {
          "annotations": [],
          "audio": null,
          "content": "Hello! I'm here to help you find the perfect laptop based on your needs. Please share your requirements and how you plan to use the laptop.",
          "function_call": null,
          "refusal": null,
          "role": "assistant",
          "tool_calls": null
         }
        }
       ],
       "created": 1743340962,
       "id": "chatcmpl-BGmuY4iEvJf2vseHXbRRkg6DDR8bD",
       "model": "gpt-4o-mini-2024-07-18",
       "object": "chat.completion",
       "service_tier": "default",
       "system_fingerprint": "fp_86d0290411",
       "usage": {
        "completion_tokens": 30,
        "completion_tokens_details": {
         "accepted_prediction_tokens": 0,
         "audio_tokens": 0,
         "reasoning_tokens": 0,
         "rejected_prediction_tokens": 0
        },
        "prompt_tokens": 1171,
        "prompt_tokens_details": {
         "audio_tokens": 0,
         "cached_tokens": 0
        },
        "total_tokens": 1201
       }
      },
      "text/plain": [
       "<IPython.core.display.JSON object>"
      ]
     },
     "metadata": {
      "application/json": {
       "expanded": false,
       "root": "root"
      }
     },
     "output_type": "display_data"
    },
    {
     "data": {
      "text/html": [
       "\n",
       "    <style>\n",
       "        .usage-table {\n",
       "            font-family: Arial, sans-serif;\n",
       "            font-size: 12px;\n",
       "            width: 70%;\n",
       "            border-collapse: collapse;\n",
       "            margin: 10px auto;\n",
       "        }\n",
       "        .usage-table th, .usage-table td {\n",
       "            padding: 6px 10px;\n",
       "            text-align: left;\n",
       "            border-bottom: 1px solid #ddd;\n",
       "        }\n",
       "        .usage-table th {\n",
       "            background-color: #007bff;\n",
       "            color: white;\n",
       "            text-align: center;\n",
       "        }\n",
       "        .input-row { background-color: #e3f2fd; }\n",
       "        .cached-row { background-color: #f1f8e9; }\n",
       "        .output-row { background-color: #ffebee; }\n",
       "        .total-row { background-color: #007bff; font-weight: bold; }\n",
       "    </style>\n",
       "    \n",
       "    <table class=\"usage-table\">\n",
       "        <tr>\n",
       "            <th>Type</th>\n",
       "            <th>Rate ($/1M)</th>\n",
       "            <th>Tokens</th>\n",
       "            <th>Cost ($)</th>\n",
       "        </tr>\n",
       "        <tr class=\"input-row\">\n",
       "            <td>Input 🔽</td>\n",
       "            <td>0.15</td>\n",
       "            <td>1171</td>\n",
       "            <td>0.0001756500</td>\n",
       "        </tr>\n",
       "        <tr class=\"cached-row\">\n",
       "            <td>Cached Input 🔄</td>\n",
       "            <td>0.075</td>\n",
       "            <td>0</td>\n",
       "            <td>0.0000000000</td>\n",
       "        </tr>\n",
       "        <tr class=\"output-row\">\n",
       "            <td>Output 🔼</td>\n",
       "            <td>0.6</td>\n",
       "            <td>30</td>\n",
       "            <td>0.0000180000</td>\n",
       "        </tr>\n",
       "        <tr class=\"total-row\">\n",
       "            <td>Total 💰</td>\n",
       "            <td>—</td>\n",
       "            <td>—</td>\n",
       "            <td>0.0001936500</td>\n",
       "        </tr>\n",
       "    </table>\n",
       "    "
      ],
      "text/plain": [
       "<IPython.core.display.HTML object>"
      ]
     },
     "metadata": {},
     "output_type": "display_data"
    },
    {
     "name": "stdout",
     "output_type": "stream",
     "text": [
      "Hello! I'm here to help you find the perfect laptop based on your needs. Please share your requirements and how you plan to use the laptop.\n"
     ]
    }
   ],
   "source": [
    "response = get_chat_model_completions(debug_conversation)\n",
    "debug_conversation.append({'role': 'assistant', 'content': response})\n",
    "print(response)"
   ]
  },
  {
   "cell_type": "code",
   "execution_count": 11,
   "id": "dd22401b-4385-4368-bdee-36aa7e6fb493",
   "metadata": {},
   "outputs": [
    {
     "data": {
      "application/json": {
       "choices": [
        {
         "finish_reason": "stop",
         "index": 0,
         "logprobs": null,
         "message": {
          "annotations": [],
          "audio": null,
          "content": "Great, Suyash! Coding can vary in requirements depending on the type of development work you do. Are you primarily working on web development, software development, or perhaps mobile app development? Understanding your specific focus will help me tailor my recommendations accordingly. Let me know if my understanding is correct until now.",
          "function_call": null,
          "refusal": null,
          "role": "assistant",
          "tool_calls": null
         }
        }
       ],
       "created": 1743340984,
       "id": "chatcmpl-BGmuuqqQsiymvFUPJSMthbgqrnsMy",
       "model": "gpt-4o-mini-2024-07-18",
       "object": "chat.completion",
       "service_tier": "default",
       "system_fingerprint": "fp_86d0290411",
       "usage": {
        "completion_tokens": 62,
        "completion_tokens_details": {
         "accepted_prediction_tokens": 0,
         "audio_tokens": 0,
         "reasoning_tokens": 0,
         "rejected_prediction_tokens": 0
        },
        "prompt_tokens": 1222,
        "prompt_tokens_details": {
         "audio_tokens": 0,
         "cached_tokens": 1152
        },
        "total_tokens": 1284
       }
      },
      "text/plain": [
       "<IPython.core.display.JSON object>"
      ]
     },
     "metadata": {
      "application/json": {
       "expanded": false,
       "root": "root"
      }
     },
     "output_type": "display_data"
    },
    {
     "data": {
      "text/html": [
       "\n",
       "    <style>\n",
       "        .usage-table {\n",
       "            font-family: Arial, sans-serif;\n",
       "            font-size: 12px;\n",
       "            width: 70%;\n",
       "            border-collapse: collapse;\n",
       "            margin: 10px auto;\n",
       "        }\n",
       "        .usage-table th, .usage-table td {\n",
       "            padding: 6px 10px;\n",
       "            text-align: left;\n",
       "            border-bottom: 1px solid #ddd;\n",
       "        }\n",
       "        .usage-table th {\n",
       "            background-color: #007bff;\n",
       "            color: white;\n",
       "            text-align: center;\n",
       "        }\n",
       "        .input-row { background-color: #e3f2fd; }\n",
       "        .cached-row { background-color: #f1f8e9; }\n",
       "        .output-row { background-color: #ffebee; }\n",
       "        .total-row { background-color: #007bff; font-weight: bold; }\n",
       "    </style>\n",
       "    \n",
       "    <table class=\"usage-table\">\n",
       "        <tr>\n",
       "            <th>Type</th>\n",
       "            <th>Rate ($/1M)</th>\n",
       "            <th>Tokens</th>\n",
       "            <th>Cost ($)</th>\n",
       "        </tr>\n",
       "        <tr class=\"input-row\">\n",
       "            <td>Input 🔽</td>\n",
       "            <td>0.15</td>\n",
       "            <td>1222</td>\n",
       "            <td>0.0001833000</td>\n",
       "        </tr>\n",
       "        <tr class=\"cached-row\">\n",
       "            <td>Cached Input 🔄</td>\n",
       "            <td>0.075</td>\n",
       "            <td>1152</td>\n",
       "            <td>0.0000864000</td>\n",
       "        </tr>\n",
       "        <tr class=\"output-row\">\n",
       "            <td>Output 🔼</td>\n",
       "            <td>0.6</td>\n",
       "            <td>62</td>\n",
       "            <td>0.0000372000</td>\n",
       "        </tr>\n",
       "        <tr class=\"total-row\">\n",
       "            <td>Total 💰</td>\n",
       "            <td>—</td>\n",
       "            <td>—</td>\n",
       "            <td>0.0003069000</td>\n",
       "        </tr>\n",
       "    </table>\n",
       "    "
      ],
      "text/plain": [
       "<IPython.core.display.HTML object>"
      ]
     },
     "metadata": {},
     "output_type": "display_data"
    },
    {
     "name": "stdout",
     "output_type": "stream",
     "text": [
      "Great, Suyash! Coding can vary in requirements depending on the type of development work you do. Are you primarily working on web development, software development, or perhaps mobile app development? Understanding your specific focus will help me tailor my recommendations accordingly. Let me know if my understanding is correct until now.\n"
     ]
    }
   ],
   "source": [
    "debug_conversation.append({'role': 'user', 'content': \"Hi, I am Suyash. I need a laptop for coding\"})\n",
    "response = get_chat_model_completions(debug_conversation)\n",
    "debug_conversation.append({'role': 'assistant', 'content': response})\n",
    "print(response)"
   ]
  },
  {
   "cell_type": "code",
   "execution_count": 12,
   "id": "0da6ecda-9ae4-47e5-91e6-04e455783bb6",
   "metadata": {},
   "outputs": [
    {
     "data": {
      "application/json": {
       "choices": [
        {
         "finish_reason": "stop",
         "index": 0,
         "logprobs": null,
         "message": {
          "annotations": [],
          "audio": null,
          "content": "Thank you for the clarification, Suyash! For web and software development, you'll likely need a laptop with good multitasking capabilities, as you'll be running multiple applications and possibly virtual machines. \n\nAdditionally, a decent processing speed is important for compiling code and running applications smoothly. \n\nDo you also require a high-quality display for design work or debugging, or is that less of a priority for you? And how important is portability? Do you often work on the go, or do you primarily work from a fixed location?",
          "function_call": null,
          "refusal": null,
          "role": "assistant",
          "tool_calls": null
         }
        }
       ],
       "created": 1743340995,
       "id": "chatcmpl-BGmv5twPBr0HVPqABEOTDjhLM1jjJ",
       "model": "gpt-4o-mini-2024-07-18",
       "object": "chat.completion",
       "service_tier": "default",
       "system_fingerprint": "fp_86d0290411",
       "usage": {
        "completion_tokens": 105,
        "completion_tokens_details": {
         "accepted_prediction_tokens": 0,
         "audio_tokens": 0,
         "reasoning_tokens": 0,
         "rejected_prediction_tokens": 0
        },
        "prompt_tokens": 1298,
        "prompt_tokens_details": {
         "audio_tokens": 0,
         "cached_tokens": 1152
        },
        "total_tokens": 1403
       }
      },
      "text/plain": [
       "<IPython.core.display.JSON object>"
      ]
     },
     "metadata": {
      "application/json": {
       "expanded": false,
       "root": "root"
      }
     },
     "output_type": "display_data"
    },
    {
     "data": {
      "text/html": [
       "\n",
       "    <style>\n",
       "        .usage-table {\n",
       "            font-family: Arial, sans-serif;\n",
       "            font-size: 12px;\n",
       "            width: 70%;\n",
       "            border-collapse: collapse;\n",
       "            margin: 10px auto;\n",
       "        }\n",
       "        .usage-table th, .usage-table td {\n",
       "            padding: 6px 10px;\n",
       "            text-align: left;\n",
       "            border-bottom: 1px solid #ddd;\n",
       "        }\n",
       "        .usage-table th {\n",
       "            background-color: #007bff;\n",
       "            color: white;\n",
       "            text-align: center;\n",
       "        }\n",
       "        .input-row { background-color: #e3f2fd; }\n",
       "        .cached-row { background-color: #f1f8e9; }\n",
       "        .output-row { background-color: #ffebee; }\n",
       "        .total-row { background-color: #007bff; font-weight: bold; }\n",
       "    </style>\n",
       "    \n",
       "    <table class=\"usage-table\">\n",
       "        <tr>\n",
       "            <th>Type</th>\n",
       "            <th>Rate ($/1M)</th>\n",
       "            <th>Tokens</th>\n",
       "            <th>Cost ($)</th>\n",
       "        </tr>\n",
       "        <tr class=\"input-row\">\n",
       "            <td>Input 🔽</td>\n",
       "            <td>0.15</td>\n",
       "            <td>1298</td>\n",
       "            <td>0.0001947000</td>\n",
       "        </tr>\n",
       "        <tr class=\"cached-row\">\n",
       "            <td>Cached Input 🔄</td>\n",
       "            <td>0.075</td>\n",
       "            <td>1152</td>\n",
       "            <td>0.0000864000</td>\n",
       "        </tr>\n",
       "        <tr class=\"output-row\">\n",
       "            <td>Output 🔼</td>\n",
       "            <td>0.6</td>\n",
       "            <td>105</td>\n",
       "            <td>0.0000630000</td>\n",
       "        </tr>\n",
       "        <tr class=\"total-row\">\n",
       "            <td>Total 💰</td>\n",
       "            <td>—</td>\n",
       "            <td>—</td>\n",
       "            <td>0.0003441000</td>\n",
       "        </tr>\n",
       "    </table>\n",
       "    "
      ],
      "text/plain": [
       "<IPython.core.display.HTML object>"
      ]
     },
     "metadata": {},
     "output_type": "display_data"
    },
    {
     "name": "stdout",
     "output_type": "stream",
     "text": [
      "Thank you for the clarification, Suyash! For web and software development, you'll likely need a laptop with good multitasking capabilities, as you'll be running multiple applications and possibly virtual machines. \n",
      "\n",
      "Additionally, a decent processing speed is important for compiling code and running applications smoothly. \n",
      "\n",
      "Do you also require a high-quality display for design work or debugging, or is that less of a priority for you? And how important is portability? Do you often work on the go, or do you primarily work from a fixed location?\n"
     ]
    }
   ],
   "source": [
    "debug_conversation.append({'role': 'user', 'content': 'I do web development and software development'})\n",
    "response = get_chat_model_completions(debug_conversation)\n",
    "debug_conversation.append({'role': 'assistant', 'content': response})\n",
    "print(response)"
   ]
  },
  {
   "cell_type": "code",
   "execution_count": 13,
   "id": "4605c2e1-3473-4ef4-866d-ba3d3191d5b8",
   "metadata": {},
   "outputs": [
    {
     "data": {
      "application/json": {
       "choices": [
        {
         "finish_reason": "stop",
         "index": 0,
         "logprobs": null,
         "message": {
          "annotations": [],
          "audio": null,
          "content": "Thank you for the information, Suyash! Based on your responses, I can infer the following:\n\n- **Multitasking**: High (since you'll be running multiple applications)\n- **Processing speed**: High (for compiling and running applications)\n- **Display quality**: Low (as you mentioned it's not a priority)\n- **Portability**: Medium (since you want it to be portable)\n\nNow, could you please let me know your budget for the laptop? This will help me find options that fit within your price range while meeting the specified requirements.",
          "function_call": null,
          "refusal": null,
          "role": "assistant",
          "tool_calls": null
         }
        }
       ],
       "created": 1743341013,
       "id": "chatcmpl-BGmvNMTSCprY8bP8PkoyNegYVGZGd",
       "model": "gpt-4o-mini-2024-07-18",
       "object": "chat.completion",
       "service_tier": "default",
       "system_fingerprint": "fp_86d0290411",
       "usage": {
        "completion_tokens": 116,
        "completion_tokens_details": {
         "accepted_prediction_tokens": 0,
         "audio_tokens": 0,
         "reasoning_tokens": 0,
         "rejected_prediction_tokens": 0
        },
        "prompt_tokens": 1429,
        "prompt_tokens_details": {
         "audio_tokens": 0,
         "cached_tokens": 1280
        },
        "total_tokens": 1545
       }
      },
      "text/plain": [
       "<IPython.core.display.JSON object>"
      ]
     },
     "metadata": {
      "application/json": {
       "expanded": false,
       "root": "root"
      }
     },
     "output_type": "display_data"
    },
    {
     "data": {
      "text/html": [
       "\n",
       "    <style>\n",
       "        .usage-table {\n",
       "            font-family: Arial, sans-serif;\n",
       "            font-size: 12px;\n",
       "            width: 70%;\n",
       "            border-collapse: collapse;\n",
       "            margin: 10px auto;\n",
       "        }\n",
       "        .usage-table th, .usage-table td {\n",
       "            padding: 6px 10px;\n",
       "            text-align: left;\n",
       "            border-bottom: 1px solid #ddd;\n",
       "        }\n",
       "        .usage-table th {\n",
       "            background-color: #007bff;\n",
       "            color: white;\n",
       "            text-align: center;\n",
       "        }\n",
       "        .input-row { background-color: #e3f2fd; }\n",
       "        .cached-row { background-color: #f1f8e9; }\n",
       "        .output-row { background-color: #ffebee; }\n",
       "        .total-row { background-color: #007bff; font-weight: bold; }\n",
       "    </style>\n",
       "    \n",
       "    <table class=\"usage-table\">\n",
       "        <tr>\n",
       "            <th>Type</th>\n",
       "            <th>Rate ($/1M)</th>\n",
       "            <th>Tokens</th>\n",
       "            <th>Cost ($)</th>\n",
       "        </tr>\n",
       "        <tr class=\"input-row\">\n",
       "            <td>Input 🔽</td>\n",
       "            <td>0.15</td>\n",
       "            <td>1429</td>\n",
       "            <td>0.0002143500</td>\n",
       "        </tr>\n",
       "        <tr class=\"cached-row\">\n",
       "            <td>Cached Input 🔄</td>\n",
       "            <td>0.075</td>\n",
       "            <td>1280</td>\n",
       "            <td>0.0000960000</td>\n",
       "        </tr>\n",
       "        <tr class=\"output-row\">\n",
       "            <td>Output 🔼</td>\n",
       "            <td>0.6</td>\n",
       "            <td>116</td>\n",
       "            <td>0.0000696000</td>\n",
       "        </tr>\n",
       "        <tr class=\"total-row\">\n",
       "            <td>Total 💰</td>\n",
       "            <td>—</td>\n",
       "            <td>—</td>\n",
       "            <td>0.0003799500</td>\n",
       "        </tr>\n",
       "    </table>\n",
       "    "
      ],
      "text/plain": [
       "<IPython.core.display.HTML object>"
      ]
     },
     "metadata": {},
     "output_type": "display_data"
    },
    {
     "name": "stdout",
     "output_type": "stream",
     "text": [
      "Thank you for the information, Suyash! Based on your responses, I can infer the following:\n",
      "\n",
      "- **Multitasking**: High (since you'll be running multiple applications)\n",
      "- **Processing speed**: High (for compiling and running applications)\n",
      "- **Display quality**: Low (as you mentioned it's not a priority)\n",
      "- **Portability**: Medium (since you want it to be portable)\n",
      "\n",
      "Now, could you please let me know your budget for the laptop? This will help me find options that fit within your price range while meeting the specified requirements.\n"
     ]
    }
   ],
   "source": [
    "debug_conversation.append({'role': 'user', 'content': \"No, i don't need a high quality display. Yes i would like the laptop to be portable\"})\n",
    "response = get_chat_model_completions(debug_conversation)\n",
    "debug_conversation.append({'role': 'assistant', 'content': response})\n",
    "print(response)"
   ]
  }
 ],
 "metadata": {
  "kernelspec": {
   "display_name": "Python 3 (ipykernel)",
   "language": "python",
   "name": "python3"
  },
  "language_info": {
   "codemirror_mode": {
    "name": "ipython",
    "version": 3
   },
   "file_extension": ".py",
   "mimetype": "text/x-python",
   "name": "python",
   "nbconvert_exporter": "python",
   "pygments_lexer": "ipython3",
   "version": "3.11.11"
  }
 },
 "nbformat": 4,
 "nbformat_minor": 5
}
