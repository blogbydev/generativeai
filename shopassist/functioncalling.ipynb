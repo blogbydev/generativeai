{
 "cells": [
  {
   "cell_type": "code",
   "execution_count": 1,
   "id": "1701c44e-107a-4139-a8b1-5ce9459e2ceb",
   "metadata": {},
   "outputs": [],
   "source": [
    "# let's undrestand function calling in openai\n",
    "import openai\n",
    "import pandas as pd\n",
    "import json, ast\n"
   ]
  },
  {
   "cell_type": "code",
   "execution_count": 2,
   "id": "34023b8b-1772-410d-9033-ca035774b551",
   "metadata": {},
   "outputs": [],
   "source": [
    "openai_key_file_path = '../OPENAI_API_KEY.txt'\n",
    "with open(openai_key_file_path, 'r') as file:\n",
    "    openai.api_key = file.readline()"
   ]
  },
  {
   "cell_type": "code",
   "execution_count": 4,
   "id": "93558e29-f924-4ad4-a760-77f1d472651f",
   "metadata": {},
   "outputs": [],
   "source": [
    "response = openai.chat.completions.create(\n",
    "    model = 'gpt-4o-mini',\n",
    "    messages = [{'role': 'system', 'content': 'You are a joke teller'}, {'role': 'user', 'content': 'tell me a joke'}]\n",
    ")"
   ]
  },
  {
   "cell_type": "code",
   "execution_count": 7,
   "id": "d05b0766-7d3f-426c-b617-ebfbdbeea5d8",
   "metadata": {},
   "outputs": [
    {
     "name": "stdout",
     "output_type": "stream",
     "text": [
      "Why don’t scientists trust atoms?\n",
      "\n",
      "Because they make up everything!\n"
     ]
    }
   ],
   "source": [
    "print(response.choices[0].message.content)"
   ]
  },
  {
   "cell_type": "code",
   "execution_count": 8,
   "id": "78e5e249-cb1f-440b-844d-9d4987a014c6",
   "metadata": {},
   "outputs": [],
   "source": [
    "def give_special_moon_text():\n",
    "    return 'moon'"
   ]
  },
  {
   "cell_type": "code",
   "execution_count": 64,
   "id": "c51cc009-775f-4a74-8ce6-fdd7c5c8b522",
   "metadata": {},
   "outputs": [],
   "source": [
    "tools = [\n",
    "    {\n",
    "    \"type\": \"function\",\n",
    "    \"function\": {\n",
    "      \"name\": \"return_moontext\",\n",
    "      \"description\": \"Returns the text 'moon'\",\n",
    "      \"strict\": True,\n",
    "      \"parameters\": {\n",
    "        \"type\": \"object\",\n",
    "        \"properties\": {},\n",
    "        \"additionalProperties\": False\n",
    "      }\n",
    "    }\n",
    "    }\n",
    "]\n",
    "\n",
    "messages = [{'role': 'user', 'content': 'how is the apple moon?'}]\n",
    "\n",
    "response = openai.chat.completions.create(\n",
    "    model = 'gpt-4o-mini',\n",
    "    messages = messages,\n",
    "    tools = tools\n",
    ")"
   ]
  },
  {
   "cell_type": "code",
   "execution_count": 42,
   "id": "5c4138ba-b66e-4824-a252-770d40c0775d",
   "metadata": {},
   "outputs": [],
   "source": [
    "def call_function(name, args):\n",
    "    if(name == \"return_moontext\"):\n",
    "        return give_special_moon_text(**args)"
   ]
  },
  {
   "cell_type": "code",
   "execution_count": 65,
   "id": "ac2ce4f3-c6ca-4f6f-ac2c-7f95d21a0eb7",
   "metadata": {},
   "outputs": [
    {
     "name": "stdout",
     "output_type": "stream",
     "text": [
      "Function: return_moontext\n",
      "Arguments: {}\n",
      "Function Response: moon\n"
     ]
    }
   ],
   "source": [
    "response_message = response.choices[0].message\n",
    "tool_calls = response_message.tool_calls\n",
    "\n",
    "if(tool_calls):\n",
    "    \n",
    "    messages.append(response_message.model_dump())\n",
    "\n",
    "    for tool_call in tool_calls:\n",
    "        function_name = tool_call.function.name\n",
    "        function_arguments = tool_call.function.arguments\n",
    "        print(f'Function: {function_name}')\n",
    "        print(f'Arguments: {function_arguments}')\n",
    "        function_args = json.loads(function_arguments)\n",
    "        function_response = call_function(function_name, function_args)\n",
    "        print(f'Function Response: {function_response}')\n",
    "\n",
    "        messages.append({\n",
    "            \"role\": \"tool\",\n",
    "            \"name\": function_name,\n",
    "            \"content\": function_response,\n",
    "            \"tool_call_id\": tool_call.id\n",
    "        })\n",
    "\n",
    "response_2 = openai.chat.completions.create(\n",
    "    model = 'gpt-4o-mini',\n",
    "    messages = messages,\n",
    "    tools = tools,\n",
    "    temperature = 0\n",
    ")\n",
    "        "
   ]
  },
  {
   "cell_type": "code",
   "execution_count": 66,
   "id": "70881ec9-2107-4bee-ac09-5edf9120a9bd",
   "metadata": {},
   "outputs": [
    {
     "data": {
      "text/plain": [
       "[{'role': 'user', 'content': 'how is the apple moon?'},\n",
       " {'content': None,\n",
       "  'refusal': None,\n",
       "  'role': 'assistant',\n",
       "  'audio': None,\n",
       "  'function_call': None,\n",
       "  'tool_calls': [{'id': 'call_Rxzm5mqrFJrqNfoKAKrUBj1p',\n",
       "    'function': {'arguments': '{}', 'name': 'return_moontext'},\n",
       "    'type': 'function'}],\n",
       "  'annotations': []},\n",
       " {'role': 'tool',\n",
       "  'name': 'return_moontext',\n",
       "  'content': 'moon',\n",
       "  'tool_call_id': 'call_Rxzm5mqrFJrqNfoKAKrUBj1p'}]"
      ]
     },
     "execution_count": 66,
     "metadata": {},
     "output_type": "execute_result"
    }
   ],
   "source": [
    "messages"
   ]
  },
  {
   "cell_type": "code",
   "execution_count": 70,
   "id": "6c624162-87f6-4eeb-b46a-e6dafc6376b0",
   "metadata": {},
   "outputs": [
    {
     "data": {
      "application/json": {
       "choices": [
        {
         "finish_reason": "stop",
         "index": 0,
         "logprobs": null,
         "message": {
          "annotations": [],
          "audio": null,
          "content": "The phrase \"apple moon\" doesn't have a specific meaning in common usage, but if you're referring to the moon in general, it is simply called the \"moon.\" If you meant something else by \"apple moon,\" please provide more context!",
          "function_call": null,
          "refusal": null,
          "role": "assistant",
          "tool_calls": null
         }
        }
       ],
       "created": 1743496183,
       "id": "chatcmpl-BHRI7cDbi3T8T6O3rU3mrxQF3uT2s",
       "model": "gpt-4o-mini-2024-07-18",
       "object": "chat.completion",
       "service_tier": "default",
       "system_fingerprint": "fp_b376dfbbd5",
       "usage": {
        "completion_tokens": 50,
        "completion_tokens_details": {
         "accepted_prediction_tokens": 0,
         "audio_tokens": 0,
         "reasoning_tokens": 0,
         "rejected_prediction_tokens": 0
        },
        "prompt_tokens": 68,
        "prompt_tokens_details": {
         "audio_tokens": 0,
         "cached_tokens": 0
        },
        "total_tokens": 118
       }
      },
      "text/plain": [
       "<IPython.core.display.JSON object>"
      ]
     },
     "metadata": {
      "application/json": {
       "expanded": false,
       "root": "root"
      }
     },
     "output_type": "display_data"
    }
   ],
   "source": [
    "display(JSON(response_2.model_dump()))"
   ]
  },
  {
   "cell_type": "code",
   "execution_count": 98,
   "id": "49011fd1-0b2a-45dd-a841-9a7b7782fc4c",
   "metadata": {},
   "outputs": [
    {
     "name": "stdout",
     "output_type": "stream",
     "text": [
      "{'meals': [{'idMeal': '52771', 'strMeal': 'Spicy Arrabiata Penne', 'strMealAlternate': None, 'strCategory': 'Vegetarian', 'strArea': 'Italian', 'strInstructions': 'Bring a large pot of water to a boil. Add kosher salt to the boiling water, then add the pasta. Cook according to the package instructions, about 9 minutes.\\r\\nIn a large skillet over medium-high heat, add the olive oil and heat until the oil starts to shimmer. Add the garlic and cook, stirring, until fragrant, 1 to 2 minutes. Add the chopped tomatoes, red chile flakes, Italian seasoning and salt and pepper to taste. Bring to a boil and cook for 5 minutes. Remove from the heat and add the chopped basil.\\r\\nDrain the pasta and add it to the sauce. Garnish with Parmigiano-Reggiano flakes and more basil and serve warm.', 'strMealThumb': 'https://www.themealdb.com/images/media/meals/ustsqw1468250014.jpg', 'strTags': 'Pasta,Curry', 'strYoutube': 'https://www.youtube.com/watch?v=1IszT_guI08', 'strIngredient1': 'penne rigate', 'strIngredient2': 'olive oil', 'strIngredient3': 'garlic', 'strIngredient4': 'chopped tomatoes', 'strIngredient5': 'red chilli flakes', 'strIngredient6': 'italian seasoning', 'strIngredient7': 'basil', 'strIngredient8': 'Parmigiano-Reggiano', 'strIngredient9': '', 'strIngredient10': '', 'strIngredient11': '', 'strIngredient12': '', 'strIngredient13': '', 'strIngredient14': '', 'strIngredient15': '', 'strIngredient16': None, 'strIngredient17': None, 'strIngredient18': None, 'strIngredient19': None, 'strIngredient20': None, 'strMeasure1': '1 pound', 'strMeasure2': '1/4 cup', 'strMeasure3': '3 cloves', 'strMeasure4': '1 tin ', 'strMeasure5': '1/2 teaspoon', 'strMeasure6': '1/2 teaspoon', 'strMeasure7': '6 leaves', 'strMeasure8': 'sprinkling', 'strMeasure9': '', 'strMeasure10': '', 'strMeasure11': '', 'strMeasure12': '', 'strMeasure13': '', 'strMeasure14': '', 'strMeasure15': '', 'strMeasure16': None, 'strMeasure17': None, 'strMeasure18': None, 'strMeasure19': None, 'strMeasure20': None, 'strSource': None, 'strImageSource': None, 'strCreativeCommonsConfirmed': None, 'dateModified': None}]}\n"
     ]
    }
   ],
   "source": [
    "import requests\n",
    "url = 'https://www.themealdb.com/api/json/v1/1/search.php?s=Arrabiata'\n",
    "r = requests.get(url)\n",
    "data = r.json()\n",
    "\n",
    "print(data)"
   ]
  },
  {
   "cell_type": "code",
   "execution_count": 105,
   "id": "75c501d9-4e48-4502-ad67-68d40033a575",
   "metadata": {},
   "outputs": [
    {
     "data": {
      "application/json": {
       "meals": [
        {
         "idIngredient": "1",
         "strDescription": "The chicken is a type of domesticated fowl, a subspecies of the red junglefowl (Gallus gallus). It is one of the most common and widespread domestic animals, with a total population of more than 19 billion as of 2011. There are more chickens in the world than any other bird or domesticated fowl. Humans keep chickens primarily as a source of food (consuming both their meat and eggs) and, less commonly, as pets. Originally raised for cockfighting or for special ceremonies, chickens were not kept for food until the Hellenistic period (4th–2nd centuries BC).\r\n\r\nGenetic studies have pointed to multiple maternal origins in South Asia, Southeast Asia, and East Asia, but with the clade found in the Americas, Europe, the Middle East and Africa originating in the Indian subcontinent. From ancient India, the domesticated chicken spread to Lydia in western Asia Minor, and to Greece by the 5th century BC. Fowl had been known in Egypt since the mid-15th century BC, with the \"bird that gives birth every day\" having come to Egypt from the land between Syria and Shinar, Babylonia, according to the annals of Thutmose III.",
         "strIngredient": "Chicken",
         "strType": null
        },
        {
         "idIngredient": "2",
         "strDescription": "Salmon is the common name for several species of ray-finned fish in the family Salmonidae. Other fish in the same family include trout, char, grayling and whitefish. Salmon are native to tributaries of the North Atlantic (genus Salmo) and Pacific Ocean (genus Oncorhynchus). Many species of salmon have been introduced into non-native environments such as the Great Lakes of North America and Patagonia in South America. Salmon are intensively farmed in many parts of the world.\r\n\r\nTypically, salmon are anadromous: they hatch in fresh water, migrate to the ocean, then return to fresh water to reproduce. However, populations of several species are restricted to fresh water through their lives. Folklore has it that the fish return to the exact spot where they hatched to spawn. Tracking studies have shown this to be mostly true. A portion of a returning salmon run may stray and spawn in different freshwater systems; the percent of straying depends on the species of salmon. Homing behavior has been shown to depend on olfactory memory. Salmon date back to the Neogene.",
         "strIngredient": "Salmon",
         "strType": null
        },
        {
         "idIngredient": "3",
         "strDescription": "Beef is the culinary name for meat from cattle, particularly skeletal muscle. Humans have been eating beef since prehistoric times. Beef is a source of high-quality protein and nutrients.\r\n\r\nMost beef skeletal muscle meat can be used as is by merely cutting into certain parts, such as roasts, short ribs or steak (filet mignon, sirloin steak, rump steak, rib steak, rib eye steak, hanger steak, etc.), while other cuts are processed (corned beef or beef jerky). Trimmings, on the other hand, are usually mixed with meat from older, leaner (therefore tougher) cattle, are ground, minced or used in sausages. The blood is used in some varieties called blood sausage. Other parts that are eaten include other muscles and offal, such as the oxtail, liver, tongue, tripe from the reticulum or rumen, glands (particularly the pancreas and thymus, referred to as sweetbread), the heart, the brain (although forbidden where there is a danger of bovine spongiform encephalopathy, BSE, commonly referred to as mad cow disease), the kidneys, and the tender testicles of the bull (known in the United States as calf fries, prairie oysters, or Rocky Mountain oysters). Some intestines are cooked and eaten as is, but are more often cleaned and used as natural sausage casings. The bones are used for making beef stock.",
         "strIngredient": "Beef",
         "strType": null
        },
        {
         "idIngredient": "4",
         "strDescription": "Pork is the culinary name for the flesh of a domestic pig (Sus scrofa domesticus). It is the most commonly consumed meat worldwide,[1] with evidence of pig husbandry dating back to 5000 BC.\r\n\r\nPork is eaten both freshly cooked and preserved. Curing extends the shelf life of the pork products. Ham, smoked pork, gammon, bacon and sausage are examples of preserved pork. Charcuterie is the branch of cooking devoted to prepared meat products, many from pork.\r\n\r\nPig is the most popular meat in the Eastern and non-Muslim parts of Southeastern Asia (Indochina, Philippines, Singapore, East Timor) and is also very common in the Western world, especially in Central Europe. It is highly prized in Asian cuisines for its fat content and pleasant texture. Consumption of pork is forbidden by Jewish, Muslim and Rastafarian dietary law, for religious reasons, with several suggested possible causes.",
         "strIngredient": "Pork",
         "strType": null
        },
        {
         "idIngredient": "5",
         "strDescription": "The avocado, a tree with probable origin in South Central Mexico, is classified as a member of the flowering plant family Lauraceae. The fruit of the plant, also called an avocado (or avocado pear or alligator pear), is botanically a large berry containing a single large seed.\r\n\r\nAvocados are commercially valuable and are cultivated in tropical and Mediterranean climates throughout the world. They have a green-skinned, fleshy body that may be pear-shaped, egg-shaped, or spherical. Commercially, they ripen after harvesting. Avocado trees are partially self-pollinating, and are often propagated through grafting to maintain predictable fruit quality and quantity. In 2017, Mexico produced 34% of the world supply of avocados.",
         "strIngredient": "Avocado",
         "strType": null
        },
        {
         "idIngredient": "9",
         "strDescription": "Apple cider vinegar, or cider vinegar, is a vinegar made from fermented apple juice, and used in salad dressings, marinades, vinaigrettes, food preservatives, and chutneys. It is made by crushing apples, then squeezing out the juice. Bacteria and yeast are added to the liquid to start the alcoholic fermentation process, which converts the sugars to alcohol. In a second fermentation step, the alcohol is converted into vinegar by acetic acid-forming bacteria (Acetobacter species). Acetic acid and malic acid combine to give vinegar its sour taste. Apple cider vinegar has no medicinal or nutritional value. There is no high-quality clinical evidence that regular consumption of apple cider vinegar helps to maintain or lose body weight, or is effective to manage blood glucose and lipid levels.",
         "strIngredient": "Apple Cider Vinegar",
         "strType": null
        },
        {
         "idIngredient": "10",
         "strDescription": "Asparagus, or garden asparagus, folk name sparrow grass, scientific name Asparagus officinalis, is a perennial flowering plant species in the genus Asparagus. Its young shoots are used as a spring vegetable.\r\n\r\nIt was once classified in the lily family, like the related Allium species, onions and garlic. However, genetic research places lilies, Allium, and asparagus in three separate families—the Liliaceae, Amaryllidaceae, and Asparagaceae, respectively—with the Amaryllidaceae and Asparagaceae being grouped together in the order Asparagales. Sources differ as to the native range of Asparagus officinalis, but generally include most of Europe and western temperate Asia. It is widely cultivated as a vegetable crop.",
         "strIngredient": "Asparagus",
         "strType": null
        },
        {
         "idIngredient": "11",
         "strDescription": "Eggplant (US, Australia), aubergine (UK), or brinjal (South Asia and South Africa) is a plant species in the nightshade family Solanaceae. Solanum melongena is grown worldwide for its edible fruit.\r\n\r\nMost commonly purple, the spongy, absorbent fruit is used in various cuisines. Although often considered a vegetable, it is a berry by botanical definition. As a member of the genus Solanum, it is related to tomato and potato. Like the tomato, its skin and seeds can be eaten, but, like the potato, it is usually eaten cooked. Eggplant is nutritionally low in macronutrient and micronutrient content, but the capability of the fruit to absorb oils and flavors into its flesh through cooking expands its use in the culinary arts.\r\n\r\nIt was originally domesticated from the wild nightshade species thorn or bitter apple, S. incanum, probably with two independent domestications: one in South Asia, and one in East Asia.",
         "strIngredient": "Aubergine",
         "strType": null
        },
        {
         "idIngredient": "13",
         "strDescription": "The tomato is the edible, often red, berry of the plant Solanum lycopersicum, commonly known as a tomato plant. The species originated in western South America and Central America. The Nahuatl (Aztec language) word tomatl gave rise to the Spanish word tomate, from which the English word tomato derived.[3][4] Its domestication and use as a cultivated food may have originated with the indigenous peoples of Mexico. The Aztecs used tomatoes in their cooking at the time of the Spanish conquest of the Aztec Empire, and after the Spanish encountered the tomato for the first time after their contact with the Aztecs, they brought the plant to Europe. From there, the tomato was introduced to other parts of the European-colonized world during the 16th century.",
         "strIngredient": "Baby Plum Tomatoes",
         "strType": null
        },
        {
         "idIngredient": "14",
         "strDescription": "Bacon is a type of salt-cured pork. Bacon is prepared from several different cuts of meat, typically from the pork belly or from back cuts, which have less fat than the belly. It is eaten on its own, as a side dish (particularly in breakfasts), or used as a minor ingredient to flavour dishes (e.g., the club sandwich). Bacon is also used for barding and larding roasts, especially game, including venison and pheasant. The word is derived from the Old High German bacho, meaning \"buttock\", \"ham\" or \"side of bacon\", and is cognate with the Old French bacon.",
         "strIngredient": "Bacon",
         "strType": null
        },
        {
         "idIngredient": "15",
         "strDescription": "Baking powder is a dry chemical leavening agent, a mixture of a carbonate or bicarbonate and a weak acid. The base and acid are prevented from reacting prematurely by the inclusion of a buffer such as cornstarch. Baking powder is used to increase the volume and lighten the texture of baked goods. It works by releasing carbon dioxide gas into a batter or dough through an acid-base reaction, causing bubbles in the wet mixture to expand and thus leavening the mixture. The first single-acting baking powder was developed by Birmingham based food manufacturer Alfred Bird in England in 1843. The first double-acting baking powder was developed by Eben Norton Horsford in America in the 1860s.",
         "strIngredient": "Baking Powder",
         "strType": null
        },
        {
         "idIngredient": "16",
         "strDescription": "Balsamic vinegar (Italian: aceto balsamico), occasionally shortened to balsamic, is a very dark, concentrated, and intensely flavoured vinegar originating in Italy, made wholly or partially from grape must. Grape must is freshly crushed grape juice with all the skins, seeds and stems.",
         "strIngredient": "Balsamic Vinegar",
         "strType": null
        },
        {
         "idIngredient": "17",
         "strDescription": "Basil, also called great basil, is a culinary herb of the family Lamiaceae (mints).\r\n\r\nBasil is native to tropical regions from central Africa to Southeast Asia. It is a tender plant, and is used in cuisines worldwide. Depending on the species and cultivar, the leaves may taste somewhat like anise, with a strong, pungent, often sweet smell.",
         "strIngredient": "Basil",
         "strType": null
        },
        {
         "idIngredient": "18",
         "strDescription": "Basil, also called great basil, is a culinary herb of the family Lamiaceae (mints).\r\n",
         "strIngredient": "Basil Leaves",
         "strType": null
        },
        {
         "idIngredient": "19",
         "strDescription": "Basmati is a variety of long, slender-grained aromatic rice which is traditionally from the Indian subcontinent. As of 2018-19, India exported to over 90% of the overseas basmati rice market, while Pakistan accounted for the remainder, according to the Indian state-run Agricultural and Processed Food Products Export Development Authority  and the Pakistan government-run Economic Survey of Pakistan. Many countries use domestically grown basmati rice crops; however, basmati is geographically exclusive to select districts of India, Pakistan, Nepal and Bangladesh.",
         "strIngredient": "Basmati Rice",
         "strType": null
        },
        {
         "idIngredient": "20",
         "strDescription": "The bay leaf is an aromatic leaf commonly used in cooking. It can be used whole, or as dried and ground.",
         "strIngredient": "Bay Leaf",
         "strType": null
        },
        {
         "idIngredient": "21",
         "strDescription": "The bay leaf is an aromatic leaf commonly used in cooking. It can be used whole, or as dried and ground.",
         "strIngredient": "Bay Leaves",
         "strType": null
        },
        {
         "idIngredient": "23",
         "strDescription": "Beef is the culinary name for meat from cattle, particularly skeletal muscle. Humans have been eating beef since prehistoric times. Beef is a source of high-quality protein and nutrients.\r\n\r\nMost beef skeletal muscle meat can be used as is by merely cutting into certain parts, such as roasts, short ribs or steak (filet mignon, sirloin steak, rump steak, rib steak, rib eye steak, hanger steak, etc.), while other cuts are processed (corned beef or beef jerky). Trimmings, on the other hand, are usually mixed with meat from older, leaner (therefore tougher) cattle, are ground, minced or used in sausages. The blood is used in some varieties called blood sausage. Other parts that are eaten include other muscles and offal, such as the oxtail, liver, tongue, tripe from the reticulum or rumen, glands (particularly the pancreas and thymus, referred to as sweetbread), the heart, the brain (although forbidden where there is a danger of bovine spongiform encephalopathy, BSE, commonly referred to as mad cow disease), the kidneys, and the tender testicles of the bull (known in the United States as calf fries, prairie oysters, or Rocky Mountain oysters). Some intestines are cooked and eaten as is, but are more often cleaned and used as natural sausage casings. The bones are used for making beef stock.",
         "strIngredient": "Beef Brisket",
         "strType": null
        },
        {
         "idIngredient": "24",
         "strDescription": "Beef is the culinary name for meat from cattle, particularly skeletal muscle. Humans have been eating beef since prehistoric times. Beef is a source of high-quality protein and nutrients.\r\n\r\nMost beef skeletal muscle meat can be used as is by merely cutting into certain parts, such as roasts, short ribs or steak (filet mignon, sirloin steak, rump steak, rib steak, rib eye steak, hanger steak, etc.), while other cuts are processed (corned beef or beef jerky). Trimmings, on the other hand, are usually mixed with meat from older, leaner (therefore tougher) cattle, are ground, minced or used in sausages. The blood is used in some varieties called blood sausage. Other parts that are eaten include other muscles and offal, such as the oxtail, liver, tongue, tripe from the reticulum or rumen, glands (particularly the pancreas and thymus, referred to as sweetbread), the heart, the brain (although forbidden where there is a danger of bovine spongiform encephalopathy, BSE, commonly referred to as mad cow disease), the kidneys, and the tender testicles of the bull (known in the United States as calf fries, prairie oysters, or Rocky Mountain oysters). Some intestines are cooked and eaten as is, but are more often cleaned and used as natural sausage casings. The bones are used for making beef stock.",
         "strIngredient": "Beef Fillet",
         "strType": null
        },
        {
         "idIngredient": "25",
         "strDescription": "Beef is the culinary name for meat from cattle, particularly skeletal muscle. Humans have been eating beef since prehistoric times. Beef is a source of high-quality protein and nutrients.\r\n\r\nMost beef skeletal muscle meat can be used as is by merely cutting into certain parts, such as roasts, short ribs or steak (filet mignon, sirloin steak, rump steak, rib steak, rib eye steak, hanger steak, etc.), while other cuts are processed (corned beef or beef jerky). Trimmings, on the other hand, are usually mixed with meat from older, leaner (therefore tougher) cattle, are ground, minced or used in sausages. The blood is used in some varieties called blood sausage. Other parts that are eaten include other muscles and offal, such as the oxtail, liver, tongue, tripe from the reticulum or rumen, glands (particularly the pancreas and thymus, referred to as sweetbread), the heart, the brain (although forbidden where there is a danger of bovine spongiform encephalopathy, BSE, commonly referred to as mad cow disease), the kidneys, and the tender testicles of the bull (known in the United States as calf fries, prairie oysters, or Rocky Mountain oysters). Some intestines are cooked and eaten as is, but are more often cleaned and used as natural sausage casings. The bones are used for making beef stock.",
         "strIngredient": "Beef Gravy",
         "strType": null
        },
        {
         "idIngredient": "26",
         "strDescription": "Beef is the culinary name for meat from cattle, particularly skeletal muscle. Humans have been eating beef since prehistoric times. Beef is a source of high-quality protein and nutrients.\r\n\r\nMost beef skeletal muscle meat can be used as is by merely cutting into certain parts, such as roasts, short ribs or steak (filet mignon, sirloin steak, rump steak, rib steak, rib eye steak, hanger steak, etc.), while other cuts are processed (corned beef or beef jerky). Trimmings, on the other hand, are usually mixed with meat from older, leaner (therefore tougher) cattle, are ground, minced or used in sausages. The blood is used in some varieties called blood sausage. Other parts that are eaten include other muscles and offal, such as the oxtail, liver, tongue, tripe from the reticulum or rumen, glands (particularly the pancreas and thymus, referred to as sweetbread), the heart, the brain (although forbidden where there is a danger of bovine spongiform encephalopathy, BSE, commonly referred to as mad cow disease), the kidneys, and the tender testicles of the bull (known in the United States as calf fries, prairie oysters, or Rocky Mountain oysters). Some intestines are cooked and eaten as is, but are more often cleaned and used as natural sausage casings. The bones are used for making beef stock.",
         "strIngredient": "Beef Stock",
         "strType": null
        },
        {
         "idIngredient": "27",
         "strDescription": "Sodium bicarbonate, commonly known as baking soda, is a chemical compound with the formula NaHCO3. It is a salt composed of a sodium cation (Na+) and a bicarbonate anion (HCO3−). Sodium bicarbonate is a white solid that is crystalline, but often appears as a fine powder. It has a slightly salty, alkaline taste resembling that of washing soda (sodium carbonate). The natural mineral form is nahcolite. It is a component of the mineral natron and is found dissolved in many mineral springs.",
         "strIngredient": "Bicarbonate Of Soda",
         "strType": null
        },
        {
         "idIngredient": "28",
         "strDescription": "Biryani, also known as biriyani, biriani, birani or briyani, is a mixed rice dish with its origins among the Muslims of the Indian subcontinent. It can be compared to mixing a curry, later combining it with semi-cooked rice separately. This dish is especially popular throughout the Indian subcontinent, as well as among the diaspora from the region. It is also prepared in other regions such as Iraqi Kurdistan. It is made with Indian spices, rice, meat (chicken, goat, beef, lamb, prawn, or fish), vegetables or eggs.",
         "strIngredient": "Biryani Masala",
         "strType": null
        },
        {
         "idIngredient": "29",
         "strDescription": "Black pepper (Piper nigrum) is a flowering vine in the family Piperaceae, cultivated for its fruit, known as a peppercorn, which is usually dried and used as a spice and seasoning. When fresh and fully mature, it is about 5 mm (0.20 in) in diameter and dark red, and contains a single seed, like all drupes. Peppercorns and the ground pepper derived from them may be described simply as pepper, or more precisely as black pepper (cooked and dried unripe fruit), green pepper (dried unripe fruit), or white pepper (ripe fruit seeds).\r\n\r\nBlack pepper is native to present-day Kerala in Southwestern India, and is extensively cultivated there and elsewhere in tropical regions. Vietnam is the world's largest producer and exporter of pepper, producing 34% of the world's crop, as of 2013.",
         "strIngredient": "Black Pepper",
         "strType": null
        },
        {
         "idIngredient": "30",
         "strDescription": "Molasses (American English) or black treacle (British English) is a viscous product resulting from refining sugarcane or sugar beets into sugar. Molasses varies by amount of sugar, method of extraction, and age of plant. Sugarcane molasses is primarily used for sweetening and flavoring foods in the United States, Canada, and elsewhere. Molasses is a defining component of fine commercial brown sugar.\r\n\r\nSweet sorghum syrup may be colloquially called \"sorghum molasses\" in the southern United States.[2][3] Similar products include honey, maple syrup, corn syrup, and invert syrup. Most of these alternative syrups have milder flavors.",
         "strIngredient": "Black Treacle",
         "strType": null
        },
        {
         "idIngredient": "31",
         "strDescription": null,
         "strIngredient": "Borlotti Beans",
         "strType": null
        },
        {
         "idIngredient": "32",
         "strDescription": null,
         "strIngredient": "Bowtie Pasta",
         "strType": null
        },
        {
         "idIngredient": "33",
         "strDescription": null,
         "strIngredient": "Bramley Apples",
         "strType": null
        },
        {
         "idIngredient": "34",
         "strDescription": null,
         "strIngredient": "Brandy",
         "strType": null
        },
        {
         "idIngredient": "35",
         "strDescription": null,
         "strIngredient": "Bread",
         "strType": null
        },
        {
         "idIngredient": "36",
         "strDescription": null,
         "strIngredient": "Breadcrumbs",
         "strType": null
        },
        {
         "idIngredient": "37",
         "strDescription": null,
         "strIngredient": "Broccoli",
         "strType": null
        },
        {
         "idIngredient": "38",
         "strDescription": null,
         "strIngredient": "Brown Lentils",
         "strType": null
        },
        {
         "idIngredient": "39",
         "strDescription": null,
         "strIngredient": "Brown Rice",
         "strType": null
        },
        {
         "idIngredient": "40",
         "strDescription": null,
         "strIngredient": "Brown Sugar",
         "strType": null
        },
        {
         "idIngredient": "41",
         "strDescription": null,
         "strIngredient": "Butter",
         "strType": null
        },
        {
         "idIngredient": "43",
         "strDescription": null,
         "strIngredient": "Cacao",
         "strType": null
        },
        {
         "idIngredient": "44",
         "strDescription": null,
         "strIngredient": "Cajun",
         "strType": null
        },
        {
         "idIngredient": "45",
         "strDescription": null,
         "strIngredient": "Canned Tomatoes",
         "strType": null
        },
        {
         "idIngredient": "46",
         "strDescription": null,
         "strIngredient": "Cannellini Beans",
         "strType": null
        },
        {
         "idIngredient": "47",
         "strDescription": null,
         "strIngredient": "Cardamom",
         "strType": null
        },
        {
         "idIngredient": "49",
         "strDescription": null,
         "strIngredient": "Carrots",
         "strType": null
        },
        {
         "idIngredient": "50",
         "strDescription": null,
         "strIngredient": "Cashew Nuts",
         "strType": null
        },
        {
         "idIngredient": "51",
         "strDescription": null,
         "strIngredient": "Cashews",
         "strType": null
        },
        {
         "idIngredient": "52",
         "strDescription": null,
         "strIngredient": "Caster Sugar",
         "strType": null
        },
        {
         "idIngredient": "53",
         "strDescription": null,
         "strIngredient": "Cayenne Pepper",
         "strType": null
        },
        {
         "idIngredient": "54",
         "strDescription": null,
         "strIngredient": "Celeriac",
         "strType": null
        },
        {
         "idIngredient": "55",
         "strDescription": null,
         "strIngredient": "Celery",
         "strType": null
        },
        {
         "idIngredient": "56",
         "strDescription": null,
         "strIngredient": "Celery Salt",
         "strType": null
        },
        {
         "idIngredient": "57",
         "strDescription": null,
         "strIngredient": "Challots",
         "strType": null
        },
        {
         "idIngredient": "58",
         "strDescription": null,
         "strIngredient": "Charlotte Potatoes",
         "strType": null
        },
        {
         "idIngredient": "59",
         "strDescription": null,
         "strIngredient": "Cheddar Cheese",
         "strType": null
        },
        {
         "idIngredient": "60",
         "strDescription": null,
         "strIngredient": "Cheese",
         "strType": null
        },
        {
         "idIngredient": "61",
         "strDescription": null,
         "strIngredient": "Cheese Curds",
         "strType": null
        },
        {
         "idIngredient": "62",
         "strDescription": null,
         "strIngredient": "Cherry Tomatoes",
         "strType": null
        },
        {
         "idIngredient": "63",
         "strDescription": null,
         "strIngredient": "Chestnut Mushroom",
         "strType": null
        },
        {
         "idIngredient": "65",
         "strDescription": null,
         "strIngredient": "Chicken Breast",
         "strType": null
        },
        {
         "idIngredient": "66",
         "strDescription": null,
         "strIngredient": "Chicken Breasts",
         "strType": null
        },
        {
         "idIngredient": "67",
         "strDescription": null,
         "strIngredient": "Chicken Legs",
         "strType": null
        },
        {
         "idIngredient": "68",
         "strDescription": null,
         "strIngredient": "Chicken Stock",
         "strType": null
        },
        {
         "idIngredient": "70",
         "strDescription": null,
         "strIngredient": "Chicken Thighs",
         "strType": null
        },
        {
         "idIngredient": "71",
         "strDescription": null,
         "strIngredient": "Chickpeas",
         "strType": null
        },
        {
         "idIngredient": "72",
         "strDescription": null,
         "strIngredient": "Chili Powder",
         "strType": null
        },
        {
         "idIngredient": "73",
         "strDescription": null,
         "strIngredient": "Chilled Butter",
         "strType": null
        },
        {
         "idIngredient": "74",
         "strDescription": null,
         "strIngredient": "Chilli",
         "strType": null
        },
        {
         "idIngredient": "75",
         "strDescription": null,
         "strIngredient": "Chilli Powder",
         "strType": null
        },
        {
         "idIngredient": "76",
         "strDescription": null,
         "strIngredient": "Chinese Broccoli",
         "strType": null
        },
        {
         "idIngredient": "77",
         "strDescription": null,
         "strIngredient": "Chocolate Chips",
         "strType": null
        },
        {
         "idIngredient": "78",
         "strDescription": null,
         "strIngredient": "Chopped Onion",
         "strType": null
        },
        {
         "idIngredient": "79",
         "strDescription": null,
         "strIngredient": "Chopped Parsley",
         "strType": null
        },
        {
         "idIngredient": "80",
         "strDescription": null,
         "strIngredient": "Chopped Tomatoes",
         "strType": null
        },
        {
         "idIngredient": "81",
         "strDescription": null,
         "strIngredient": "Chorizo",
         "strType": null
        },
        {
         "idIngredient": "82",
         "strDescription": null,
         "strIngredient": "Christmas Pudding",
         "strType": null
        },
        {
         "idIngredient": "83",
         "strDescription": null,
         "strIngredient": "Cilantro",
         "strType": null
        },
        {
         "idIngredient": "84",
         "strDescription": null,
         "strIngredient": "Cinnamon",
         "strType": null
        },
        {
         "idIngredient": "85",
         "strDescription": null,
         "strIngredient": "Cinnamon Stick",
         "strType": null
        },
        {
         "idIngredient": "87",
         "strDescription": null,
         "strIngredient": "Cloves",
         "strType": null
        },
        {
         "idIngredient": "88",
         "strDescription": null,
         "strIngredient": "Coco Sugar",
         "strType": null
        },
        {
         "idIngredient": "89",
         "strDescription": null,
         "strIngredient": "Cocoa",
         "strType": null
        },
        {
         "idIngredient": "90",
         "strDescription": null,
         "strIngredient": "Coconut Cream",
         "strType": null
        },
        {
         "idIngredient": "91",
         "strDescription": null,
         "strIngredient": "Coconut Milk",
         "strType": null
        },
        {
         "idIngredient": "92",
         "strDescription": null,
         "strIngredient": "Colby Jack Cheese",
         "strType": null
        },
        {
         "idIngredient": "93",
         "strDescription": null,
         "strIngredient": "Cold Water",
         "strType": null
        },
        {
         "idIngredient": "94",
         "strDescription": null,
         "strIngredient": "Condensed Milk",
         "strType": null
        },
        {
         "idIngredient": "95",
         "strDescription": null,
         "strIngredient": "Coriander",
         "strType": null
        },
        {
         "idIngredient": "96",
         "strDescription": null,
         "strIngredient": "Coriander Leaves",
         "strType": null
        },
        {
         "idIngredient": "97",
         "strDescription": null,
         "strIngredient": "Coriander Seeds",
         "strType": null
        },
        {
         "idIngredient": "98",
         "strDescription": null,
         "strIngredient": "Corn Tortillas",
         "strType": null
        },
        {
         "idIngredient": "99",
         "strDescription": null,
         "strIngredient": "Cornstarch",
         "strType": null
        },
        {
         "idIngredient": "100",
         "strDescription": null,
         "strIngredient": "Cream",
         "strType": null
        },
        {
         "idIngredient": "101",
         "strDescription": null,
         "strIngredient": "Creme Fraiche",
         "strType": null
        },
        {
         "idIngredient": "102",
         "strDescription": null,
         "strIngredient": "Cubed Feta Cheese",
         "strType": null
        },
        {
         "idIngredient": "103",
         "strDescription": null,
         "strIngredient": "Cucumber",
         "strType": null
        },
        {
         "idIngredient": "104",
         "strDescription": null,
         "strIngredient": "Cumin",
         "strType": null
        },
        {
         "idIngredient": "105",
         "strDescription": null,
         "strIngredient": "Cumin Seeds",
         "strType": null
        },
        {
         "idIngredient": "106",
         "strDescription": null,
         "strIngredient": "Curry Powder",
         "strType": null
        },
        {
         "idIngredient": "107",
         "strDescription": null,
         "strIngredient": "Dark Brown Sugar",
         "strType": null
        },
        {
         "idIngredient": "108",
         "strDescription": null,
         "strIngredient": "Dark Soft Brown Sugar",
         "strType": null
        },
        {
         "idIngredient": "109",
         "strDescription": null,
         "strIngredient": "Dark Soy Sauce",
         "strType": null
        },
        {
         "idIngredient": "110",
         "strDescription": null,
         "strIngredient": "Demerara Sugar",
         "strType": null
        },
        {
         "idIngredient": "111",
         "strDescription": null,
         "strIngredient": "Diced Tomatoes",
         "strType": null
        },
        {
         "idIngredient": "112",
         "strDescription": null,
         "strIngredient": "Digestive Biscuits",
         "strType": null
        },
        {
         "idIngredient": "113",
         "strDescription": null,
         "strIngredient": "Dill",
         "strType": null
        },
        {
         "idIngredient": "114",
         "strDescription": null,
         "strIngredient": "Doner Meat",
         "strType": null
        },
        {
         "idIngredient": "115",
         "strDescription": null,
         "strIngredient": "Double Cream",
         "strType": null
        },
        {
         "idIngredient": "116",
         "strDescription": null,
         "strIngredient": "Dried Oregano",
         "strType": null
        },
        {
         "idIngredient": "117",
         "strDescription": null,
         "strIngredient": "Dry White Wine",
         "strType": null
        },
        {
         "idIngredient": "119",
         "strDescription": null,
         "strIngredient": "Egg Plants",
         "strType": null
        },
        {
         "idIngredient": "120",
         "strDescription": null,
         "strIngredient": "Egg Rolls",
         "strType": null
        },
        {
         "idIngredient": "121",
         "strDescription": null,
         "strIngredient": "Egg White",
         "strType": null
        },
        {
         "idIngredient": "122",
         "strDescription": null,
         "strIngredient": "Egg Yolks",
         "strType": null
        },
        {
         "idIngredient": "123",
         "strDescription": null,
         "strIngredient": "Eggs",
         "strType": null
        },
        {
         "idIngredient": "124",
         "strDescription": null,
         "strIngredient": "Enchilada Sauce",
         "strType": null
        },
        {
         "idIngredient": "125",
         "strDescription": null,
         "strIngredient": "English Mustard",
         "strType": null
        },
        {
         "idIngredient": "126",
         "strDescription": null,
         "strIngredient": "Extra Virgin Olive Oil",
         "strType": null
        },
        {
         "idIngredient": "127",
         "strDescription": null,
         "strIngredient": "Fajita Seasoning",
         "strType": null
        },
        {
         "idIngredient": "128",
         "strDescription": null,
         "strIngredient": "Farfalle",
         "strType": null
        },
        {
         "idIngredient": "130",
         "strDescription": null,
         "strIngredient": "Fennel Bulb",
         "strType": null
        },
        {
         "idIngredient": "131",
         "strDescription": null,
         "strIngredient": "Fennel Seeds",
         "strType": null
        },
        {
         "idIngredient": "132",
         "strDescription": null,
         "strIngredient": "Fenugreek",
         "strType": null
        },
        {
         "idIngredient": "133",
         "strDescription": null,
         "strIngredient": "Feta",
         "strType": null
        },
        {
         "idIngredient": "134",
         "strDescription": null,
         "strIngredient": "Fish Sauce",
         "strType": null
        },
        {
         "idIngredient": "135",
         "strDescription": null,
         "strIngredient": "Flaked Almonds",
         "strType": null
        },
        {
         "idIngredient": "136",
         "strDescription": null,
         "strIngredient": "Flax Eggs",
         "strType": null
        },
        {
         "idIngredient": "137",
         "strDescription": null,
         "strIngredient": "Flour",
         "strType": null
        },
        {
         "idIngredient": "138",
         "strDescription": null,
         "strIngredient": "Flour Tortilla",
         "strType": null
        },
        {
         "idIngredient": "139",
         "strDescription": null,
         "strIngredient": "Floury Potatoes",
         "strType": null
        },
        {
         "idIngredient": "140",
         "strDescription": null,
         "strIngredient": "Free-range Egg, Beaten",
         "strType": null
        },
        {
         "idIngredient": "141",
         "strDescription": null,
         "strIngredient": "Free-range Eggs, Beaten",
         "strType": null
        },
        {
         "idIngredient": "142",
         "strDescription": null,
         "strIngredient": "French Lentils",
         "strType": null
        },
        {
         "idIngredient": "143",
         "strDescription": null,
         "strIngredient": "Fresh Basil",
         "strType": null
        },
        {
         "idIngredient": "144",
         "strDescription": null,
         "strIngredient": "Fresh Thyme",
         "strType": null
        },
        {
         "idIngredient": "145",
         "strDescription": null,
         "strIngredient": "Freshly Chopped Parsley",
         "strType": null
        },
        {
         "idIngredient": "146",
         "strDescription": null,
         "strIngredient": "Fries",
         "strType": null
        },
        {
         "idIngredient": "147",
         "strDescription": null,
         "strIngredient": "Full Fat Yogurt",
         "strType": null
        },
        {
         "idIngredient": "148",
         "strDescription": null,
         "strIngredient": "Garam Masala",
         "strType": null
        },
        {
         "idIngredient": "149",
         "strDescription": null,
         "strIngredient": "Garlic",
         "strType": null
        },
        {
         "idIngredient": "150",
         "strDescription": null,
         "strIngredient": "Garlic Clove",
         "strType": null
        },
        {
         "idIngredient": "151",
         "strDescription": null,
         "strIngredient": "Garlic Powder",
         "strType": null
        },
        {
         "idIngredient": "152",
         "strDescription": null,
         "strIngredient": "Garlic Sauce",
         "strType": null
        },
        {
         "idIngredient": "153",
         "strDescription": null,
         "strIngredient": "Ghee",
         "strType": null
        },
        {
         "idIngredient": "154",
         "strDescription": null,
         "strIngredient": "Ginger",
         "strType": null
        },
        {
         "idIngredient": "155",
         "strDescription": null,
         "strIngredient": "Ginger Cordial",
         "strType": null
        },
        {
         "idIngredient": "156",
         "strDescription": null,
         "strIngredient": "Ginger Garlic Paste",
         "strType": null
        },
        {
         "idIngredient": "157",
         "strDescription": null,
         "strIngredient": "Ginger Paste",
         "strType": null
        },
        {
         "idIngredient": "158",
         "strDescription": null,
         "strIngredient": "Golden Syrup",
         "strType": null
        },
        {
         "idIngredient": "159",
         "strDescription": null,
         "strIngredient": "Gouda Cheese",
         "strType": null
        },
        {
         "idIngredient": "160",
         "strDescription": null,
         "strIngredient": "Granulated Sugar",
         "strType": null
        },
        {
         "idIngredient": "161",
         "strDescription": null,
         "strIngredient": "Grape Tomatoes",
         "strType": null
        },
        {
         "idIngredient": "162",
         "strDescription": null,
         "strIngredient": "Greek Yogurt",
         "strType": null
        },
        {
         "idIngredient": "163",
         "strDescription": null,
         "strIngredient": "Green Beans",
         "strType": null
        },
        {
         "idIngredient": "165",
         "strDescription": null,
         "strIngredient": "Green Chilli",
         "strType": null
        },
        {
         "idIngredient": "166",
         "strDescription": null,
         "strIngredient": "Green Olives",
         "strType": null
        },
        {
         "idIngredient": "167",
         "strDescription": null,
         "strIngredient": "Green Red Lentils",
         "strType": null
        },
        {
         "idIngredient": "168",
         "strDescription": null,
         "strIngredient": "Green Salsa",
         "strType": null
        },
        {
         "idIngredient": "169",
         "strDescription": null,
         "strIngredient": "Ground Almonds",
         "strType": null
        },
        {
         "idIngredient": "170",
         "strDescription": null,
         "strIngredient": "Ground Cumin",
         "strType": null
        },
        {
         "idIngredient": "171",
         "strDescription": null,
         "strIngredient": "Ground Ginger",
         "strType": null
        },
        {
         "idIngredient": "172",
         "strDescription": null,
         "strIngredient": "Gruyère",
         "strType": null
        },
        {
         "idIngredient": "173",
         "strDescription": null,
         "strIngredient": "Hard Taco Shells",
         "strType": null
        },
        {
         "idIngredient": "175",
         "strDescription": null,
         "strIngredient": "Harissa Spice",
         "strType": null
        },
        {
         "idIngredient": "176",
         "strDescription": null,
         "strIngredient": "Heavy Cream",
         "strType": null
        },
        {
         "idIngredient": "177",
         "strDescription": null,
         "strIngredient": "Honey",
         "strType": null
        },
        {
         "idIngredient": "178",
         "strDescription": null,
         "strIngredient": "Horseradish",
         "strType": null
        },
        {
         "idIngredient": "179",
         "strDescription": null,
         "strIngredient": "Hot Beef Stock",
         "strType": null
        },
        {
         "idIngredient": "180",
         "strDescription": null,
         "strIngredient": "Hotsauce",
         "strType": null
        },
        {
         "idIngredient": "181",
         "strDescription": null,
         "strIngredient": "Ice Cream",
         "strType": null
        },
        {
         "idIngredient": "182",
         "strDescription": null,
         "strIngredient": "Italian Fennel Sausages",
         "strType": null
        },
        {
         "idIngredient": "183",
         "strDescription": null,
         "strIngredient": "Italian Seasoning",
         "strType": null
        },
        {
         "idIngredient": "184",
         "strDescription": null,
         "strIngredient": "Jalapeno",
         "strType": null
        },
        {
         "idIngredient": "185",
         "strDescription": null,
         "strIngredient": "Jasmine Rice",
         "strType": null
        },
        {
         "idIngredient": "186",
         "strDescription": null,
         "strIngredient": "Jerusalem Artichokes",
         "strType": null
        },
        {
         "idIngredient": "187",
         "strDescription": null,
         "strIngredient": "Kale",
         "strType": null
        },
        {
         "idIngredient": "188",
         "strDescription": null,
         "strIngredient": "Khus Khus",
         "strType": null
        },
        {
         "idIngredient": "189",
         "strDescription": null,
         "strIngredient": "King Prawns",
         "strType": null
        },
        {
         "idIngredient": "190",
         "strDescription": null,
         "strIngredient": "Kosher Salt",
         "strType": null
        },
        {
         "idIngredient": "191",
         "strDescription": null,
         "strIngredient": "Lamb",
         "strType": null
        },
        {
         "idIngredient": "192",
         "strDescription": null,
         "strIngredient": "Lamb Loin Chops",
         "strType": null
        },
        {
         "idIngredient": "193",
         "strDescription": null,
         "strIngredient": "Lamb Mince",
         "strType": null
        },
        {
         "idIngredient": "194",
         "strDescription": null,
         "strIngredient": "Lasagne Sheets",
         "strType": null
        },
        {
         "idIngredient": "195",
         "strDescription": null,
         "strIngredient": "Lean Minced Beef",
         "strType": null
        },
        {
         "idIngredient": "196",
         "strDescription": null,
         "strIngredient": "Leek",
         "strType": null
        },
        {
         "idIngredient": "197",
         "strDescription": null,
         "strIngredient": "Lemon",
         "strType": null
        },
        {
         "idIngredient": "198",
         "strDescription": null,
         "strIngredient": "Lemon Juice",
         "strType": null
        },
        {
         "idIngredient": "199",
         "strDescription": null,
         "strIngredient": "Lemon Zest",
         "strType": null
        },
        {
         "idIngredient": "200",
         "strDescription": null,
         "strIngredient": "Lemons",
         "strType": null
        },
        {
         "idIngredient": "201",
         "strDescription": null,
         "strIngredient": "Lettuce",
         "strType": null
        },
        {
         "idIngredient": "202",
         "strDescription": null,
         "strIngredient": "Lime",
         "strType": null
        },
        {
         "idIngredient": "203",
         "strDescription": null,
         "strIngredient": "Little Gem Lettuce",
         "strType": null
        },
        {
         "idIngredient": "204",
         "strDescription": null,
         "strIngredient": "Macaroni",
         "strType": null
        },
        {
         "idIngredient": "205",
         "strDescription": null,
         "strIngredient": "Mackerel",
         "strType": null
        },
        {
         "idIngredient": "206",
         "strDescription": null,
         "strIngredient": "Madras Paste",
         "strType": null
        },
        {
         "idIngredient": "207",
         "strDescription": null,
         "strIngredient": "Marjoram",
         "strType": null
        },
        {
         "idIngredient": "208",
         "strDescription": null,
         "strIngredient": "Massaman Curry Paste",
         "strType": null
        },
        {
         "idIngredient": "209",
         "strDescription": null,
         "strIngredient": "Medjool Dates",
         "strType": null
        },
        {
         "idIngredient": "210",
         "strDescription": null,
         "strIngredient": "Meringue Nests",
         "strType": null
        },
        {
         "idIngredient": "211",
         "strDescription": null,
         "strIngredient": "Milk",
         "strType": null
        },
        {
         "idIngredient": "212",
         "strDescription": null,
         "strIngredient": "Minced Garlic",
         "strType": null
        },
        {
         "idIngredient": "213",
         "strDescription": null,
         "strIngredient": "Miniature Marshmallows",
         "strType": null
        },
        {
         "idIngredient": "214",
         "strDescription": null,
         "strIngredient": "Mint",
         "strType": null
        },
        {
         "idIngredient": "215",
         "strDescription": null,
         "strIngredient": "Monterey Jack Cheese",
         "strType": null
        },
        {
         "idIngredient": "216",
         "strDescription": null,
         "strIngredient": "Mozzarella Balls",
         "strType": null
        },
        {
         "idIngredient": "217",
         "strDescription": null,
         "strIngredient": "Muscovado Sugar",
         "strType": null
        },
        {
         "idIngredient": "218",
         "strDescription": null,
         "strIngredient": "Mushrooms",
         "strType": null
        },
        {
         "idIngredient": "219",
         "strDescription": null,
         "strIngredient": "Mustard",
         "strType": null
        },
        {
         "idIngredient": "220",
         "strDescription": null,
         "strIngredient": "Mustard Powder",
         "strType": null
        },
        {
         "idIngredient": "221",
         "strDescription": null,
         "strIngredient": "Mustard Seeds",
         "strType": null
        },
        {
         "idIngredient": "222",
         "strDescription": null,
         "strIngredient": "Nutmeg",
         "strType": null
        },
        {
         "idIngredient": "223",
         "strDescription": null,
         "strIngredient": "Oil",
         "strType": null
        },
        {
         "idIngredient": "224",
         "strDescription": null,
         "strIngredient": "Olive Oil",
         "strType": null
        },
        {
         "idIngredient": "226",
         "strDescription": null,
         "strIngredient": "Onion Salt",
         "strType": null
        },
        {
         "idIngredient": "227",
         "strDescription": null,
         "strIngredient": "Onions",
         "strType": null
        },
        {
         "idIngredient": "228",
         "strDescription": null,
         "strIngredient": "Orange",
         "strType": null
        },
        {
         "idIngredient": "229",
         "strDescription": null,
         "strIngredient": "Orange Zest",
         "strType": null
        },
        {
         "idIngredient": "230",
         "strDescription": null,
         "strIngredient": "Oregano",
         "strType": null
        },
        {
         "idIngredient": "231",
         "strDescription": null,
         "strIngredient": "Oyster Sauce",
         "strType": null
        },
        {
         "idIngredient": "232",
         "strDescription": null,
         "strIngredient": "Paprika",
         "strType": null
        },
        {
         "idIngredient": "233",
         "strDescription": null,
         "strIngredient": "Parma Ham",
         "strType": null
        },
        {
         "idIngredient": "234",
         "strDescription": null,
         "strIngredient": "Parmesan",
         "strType": null
        },
        {
         "idIngredient": "235",
         "strDescription": null,
         "strIngredient": "Parmesan Cheese",
         "strType": null
        },
        {
         "idIngredient": "236",
         "strDescription": null,
         "strIngredient": "Parmigiano-reggiano",
         "strType": null
        },
        {
         "idIngredient": "237",
         "strDescription": null,
         "strIngredient": "Parsley",
         "strType": null
        },
        {
         "idIngredient": "238",
         "strDescription": null,
         "strIngredient": "Peanut Butter",
         "strType": null
        },
        {
         "idIngredient": "239",
         "strDescription": null,
         "strIngredient": "Peanut Oil",
         "strType": null
        },
        {
         "idIngredient": "240",
         "strDescription": null,
         "strIngredient": "Peanuts",
         "strType": null
        },
        {
         "idIngredient": "241",
         "strDescription": null,
         "strIngredient": "Peas",
         "strType": null
        },
        {
         "idIngredient": "242",
         "strDescription": null,
         "strIngredient": "Pecorino",
         "strType": null
        },
        {
         "idIngredient": "243",
         "strDescription": null,
         "strIngredient": "Penne Rigate",
         "strType": null
        },
        {
         "idIngredient": "244",
         "strDescription": null,
         "strIngredient": "Pepper",
         "strType": null
        },
        {
         "idIngredient": "245",
         "strDescription": null,
         "strIngredient": "Pine Nuts",
         "strType": null
        },
        {
         "idIngredient": "246",
         "strDescription": null,
         "strIngredient": "Pitted Black Olives",
         "strType": null
        },
        {
         "idIngredient": "247",
         "strDescription": null,
         "strIngredient": "Plain Chocolate",
         "strType": null
        },
        {
         "idIngredient": "248",
         "strDescription": null,
         "strIngredient": "Plain Flour",
         "strType": null
        },
        {
         "idIngredient": "249",
         "strDescription": null,
         "strIngredient": "Plum Tomatoes",
         "strType": null
        },
        {
         "idIngredient": "252",
         "strDescription": null,
         "strIngredient": "Potato Starch",
         "strType": null
        },
        {
         "idIngredient": "253",
         "strDescription": null,
         "strIngredient": "Potatoes",
         "strType": null
        },
        {
         "idIngredient": "254",
         "strDescription": null,
         "strIngredient": "Prawns",
         "strType": null
        },
        {
         "idIngredient": "255",
         "strDescription": null,
         "strIngredient": "Puff Pastry",
         "strType": "Pastry"
        },
        {
         "idIngredient": "256",
         "strDescription": null,
         "strIngredient": "Raspberry Jam",
         "strType": null
        },
        {
         "idIngredient": "257",
         "strDescription": null,
         "strIngredient": "Raw King Prawns",
         "strType": null
        },
        {
         "idIngredient": "258",
         "strDescription": null,
         "strIngredient": "Red Chilli Flakes",
         "strType": null
        },
        {
         "idIngredient": "259",
         "strDescription": null,
         "strIngredient": "Red Chilli",
         "strType": null
        },
        {
         "idIngredient": "261",
         "strDescription": null,
         "strIngredient": "Red Chilli Powder",
         "strType": null
        },
        {
         "idIngredient": "263",
         "strDescription": null,
         "strIngredient": "Red Onions",
         "strType": null
        },
        {
         "idIngredient": "264",
         "strDescription": null,
         "strIngredient": "Red Pepper",
         "strType": null
        },
        {
         "idIngredient": "265",
         "strDescription": null,
         "strIngredient": "Red Pepper Flakes",
         "strType": null
        },
        {
         "idIngredient": "266",
         "strDescription": null,
         "strIngredient": "Red Wine",
         "strType": null
        },
        {
         "idIngredient": "267",
         "strDescription": null,
         "strIngredient": "Refried Beans",
         "strType": null
        },
        {
         "idIngredient": "268",
         "strDescription": null,
         "strIngredient": "Rice",
         "strType": null
        },
        {
         "idIngredient": "269",
         "strDescription": null,
         "strIngredient": "Rice Noodles",
         "strType": null
        },
        {
         "idIngredient": "270",
         "strDescription": null,
         "strIngredient": "Rice Stick Noodles",
         "strType": null
        },
        {
         "idIngredient": "271",
         "strDescription": null,
         "strIngredient": "Rice Vermicelli",
         "strType": null
        },
        {
         "idIngredient": "272",
         "strDescription": null,
         "strIngredient": "Rigatoni",
         "strType": null
        },
        {
         "idIngredient": "273",
         "strDescription": null,
         "strIngredient": "Rocket",
         "strType": null
        },
        {
         "idIngredient": "274",
         "strDescription": null,
         "strIngredient": "Rolled Oats",
         "strType": null
        },
        {
         "idIngredient": "276",
         "strDescription": null,
         "strIngredient": "Saffron",
         "strType": null
        },
        {
         "idIngredient": "277",
         "strDescription": null,
         "strIngredient": "Sage",
         "strType": null
        },
        {
         "idIngredient": "278",
         "strDescription": null,
         "strIngredient": "Sake",
         "strType": null
        },
        {
         "idIngredient": "280",
         "strDescription": null,
         "strIngredient": "Salsa",
         "strType": null
        },
        {
         "idIngredient": "281",
         "strDescription": null,
         "strIngredient": "Salt",
         "strType": null
        },
        {
         "idIngredient": "282",
         "strDescription": null,
         "strIngredient": "Salted Butter",
         "strType": null
        },
        {
         "idIngredient": "283",
         "strDescription": null,
         "strIngredient": "Sausages",
         "strType": null
        },
        {
         "idIngredient": "284",
         "strDescription": null,
         "strIngredient": "Sea Salt",
         "strType": null
        },
        {
         "idIngredient": "286",
         "strDescription": null,
         "strIngredient": "Self-raising Flour",
         "strType": null
        },
        {
         "idIngredient": "287",
         "strDescription": null,
         "strIngredient": "Semi-skimmed Milk",
         "strType": null
        },
        {
         "idIngredient": "288",
         "strDescription": null,
         "strIngredient": "Sesame Seed",
         "strType": null
        },
        {
         "idIngredient": "289",
         "strDescription": null,
         "strIngredient": "Shallots",
         "strType": null
        },
        {
         "idIngredient": "290",
         "strDescription": null,
         "strIngredient": "Shredded Mexican Cheese",
         "strType": null
        },
        {
         "idIngredient": "291",
         "strDescription": null,
         "strIngredient": "Shredded Monterey Jack Cheese",
         "strType": null
        },
        {
         "idIngredient": "292",
         "strDescription": null,
         "strIngredient": "Small Potatoes",
         "strType": null
        },
        {
         "idIngredient": "293",
         "strDescription": null,
         "strIngredient": "Smoked Paprika",
         "strType": null
        },
        {
         "idIngredient": "294",
         "strDescription": null,
         "strIngredient": "Smoky Paprika",
         "strType": null
        },
        {
         "idIngredient": "295",
         "strDescription": null,
         "strIngredient": "Sour Cream",
         "strType": null
        },
        {
         "idIngredient": "296",
         "strDescription": null,
         "strIngredient": "Soy Sauce",
         "strType": null
        },
        {
         "idIngredient": "297",
         "strDescription": null,
         "strIngredient": "Soya Milk",
         "strType": null
        },
        {
         "idIngredient": "298",
         "strDescription": null,
         "strIngredient": "Spaghetti",
         "strType": null
        },
        {
         "idIngredient": "299",
         "strDescription": null,
         "strIngredient": "Spinach",
         "strType": null
        },
        {
         "idIngredient": "301",
         "strDescription": null,
         "strIngredient": "Spring Onions",
         "strType": null
        },
        {
         "idIngredient": "302",
         "strDescription": null,
         "strIngredient": "Squash",
         "strType": null
        },
        {
         "idIngredient": "303",
         "strDescription": null,
         "strIngredient": "Stir-fry Vegetables",
         "strType": null
        },
        {
         "idIngredient": "304",
         "strDescription": null,
         "strIngredient": "Strawberries",
         "strType": null
        },
        {
         "idIngredient": "305",
         "strDescription": null,
         "strIngredient": "Sugar",
         "strType": null
        },
        {
         "idIngredient": "306",
         "strDescription": null,
         "strIngredient": "Sultanas",
         "strType": null
        },
        {
         "idIngredient": "307",
         "strDescription": null,
         "strIngredient": "Sunflower Oil",
         "strType": null
        },
        {
         "idIngredient": "308",
         "strDescription": null,
         "strIngredient": "Tamarind Ball",
         "strType": null
        },
        {
         "idIngredient": "309",
         "strDescription": null,
         "strIngredient": "Tamarind Paste",
         "strType": null
        },
        {
         "idIngredient": "310",
         "strDescription": null,
         "strIngredient": "Thai Fish Sauce",
         "strType": null
        },
        {
         "idIngredient": "311",
         "strDescription": null,
         "strIngredient": "Thai Green Curry Paste",
         "strType": null
        },
        {
         "idIngredient": "312",
         "strDescription": null,
         "strIngredient": "Thai Red Curry Paste",
         "strType": null
        },
        {
         "idIngredient": "313",
         "strDescription": null,
         "strIngredient": "Thyme",
         "strType": null
        },
        {
         "idIngredient": "315",
         "strDescription": null,
         "strIngredient": "Tomato Ketchup",
         "strType": null
        },
        {
         "idIngredient": "316",
         "strDescription": null,
         "strIngredient": "Tomato Puree",
         "strType": null
        },
        {
         "idIngredient": "317",
         "strDescription": null,
         "strIngredient": "Tomatoes",
         "strType": null
        },
        {
         "idIngredient": "318",
         "strDescription": null,
         "strIngredient": "Toor Dal",
         "strType": null
        },
        {
         "idIngredient": "319",
         "strDescription": null,
         "strIngredient": "Tuna",
         "strType": null
        },
        {
         "idIngredient": "320",
         "strDescription": null,
         "strIngredient": "Turmeric",
         "strType": null
        },
        {
         "idIngredient": "321",
         "strDescription": null,
         "strIngredient": "Turmeric Powder",
         "strType": null
        },
        {
         "idIngredient": "322",
         "strDescription": null,
         "strIngredient": "Turnips",
         "strType": null
        },
        {
         "idIngredient": "323",
         "strDescription": null,
         "strIngredient": "Vanilla",
         "strType": null
        },
        {
         "idIngredient": "324",
         "strDescription": null,
         "strIngredient": "Vanilla Extract",
         "strType": null
        },
        {
         "idIngredient": "325",
         "strDescription": null,
         "strIngredient": "Veal",
         "strType": null
        },
        {
         "idIngredient": "326",
         "strDescription": null,
         "strIngredient": "Vegan Butter",
         "strType": null
        },
        {
         "idIngredient": "327",
         "strDescription": null,
         "strIngredient": "Vegetable Oil",
         "strType": null
        },
        {
         "idIngredient": "328",
         "strDescription": null,
         "strIngredient": "Vegetable Stock",
         "strType": null
        },
        {
         "idIngredient": "329",
         "strDescription": null,
         "strIngredient": "Vegetable Stock Cube",
         "strType": null
        },
        {
         "idIngredient": "330",
         "strDescription": null,
         "strIngredient": "Vinaigrette Dressing",
         "strType": null
        },
        {
         "idIngredient": "331",
         "strDescription": null,
         "strIngredient": "Vine Leaves",
         "strType": null
        },
        {
         "idIngredient": "332",
         "strDescription": null,
         "strIngredient": "Vinegar",
         "strType": null
        },
        {
         "idIngredient": "333",
         "strDescription": null,
         "strIngredient": "Water",
         "strType": null
        },
        {
         "idIngredient": "334",
         "strDescription": null,
         "strIngredient": "White Chocolate Chips",
         "strType": null
        },
        {
         "idIngredient": "335",
         "strDescription": null,
         "strIngredient": "White Fish",
         "strType": null
        },
        {
         "idIngredient": "336",
         "strDescription": null,
         "strIngredient": "White Fish Fillets",
         "strType": null
        },
        {
         "idIngredient": "337",
         "strDescription": null,
         "strIngredient": "White Vinegar",
         "strType": null
        },
        {
         "idIngredient": "338",
         "strDescription": null,
         "strIngredient": "White Wine",
         "strType": null
        },
        {
         "idIngredient": "339",
         "strDescription": null,
         "strIngredient": "Whole Milk",
         "strType": null
        },
        {
         "idIngredient": "340",
         "strDescription": null,
         "strIngredient": "Whole Wheat",
         "strType": null
        },
        {
         "idIngredient": "341",
         "strDescription": null,
         "strIngredient": "Wholegrain Bread",
         "strType": null
        },
        {
         "idIngredient": "342",
         "strDescription": null,
         "strIngredient": "Worcestershire Sauce",
         "strType": null
        },
        {
         "idIngredient": "343",
         "strDescription": null,
         "strIngredient": "Yogurt",
         "strType": null
        },
        {
         "idIngredient": "344",
         "strDescription": null,
         "strIngredient": "Zucchini",
         "strType": null
        },
        {
         "idIngredient": "345",
         "strDescription": null,
         "strIngredient": "Pretzels",
         "strType": null
        },
        {
         "idIngredient": "346",
         "strDescription": null,
         "strIngredient": "Cream Cheese",
         "strType": null
        },
        {
         "idIngredient": "347",
         "strDescription": null,
         "strIngredient": "Icing Sugar",
         "strType": null
        },
        {
         "idIngredient": "348",
         "strDescription": null,
         "strIngredient": "Toffee Popcorn",
         "strType": null
        },
        {
         "idIngredient": "349",
         "strDescription": null,
         "strIngredient": "Caramel",
         "strType": null
        },
        {
         "idIngredient": "350",
         "strDescription": null,
         "strIngredient": "Caramel Sauce",
         "strType": null
        },
        {
         "idIngredient": "351",
         "strDescription": null,
         "strIngredient": "Tagliatelle",
         "strType": null
        },
        {
         "idIngredient": "352",
         "strDescription": "",
         "strIngredient": "Fettuccine",
         "strType": null
        },
        {
         "idIngredient": "353",
         "strDescription": null,
         "strIngredient": "Clotted Cream",
         "strType": null
        },
        {
         "idIngredient": "354",
         "strDescription": "",
         "strIngredient": "Corn Flour",
         "strType": null
        },
        {
         "idIngredient": "355",
         "strDescription": null,
         "strIngredient": "Mussels",
         "strType": null
        },
        {
         "idIngredient": "356",
         "strDescription": null,
         "strIngredient": "Fideo",
         "strType": null
        },
        {
         "idIngredient": "357",
         "strDescription": null,
         "strIngredient": "Monkfish",
         "strType": null
        },
        {
         "idIngredient": "358",
         "strDescription": null,
         "strIngredient": "Vermicelli Pasta",
         "strType": null
        },
        {
         "idIngredient": "359",
         "strDescription": "",
         "strIngredient": "Baby Squid",
         "strType": null
        },
        {
         "idIngredient": "360",
         "strDescription": "",
         "strIngredient": "Squid",
         "strType": null
        },
        {
         "idIngredient": "361",
         "strDescription": "",
         "strIngredient": "Fish Stock",
         "strType": null
        },
        {
         "idIngredient": "362",
         "strDescription": null,
         "strIngredient": "Pilchards",
         "strType": null
        },
        {
         "idIngredient": "363",
         "strDescription": null,
         "strIngredient": "Black Olives",
         "strType": null
        },
        {
         "idIngredient": "364",
         "strDescription": null,
         "strIngredient": "Onion",
         "strType": null
        },
        {
         "idIngredient": "365",
         "strDescription": null,
         "strIngredient": "Tomato",
         "strType": null
        },
        {
         "idIngredient": "366",
         "strDescription": null,
         "strIngredient": "Duck",
         "strType": null
        },
        {
         "idIngredient": "367",
         "strDescription": null,
         "strIngredient": "Duck Legs",
         "strType": null
        },
        {
         "idIngredient": "368",
         "strDescription": null,
         "strIngredient": "Chicken Stock Cube",
         "strType": null
        },
        {
         "idIngredient": "369",
         "strDescription": null,
         "strIngredient": "Pappardelle Pasta",
         "strType": null
        },
        {
         "idIngredient": "370",
         "strDescription": null,
         "strIngredient": "Paccheri Pasta",
         "strType": null
        },
        {
         "idIngredient": "371",
         "strDescription": null,
         "strIngredient": "Linguine Pasta",
         "strType": null
        },
        {
         "idIngredient": "373",
         "strDescription": null,
         "strIngredient": "Sugar Snap Peas",
         "strType": null
        },
        {
         "idIngredient": "374",
         "strDescription": null,
         "strIngredient": "Crusty Bread",
         "strType": null
        },
        {
         "idIngredient": "375",
         "strDescription": null,
         "strIngredient": "Fromage Frais",
         "strType": null
        },
        {
         "idIngredient": "376",
         "strDescription": null,
         "strIngredient": "Clams",
         "strType": null
        },
        {
         "idIngredient": "377",
         "strDescription": null,
         "strIngredient": "Passata",
         "strType": null
        },
        {
         "idIngredient": "378",
         "strDescription": null,
         "strIngredient": "Rapeseed Oil",
         "strType": null
        },
        {
         "idIngredient": "379",
         "strDescription": null,
         "strIngredient": "Stilton Cheese",
         "strType": null
        },
        {
         "idIngredient": "380",
         "strDescription": null,
         "strIngredient": "Lamb Leg",
         "strType": null
        },
        {
         "idIngredient": "381",
         "strDescription": null,
         "strIngredient": "Lamb Shoulder",
         "strType": null
        },
        {
         "idIngredient": "382",
         "strDescription": null,
         "strIngredient": "Apricot",
         "strType": null
        },
        {
         "idIngredient": "383",
         "strDescription": null,
         "strIngredient": "Butternut Squash",
         "strType": null
        },
        {
         "idIngredient": "384",
         "strDescription": null,
         "strIngredient": "Couscous",
         "strType": null
        },
        {
         "idIngredient": "387",
         "strDescription": null,
         "strIngredient": "Minced Beef",
         "strType": null
        },
        {
         "idIngredient": "388",
         "strDescription": null,
         "strIngredient": "Turkey Mince",
         "strType": null
        },
        {
         "idIngredient": "389",
         "strDescription": null,
         "strIngredient": "Barbeque Sauce",
         "strType": null
        },
        {
         "idIngredient": "390",
         "strDescription": null,
         "strIngredient": "Sweetcorn",
         "strType": null
        },
        {
         "idIngredient": "391",
         "strDescription": null,
         "strIngredient": "Goose Fat",
         "strType": null
        },
        {
         "idIngredient": "392",
         "strDescription": null,
         "strIngredient": "Duck Fat",
         "strType": null
        },
        {
         "idIngredient": "393",
         "strDescription": null,
         "strIngredient": "Fennel",
         "strType": null
        },
        {
         "idIngredient": "394",
         "strDescription": null,
         "strIngredient": "Red Wine Vinegar",
         "strType": null
        },
        {
         "idIngredient": "395",
         "strDescription": null,
         "strIngredient": "Haricot Beans",
         "strType": null
        },
        {
         "idIngredient": "396",
         "strDescription": null,
         "strIngredient": "Rosemary",
         "strType": null
        },
        {
         "idIngredient": "397",
         "strDescription": null,
         "strIngredient": "Butter Beans",
         "strType": null
        },
        {
         "idIngredient": "398",
         "strDescription": null,
         "strIngredient": "Pinto Beans",
         "strType": null
        },
        {
         "idIngredient": "399",
         "strDescription": null,
         "strIngredient": "Tomato Sauce",
         "strType": null
        },
        {
         "idIngredient": "401",
         "strDescription": null,
         "strIngredient": "Mascarpone",
         "strType": null
        },
        {
         "idIngredient": "402",
         "strDescription": null,
         "strIngredient": "Mozzarella",
         "strType": null
        },
        {
         "idIngredient": "403",
         "strDescription": null,
         "strIngredient": "Ricotta",
         "strType": null
        },
        {
         "idIngredient": "405",
         "strDescription": null,
         "strIngredient": "Dried Apricots",
         "strType": null
        },
        {
         "idIngredient": "406",
         "strDescription": null,
         "strIngredient": "Capers",
         "strType": null
        },
        {
         "idIngredient": "407",
         "strDescription": null,
         "strIngredient": "Banana",
         "strType": null
        },
        {
         "idIngredient": "408",
         "strDescription": null,
         "strIngredient": "Raspberries",
         "strType": null
        },
        {
         "idIngredient": "409",
         "strDescription": null,
         "strIngredient": "Blueberries",
         "strType": null
        },
        {
         "idIngredient": "410",
         "strDescription": null,
         "strIngredient": "Walnuts",
         "strType": null
        },
        {
         "idIngredient": "411",
         "strDescription": null,
         "strIngredient": "Pecan Nuts",
         "strType": null
        },
        {
         "idIngredient": "412",
         "strDescription": null,
         "strIngredient": "Maple Syrup",
         "strType": null
        },
        {
         "idIngredient": "413",
         "strDescription": null,
         "strIngredient": "Light Brown Soft Sugar",
         "strType": null
        },
        {
         "idIngredient": "414",
         "strDescription": null,
         "strIngredient": "Dark Brown Soft Sugar",
         "strType": null
        },
        {
         "idIngredient": "415",
         "strDescription": null,
         "strIngredient": "Dark Chocolate Chips",
         "strType": null
        },
        {
         "idIngredient": "416",
         "strDescription": null,
         "strIngredient": "Milk Chocolate",
         "strType": null
        },
        {
         "idIngredient": "417",
         "strDescription": null,
         "strIngredient": "Dark Chocolate",
         "strType": null
        },
        {
         "idIngredient": "418",
         "strDescription": null,
         "strIngredient": "Pumpkin",
         "strType": null
        },
        {
         "idIngredient": "419",
         "strDescription": null,
         "strIngredient": "Shortcrust Pastry",
         "strType": "Pastry"
        },
        {
         "idIngredient": "420",
         "strDescription": null,
         "strIngredient": "Peanut Cookies",
         "strType": null
        },
        {
         "idIngredient": "421",
         "strDescription": null,
         "strIngredient": "Gelatine Leafs",
         "strType": null
        },
        {
         "idIngredient": "422",
         "strDescription": null,
         "strIngredient": "Peanut Brittle",
         "strType": null
        },
        {
         "idIngredient": "423",
         "strDescription": null,
         "strIngredient": "Peaches",
         "strType": null
        },
        {
         "idIngredient": "424",
         "strDescription": null,
         "strIngredient": "Yellow Pepper",
         "strType": null
        },
        {
         "idIngredient": "425",
         "strDescription": null,
         "strIngredient": "Green Pepper",
         "strType": null
        },
        {
         "idIngredient": "426",
         "strDescription": null,
         "strIngredient": "Courgettes",
         "strType": null
        },
        {
         "idIngredient": "427",
         "strDescription": null,
         "strIngredient": "Tinned Tomatos",
         "strType": null
        },
        {
         "idIngredient": "428",
         "strDescription": null,
         "strIngredient": "Chestnuts",
         "strType": null
        },
        {
         "idIngredient": "429",
         "strDescription": null,
         "strIngredient": "Wild Mushrooms",
         "strType": null
        },
        {
         "idIngredient": "430",
         "strDescription": null,
         "strIngredient": "Truffle Oil",
         "strType": null
        },
        {
         "idIngredient": "431",
         "strDescription": null,
         "strIngredient": "Paneer",
         "strType": null
        },
        {
         "idIngredient": "432",
         "strDescription": null,
         "strIngredient": "Naan Bread",
         "strType": null
        },
        {
         "idIngredient": "433",
         "strDescription": null,
         "strIngredient": "Lentils",
         "strType": null
        },
        {
         "idIngredient": "434",
         "strDescription": null,
         "strIngredient": "Roasted Vegetables",
         "strType": null
        },
        {
         "idIngredient": "435",
         "strDescription": null,
         "strIngredient": "Kidney Beans",
         "strType": null
        },
        {
         "idIngredient": "436",
         "strDescription": null,
         "strIngredient": "Mixed Grain",
         "strType": null
        },
        {
         "idIngredient": "437",
         "strDescription": null,
         "strIngredient": "Tahini",
         "strType": null
        },
        {
         "idIngredient": "438",
         "strDescription": null,
         "strIngredient": "Tortillas",
         "strType": null
        },
        {
         "idIngredient": "439",
         "strDescription": null,
         "strIngredient": "Udon Noodles",
         "strType": null
        },
        {
         "idIngredient": "440",
         "strDescription": null,
         "strIngredient": "Cabbage",
         "strType": null
        },
        {
         "idIngredient": "441",
         "strDescription": null,
         "strIngredient": "Shiitake Mushrooms",
         "strType": null
        },
        {
         "idIngredient": "442",
         "strDescription": null,
         "strIngredient": "Mirin",
         "strType": null
        },
        {
         "idIngredient": "443",
         "strDescription": null,
         "strIngredient": "Sesame Seed Oil",
         "strType": null
        },
        {
         "idIngredient": "444",
         "strDescription": null,
         "strIngredient": "Baguette",
         "strType": null
        },
        {
         "idIngredient": "445",
         "strDescription": null,
         "strIngredient": "Vine Tomatoes",
         "strType": null
        },
        {
         "idIngredient": "446",
         "strDescription": null,
         "strIngredient": "Suet",
         "strType": null
        },
        {
         "idIngredient": "447",
         "strDescription": null,
         "strIngredient": "Swede",
         "strType": null
        },
        {
         "idIngredient": "448",
         "strDescription": null,
         "strIngredient": "Ham",
         "strType": null
        },
        {
         "idIngredient": "449",
         "strDescription": null,
         "strIngredient": "Oysters",
         "strType": null
        },
        {
         "idIngredient": "450",
         "strDescription": null,
         "strIngredient": "Stout",
         "strType": null
        },
        {
         "idIngredient": "451",
         "strDescription": null,
         "strIngredient": "Lard",
         "strType": null
        },
        {
         "idIngredient": "452",
         "strDescription": null,
         "strIngredient": "Lamb Kidney",
         "strType": null
        },
        {
         "idIngredient": "453",
         "strDescription": null,
         "strIngredient": "Beef Kidney",
         "strType": null
        },
        {
         "idIngredient": "454",
         "strDescription": null,
         "strIngredient": "Haddock",
         "strType": null
        },
        {
         "idIngredient": "455",
         "strDescription": null,
         "strIngredient": "Smoked Haddock",
         "strType": null
        },
        {
         "idIngredient": "456",
         "strDescription": null,
         "strIngredient": "Brussels Sprouts",
         "strType": null
        },
        {
         "idIngredient": "457",
         "strDescription": null,
         "strIngredient": "Raisins",
         "strType": null
        },
        {
         "idIngredient": "458",
         "strDescription": null,
         "strIngredient": "Currants",
         "strType": null
        },
        {
         "idIngredient": "459",
         "strDescription": null,
         "strIngredient": "Custard",
         "strType": null
        },
        {
         "idIngredient": "460",
         "strDescription": null,
         "strIngredient": "Mixed Peel",
         "strType": null
        },
        {
         "idIngredient": "461",
         "strDescription": null,
         "strIngredient": "Redcurrants",
         "strType": null
        },
        {
         "idIngredient": "462",
         "strDescription": null,
         "strIngredient": "Blackberries",
         "strType": null
        },
        {
         "idIngredient": "463",
         "strDescription": null,
         "strIngredient": "Hazlenuts",
         "strType": null
        },
        {
         "idIngredient": "464",
         "strDescription": null,
         "strIngredient": "Braeburn Apples",
         "strType": null
        },
        {
         "idIngredient": "465",
         "strDescription": null,
         "strIngredient": "Red Food Colouring",
         "strType": null
        },
        {
         "idIngredient": "466",
         "strDescription": null,
         "strIngredient": "Pink Food Colouring",
         "strType": null
        },
        {
         "idIngredient": "467",
         "strDescription": null,
         "strIngredient": "Blue Food Colouring",
         "strType": null
        },
        {
         "idIngredient": "468",
         "strDescription": null,
         "strIngredient": "Yellow Food Colouring",
         "strType": null
        },
        {
         "idIngredient": "469",
         "strDescription": null,
         "strIngredient": "Apricot Jam",
         "strType": null
        },
        {
         "idIngredient": "470",
         "strDescription": null,
         "strIngredient": "Marzipan",
         "strType": null
        },
        {
         "idIngredient": "471",
         "strDescription": null,
         "strIngredient": "Almonds",
         "strType": null
        },
        {
         "idIngredient": "472",
         "strDescription": null,
         "strIngredient": "Black Pudding",
         "strType": null
        },
        {
         "idIngredient": "473",
         "strDescription": null,
         "strIngredient": "Baked Beans",
         "strType": null
        },
        {
         "idIngredient": "474",
         "strDescription": null,
         "strIngredient": "White Flour",
         "strType": null
        },
        {
         "idIngredient": "475",
         "strDescription": null,
         "strIngredient": "Yeast",
         "strType": null
        },
        {
         "idIngredient": "476",
         "strDescription": null,
         "strIngredient": "Fruit Mix",
         "strType": null
        },
        {
         "idIngredient": "477",
         "strDescription": null,
         "strIngredient": "Dried Fruit",
         "strType": null
        },
        {
         "idIngredient": "478",
         "strDescription": null,
         "strIngredient": "Cherry",
         "strType": null
        },
        {
         "idIngredient": "479",
         "strDescription": null,
         "strIngredient": "Glace Cherry",
         "strType": null
        },
        {
         "idIngredient": "480",
         "strDescription": null,
         "strIngredient": "Treacle",
         "strType": null
        },
        {
         "idIngredient": "481",
         "strDescription": null,
         "strIngredient": "Oatmeal",
         "strType": null
        },
        {
         "idIngredient": "482",
         "strDescription": null,
         "strIngredient": "Oats",
         "strType": null
        },
        {
         "idIngredient": "483",
         "strDescription": null,
         "strIngredient": "Egg",
         "strType": null
        },
        {
         "idIngredient": "484",
         "strDescription": null,
         "strIngredient": "Beef Shin",
         "strType": null
        },
        {
         "idIngredient": "485",
         "strDescription": null,
         "strIngredient": "Bouquet Garni",
         "strType": null
        },
        {
         "idIngredient": "486",
         "strDescription": null,
         "strIngredient": "Single Cream",
         "strType": null
        },
        {
         "idIngredient": "487",
         "strDescription": null,
         "strIngredient": "Red Wine Jelly",
         "strType": null
        },
        {
         "idIngredient": "488",
         "strDescription": null,
         "strIngredient": "Apples",
         "strType": null
        },
        {
         "idIngredient": "489",
         "strDescription": null,
         "strIngredient": "Goats Cheese",
         "strType": null
        },
        {
         "idIngredient": "490",
         "strDescription": null,
         "strIngredient": "Prosciutto",
         "strType": null
        },
        {
         "idIngredient": "491",
         "strDescription": null,
         "strIngredient": "Unsalted Butter",
         "strType": null
        },
        {
         "idIngredient": "492",
         "strDescription": null,
         "strIngredient": "Brie",
         "strType": null
        },
        {
         "idIngredient": "493",
         "strDescription": null,
         "strIngredient": "Tarragon Leaves",
         "strType": null
        },
        {
         "idIngredient": "494",
         "strDescription": null,
         "strIngredient": "Chives",
         "strType": null
        },
        {
         "idIngredient": "495",
         "strDescription": null,
         "strIngredient": "Pears",
         "strType": null
        },
        {
         "idIngredient": "496",
         "strDescription": null,
         "strIngredient": "White Chocolate",
         "strType": null
        },
        {
         "idIngredient": "497",
         "strDescription": null,
         "strIngredient": "Star Anise",
         "strType": null
        },
        {
         "idIngredient": "498",
         "strDescription": null,
         "strIngredient": "Tiger Prawns",
         "strType": null
        },
        {
         "idIngredient": "499",
         "strDescription": null,
         "strIngredient": "Custard Powder",
         "strType": null
        },
        {
         "idIngredient": "500",
         "strDescription": null,
         "strIngredient": "Desiccated Coconut",
         "strType": null
        },
        {
         "idIngredient": "501",
         "strDescription": null,
         "strIngredient": "Frozen Peas",
         "strType": null
        },
        {
         "idIngredient": "502",
         "strDescription": null,
         "strIngredient": "Minced Pork",
         "strType": null
        },
        {
         "idIngredient": "503",
         "strDescription": null,
         "strIngredient": "Creamed Corn",
         "strType": null
        },
        {
         "idIngredient": "504",
         "strDescription": null,
         "strIngredient": "Sun-Dried Tomatoes",
         "strType": null
        },
        {
         "idIngredient": "505",
         "strDescription": null,
         "strIngredient": "Dijon Mustard",
         "strType": null
        },
        {
         "idIngredient": "506",
         "strDescription": null,
         "strIngredient": "Tabasco Sauce",
         "strType": null
        },
        {
         "idIngredient": "507",
         "strDescription": null,
         "strIngredient": "Canola Oil",
         "strType": null
        },
        {
         "idIngredient": "508",
         "strDescription": null,
         "strIngredient": "Cod",
         "strType": null
        },
        {
         "idIngredient": "509",
         "strDescription": null,
         "strIngredient": "Salt Cod",
         "strType": null
        },
        {
         "idIngredient": "510",
         "strDescription": null,
         "strIngredient": "Ackee",
         "strType": null
        },
        {
         "idIngredient": "511",
         "strDescription": null,
         "strIngredient": "Jerk",
         "strType": null
        },
        {
         "idIngredient": "512",
         "strDescription": null,
         "strIngredient": "Ground Beef",
         "strType": null
        },
        {
         "idIngredient": "513",
         "strDescription": "Eggplant (Solanum melongena) or aubergine is a species of nightshade grown for its edible fruit. Eggplant is the common name in North America, Australia and New Zealand; in British English, it is aubergine, and in South Asia and South Africa, brinjal.\r\n\r\nThe fruit is widely used in cooking. As a member of the genus Solanum, it is related to the tomato and the potato. It was originally domesticated from the wild nightshade species, the thorn or bitter apple, S. incanum, probably with two independent domestications, one in South Asia and one in East Asia.",
         "strIngredient": "Baby Aubergine",
         "strType": "Vegetable"
        },
        {
         "idIngredient": "514",
         "strDescription": "Paella[a] is a Valencian rice dish that has ancient roots but its modern form originated in the mid-19th century in the area around Albufera lagoon on the east coast of Spain, adjacent to the city of Valencia. Many non-Spaniards view paella as Spain's national dish, but most Spaniards consider it to be a regional Valencian dish. Valencians, in turn, regard paella as one of their identifying symbols.\r\n\r\nTypes of paella include Valencian paella, vegetable paella (Spanish: paella de verduras), seafood paella (Spanish: paella de mariscos), and mixed paella (Spanish: paella mixta), among many others. Valencian paella is believed to be the original recipe and consists of white rice, green beans (bajoqueta and tavella), meat (chicken, duck and rabbit), white beans (garrofón), snails, and seasoning such as saffron and rosemary. Another very common but seasonal ingredient is artichokes. Seafood paella replaces meat with seafood and omits beans and green vegetables. Mixed paella is a free-style combination of meat from land animals, seafood, vegetables, and sometimes beans. Most paella chefs use bomba rice due to it being less likely to overcook, but Valencians tend to use a slightly stickier (and thus more susceptible to overcooking) variety known as Senia. All types of paellas use olive oil.",
         "strIngredient": "Paella Rice",
         "strType": null
        },
        {
         "idIngredient": "515",
         "strDescription": "Scotch bonnet, also known as bonney peppers, or Caribbean red peppers, is a variety of chili pepper named for its resemblance to a tam o' shanter hat. Also called ata rodo by Yoruba speakers of Nigeria, it is found mainly in the Caribbean islands; it is also found in Guyana (where it is called the ball-of-fire pepper), the Maldives Islands (where it is called githeyo mirus), Panama (where it is called aji chombo) and West Africa. Most Scotch bonnets have a heat rating of 100,000–350,000 Scoville units. For comparison, most jalapeño peppers have a heat rating of 2,500 to 8,000 on the Scoville scale. However, completely sweet varieties of Scotch bonnet are grown on some of the Caribbean islands, called cachucha peppers.\r\n\r\nThese peppers are used to flavour many different dishes and cuisines worldwide and are often used in hot sauces and condiments. The Scotch bonnet has a sweeter flavour and stouter shape, distinct from its habanero relative with which it is often confused, and gives jerk dishes (pork/chicken) and other Caribbean dishes their unique flavour. Scotch bonnets are mostly used in West African, Antiguan, Kittitian/Nevisian, Anguilan, Dominican, St. Lucian, St Vincentian, Grenadian, Trinidadian, Jamaican, Barbadian, Guyanese, Surinamese, Haitian and Cayman cuisines and pepper sauces, though they often show up in other Caribbean recipes. It is also used in Costa Rica and Panama for Caribbean-styled recipes such as rice and beans, Rondón, saus, beef patties, and Ceviche.\r\n\r\nFresh, ripe Scotch bonnets can change from green to yellow to scarlet red, however many other breeds of this pepper can ripen to orange, yellow, peach, or even a chocolate brown.",
         "strIngredient": "Scotch Bonnet",
         "strType": "Vegetable"
        },
        {
         "idIngredient": "516",
         "strDescription": "Oxtail (occasionally spelled ox tail or ox-tail) is the culinary name for the tail of cattle. Formerly, it referred only to the tail of an ox or steer, a bullock (a castrated male).[citation needed] An oxtail typically weighs 2 to 4 lbs. (1–1.8 kg) and is skinned and cut into short lengths for sale.\r\n\r\nOxtail is a bony, gelatin-rich meat, which is usually slow-cooked as a stew[1] or braised. It is a traditional stock base for a soup. Traditional preparations involve slow cooking, so some modern recipes take a shortcut using a pressure cooker. Oxtail is the main ingredient of the Italian dish coda alla vaccinara (a classic of Roman cuisine). It is a popular flavour for powder, instant and premade canned soups in the United Kingdom and Ireland. Oxtails are also one of the popular bases for Russian aspic appetizer dishes (холодец or студень), along with pig trotters or ears or cow \"knees\", but are the preferred ingredients among Russian Jews because they can be Kosher.\r\n\r\nVersions of oxtail soup are popular traditional dishes in South America, West Africa, China, Spain [2] and Indonesia. In Chinese cuisine, it's usually made into a soup called 牛尾汤 (niúwěi tāng, \"oxtail soup\"). In Korean cuisine, a soup made with oxtail is called kkori gomtang (see gomguk). It is a thick soup seasoned with salt and eaten with a bowl of rice. It can be used as a stock for making tteokguk (rice cake soup). Stewed oxtail with butter bean or as main dish (with rice) is popular in Jamaica, Trinidad, and other West Indian cultures. Oxtail is also very popular in South Africa where it is often cooked in a traditional skillet called a potjie, which is a three-legged cast iron pot placed over an open fire. Oxtail is also eaten in other southern parts of Africa like Zimbabwe and served with sadza and greens. In the United States, oxtail is a mainstay in African American and West Indian households. In Cuban cuisine, a stew can be made from oxtail called rabo encendido. In the Philippines, it is prepared in a peanut based stew called Kare-kare. In Iran, Oxtail is slow-cooked and served as a substitute for shank in a main dish called Baghla-Poli-Mahicheh which is prepared with rice, shank (or oxtail) and a mixture of herbs including dill, coriander, parsley and garlic.\r\n\r\nIn the United States, oxtail has the meat-cutting classification NAMP 1791.",
         "strIngredient": "Oxtail",
         "strType": "Meat"
        },
        {
         "idIngredient": "517",
         "strDescription": "Vicia faba, also known as the broad bean, fava bean, faba bean, field bean, bell bean, or tic bean, is a species of flowering plant in the pea and bean family Fabaceae. It is native to North Africa[dubious – discuss] southwest and south Asia, and extensively cultivated elsewhere.[citation needed] A variety Vicia faba var. equina Pers. – horse bean has been previously recognized.",
         "strIngredient": "Broad Beans",
         "strType": "Vegetable"
        },
        {
         "idIngredient": "518",
         "strDescription": "The northern red snapper (Lutjanus campechanus) is a species of snapper native to the western Atlantic Ocean including the Gulf of Mexico, where it inhabits environments associated with reefs. This species is commercially important and is also sought-after as a game fish.\r\n\r\nThe northern red snapper's body is very similar in shape to other snappers, such as the mangrove snapper, mutton snapper, lane snapper, and dog snapper. All feature a sloped profile, medium-to-large scales, a spiny dorsal fin, and a laterally compressed body. Northern red snapper have short, sharp, needle-like teeth, but they lack the prominent upper canine teeth found on the mutton, dog, and mangrove snappers. This snapper reaches maturity at a length of about 39 cm (15 in). The common adult length is 60 cm (24 in), but may reach 100 cm (39 in). The maximum published weight is 38 kg (84 lb), and the oldest reported age is 100+ years. Coloration of the northern red snapper is light red, with more intense pigment on the back. It has 10 dorsal spines, 14 soft dorsal rays, three anal spines and eight to 9 anal soft rays. Juvenile fish (shorter than 30–35 cm) can also have a dark spot on their sides, below the anterior soft dorsal rays, which fades with age.",
         "strIngredient": "Red Snapper",
         "strType": "Fish"
        },
        {
         "idIngredient": "519",
         "strDescription": "Vinegar is a liquid consisting of about 5–20% acetic acid (CH3COOH), water, and other trace chemicals, which may include flavorings. The acetic acid is produced by the fermentation of ethanol by acetic acid bacteria. Vinegar is now mainly used as a cooking ingredient, or in pickling. As the most easily manufactured mild acid, it has historically had a great variety of industrial, medical, and domestic uses, some of which (such as its use as a general household cleaner) are still commonly practiced today.\r\n\r\nCommercial vinegar is produced either by a fast or a slow fermentation process. In general, slow methods are used in traditional vinegars where fermentation proceeds slowly over the course of a few months or up to a year. The longer fermentation period allows for the accumulation of a non-toxic slime composed of acetic acid bacteria. Fast methods add mother of vinegar (bacterial culture) to the source liquid before adding air to oxygenate and promote the fastest fermentation. In fast production processes, vinegar may be produced between 20 hours to three days.",
         "strIngredient": "Malt Vinegar",
         "strType": "Seasoning"
        },
        {
         "idIngredient": "520",
         "strDescription": "Rice vinegar is a vinegar made from fermented rice in China, Japan, Korea, and Vietnam.\r\n\r\nChinese rice vinegars are stronger than Japanese ones, and range in colour from clear to various shades of red, brown and black and are therefore known as rice wine vinegar. Chinese and especially Japanese vinegars are less acidic than the distilled Western vinegars which, for that reason, are not appropriate substitutes for rice vinegars. The majority of the Asian rice vinegar types are also more mild and sweet than vinegars typically used in the Western world, with black vinegars as a notable exception. Chinese rice vinegars are made from huangjiu, a type of rice wine.",
         "strIngredient": "Rice Vinegar",
         "strType": "Vinegar"
        },
        {
         "idIngredient": "521",
         "strDescription": "Eleocharis dulcis, the Chinese water chestnut or water chestnut, is a grass-like sedge native to Asia (China, Japan, India, Philippines, etc.), Australia, tropical Africa, and various islands of the Pacific and Indian Oceans. It is grown in many countries for its edible corms.\r\n\r\nThe water chestnut is not a nut at all, but an aquatic vegetable that grows in marshes, under water, in the mud. It has stem-like, tubular green leaves that grow to about 1.5 m. The water caltrop, which also is referred to by the same name, is unrelated and often confused with the water chestnut.\r\n\r\nThe small, rounded corms have a crisp, white flesh and may be eaten raw, slightly boiled, or grilled, and often are pickled or tinned. They are a popular ingredient in Chinese dishes. In China, they are most often eaten raw, sometimes sweetened. They also may be ground into a flour form used for making water chestnut cake, which is common as part of dim sum cuisine. They are unusual among vegetables for remaining crisp even after being cooked or canned, because their cell walls are cross-linked and strengthened by certain phenolic compounds, such as oligomers of ferulic acid. This property is shared by other vegetables that remain crisp in this manner, including the tiger nut and lotus root. The corms contain the antibiotic agent puchiin, which is stable to high temperature. Apart from the edible corms, the leaves can be used for cattlefeed, mulch or compost.\r\n\r\nThe corms are rich in carbohydrates (about 90% by dry weight), especially starch (about 60% by dry weight), and are also a good source of dietary fiber, riboflavin, vitamin B6, potassium, copper, and manganese.\r\n\r\nIf eaten uncooked, the surface of the plants may transmit fasciolopsiasis.",
         "strIngredient": "Water Chestnut",
         "strType": "Sedge"
        },
        {
         "idIngredient": "522",
         "strDescription": "Tofu, also known as bean curd, is a food cultivated by coagulating soy milk and then pressing the resulting curds into soft white blocks. It is a component in East Asian and Southeast Asian cuisines. Tofu can be soft, firm, or extra firm. Tofu has a subtle flavor and can be used in savory and sweet dishes. It is often seasoned or marinated to suit the dish.\r\n\r\nTofu has a low calorie count and relatively large amounts of protein. It is high in iron, and it can have a high calcium or magnesium content, depending on the coagulants used in manufacturing (e.g. calcium chloride, calcium sulfate, magnesium sulfate).",
         "strIngredient": "Tofu",
         "strType": "Curd"
        },
        {
         "idIngredient": "523",
         "strDescription": "Doubanjiang (IPA: [tôupântɕjâŋ]), or simply Douban, or Toban-djan, Chili bean sauce, is a spicy, salty paste made from fermented broad beans, soybeans, salt, rice, and various spices. Doubanjiang exists in plain and spicy versions, with the latter containing red chili peppers and called la doubanjiang (辣豆瓣酱; pinyin: là dòubànjiàng; là meaning \"hot\" or \"spicy\").\r\n\r\nIt is used particularly in Sichuan cuisine, and in fact, the people of the province commonly refer to it as \"the soul of Sichuan cuisine\". A particularly well-known variety is called Pixian Douban (simplified Chinese: 郫县豆瓣; traditional Chinese: 郫縣豆瓣; pinyin: Píxiàn dòubàn), named after the district of Pixian, Sichuan.[1]\r\n\r\nThis sauce is sometimes stir-fried with oil and eaten with rice or noodles as a quick meal, and is also commonly used as a primary flavoring for fried tofu dishes and cold tofu salads. It is also frequently mixed with instant noodles.\r\n\r\nIn many Chinese communities and food factories, doubanjiang is produced with only soybeans and salt, and does not contain the broad beans or chili peppers typical of Sichuan-style doubanjiang.\r\n\r\nIn Korean cuisine, a similar form of bean paste is called doenjang.",
         "strIngredient": "Doubanjiang",
         "strType": "Sauce"
        },
        {
         "idIngredient": "524",
         "strDescription": "Douchi (Chinese: 豆豉; pinyin: dòuchǐ), or tochi is a type of fermented and salted black soybean. In English, it is known as fermented black soybeans, Chinese fermented black beans (Chinese: 黑豆豆豉; pinyin: hēidòu dòuchǐ), salted black beans, salty black beans, or just black beans. They are a flavoring most popular in the cuisine of China, where they are most widely used for making black bean sauce dishes.[1][page needed]\r\n\r\nDouchi is made by fermenting and salting black soybeans. The black type soybean is most commonly used and the process turns the beans soft, and mostly semi-dry (if the beans are allowed to dry). Regular soybeans (white soybeans) are also used, but this does not produce \"salted black beans\"; instead, these beans become brown. The smell is sharp, pungent, and spicy; the taste is salty, somewhat bitter and sweet.[citation needed] The product made with white soybeans is called mianchi.\r\n\r\nThe process and product are similar to ogiri and iru, both being African fermented bean products[citation needed].\r\n\r\nDouchi, \"Chinese salted black beans\", and \"black soybeans\" should not be confused with the black turtle bean, a variety of common bean that is commonly used in the cuisines of Central America, South America, and the Caribbean.",
         "strIngredient": "Fermented Black Beans",
         "strType": "Bean"
        },
        {
         "idIngredient": "525",
         "strDescription": "Scallions (green onion, spring onion and salad onion) are vegetables of various Allium onion species. Scallions have a milder taste than most onions. Their close relatives include the garlic, shallot, leek, chive, and Chinese onion.\r\n\r\nAlthough the bulbs of many Allium species are used as food, the defining characteristic of scallion species is that they lack a fully developed bulb. In common with all Allium species, scallions have hollow, tubular green leaves, growing directly from the bulb. These leaves are used as a vegetable; they are eaten either raw or cooked. The leaves are often chopped into other dishes, in the manner of onions or garlic. Also known as scallions or green onions, spring onions are in fact very young onions, harvested before the bulb has had a chance to swell.",
         "strIngredient": "Scallions",
         "strType": "Vegetable"
        },
        {
         "idIngredient": "526",
         "strDescription": "Sichuan pepper, Sichuan peppercorn, or Szechuan pepper, is a commonly used spice in Chinese cuisine. It is derived from at least two species of the global genus Zanthoxylum, including Z. simulans and Z. bungeanum. The genus Zanthoxylum belongs in the rue or citrus family, and, despite its name, is not closely related to either black pepper nor the chili pepper.\r\n\r\nThe husk or hull (pericarp) around the seeds may be used whole, especially in Sichuan cuisine, and the finely ground powder is one of the ingredients for five-spice powder. It is also used in traditional Chinese medicine. The pericarp is most often used, but the leaves of various species are also used in some regions of China.\r\n\r\nAnother species of Zanthoxylum native to China, Z. schinifolium, called xiāng jiāo zi (香椒子, \"aromatic peppercorn\") or qīng huā jiāo (青花椒, \"green flower pepper\"), is used as a spice in Hebei.\r\n\r\nWhile the exact flavour and composition of different species from the genus Zanthoxylum vary, most share the same essential characteristics. So while the terms \"Sichuan pepper\" and sanshō may refer specifically to Z. simulans and Z. piperitum, respectively, the two are commonly used interchangeably.\r\n\r\nRelated species are used in the cuisines of Tibet, Bhutan, Nepal, Thailand, and India (the Konkani and Uttarakhandi people) and Toba Batak peoples. In Bhutan, this pepper is known as thingye and is used liberally in preparation of soups, gruels, and phaag sha paa (pork slices).[citation needed] In Nepal, timur is used in the popular foods momo, thukpa, chow mein, chicken chilli, and other meat dishes. It is also widely used in homemade pickles. People take timur as a medicine for stomach or digestion problems, in a preparation with cloves of garlic and mountain salt with warm water.",
         "strIngredient": "Sichuan Pepper",
         "strType": "Spice"
        },
        {
         "idIngredient": "527",
         "strDescription": "Won ton skin. Paper-thin squares of dough made from flour, water, eggs and salt used to make won tons, egg rolls and gyoza.",
         "strIngredient": "Wonton Skin",
         "strType": "Pastry"
        },
        {
         "idIngredient": "528",
         "strDescription": "Starch or amylum is a polymeric carbohydrate consisting of a large number of glucose units joined by glycosidic bonds. This polysaccharide is produced by most green plants as energy storage. It is the most common carbohydrate in human diets and is contained in large amounts in staple foods like potatoes, wheat, maize (corn), rice, and cassava.\r\n\r\nPure starch is a white, tasteless and odorless powder that is insoluble in cold water or alcohol. It consists of two types of molecules: the linear and helical amylose and the branched amylopectin. Depending on the plant, starch generally contains 20 to 25% amylose and 75 to 80% amylopectin by weight.[4] Glycogen, the glucose store of animals, is a more highly branched version of amylopectin.\r\n\r\nIn industry, starch is converted into sugars, for example by malting, and fermented to produce ethanol in the manufacture of beer, whisky and biofuel. It is processed to produce many of the sugars used in processed foods. Mixing most starches in warm water produces a paste, such as wheatpaste, which can be used as a thickening, stiffening or gluing agent. The biggest industrial non-food use of starch is as an adhesive in the papermaking process. Starch can be applied to parts of some garments before ironing, to stiffen them.",
         "strIngredient": "Starch",
         "strType": "Side"
        },
        {
         "idIngredient": "529",
         "strDescription": "Rice wine is an alcoholic beverage fermented and distilled from rice, traditionally consumed in East Asia, Southeast Asia and South Asia. Rice wine is made from the fermentation of rice starch that has been converted to sugars. Microbes are the source of the enzymes that convert the starches to sugar.[1]\r\n\r\nRice wine typically has an alcohol content of 18–25% ABV. Rice wines are used in Asian gastronomy at formal dinners and banquets and in cooking. They are also used in a religious and ceremonial context.",
         "strIngredient": "Rice wine",
         "strType": "Wine"
        },
        {
         "idIngredient": "530",
         "strDescription": "Splash into casseroles, sauces and marinades for a rounded vibrant flavour.",
         "strIngredient": "Cooking wine",
         "strType": "Wine"
        },
        {
         "idIngredient": "531",
         "strDescription": "Duck sauce (or orange sauce) is a condiment with a sweet and sour flavor and a translucent orange appearance similar to a thin jelly. Offered at Chinese-American restaurants, it is used as a dip for deep-fried dishes such as wonton strips, spring rolls, egg rolls, duck, chicken, fish, or with rice or noodles. It is often provided in single-serving packets along with soy sauce, mustard, hot sauce or red chili powder. It may be used as a glaze on foods, such as poultry. Despite its name the sauce is not prepared using duck meat.",
         "strIngredient": "Duck Sauce",
         "strType": "Sauce"
        },
        {
         "idIngredient": "532",
         "strDescription": "Gochujang or red chili paste is a savory, sweet, and spicy fermented condiment made from chili powder, glutinous rice, meju powder, yeotgireum, and salt.",
         "strIngredient": "Gochujang",
         "strType": "Sauce"
        },
        {
         "idIngredient": "533",
         "strDescription": "Bean sprouts are a common ingredient across the world. They are particularly common in Eastern Asian cuisine.\r\n\r\nThere are two types of common bean sprouts:\r\n\r\nMung bean sprout is made from the greenish-capped mung beans\r\nSoybean sprout is made from yellow, larger-grained soybean\r\nIt typically takes one week for them to become fully grown. The sprouted beans are more nutritious than the original beans and they require much less cooking time.",
         "strIngredient": "Bean Sprouts",
         "strType": "Vegetable"
        },
        {
         "idIngredient": "534",
         "strDescription": "Noodles are a staple food in many cultures. They are made from unleavened dough which is stretched, extruded, or rolled flat and cut into one of a variety of shapes. While long, thin strips may be the most common, many varieties of noodles are cut into waves, helices, tubes, strings, or shells, or folded over, or cut into other shapes. Noodles are usually cooked in boiling water, sometimes with cooking oil or salt added. They are often pan-fried or deep-fried. Noodles are often served with an accompanying sauce or in a soup. Noodles can be refrigerated for short-term storage or dried and stored for future use. The material composition or geocultural origin must be specified when discussing noodles. The word derives from the German word Nudel.[1]",
         "strIngredient": "Noodles",
         "strType": "Side"
        },
        {
         "idIngredient": "535",
         "strDescription": "Auricularia auricula-judae, known as the Jew's ear, wood ear, jelly ear or by a number of other common names, is a species of edible Auriculariales fungus found worldwide. The fruiting body is distinguished by its noticeably ear-like shape and brown colouration; it grows upon wood, especially elder. Its specific epithet is derived from the belief that Judas Iscariot hanged himself from an elder tree; the common name \"Judas's ear\" was largely eclipsed by the corruption \"Jew's ear\", while today \"jelly ear\" and other names are sometimes used. The fungus can be found throughout the year in temperate regions worldwide, where it grows upon both dead and living wood.\r\n\r\nIn the West, A. auricula-judae was used in folk medicine as recently as the 19th century for complaints including sore throats, sore eyes and jaundice, and as an astringent. Although it is not widely consumed in the West, it has long been popular in China, to the extent that Australia exported large volumes to China in the early twentieth century. Today, the fungus is a popular ingredient in many Chinese dishes, such as hot and sour soup, and also used in Chinese medicine. It is also used in Ghana, as a blood tonic. Modern research into possible medical applications has variously concluded that A. auricula-judae has antitumour, hypoglycemic, anticoagulant and cholesterol-lowering properties.",
         "strIngredient": "Wood Ear Mushrooms",
         "strType": "Vegetable"
        },
        {
         "idIngredient": "536",
         "strDescription": "Rum is a distilled alcoholic drink made from sugarcane byproducts, such as molasses, or directly from sugarcane juice, by a process of fermentation and distillation. The distillate, a clear liquid, is then usually aged in oak barrels.\r\n\r\nThe majority of the world's rum production occurs in the Caribbean and Latin America. Rum is also produced in Australia, Portugal, Austria, Canada, Fiji, India, Japan, Mauritius, Nepal, New Zealand, the Philippines, Reunion Island, South Africa, Spain, Sweden, Taiwan, Thailand, the United Kingdom and the United States.\r\n\r\nRums are produced in various grades. Light rums are commonly used in cocktails, whereas \"golden\" and \"dark\" rums were typically consumed straight or neat, on the rocks, or used for cooking, but are now commonly consumed with mixers. Premium rums are also available, made to be consumed either straight or iced.\r\n\r\nRum plays a part in the culture of most islands of the West Indies as well as in The Maritimes and Newfoundland. This drink has famous associations with the Royal Navy (where it was mixed with water or beer to make grog) and piracy (where it was consumed as bumbo). Rum has also served as a popular medium of economic exchange, used to help fund enterprises such as slavery (see Triangular trade), organized crime, and military insurgencies (e.g., the American Revolution and Australia's Rum Rebellion).",
         "strIngredient": "Dark Rum",
         "strType": "Spirit"
        },
        {
         "idIngredient": "537",
         "strDescription": "Rum is a distilled alcoholic drink made from sugarcane byproducts, such as molasses, or directly from sugarcane juice, by a process of fermentation and distillation. The distillate, a clear liquid, is then usually aged in oak barrels.\r\n\r\nThe majority of the world's rum production occurs in the Caribbean and Latin America. Rum is also produced in Australia, Portugal, Austria, Canada, Fiji, India, Japan, Mauritius, Nepal, New Zealand, the Philippines, Reunion Island, South Africa, Spain, Sweden, Taiwan, Thailand, the United Kingdom and the United States.\r\n\r\nRums are produced in various grades. Light rums are commonly used in cocktails, whereas \"golden\" and \"dark\" rums were typically consumed straight or neat, on the rocks, or used for cooking, but are now commonly consumed with mixers. Premium rums are also available, made to be consumed either straight or iced.\r\n\r\nRum plays a part in the culture of most islands of the West Indies as well as in The Maritimes and Newfoundland. This drink has famous associations with the Royal Navy (where it was mixed with water or beer to make grog) and piracy (where it was consumed as bumbo). Rum has also served as a popular medium of economic exchange, used to help fund enterprises such as slavery (see Triangular trade), organized crime, and military insurgencies (e.g., the American Revolution and Australia's Rum Rebellion).",
         "strIngredient": "Light Rum",
         "strType": "Spirit"
        },
        {
         "idIngredient": "538",
         "strDescription": "Rum is a distilled alcoholic drink made from sugarcane byproducts, such as molasses, or directly from sugarcane juice, by a process of fermentation and distillation. The distillate, a clear liquid, is then usually aged in oak barrels.\r\n\r\nThe majority of the world's rum production occurs in the Caribbean and Latin America. Rum is also produced in Australia, Portugal, Austria, Canada, Fiji, India, Japan, Mauritius, Nepal, New Zealand, the Philippines, Reunion Island, South Africa, Spain, Sweden, Taiwan, Thailand, the United Kingdom and the United States.\r\n\r\nRums are produced in various grades. Light rums are commonly used in cocktails, whereas \"golden\" and \"dark\" rums were typically consumed straight or neat, on the rocks, or used for cooking, but are now commonly consumed with mixers. Premium rums are also available, made to be consumed either straight or iced.\r\n\r\nRum plays a part in the culture of most islands of the West Indies as well as in The Maritimes and Newfoundland. This drink has famous associations with the Royal Navy (where it was mixed with water or beer to make grog) and piracy (where it was consumed as bumbo). Rum has also served as a popular medium of economic exchange, used to help fund enterprises such as slavery (see Triangular trade), organized crime, and military insurgencies (e.g., the American Revolution and Australia's Rum Rebellion).",
         "strIngredient": "Rum",
         "strType": "Spirit"
        },
        {
         "idIngredient": "539",
         "strDescription": "English muffins are a small, round, flat yeast-leavened bread which is commonly sliced horizontally, toasted, and buttered.[2] Toasted English muffins, which are often used in the United States as a breakfast food, may be served with sweet toppings (e.g., fruit jam, or honey) or savoury toppings (e.g., eggs, sausage rounds, bacon, or cheese). English muffins are also used as the bread in a variety of breakfast sandwiches, and are an essential ingredient in Eggs Benedict and most of its variations.\r\n\r\nIn the United States and U.S.-influenced territories, they are called English muffins to distinguish them from U.S. muffins, which are larger and sweeter miniature baked quick breads. They are very similar to bolo do caco in Portuguese cuisine.",
         "strIngredient": "English Muffins",
         "strType": "Bread"
        },
        {
         "idIngredient": "540",
         "strDescription": "A muffin is an individual-sized, baked product. It can refer to two distinct items, a part-raised flatbread and a cupcake-like quickbread. The flatbread is of British or European derivation, and dates from at least the early 18th century, while the quickbread originated in North America during the 19th century. Both are common worldwide today.",
         "strIngredient": "Muffins",
         "strType": "Bread"
        },
        {
         "idIngredient": "541",
         "strDescription": "Wine vinegar is made from red or white wine, and is the most commonly used vinegar in Southern and Central Europe, Cyprus and Israel. As with wine, there is a considerable range in quality. Better-quality wine vinegars are matured in wood for up to two years, and exhibit a complex, mellow flavor. Wine vinegar tends to have a lower acidity than white or cider vinegars. More expensive wine vinegars are made from individual varieties of wine, such as champagne, sherry, or pinot gris.",
         "strIngredient": "White Wine Vinegar",
         "strType": "Dressing"
        },
        {
         "idIngredient": "542",
         "strDescription": "Smoked salmon is a preparation of salmon, typically a fillet that has been cured and hot or cold smoked. Due to its moderately high price, smoked salmon is considered a delicacy. Although the term lox is sometimes applied to smoked salmon, they are different products.",
         "strIngredient": "Smoked Salmon",
         "strType": "Fish"
        },
        {
         "idIngredient": "543",
         "strDescription": "Mars is a variety of chocolate bar produced by Mars, Incorporated. It was first manufactured in 1932 in Slough, England by Forrest Mars, Sr. The bar was sold in two different formulations. In its original British version the bar consists of milk chocolate surrounding caramel and nougat, developed to resemble the American candy bar known as the Milky Way, which had been introduced a decade earlier. An American version of the Mars Bar was produced which had nougat and toasted almonds covered in milk chocolate; later, caramel was added to the recipe as well. The American version was discontinued in 2002, though it has been revived for short runs since then.",
         "strIngredient": "Mars Bar",
         "strType": "Confectionery"
        },
        {
         "idIngredient": "544",
         "strDescription": "Rice Krispies (also known as Rice Bubbles in Australia and New Zealand) is a breakfast cereal marketed by Kellogg's in 1927 and released to the public in 1928. Rice Krispies are made of crisped rice (rice and sugar paste that is formed into rice shapes or \"berries\", cooked, dried and toasted), and expand forming very thin and hollowed out walls that are crunchy and crisp. When milk is added to the cereal the walls tend to collapse, creating the \"Snap, crackle and pop\" sounds.\r\n\r\nRice Krispies cereal has a long advertising history, with the elf cartoon characters Snap, Crackle and Pop touting the brand. In 1963, The Rolling Stones recorded a short song for a Rice Krispies television advertisement.",
         "strIngredient": "Rice Krispies",
         "strType": "Cereal"
        },
        {
         "idIngredient": "545",
         "strDescription": null,
         "strIngredient": "Ancho Chillies",
         "strType": null
        },
        {
         "idIngredient": "546",
         "strDescription": null,
         "strIngredient": "Almond Milk",
         "strType": null
        },
        {
         "idIngredient": "548",
         "strDescription": null,
         "strIngredient": "Allspice",
         "strType": null
        },
        {
         "idIngredient": "550",
         "strDescription": "The almond (Prunus dulcis, syn. Prunus amygdalus) is a species of tree native to Mediterranean climate regions of the Middle East, but widely cultivated elsewhere. The almond is also the name of the edible and widely cultivated seed of this tree. Within the genus Prunus, it is classified with the peach in the subgenus Amygdalus, distinguished from the other subgenera by corrugations on the shell (endocarp) surrounding the seed.\r\n\r\nThe fruit of the almond is a drupe, consisting of an outer hull and a hard shell with the seed, which is not a true nut, inside. Shelling almonds refers to removing the shell to reveal the seed. Almonds are sold shelled or unshelled. Blanched almonds are shelled almonds that have been treated with hot water to soften the seedcoat, which is then removed to reveal the white embryo.",
         "strIngredient": "Almond Extract",
         "strType": "Fruit"
        },
        {
         "idIngredient": "552",
         "strDescription": "Tripe is a type of edible lining from the stomachs of various farm animals. Most tripe is from cattle and sheep.",
         "strIngredient": "Tripe",
         "strType": "Meat"
        },
        {
         "idIngredient": "553",
         "strDescription": "The domestic goat or simply goat (Capra aegagrus hircus) is a subspecies of C. aegagrus domesticated from the wild goat of Southwest Asia and Eastern Europe. The goat is a member of the animal family Bovidae and the goat—antelope subfamily Caprinae, meaning it is closely related to the sheep. There are over 300 distinct breeds of goat. Goats are one of the oldest domesticated species of animal, and have been used for milk, meat, fur, and skins across much of the world. Milk from goats is often turned into goat cheese.",
         "strIngredient": "Goat Meat",
         "strType": "Meat"
        },
        {
         "idIngredient": "554",
         "strDescription": "The black turtle bean is a small, shiny variety of the common bean (Phaseolus vulgaris) especially popular in Latin American cuisine, though it can also be found in the Cajun and Creole cuisines of south Louisiana. Like most common beans, it is native to the Americas, but has been introduced around the world. It is also used in East Indian cooking, Punjabi cuisine, and in Maharashtrian cuisine, it is known as Kala Ghevada. It is used interchangeably with vigna mungo (black gram) in countries such as the United States. The black turtle bean is often simply called the black bean (frijoles negros, zaragoza, judía negra, poroto negro, or caraota o habichuela negra in Spanish; and feijão preto in Portuguese), although this terminology can cause confusion with other black beans.",
         "strIngredient": "Black Beans",
         "strType": "Bean"
        },
        {
         "idIngredient": "555",
         "strDescription": "Anchovies are tiny, silvery fish that come from the Mediterranean and southern European coasts. They're sold salt-cured, usually oil-packed, and filleted. Commonly they come either flat or rolled in cans or jars, or ground and mixed with oil or butter to make a paste that is sold in tubes. On their own, anchovies are very salty but mixed into sauces, dressings, or pastas they add a wonderful depth of flavor.",
         "strIngredient": "Anchovy Fillet",
         "strType": "Fish"
        },
        {
         "idIngredient": "556",
         "strDescription": "Ras el hanout or rass el hanout (Arabic: راس الحانوت‎ raʾs al-ḥānūt, pronounced [rɑʔs ælħɑːnuːt] (About this soundlisten)) is a spice mix found in varying forms in Tunisia, Algeria, and Morocco.[1] It plays a similar role in North African cuisine as garam masala does in Indian cuisine. The name in Arabic means \"head of the shop\" and implies a mixture of the best spices the seller has to offer. Ras el hanout is used in many savory dishes, sometimes rubbed on meat or fish, or stirred into couscous or rice.\r\n\r\nThere is no definitive composition of spices that makes up ras el hanout. Each shop, company, or family may have their own blend. The mixture usually consists of over a dozen spices, in different proportions. Commonly used ingredients include cardamom, cumin, clove, cinnamon, nutmeg, mace, allspice, dry ginger, chili peppers, coriander seed, peppercorn, sweet and hot paprika, fenugreek, and dry turmeric. Some spices may be particular to the region, such as ash berries, chufa, grains of paradise, orris root, monk's pepper, cubebs, dried rosebud, fennel seed or aniseed, galangal, long pepper. Ingredients may be toasted before being ground or pounded in a mortar and mixed together. Some preparations include salt or sugar, but that is generally not the accepted practice. Garlic, saffron, nuts or dry herbs are generally not included, as they are usually added to dishes individually, but some commercial preparations, particularly in Europe and North America, may contain them.\r\n\r\nThe composition of ras el hanout differs somewhat from the Baharat spice mix, but they differ more by the types of dishes they are associated with and by region rather than the ingredients in them. Although used by Berber people, it should not be confused with \"berbere\" spice mix from Ethiopia.\r\n\r\nCertain supposed aphrodisiacs, including the notoriously dangerous \"green metallic beetles\", cantharides, have appeared in many Moroccan prescriptions, but these seem to be irrelevant for flavouring purposes.",
         "strIngredient": "Ras el hanout",
         "strType": "Spice"
        },
        {
         "idIngredient": "557",
         "strDescription": "Filo or phyllo (Greek: φύλλο \"leaf\") is a very thin unleavened dough used for making pastries such as baklava and börek in Middle Eastern and Balkan cuisines. Filo-based pastries are made by layering many sheets of filo brushed with oil or butter; the pastry is then baked.",
         "strIngredient": "Filo Pastry",
         "strType": "Pastry"
        },
        {
         "idIngredient": "558",
         "strDescription": "Orange flower water, or orange blossom water, is the clear, perfumed by-product of the distillation of fresh bitter-orange blossoms for their essential oil.\r\n\r\nUses\r\nMediterranean Relief.jpg\r\nThis essential water has traditionally been used as an aromatizer in many Mediterranean traditional dessert dishes, such as in France for the gibassier and pompe à l'huile or in Spain for the Roscón de Reyes (King cake), or the Samsa in Tunisia or in Moroccan coffee, but has more recently found its way into other cuisines. For example, orange flower water is used in Europe to flavor madeleines, in Mexico to flavor little wedding cakes and Pan de muerto, and in the United States to make orange blossom scones and marshmallows. Orange flower water is also used as an ingredient in some cocktails, such as the Ramos Gin Fizz. In Malta and many North African as well as Middle Eastern countries, orange blossom water is widely used as medicine for stomach ache and given to small children as well as adults.\r\n\r\nOrange flower water has been a traditional ingredient used often in North African as well as in Middle Eastern cooking. In Arab variants of baklava, orange blossom water is often mixed with the sweet syrup for flavor. Orange blossoms are believed to be used in this manner because they are seen as the traditional bridal flower and, therefore, symbolize purity (white, small and delicate). It is also added to plain water in the Middle East to mask high mineral content and other unpleasant flavors (e.g. those arising from storage in a qulla, a type of clay jug that keeps water cool in a manner similar to the zeer); some add the fragrance irrespective of the taste of the plain water.",
         "strIngredient": "Orange Blossom Water",
         "strType": "Drink"
        },
        {
         "idIngredient": "559",
         "strDescription": "Candied fruit, also known as crystallized fruit or glacé fruit, has existed since the 14th century. Whole fruit, smaller pieces of fruit, or pieces of peel, are placed in heated sugar syrup, which absorbs the moisture from within the fruit and eventually preserves it.",
         "strIngredient": "Candied Peel",
         "strType": "Confectionery"
        },
        {
         "idIngredient": "560",
         "strDescription": "Grand Marnier is a French brand of liqueurs. The brand's best-known product is Grand Marnier Cordon Rouge, an orange-flavored liqueur created in 1880 by Alexandre Marnier-Lapostolle. It is made from a blend of Cognac brandy, distilled essence of bitter orange, and sugar. Grand Marnier Cordon Rouge is 40% alcohol.",
         "strIngredient": "Grand Marnier",
         "strType": "Liqueur"
        },
        {
         "idIngredient": "561",
         "strDescription": "Sherry is a fortified wine made from white grapes that are grown near the city of Jerez de la Frontera in Andalusia, Spain.",
         "strIngredient": "Sherry",
         "strType": "Wine"
        },
        {
         "idIngredient": "562",
         "strDescription": "Rose water is a flavoured water made by steeping rose petals in water. Additionally, it is the hydrosol portion of the distillate of rose petals, a by-product of the production of rose oil for use in perfume. It is used to flavour food, as a component in some cosmetic and medical preparations, and for religious purposes throughout Europe and Asia.",
         "strIngredient": "Rose water",
         "strType": "Drink"
        },
        {
         "idIngredient": "563",
         "strDescription": "Mixed spice, also called pudding spice, is a British[1] blend of sweet spices, similar to the pumpkin pie spice used in the United States. Cinnamon is the dominant flavour, with nutmeg and allspice. It is often used in baking, or to complement fruits or other sweet foods.",
         "strIngredient": "Mixed Spice",
         "strType": "Spice"
        },
        {
         "idIngredient": "564",
         "strDescription": "Mincemeat is a mixture of chopped dried fruit, distilled spirits and spices, and sometimes beef suet, beef, or venison. Originally, mincemeat always contained meat. Many modern recipes contain beef suet, though vegetable shortening is sometimes used in its place.",
         "strIngredient": "Mincemeat",
         "strType": "Spice"
        },
        {
         "idIngredient": "565",
         "strDescription": "The sweet potato or sweetpotato is a dicotyledonous plant that belongs to the bindweed or morning glory family, Convolvulaceae. Its large, starchy, sweet-tasting, tuberous roots are a root vegetable. The young leaves and shoots are sometimes eaten as greens.",
         "strIngredient": "Sweet Potatoes",
         "strType": "Root Vegetable"
        },
        {
         "idIngredient": "566",
         "strDescription": "A roll is a small, usually round or oblong individual loaf of bread served as a meal accompaniment (eaten plain or with butter) A roll can be served and eaten whole or cut transversely and dressed with filling between the two halves. Rolls are also commonly used to make sandwiches similar to those produced using slices of bread. They are found in most cuisines all over the world. In the Deipnosophistae, the author Athenaeus (c. 170 – c. 230) describes some of the bread, cakes, and pastries available in the Classical world. Among the breads mentioned are griddle cakes, honey-and-oil bread, mushroom-shaped loaves covered in poppy seeds, and the military specialty of rolls baked on a spit.",
         "strIngredient": "Bread Rolls",
         "strType": "Bread"
        },
        {
         "idIngredient": "567",
         "strDescription": "A bun is a small, sometimes sweet, bread-based item[1] or roll. Though they come in many shapes and sizes, they are most commonly hand-sized or smaller, with a round top and flat bottom.",
         "strIngredient": "Bun",
         "strType": "Bread"
        },
        {
         "idIngredient": "568",
         "strDescription": "Potato bread is a form of bread in which potato flour or potato replaces a portion of the regular wheat flour. It is cooked in a variety of ways, including baking it on a hot griddle or pan, or in an oven. It may be leavened or unleavened, and may have a variety of other ingredients baked into it. The ratio of potato to wheat flour varies significantly from recipe to recipe, with some recipes having a majority of potato, and others having a majority of wheat flour. Some recipes call for mashed potatoes, with others calling for dehydrated potato flakes. It is available as a commercial product in many countries, with similar variations in ingredients, cooking method, and other variables.",
         "strIngredient": "Potatoe Buns",
         "strType": "Bread"
        },
        {
         "idIngredient": "569",
         "strDescription": "Ground meat, called mince or minced meat outside of North America (i.e. in U.K. and Commonwealth countries), and keema or qeema (Hindustani: क़ीमा (Devanagari), قیمہ (Nastaleeq), (pronounced [ˈqiːmaː])) in the Indian subcontinent, is meat finely chopped by a meat grinder or a chopping knife. A common type of ground meat is ground beef, but many other types of meats are prepared in a similar fashion, including pork, lamb, and poultry. In the Indian subcontinent, both mutton and goat meat are also minced to produce keema.",
         "strIngredient": "Ground Pork",
         "strType": "Meat"
        },
        {
         "idIngredient": "570",
         "strDescription": "A pork chop, like other meat chops, is a loin cut taken perpendicular to the spine of the pig and usually containing a rib or part of a vertebra. Pork chops are not processed and are leaner than other cuts of pork. Chops are commonly served as an individual portion.",
         "strIngredient": "Pork Chops",
         "strType": "Meat"
        },
        {
         "idIngredient": "571",
         "strDescription": "Yukon Gold is a large cultivar of potato most distinctly characterized by its thin, smooth, eye-free skin and yellow-tinged flesh. This potato was developed in the 1960s by Garnet Johnston in Guelph, Ontario, Canada, with the help of Geoff Rowberry at the University of Guelph. The official cross was made in 1966 and Yukon Gold was finally released into the market in 1980.",
         "strIngredient": "Yukon Gold Potatoes",
         "strType": "Root Vegetable"
        },
        {
         "idIngredient": "572",
         "strDescription": "The brown onion or yellow onion is a variety of dry onion with a strong flavour. They have a greenish-white, light yellow, or white inside; its layers of papery skin have a yellow-brown or pale golden colour",
         "strIngredient": "Yellow Onion",
         "strType": "Vegetable"
        },
        {
         "idIngredient": "573",
         "strDescription": "Stock, sometimes called bone broth, is a savory cooking liquid that forms the basis of many dishes, particularly soups, stews and sauces. Making stock involves simmering animal bones or meat, seafood, or vegetables in water or wine, often for an extended period of time. Mirepoix or other aromatics may be added for more flavor.",
         "strIngredient": "Beef Stock Concentrate",
         "strType": "Stock"
        },
        {
         "idIngredient": "574",
         "strDescription": "Stock, sometimes called bone broth, is a savory cooking liquid that forms the basis of many dishes, particularly soups, stews and sauces. Making stock involves simmering animal bones or meat, seafood, or vegetables in water or wine, often for an extended period of time. Mirepoix or other aromatics may be added for more flavor.",
         "strIngredient": "Chicken Stock Concentrate",
         "strType": "Stock"
        },
        {
         "idIngredient": "575",
         "strDescription": "Cucumber (Cucumis sativus) is a widely cultivated plant in the gourd family, Cucurbitaceae. It is a creeping vine that bears cucumiform fruits that are used as vegetables. There are three main varieties of cucumber: slicing, pickling, and seedless. Within these varieties, several cultivars have been created. In North America, the term \"wild cucumber\" refers to plants in the genera Echinocystis and Marah, but these are not closely related. The cucumber is originally from South Asia, but now grows on most continents. Many different types of cucumber are traded on the global market.",
         "strIngredient": "Persian Cucumber",
         "strType": "Vegetable"
        },
        {
         "idIngredient": "576",
         "strDescription": "Mayonnaise, informally mayo is a thick cold condiment or dressing commonly used in sandwiches and composed salads or on French fries. It is also a base in sauces such as Tartar sauce.",
         "strIngredient": "Mayonnaise",
         "strType": "Sauce"
        },
        {
         "idIngredient": "577",
         "strDescription": "Sriracha is a type of hot sauce or chili sauce made from a paste of chili peppers, distilled vinegar, garlic, sugar, and salt.",
         "strIngredient": "Sriracha",
         "strType": "Sauce"
        },
        {
         "idIngredient": "578",
         "strDescription": "Rhubarb is a general term used for the cultivated plants in the genus Rheum in the family Polygonaceae. It is a herbaceous perennial growing from short, thick rhizomes. Historically, different plants have been called \"rhubarb\" in English.",
         "strIngredient": "Rhubarb",
         "strType": "Vegetable"
        },
        {
         "idIngredient": "579",
         "strDescription": "Pita or pitta, is a family of yeast-leavened round flatbreads baked from wheat flour, common in the Mediterranean, Middle East, and neighboring areas.",
         "strIngredient": "Pita Bread",
         "strType": "Bread"
        },
        {
         "idIngredient": "580",
         "strDescription": "Bulgur is a cereal food made from the cracked parboiled groats of several different wheat species, most often from durum wheat. It originates in Middle Eastern cuisine.",
         "strIngredient": "Bulgur Wheat",
         "strType": "Cereal"
        },
        {
         "idIngredient": "581",
         "strDescription": "Quinoa is a flowering plant in the amaranth family. It is an herbaceous annual plant grown as a crop primarily for its edible seeds; the seeds are rich in protein, dietary fiber, B vitamins, and dietary minerals in amounts greater than in many grains.",
         "strIngredient": "Quinoa",
         "strType": "Grain"
        },
        {
         "idIngredient": "582",
         "strDescription": "A pickled cucumber is a cucumber that has been pickled in a brine, vinegar, or other solution and left to ferment for a period of time, by either immersing the cucumbers in an acidic solution or through souring by lacto-fermentation. Pickled cucumbers are often part of mixed pickles.",
         "strIngredient": "Dill Pickles",
         "strType": "Vegetable"
        },
        {
         "idIngredient": "583",
         "strDescription": "A bun is a small, sometimes sweet, bread-based item or roll. Though they come in many shapes and sizes, they are most commonly hand-sized or smaller, with a round top and flat bottom. Buns are usually made from flour, sugar, milk, yeast and butter.",
         "strIngredient": "Sesame Seed Burger Buns",
         "strType": "Bread"
        },
        {
         "idIngredient": "585",
         "strDescription": "A bun is a small, sometimes sweet, bread-based item or roll. Though they come in many shapes and sizes, they are most commonly hand-sized or smaller, with a round top and flat bottom. Buns are usually made from flour, sugar, milk, yeast and butter.",
         "strIngredient": "Buns",
         "strType": "Bread"
        },
        {
         "idIngredient": "586",
         "strDescription": "Iceberg is a variety of lettuce with crisp leaves that grow in a spherical head resembling cabbage. It is considered one of the sweeter lettuce varieties like romaine and butterhead. Mature iceberg lettuce grows to about one foot in diameter.",
         "strIngredient": "Iceberg Lettuce",
         "strType": "Vegetable"
        },
        {
         "idIngredient": "587",
         "strDescription": "A relish is a cooked and pickled product made of chopped vegetables, fruits or herbs and is a food item typically used as a condiment to enhance a staple. Examples are chutneys and the North American relish, a pickled cucumber jam eaten with hot dogs or hamburgers.",
         "strIngredient": "Gherkin Relish",
         "strType": "Sauce"
        },
        {
         "idIngredient": "588",
         "strDescription": "Processed cheese is a food product made from cheese and other unfermented dairy ingredients mixed with emulsifiers. Additional ingredients, such as vegetable oils, salt, food coloring, or sugar may be included. As a result, many flavors, colors, and textures of processed cheese exist.",
         "strIngredient": "Cheese Slices",
         "strType": "Cheese"
        },
        {
         "idIngredient": "589",
         "strDescription": "Shortening is any fat that is a solid at room temperature and used to make crumbly pastry and other food products. Although butter is solid at room temperature and is frequently used in making pastry, the term \"shortening\" seldom refers to butter, but is more closely related to margarine.",
         "strIngredient": "Shortening",
         "strType": "Fat"
        },
        {
         "idIngredient": "590",
         "strDescription": "Water is an inorganic, transparent, tasteless, odorless, and nearly colorless chemical substance, which is the main constituent of Earth's hydrosphere and the fluids of most living organisms. It is vital for all known forms of life, even though it provides no calories or organic nutrients. Its chemical formula is H2O, meaning that each of its molecules contains one oxygen and two hydrogen atoms, connected by covalent bonds. Water is the name of the liquid state of H2O at standard ambient temperature and pressure. It forms precipitation in the form of rain and aerosols in the form of fog. Clouds are formed from suspended droplets of water and ice, its solid state. When finely divided, crystalline ice may precipitate in the form of snow. The gaseous state of water is steam or water vapor. Water moves continually through the water cycle of evaporation, transpiration (evapotranspiration), condensation, precipitation, and runoff, usually reaching the sea.",
         "strIngredient": "Warm Water",
         "strType": "Liquid"
        },
        {
         "idIngredient": "591",
         "strDescription": "Water is an inorganic, transparent, tasteless, odorless, and nearly colorless chemical substance, which is the main constituent of Earth's hydrosphere and the fluids of most living organisms. It is vital for all known forms of life, even though it provides no calories or organic nutrients. Its chemical formula is H2O, meaning that each of its molecules contains one oxygen and two hydrogen atoms, connected by covalent bonds. Water is the name of the liquid state of H2O at standard ambient temperature and pressure. It forms precipitation in the form of rain and aerosols in the form of fog. Clouds are formed from suspended droplets of water and ice, its solid state. When finely divided, crystalline ice may precipitate in the form of snow. The gaseous state of water is steam or water vapor. Water moves continually through the water cycle of evaporation, transpiration (evapotranspiration), condensation, precipitation, and runoff, usually reaching the sea.",
         "strIngredient": "Boiling Water",
         "strType": "Liquid"
        },
        {
         "idIngredient": "592",
         "strDescription": "Pickling is the process of preserving or extending the shelf life of food by either anaerobic fermentation in brine or immersion in vinegar. In East Asia, vinaigrette is also used as a pickling medium. The pickling procedure typically affects the food's texture, taste and flavor.",
         "strIngredient": "Pickle Juice",
         "strType": "Juice"
        },
        {
         "idIngredient": "593",
         "strDescription": "Powdered sugar, also called confectioners' sugar or icing sugar, is a finely ground sugar produced by milling granulated sugar into a powdered state. It usually contains a small amount of anti-caking agent to prevent clumping and improve flow",
         "strIngredient": "Powdered Sugar",
         "strType": "Sugar"
        },
        {
         "idIngredient": "594",
         "strDescription": "Kielbasa is any type of meat sausage from Poland, and a staple of Polish cuisine. In American English the word typically refers to a coarse, U-shaped smoked sausage of any kind of meat, which closely resembles the Wiejska sausage in British English.",
         "strIngredient": "Kielbasa",
         "strType": "Meat"
        },
        {
         "idIngredient": "595",
         "strDescription": "Kielbasa is any type of meat sausage from Poland, and a staple of Polish cuisine. In American English the word typically refers to a coarse, U-shaped smoked sausage of any kind of meat, which closely resembles the Wiejska sausage in British English.",
         "strIngredient": "Polish Sausage",
         "strType": "Meat"
        },
        {
         "idIngredient": "596",
         "strDescription": "Sauerkraut is finely cut raw cabbage that has been fermented by various lactic acid bacteria. It has a long shelf life and a distinctive sour flavor, both of which result from the lactic acid formed when the bacteria ferment the sugars in the cabbage leaves.",
         "strIngredient": "Sauerkraut",
         "strType": "Vegetable"
        },
        {
         "idIngredient": "597",
         "strDescription": "Caraway, also known as meridian fennel and Persian cumin (Carum carvi), is a biennial plant ... For example, it is used in goulash, sauerkraut, and caraway seed cake. The roots may be cooked as a vegetable like parsnips or carrots",
         "strIngredient": "Caraway Seed",
         "strType": "Spice"
        },
        {
         "idIngredient": "598",
         "strDescription": "Herring are forage fish, mostly belonging to the family Clupeidae. Herring often move in large schools around fishing banks and near the coast, found particularly in shallow, temperate waters of the North Pacific and North Atlantic Oceans, including the Baltic Sea, as well as off the west coast of South America.",
         "strIngredient": "Herring",
         "strType": "Fish"
        },
        {
         "idIngredient": "599",
         "strDescription": "Fruit preserves are preparations of fruits, vegetables and sugar, often stored in glass jam jars and Mason jars.\r\n\r\nMany varieties of fruit preserves are made globally, including sweet fruit preserves, such as those made from strawberry or apricot, and savory preserves, such as those made from tomatoes or squash. The ingredients used and how they are prepared determine the type of preserves; jams, jellies, and marmalades are all examples of different styles of fruit preserves that vary based upon the fruit used. In English, the word, in plural form, \"preserves\" is used to describe all types of jams and jellies.",
         "strIngredient": "Jam",
         "strType": "Preserve"
        },
        {
         "idIngredient": "600",
         "strDescription": "Mulukhiyah , molokheyya ,molokhia or mulukhiyyah (Arabic: ملوخية‎ mulūkhiyyah) Greek : molokha is the leaves of Corchorus olitorius, commonly known in English as jute, nalta jute, tossa jute , jute mallow or Jew's mallow. It is used as a vegetable. It is popular in Middle East, East African and North African countries and is called “Saluyot” in the Philippines. Mulukhiyah is rather bitter, and when boiled, the resulting liquid is a thick, highly mucilaginous broth; it is often described as \"slimy\", rather like cooked okra. Mulukhiyah is generally eaten cooked, not raw, and is most frequently turned into a kind of soup or stew, typically bearing the same name as the vegetable in the local language. Traditionally mulukhiyah is cooked with chicken or at least chicken stock for flavor and is served with white rice, accompanied with lemon or lime.",
         "strIngredient": "Mulukhiyah",
         "strType": "Vegetable"
        },
        {
         "idIngredient": "601",
         "strDescription": "As the dietary staple of Japan, knowing how to cook Japanese rice is an important first step to becoming a Japanese cooking master. Perfectly prepared Japanese rice should be light, fluffy, and slightly sticky when cooked",
         "strIngredient": "Sushi Rice",
         "strType": "Rice"
        },
        {
         "idIngredient": "602",
         "strDescription": "Ficus carica is an Asian species of flowering plant in the mulberry family, known as the common fig. It is the source of the fruit also called the fig and as such is an important crop in those areas where it is grown commercially.",
         "strIngredient": "Figs",
         "strType": "Fruit"
        },
        {
         "idIngredient": "603",
         "strDescription": "Cider (/ˈsaɪdər/ SY-dər) is an alcoholic beverage made from the fermented juice of apples. Cider is widely available in the United Kingdom (particularly in the West Country) and the Republic of Ireland. The UK has the world's highest per capita consumption, as well as its largest cider-producing companies. Ciders from the South West of England are generally stronger. Cider is also popular in many Commonwealth countries, such as India, Canada, Australia, and New Zealand. As well as the UK and its former colonies, cider is popular in Portugal (mainly in Minho and Madeira), France (particularly Normandy and Brittany), northern Italy (Piedmont and Friuli), and northern Spain (especially the Principality of Asturias and the Basque Country). Central Europe also has its own types of cider with Rhineland-Palatinate and Hesse producing a particularly tart version known as Apfelwein. In the U.S., varieties of fermented cider are often called hard cider to distinguish alcoholic cider from non-alcoholic apple cider or \"sweet cider\", also made from apples. In Canada, cider cannot be called cider if there are no apples. Furthermore, according to the Food and Drug Regulations in Canada, cider cannot contain less than 2.5% or over 13% absolute alcohol by volume.",
         "strIngredient": "Cider",
         "strType": "Drink"
        },
        {
         "idIngredient": "604",
         "strDescription": "The beetroot is the taproot portion of a beet plant, usually known in Canada and the USA as beets while the vegetable is referred to as beetroot in British English, and also known as the table beet, garden beet, red beet, dinner beet or golden beet.",
         "strIngredient": "Beetroot",
         "strType": "Vegetable"
        },
        {
         "idIngredient": "605",
         "strDescription": "\"Sardine\" and \"pilchard\" are common names that refer to various small, oily forage fish in the herring family Clupeidae. The term \"sardine\" was first used in English during the early 15th century and may come from the Mediterranean island of Sardinia, around which sardines were once abundant.",
         "strIngredient": "Sardines",
         "strType": "Seafood"
        },
        {
         "idIngredient": "606",
         "strDescription": "Ciabatta is an Italian white bread made from wheat flour, water, salt, yeast and olive oil, created in 1982 by a baker in Adria, province of Rovigo, Veneto, Italy, in response to the popularity of French baguettes.",
         "strIngredient": "Ciabatta",
         "strType": "Bread"
        },
        {
         "idIngredient": "607",
         "strDescription": "Buckwheat (Fagopyrum esculentum), or common buckwheat, is a plant cultivated for its grain-like seeds and as a cover crop. The name \"buckwheat\" is used for several other species, such as Fagopyrum tataricum, a domesticated food plant raised in Asia. Despite the name, buckwheat is not closely related to wheat, as it is not a grass. Instead, buckwheat is related to sorrel, knotweed, and rhubarb. Buckwheat is referred to as a pseudocereal because its seeds' culinary use is the same as cereals', owing to their composition of complex carbohydrates.",
         "strIngredient": "Buckwheat",
         "strType": "Grain"
        },
        {
         "idIngredient": "608",
         "strDescription": "A prune is a dried plum, most commonly from the European plum. Not all plum species or varieties can be dried into prunes. A prune is the firm-fleshed fruit (plum) of Prunus domestica varieties that have a high soluble solids content, and do not ferment during drying. Use of the term \"prune\" for fresh plums is obsolete except when applied to varieties of plum grown for drying.",
         "strIngredient": "Prunes",
         "strType": "Fruit"
        }
       ]
      },
      "text/plain": [
       "<IPython.core.display.JSON object>"
      ]
     },
     "metadata": {
      "application/json": {
       "expanded": false,
       "root": "root"
      }
     },
     "output_type": "display_data"
    }
   ],
   "source": [
    "url = 'https://www.themealdb.com/api/json/v1/1/list.php?i=list'\n",
    "r = requests.get(url)\n",
    "data = r.json()\n",
    "\n",
    "display(JSON(data))"
   ]
  }
 ],
 "metadata": {
  "kernelspec": {
   "display_name": "Python 3 (ipykernel)",
   "language": "python",
   "name": "python3"
  },
  "language_info": {
   "codemirror_mode": {
    "name": "ipython",
    "version": 3
   },
   "file_extension": ".py",
   "mimetype": "text/x-python",
   "name": "python",
   "nbconvert_exporter": "python",
   "pygments_lexer": "ipython3",
   "version": "3.11.11"
  }
 },
 "nbformat": 4,
 "nbformat_minor": 5
}
